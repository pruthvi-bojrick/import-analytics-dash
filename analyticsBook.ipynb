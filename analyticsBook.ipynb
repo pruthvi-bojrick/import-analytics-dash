{
 "cells": [
  {
   "cell_type": "code",
   "execution_count": 10,
   "metadata": {},
   "outputs": [
    {
     "name": "stdout",
     "output_type": "stream",
     "text": [
      "The autotime extension is already loaded. To reload it, use:\n",
      "  %reload_ext autotime\n",
      "time: 698 µs (started: 2023-01-21 01:08:22 -05:00)\n"
     ]
    }
   ],
   "source": [
    "%load_ext autotime\n",
    "import pandas as pd\n",
    "import requests\n",
    "from datetime import datetime\n",
    "from tqdm import tqdm\n",
    "import os"
   ]
  },
  {
   "attachments": {},
   "cell_type": "markdown",
   "metadata": {},
   "source": [
    "## Commodity Translation File"
   ]
  },
  {
   "cell_type": "code",
   "execution_count": 11,
   "metadata": {},
   "outputs": [
    {
     "data": {
      "text/plain": [
       "year                      0\n",
       "census_issue_date         0\n",
       "HS10                      0\n",
       "description_long          0\n",
       "description_short         0\n",
       "quantity_1                0\n",
       "quantity_2           415902\n",
       "sitc                      0\n",
       "end_use                   0\n",
       "naics                126040\n",
       "ag_code                   0\n",
       "hitech               177671\n",
       "sic                  327442\n",
       "dtype: int64"
      ]
     },
     "execution_count": 11,
     "metadata": {},
     "output_type": "execute_result"
    },
    {
     "name": "stdout",
     "output_type": "stream",
     "text": [
      "time: 51.3 s (started: 2023-01-21 01:08:23 -05:00)\n"
     ]
    }
   ],
   "source": [
    "commodityTranslator = pd.read_excel('API Resources/commodity_translation_wizard.xlsb', engine='pyxlsb',sheet_name='Import Concordance')\n",
    "commodityTranslator = commodityTranslator.rename({'hts10':'HS10'},axis=1)\n",
    "commodityTranslator['HS10'] = commodityTranslator['HS10'].apply(lambda x:str(x).zfill(10))\n",
    "commodityTranslator.isna().sum()"
   ]
  },
  {
   "cell_type": "code",
   "execution_count": 12,
   "metadata": {},
   "outputs": [
    {
     "name": "stdout",
     "output_type": "stream",
     "text": [
      "time: 1.25 ms (started: 2023-01-21 01:09:14 -05:00)\n"
     ]
    }
   ],
   "source": [
    "# intCols = ['GEN_VAL_MO','CNT_VAL_MO','AIR_VAL_MO','CAL_DUT_MO','CNT_WGT_MO','AIR_WGT_MO']\n",
    "def cleaningResponses(df):\n",
    "    df = df[df['CTY_NAME']=='INDIA']\n",
    "    df = df.drop('Unnamed: 0',axis=1)\n",
    "    df['MONTH'] = df['MONTH'].astype(str).apply(lambda x:str(x).zfill(2))\n",
    "    df['YearMonth'] = df[['YEAR','MONTH']].astype(str).agg('-'.join,axis=1)\n",
    "    # df[intCols] = df[intCols].astype(int)\n",
    "    if 'NACIS' in df.columns:\n",
    "        df['NAICS'] = df['NAICS'].apply(lambda x:str(x).zfill(6))\n",
    "        df['NA2'] = df['NACIS'].apply(lambda x:str(x)[:2])\n",
    "        df['NA4'] = df['NACIS'].apply(lambda x:str(x)[:4])\n",
    "        df = df.rename({'NACIS':'NA6'},axis=1)\n",
    "    \n",
    "\n",
    "    if 'I_COMMODITY' in df.columns:\n",
    "        df['I_COMMODITY'] = df['I_COMMODITY'].apply(lambda x:str(x).zfill(10))\n",
    "        df['HS2'] = df['I_COMMODITY'].apply(lambda x:str(x)[:2])\n",
    "        df['HS4'] = df['I_COMMODITY'].apply(lambda x:str(x)[:4])\n",
    "        df['HS6'] = df['I_COMMODITY'].apply(lambda x:str(x)[:6])\n",
    "        df = df.rename({'I_COMMODITY':'HS10'},axis=1)\n",
    "        # df = df[['YearMonth','HS2','HS4','HS6','HS10','I_COMMODITY_SDESC','DIST_NAME','CTY_NAME','GEN_VAL_MO','CNT_VAL_MO','AIR_VAL_MO','CAL_DUT_MO','CNT_WGT_MO','AIR_WGT_MO']]\n",
    "    # dfFiltered\n",
    "    return df"
   ]
  },
  {
   "attachments": {},
   "cell_type": "markdown",
   "metadata": {},
   "source": [
    "### Loading Saved Files "
   ]
  },
  {
   "cell_type": "code",
   "execution_count": 13,
   "metadata": {},
   "outputs": [
    {
     "name": "stderr",
     "output_type": "stream",
     "text": [
      "100%|██████████| 107/107 [00:15<00:00,  6.86it/s]\n",
      "  1%|          | 1/116 [00:00<00:15,  7.57it/s]/tmp/ipykernel_51606/2232776438.py:6: DtypeWarning: Columns (1) have mixed types. Specify dtype option on import or set low_memory=False.\n",
      "  if 'NACYDT_2022' in fileName:naicslistDf.append(pd.read_csv(os.path.join('.apiResponses/naics',fileName),compression='gzip'))\n",
      "100%|██████████| 116/116 [00:01<00:00, 67.27it/s]\n"
     ]
    },
    {
     "name": "stdout",
     "output_type": "stream",
     "text": [
      "time: 27.3 s (started: 2023-01-21 01:09:14 -05:00)\n"
     ]
    }
   ],
   "source": [
    "hslistDf = []\n",
    "naicslistDf = []\n",
    "for fileName in tqdm(os.listdir('.apiResponses/hs')):\n",
    "    if 'HSCYDT_2022' in fileName:hslistDf.append(pd.read_csv(os.path.join('.apiResponses/hs',fileName),compression='gzip'))\n",
    "for fileName in tqdm(os.listdir('.apiResponses/naics')):\n",
    "    if 'NACYDT_2022' in fileName:naicslistDf.append(pd.read_csv(os.path.join('.apiResponses/naics',fileName),compression='gzip'))\n",
    "\n",
    "hscydtDf = cleaningResponses(pd.concat(hslistDf))\n",
    "naicscydtDf = cleaningResponses(pd.concat(naicslistDf))"
   ]
  },
  {
   "cell_type": "code",
   "execution_count": 33,
   "metadata": {},
   "outputs": [
    {
     "data": {
      "text/plain": [
       "NAICS             359\n",
       "NAICS_LDESC       359\n",
       "NAICS_SDESC       359\n",
       "CTY_CODE            1\n",
       "DISTRICT           43\n",
       "DIST_NAME          43\n",
       "GEN_CHA_MO      29061\n",
       "GEN_VAL_MO      46324\n",
       "GEN_CIF_MO      47373\n",
       "CC_MO            1147\n",
       "CNT_CHA_MO      25186\n",
       "CNT_VAL_MO      36142\n",
       "CNT_WGT_MO      30377\n",
       "AIR_CHA_MO      11059\n",
       "AIR_VAL_MO      19216\n",
       "AIR_WGT_MO       7797\n",
       "VES_CHA_MO      25717\n",
       "VES_VAL_MO      37136\n",
       "VES_WGT_MO      30940\n",
       "CTY_NAME            1\n",
       "YEAR                1\n",
       "MONTH              11\n",
       "COMM_LVL            1\n",
       "SUMMARY_LVL2        1\n",
       "YearMonth          11\n",
       "dtype: int64"
      ]
     },
     "execution_count": 33,
     "metadata": {},
     "output_type": "execute_result"
    },
    {
     "name": "stdout",
     "output_type": "stream",
     "text": [
      "time: 109 ms (started: 2023-01-21 13:57:15 -05:00)\n"
     ]
    }
   ],
   "source": [
    "naicscydtDf.nunique()"
   ]
  },
  {
   "cell_type": "code",
   "execution_count": 34,
   "metadata": {},
   "outputs": [
    {
     "data": {
      "text/plain": [
       "year                    31\n",
       "census_issue_date       27\n",
       "HS10                 31580\n",
       "description_long     29321\n",
       "description_short    31448\n",
       "quantity_1              51\n",
       "quantity_2              21\n",
       "sitc                  3239\n",
       "end_use                142\n",
       "naics                  549\n",
       "ag_code                  2\n",
       "hitech                  11\n",
       "sic                    463\n",
       "dtype: int64"
      ]
     },
     "execution_count": 34,
     "metadata": {},
     "output_type": "execute_result"
    },
    {
     "name": "stdout",
     "output_type": "stream",
     "text": [
      "time: 512 ms (started: 2023-01-21 13:57:32 -05:00)\n"
     ]
    }
   ],
   "source": [
    "commodityTranslator.nunique()"
   ]
  },
  {
   "cell_type": "code",
   "execution_count": 30,
   "metadata": {},
   "outputs": [
    {
     "data": {
      "text/plain": [
       "1    18667\n",
       "2     7493\n",
       "3       62\n",
       "Name: naics, dtype: int64"
      ]
     },
     "execution_count": 30,
     "metadata": {},
     "output_type": "execute_result"
    },
    {
     "name": "stdout",
     "output_type": "stream",
     "text": [
      "time: 693 ms (started: 2023-01-21 13:56:39 -05:00)\n"
     ]
    }
   ],
   "source": [
    "hsNaicsMap = commodityTranslator[['HS10','description_long','description_short','quantity_1','naics']].drop_duplicates()\n",
    "hsNaicsMap = hsNaicsMap.dropna()\n",
    "hsNaicsMap.groupby('HS10')['naics'].nunique().reset_index().sort_values('naics',ascending=False)['naics'].value_counts()"
   ]
  },
  {
   "cell_type": "code",
   "execution_count": 25,
   "metadata": {},
   "outputs": [
    {
     "data": {
      "text/html": [
       "<div>\n",
       "<style scoped>\n",
       "    .dataframe tbody tr th:only-of-type {\n",
       "        vertical-align: middle;\n",
       "    }\n",
       "\n",
       "    .dataframe tbody tr th {\n",
       "        vertical-align: top;\n",
       "    }\n",
       "\n",
       "    .dataframe thead th {\n",
       "        text-align: right;\n",
       "    }\n",
       "</style>\n",
       "<table border=\"1\" class=\"dataframe\">\n",
       "  <thead>\n",
       "    <tr style=\"text-align: right;\">\n",
       "      <th></th>\n",
       "      <th>HS10</th>\n",
       "      <th>I_COMMODITY_SDESC</th>\n",
       "      <th>I_COMMODITY_LDESC</th>\n",
       "      <th>CTY_CODE</th>\n",
       "      <th>DISTRICT</th>\n",
       "      <th>DIST_NAME</th>\n",
       "      <th>RP</th>\n",
       "      <th>GEN_CHA_MO</th>\n",
       "      <th>GEN_VAL_MO</th>\n",
       "      <th>GEN_CIF_MO</th>\n",
       "      <th>...</th>\n",
       "      <th>COMM_LVL</th>\n",
       "      <th>SUMMARY_LVL2</th>\n",
       "      <th>YearMonth</th>\n",
       "      <th>HS2</th>\n",
       "      <th>HS4</th>\n",
       "      <th>HS6</th>\n",
       "      <th>description_long</th>\n",
       "      <th>description_short</th>\n",
       "      <th>quantity_1</th>\n",
       "      <th>naics</th>\n",
       "    </tr>\n",
       "  </thead>\n",
       "  <tbody>\n",
       "    <tr>\n",
       "      <th>0</th>\n",
       "      <td>8421190000</td>\n",
       "      <td>CENTRIFUGES, INCLUDING CENTRIFUGAL DRYERS, NESOI</td>\n",
       "      <td>CENTRIFUGES, INCLUDING CENTRIFUGAL DRYERS, NESOI</td>\n",
       "      <td>5330</td>\n",
       "      <td>10</td>\n",
       "      <td>NEW YORK CITY, NY</td>\n",
       "      <td>-</td>\n",
       "      <td>13860</td>\n",
       "      <td>127179</td>\n",
       "      <td>141039</td>\n",
       "      <td>...</td>\n",
       "      <td>HS10</td>\n",
       "      <td>HSCYDT</td>\n",
       "      <td>2022-01</td>\n",
       "      <td>84</td>\n",
       "      <td>8421</td>\n",
       "      <td>842119</td>\n",
       "      <td>CENTRIFUGES, INCLUDING CENTRIFUGAL DRYERS, NESOI</td>\n",
       "      <td>CENTRIFUGES, INCLUDING CENTRIFUGAL DRYERS, NESOI</td>\n",
       "      <td>NO</td>\n",
       "      <td>333999</td>\n",
       "    </tr>\n",
       "    <tr>\n",
       "      <th>1</th>\n",
       "      <td>8421190000</td>\n",
       "      <td>CENTRIFUGES, INCLUDING CENTRIFUGAL DRYERS, NESOI</td>\n",
       "      <td>CENTRIFUGES, INCLUDING CENTRIFUGAL DRYERS, NESOI</td>\n",
       "      <td>5330</td>\n",
       "      <td>10</td>\n",
       "      <td>NEW YORK CITY, NY</td>\n",
       "      <td>-</td>\n",
       "      <td>13860</td>\n",
       "      <td>127179</td>\n",
       "      <td>141039</td>\n",
       "      <td>...</td>\n",
       "      <td>HS10</td>\n",
       "      <td>HSCYDT</td>\n",
       "      <td>2022-01</td>\n",
       "      <td>84</td>\n",
       "      <td>8421</td>\n",
       "      <td>842119</td>\n",
       "      <td>CENTRIFUGES, NESOI</td>\n",
       "      <td>CENTRIFUGES, NESOI</td>\n",
       "      <td>NO</td>\n",
       "      <td>333999</td>\n",
       "    </tr>\n",
       "    <tr>\n",
       "      <th>2</th>\n",
       "      <td>8421190000</td>\n",
       "      <td>CENTRIFUGES, INCLUDING CENTRIFUGAL DRYERS, NESOI</td>\n",
       "      <td>CENTRIFUGES, INCLUDING CENTRIFUGAL DRYERS, NESOI</td>\n",
       "      <td>5330</td>\n",
       "      <td>52</td>\n",
       "      <td>MIAMI, FL</td>\n",
       "      <td>-</td>\n",
       "      <td>244</td>\n",
       "      <td>12479</td>\n",
       "      <td>12723</td>\n",
       "      <td>...</td>\n",
       "      <td>HS10</td>\n",
       "      <td>HSCYDT</td>\n",
       "      <td>2022-01</td>\n",
       "      <td>84</td>\n",
       "      <td>8421</td>\n",
       "      <td>842119</td>\n",
       "      <td>CENTRIFUGES, INCLUDING CENTRIFUGAL DRYERS, NESOI</td>\n",
       "      <td>CENTRIFUGES, INCLUDING CENTRIFUGAL DRYERS, NESOI</td>\n",
       "      <td>NO</td>\n",
       "      <td>333999</td>\n",
       "    </tr>\n",
       "    <tr>\n",
       "      <th>3</th>\n",
       "      <td>8421190000</td>\n",
       "      <td>CENTRIFUGES, INCLUDING CENTRIFUGAL DRYERS, NESOI</td>\n",
       "      <td>CENTRIFUGES, INCLUDING CENTRIFUGAL DRYERS, NESOI</td>\n",
       "      <td>5330</td>\n",
       "      <td>52</td>\n",
       "      <td>MIAMI, FL</td>\n",
       "      <td>-</td>\n",
       "      <td>244</td>\n",
       "      <td>12479</td>\n",
       "      <td>12723</td>\n",
       "      <td>...</td>\n",
       "      <td>HS10</td>\n",
       "      <td>HSCYDT</td>\n",
       "      <td>2022-01</td>\n",
       "      <td>84</td>\n",
       "      <td>8421</td>\n",
       "      <td>842119</td>\n",
       "      <td>CENTRIFUGES, NESOI</td>\n",
       "      <td>CENTRIFUGES, NESOI</td>\n",
       "      <td>NO</td>\n",
       "      <td>333999</td>\n",
       "    </tr>\n",
       "    <tr>\n",
       "      <th>4</th>\n",
       "      <td>8421190000</td>\n",
       "      <td>CENTRIFUGES, INCLUDING CENTRIFUGAL DRYERS, NESOI</td>\n",
       "      <td>CENTRIFUGES, INCLUDING CENTRIFUGAL DRYERS, NESOI</td>\n",
       "      <td>5330</td>\n",
       "      <td>53</td>\n",
       "      <td>HOUSTON-GALVESTON, TX</td>\n",
       "      <td>-</td>\n",
       "      <td>241</td>\n",
       "      <td>135155</td>\n",
       "      <td>135396</td>\n",
       "      <td>...</td>\n",
       "      <td>HS10</td>\n",
       "      <td>HSCYDT</td>\n",
       "      <td>2022-01</td>\n",
       "      <td>84</td>\n",
       "      <td>8421</td>\n",
       "      <td>842119</td>\n",
       "      <td>CENTRIFUGES, INCLUDING CENTRIFUGAL DRYERS, NESOI</td>\n",
       "      <td>CENTRIFUGES, INCLUDING CENTRIFUGAL DRYERS, NESOI</td>\n",
       "      <td>NO</td>\n",
       "      <td>333999</td>\n",
       "    </tr>\n",
       "    <tr>\n",
       "      <th>...</th>\n",
       "      <td>...</td>\n",
       "      <td>...</td>\n",
       "      <td>...</td>\n",
       "      <td>...</td>\n",
       "      <td>...</td>\n",
       "      <td>...</td>\n",
       "      <td>...</td>\n",
       "      <td>...</td>\n",
       "      <td>...</td>\n",
       "      <td>...</td>\n",
       "      <td>...</td>\n",
       "      <td>...</td>\n",
       "      <td>...</td>\n",
       "      <td>...</td>\n",
       "      <td>...</td>\n",
       "      <td>...</td>\n",
       "      <td>...</td>\n",
       "      <td>...</td>\n",
       "      <td>...</td>\n",
       "      <td>...</td>\n",
       "      <td>...</td>\n",
       "    </tr>\n",
       "    <tr>\n",
       "      <th>919093</th>\n",
       "      <td>1105100000</td>\n",
       "      <td>FLOUR, MEAL AND POWDER OF POTATOES</td>\n",
       "      <td>FLOUR, MEAL AND POWDER OF POTATOES</td>\n",
       "      <td>5330</td>\n",
       "      <td>28</td>\n",
       "      <td>SAN FRANCISCO, CA</td>\n",
       "      <td>-</td>\n",
       "      <td>0</td>\n",
       "      <td>0</td>\n",
       "      <td>0</td>\n",
       "      <td>...</td>\n",
       "      <td>HS10</td>\n",
       "      <td>HSCYDT</td>\n",
       "      <td>2022-11</td>\n",
       "      <td>11</td>\n",
       "      <td>1105</td>\n",
       "      <td>110510</td>\n",
       "      <td>FLOUR, MEAL AND POWDER OF POTATOES</td>\n",
       "      <td>FLOUR, MEAL AND POWDER OF POTATOES</td>\n",
       "      <td>KG</td>\n",
       "      <td>311211</td>\n",
       "    </tr>\n",
       "    <tr>\n",
       "      <th>919094</th>\n",
       "      <td>1105100000</td>\n",
       "      <td>FLOUR, MEAL AND POWDER OF POTATOES</td>\n",
       "      <td>FLOUR, MEAL AND POWDER OF POTATOES</td>\n",
       "      <td>5330</td>\n",
       "      <td>28</td>\n",
       "      <td>SAN FRANCISCO, CA</td>\n",
       "      <td>-</td>\n",
       "      <td>0</td>\n",
       "      <td>0</td>\n",
       "      <td>0</td>\n",
       "      <td>...</td>\n",
       "      <td>HS10</td>\n",
       "      <td>HSCYDT</td>\n",
       "      <td>2022-11</td>\n",
       "      <td>11</td>\n",
       "      <td>1105</td>\n",
       "      <td>110510</td>\n",
       "      <td>FLOUR AND MEAL OF POTATOES</td>\n",
       "      <td>FLOUR AND MEAL OF POTATOES</td>\n",
       "      <td>KG</td>\n",
       "      <td>311211</td>\n",
       "    </tr>\n",
       "    <tr>\n",
       "      <th>919095</th>\n",
       "      <td>1105100000</td>\n",
       "      <td>FLOUR, MEAL AND POWDER OF POTATOES</td>\n",
       "      <td>FLOUR, MEAL AND POWDER OF POTATOES</td>\n",
       "      <td>5330</td>\n",
       "      <td>39</td>\n",
       "      <td>CHICAGO, IL</td>\n",
       "      <td>-</td>\n",
       "      <td>1000</td>\n",
       "      <td>5673</td>\n",
       "      <td>6673</td>\n",
       "      <td>...</td>\n",
       "      <td>HS10</td>\n",
       "      <td>HSCYDT</td>\n",
       "      <td>2022-11</td>\n",
       "      <td>11</td>\n",
       "      <td>1105</td>\n",
       "      <td>110510</td>\n",
       "      <td>FLOUR, MEAL AND POWDER OF POTATOES</td>\n",
       "      <td>FLOUR, MEAL AND POWDER OF POTATOES</td>\n",
       "      <td>KG</td>\n",
       "      <td>311211</td>\n",
       "    </tr>\n",
       "    <tr>\n",
       "      <th>919096</th>\n",
       "      <td>1105100000</td>\n",
       "      <td>FLOUR, MEAL AND POWDER OF POTATOES</td>\n",
       "      <td>FLOUR, MEAL AND POWDER OF POTATOES</td>\n",
       "      <td>5330</td>\n",
       "      <td>39</td>\n",
       "      <td>CHICAGO, IL</td>\n",
       "      <td>-</td>\n",
       "      <td>1000</td>\n",
       "      <td>5673</td>\n",
       "      <td>6673</td>\n",
       "      <td>...</td>\n",
       "      <td>HS10</td>\n",
       "      <td>HSCYDT</td>\n",
       "      <td>2022-11</td>\n",
       "      <td>11</td>\n",
       "      <td>1105</td>\n",
       "      <td>110510</td>\n",
       "      <td>FLOUR AND MEAL OF POTATOES</td>\n",
       "      <td>FLOUR AND MEAL OF POTATOES</td>\n",
       "      <td>KG</td>\n",
       "      <td>311211</td>\n",
       "    </tr>\n",
       "    <tr>\n",
       "      <th>919097</th>\n",
       "      <td>2008996000</td>\n",
       "      <td>PLUMS, PRUNE PLUMS AND SLOES, PREPRD/PRESERV N...</td>\n",
       "      <td>PLUMS (INCLUDING PRUNE PLUMS AND SLOES), PREPA...</td>\n",
       "      <td>5330</td>\n",
       "      <td>10</td>\n",
       "      <td>NEW YORK CITY, NY</td>\n",
       "      <td>-</td>\n",
       "      <td>0</td>\n",
       "      <td>0</td>\n",
       "      <td>0</td>\n",
       "      <td>...</td>\n",
       "      <td>HS10</td>\n",
       "      <td>HSCYDT</td>\n",
       "      <td>2022-11</td>\n",
       "      <td>20</td>\n",
       "      <td>2008</td>\n",
       "      <td>200899</td>\n",
       "      <td>PLUMS (INCLUDING PRUNE PLUMS AND SLOES), PREPA...</td>\n",
       "      <td>PLUMS, PRUNE PLUMS AND SLOES, PREPRD/PRESERV N...</td>\n",
       "      <td>KG</td>\n",
       "      <td>311421</td>\n",
       "    </tr>\n",
       "  </tbody>\n",
       "</table>\n",
       "<p>919098 rows × 35 columns</p>\n",
       "</div>"
      ],
      "text/plain": [
       "              HS10                                  I_COMMODITY_SDESC  \\\n",
       "0       8421190000   CENTRIFUGES, INCLUDING CENTRIFUGAL DRYERS, NESOI   \n",
       "1       8421190000   CENTRIFUGES, INCLUDING CENTRIFUGAL DRYERS, NESOI   \n",
       "2       8421190000   CENTRIFUGES, INCLUDING CENTRIFUGAL DRYERS, NESOI   \n",
       "3       8421190000   CENTRIFUGES, INCLUDING CENTRIFUGAL DRYERS, NESOI   \n",
       "4       8421190000   CENTRIFUGES, INCLUDING CENTRIFUGAL DRYERS, NESOI   \n",
       "...            ...                                                ...   \n",
       "919093  1105100000                 FLOUR, MEAL AND POWDER OF POTATOES   \n",
       "919094  1105100000                 FLOUR, MEAL AND POWDER OF POTATOES   \n",
       "919095  1105100000                 FLOUR, MEAL AND POWDER OF POTATOES   \n",
       "919096  1105100000                 FLOUR, MEAL AND POWDER OF POTATOES   \n",
       "919097  2008996000  PLUMS, PRUNE PLUMS AND SLOES, PREPRD/PRESERV N...   \n",
       "\n",
       "                                        I_COMMODITY_LDESC  CTY_CODE  DISTRICT  \\\n",
       "0        CENTRIFUGES, INCLUDING CENTRIFUGAL DRYERS, NESOI      5330        10   \n",
       "1        CENTRIFUGES, INCLUDING CENTRIFUGAL DRYERS, NESOI      5330        10   \n",
       "2        CENTRIFUGES, INCLUDING CENTRIFUGAL DRYERS, NESOI      5330        52   \n",
       "3        CENTRIFUGES, INCLUDING CENTRIFUGAL DRYERS, NESOI      5330        52   \n",
       "4        CENTRIFUGES, INCLUDING CENTRIFUGAL DRYERS, NESOI      5330        53   \n",
       "...                                                   ...       ...       ...   \n",
       "919093                 FLOUR, MEAL AND POWDER OF POTATOES      5330        28   \n",
       "919094                 FLOUR, MEAL AND POWDER OF POTATOES      5330        28   \n",
       "919095                 FLOUR, MEAL AND POWDER OF POTATOES      5330        39   \n",
       "919096                 FLOUR, MEAL AND POWDER OF POTATOES      5330        39   \n",
       "919097  PLUMS (INCLUDING PRUNE PLUMS AND SLOES), PREPA...      5330        10   \n",
       "\n",
       "                    DIST_NAME RP  GEN_CHA_MO  GEN_VAL_MO  GEN_CIF_MO  ...  \\\n",
       "0           NEW YORK CITY, NY  -       13860      127179      141039  ...   \n",
       "1           NEW YORK CITY, NY  -       13860      127179      141039  ...   \n",
       "2                   MIAMI, FL  -         244       12479       12723  ...   \n",
       "3                   MIAMI, FL  -         244       12479       12723  ...   \n",
       "4       HOUSTON-GALVESTON, TX  -         241      135155      135396  ...   \n",
       "...                       ... ..         ...         ...         ...  ...   \n",
       "919093      SAN FRANCISCO, CA  -           0           0           0  ...   \n",
       "919094      SAN FRANCISCO, CA  -           0           0           0  ...   \n",
       "919095            CHICAGO, IL  -        1000        5673        6673  ...   \n",
       "919096            CHICAGO, IL  -        1000        5673        6673  ...   \n",
       "919097      NEW YORK CITY, NY  -           0           0           0  ...   \n",
       "\n",
       "        COMM_LVL SUMMARY_LVL2  YearMonth  HS2   HS4     HS6  \\\n",
       "0           HS10       HSCYDT    2022-01   84  8421  842119   \n",
       "1           HS10       HSCYDT    2022-01   84  8421  842119   \n",
       "2           HS10       HSCYDT    2022-01   84  8421  842119   \n",
       "3           HS10       HSCYDT    2022-01   84  8421  842119   \n",
       "4           HS10       HSCYDT    2022-01   84  8421  842119   \n",
       "...          ...          ...        ...  ...   ...     ...   \n",
       "919093      HS10       HSCYDT    2022-11   11  1105  110510   \n",
       "919094      HS10       HSCYDT    2022-11   11  1105  110510   \n",
       "919095      HS10       HSCYDT    2022-11   11  1105  110510   \n",
       "919096      HS10       HSCYDT    2022-11   11  1105  110510   \n",
       "919097      HS10       HSCYDT    2022-11   20  2008  200899   \n",
       "\n",
       "                                         description_long  \\\n",
       "0        CENTRIFUGES, INCLUDING CENTRIFUGAL DRYERS, NESOI   \n",
       "1                                      CENTRIFUGES, NESOI   \n",
       "2        CENTRIFUGES, INCLUDING CENTRIFUGAL DRYERS, NESOI   \n",
       "3                                      CENTRIFUGES, NESOI   \n",
       "4        CENTRIFUGES, INCLUDING CENTRIFUGAL DRYERS, NESOI   \n",
       "...                                                   ...   \n",
       "919093                 FLOUR, MEAL AND POWDER OF POTATOES   \n",
       "919094                         FLOUR AND MEAL OF POTATOES   \n",
       "919095                 FLOUR, MEAL AND POWDER OF POTATOES   \n",
       "919096                         FLOUR AND MEAL OF POTATOES   \n",
       "919097  PLUMS (INCLUDING PRUNE PLUMS AND SLOES), PREPA...   \n",
       "\n",
       "                                        description_short  quantity_1   naics  \n",
       "0        CENTRIFUGES, INCLUDING CENTRIFUGAL DRYERS, NESOI          NO  333999  \n",
       "1                                      CENTRIFUGES, NESOI          NO  333999  \n",
       "2        CENTRIFUGES, INCLUDING CENTRIFUGAL DRYERS, NESOI          NO  333999  \n",
       "3                                      CENTRIFUGES, NESOI          NO  333999  \n",
       "4        CENTRIFUGES, INCLUDING CENTRIFUGAL DRYERS, NESOI          NO  333999  \n",
       "...                                                   ...         ...     ...  \n",
       "919093                 FLOUR, MEAL AND POWDER OF POTATOES          KG  311211  \n",
       "919094                         FLOUR AND MEAL OF POTATOES          KG  311211  \n",
       "919095                 FLOUR, MEAL AND POWDER OF POTATOES          KG  311211  \n",
       "919096                         FLOUR AND MEAL OF POTATOES          KG  311211  \n",
       "919097  PLUMS, PRUNE PLUMS AND SLOES, PREPRD/PRESERV N...          KG  311421  \n",
       "\n",
       "[919098 rows x 35 columns]"
      ]
     },
     "execution_count": 25,
     "metadata": {},
     "output_type": "execute_result"
    },
    {
     "name": "stdout",
     "output_type": "stream",
     "text": [
      "time: 1.93 s (started: 2023-01-21 13:50:00 -05:00)\n"
     ]
    }
   ],
   "source": [
    "hscydtDf.merge(hsNaicsMap,how='left')"
   ]
  },
  {
   "cell_type": "code",
   "execution_count": 14,
   "metadata": {},
   "outputs": [
    {
     "data": {
      "text/html": [
       "<div>\n",
       "<style scoped>\n",
       "    .dataframe tbody tr th:only-of-type {\n",
       "        vertical-align: middle;\n",
       "    }\n",
       "\n",
       "    .dataframe tbody tr th {\n",
       "        vertical-align: top;\n",
       "    }\n",
       "\n",
       "    .dataframe thead th {\n",
       "        text-align: right;\n",
       "    }\n",
       "</style>\n",
       "<table border=\"1\" class=\"dataframe\">\n",
       "  <thead>\n",
       "    <tr style=\"text-align: right;\">\n",
       "      <th></th>\n",
       "      <th>NAICS</th>\n",
       "      <th>NAICS_LDESC</th>\n",
       "      <th>NAICS_SDESC</th>\n",
       "      <th>CTY_CODE</th>\n",
       "      <th>DISTRICT</th>\n",
       "      <th>DIST_NAME</th>\n",
       "      <th>GEN_CHA_MO</th>\n",
       "      <th>GEN_VAL_MO</th>\n",
       "      <th>GEN_CIF_MO</th>\n",
       "      <th>CC_MO</th>\n",
       "      <th>...</th>\n",
       "      <th>AIR_WGT_MO</th>\n",
       "      <th>VES_CHA_MO</th>\n",
       "      <th>VES_VAL_MO</th>\n",
       "      <th>VES_WGT_MO</th>\n",
       "      <th>CTY_NAME</th>\n",
       "      <th>YEAR</th>\n",
       "      <th>MONTH</th>\n",
       "      <th>COMM_LVL</th>\n",
       "      <th>SUMMARY_LVL2</th>\n",
       "      <th>YearMonth</th>\n",
       "    </tr>\n",
       "  </thead>\n",
       "  <tbody>\n",
       "    <tr>\n",
       "      <th>23116</th>\n",
       "      <td>111110</td>\n",
       "      <td>SOYBEANS</td>\n",
       "      <td>SOYBEANS</td>\n",
       "      <td>5330</td>\n",
       "      <td>13</td>\n",
       "      <td>BALTIMORE, MD</td>\n",
       "      <td>112700</td>\n",
       "      <td>769300</td>\n",
       "      <td>882000</td>\n",
       "      <td>7</td>\n",
       "      <td>...</td>\n",
       "      <td>0</td>\n",
       "      <td>112700</td>\n",
       "      <td>769300</td>\n",
       "      <td>660200</td>\n",
       "      <td>INDIA</td>\n",
       "      <td>2022</td>\n",
       "      <td>01</td>\n",
       "      <td>NA6</td>\n",
       "      <td>NACYDT</td>\n",
       "      <td>2022-01</td>\n",
       "    </tr>\n",
       "    <tr>\n",
       "      <th>23117</th>\n",
       "      <td>111120</td>\n",
       "      <td>OILSEEDS (EXCEPT SOYBEAN)</td>\n",
       "      <td>OILSEEDS (EXCEPT SOYBEAN)</td>\n",
       "      <td>5330</td>\n",
       "      <td>9</td>\n",
       "      <td>BUFFALO, NY</td>\n",
       "      <td>74</td>\n",
       "      <td>22078</td>\n",
       "      <td>22152</td>\n",
       "      <td>1</td>\n",
       "      <td>...</td>\n",
       "      <td>0</td>\n",
       "      <td>0</td>\n",
       "      <td>0</td>\n",
       "      <td>0</td>\n",
       "      <td>INDIA</td>\n",
       "      <td>2022</td>\n",
       "      <td>01</td>\n",
       "      <td>NA6</td>\n",
       "      <td>NACYDT</td>\n",
       "      <td>2022-01</td>\n",
       "    </tr>\n",
       "    <tr>\n",
       "      <th>23118</th>\n",
       "      <td>111120</td>\n",
       "      <td>OILSEEDS (EXCEPT SOYBEAN)</td>\n",
       "      <td>OILSEEDS (EXCEPT SOYBEAN)</td>\n",
       "      <td>5330</td>\n",
       "      <td>4</td>\n",
       "      <td>BOSTON, MA</td>\n",
       "      <td>710</td>\n",
       "      <td>4748</td>\n",
       "      <td>5458</td>\n",
       "      <td>1</td>\n",
       "      <td>...</td>\n",
       "      <td>0</td>\n",
       "      <td>710</td>\n",
       "      <td>4748</td>\n",
       "      <td>1212</td>\n",
       "      <td>INDIA</td>\n",
       "      <td>2022</td>\n",
       "      <td>01</td>\n",
       "      <td>NA6</td>\n",
       "      <td>NACYDT</td>\n",
       "      <td>2022-01</td>\n",
       "    </tr>\n",
       "    <tr>\n",
       "      <th>23119</th>\n",
       "      <td>111120</td>\n",
       "      <td>OILSEEDS (EXCEPT SOYBEAN)</td>\n",
       "      <td>OILSEEDS (EXCEPT SOYBEAN)</td>\n",
       "      <td>5330</td>\n",
       "      <td>7</td>\n",
       "      <td>OGDENSBURG, NY</td>\n",
       "      <td>390</td>\n",
       "      <td>29512</td>\n",
       "      <td>29902</td>\n",
       "      <td>3</td>\n",
       "      <td>...</td>\n",
       "      <td>0</td>\n",
       "      <td>0</td>\n",
       "      <td>0</td>\n",
       "      <td>0</td>\n",
       "      <td>INDIA</td>\n",
       "      <td>2022</td>\n",
       "      <td>01</td>\n",
       "      <td>NA6</td>\n",
       "      <td>NACYDT</td>\n",
       "      <td>2022-01</td>\n",
       "    </tr>\n",
       "    <tr>\n",
       "      <th>23120</th>\n",
       "      <td>111120</td>\n",
       "      <td>OILSEEDS (EXCEPT SOYBEAN)</td>\n",
       "      <td>OILSEEDS (EXCEPT SOYBEAN)</td>\n",
       "      <td>5330</td>\n",
       "      <td>10</td>\n",
       "      <td>NEW YORK CITY, NY</td>\n",
       "      <td>154429</td>\n",
       "      <td>1409019</td>\n",
       "      <td>1563448</td>\n",
       "      <td>59</td>\n",
       "      <td>...</td>\n",
       "      <td>100</td>\n",
       "      <td>154339</td>\n",
       "      <td>1406908</td>\n",
       "      <td>719305</td>\n",
       "      <td>INDIA</td>\n",
       "      <td>2022</td>\n",
       "      <td>01</td>\n",
       "      <td>NA6</td>\n",
       "      <td>NACYDT</td>\n",
       "      <td>2022-01</td>\n",
       "    </tr>\n",
       "    <tr>\n",
       "      <th>...</th>\n",
       "      <td>...</td>\n",
       "      <td>...</td>\n",
       "      <td>...</td>\n",
       "      <td>...</td>\n",
       "      <td>...</td>\n",
       "      <td>...</td>\n",
       "      <td>...</td>\n",
       "      <td>...</td>\n",
       "      <td>...</td>\n",
       "      <td>...</td>\n",
       "      <td>...</td>\n",
       "      <td>...</td>\n",
       "      <td>...</td>\n",
       "      <td>...</td>\n",
       "      <td>...</td>\n",
       "      <td>...</td>\n",
       "      <td>...</td>\n",
       "      <td>...</td>\n",
       "      <td>...</td>\n",
       "      <td>...</td>\n",
       "      <td>...</td>\n",
       "    </tr>\n",
       "    <tr>\n",
       "      <th>47271</th>\n",
       "      <td>990000</td>\n",
       "      <td>OTHER SPECIAL CLASSIFICATION PROVISIONS</td>\n",
       "      <td>OTHER SPECIAL CLASSIFICATION PROVISIONS</td>\n",
       "      <td>5330</td>\n",
       "      <td>41</td>\n",
       "      <td>CLEVELAND, OH</td>\n",
       "      <td>2575</td>\n",
       "      <td>15565</td>\n",
       "      <td>18140</td>\n",
       "      <td>3</td>\n",
       "      <td>...</td>\n",
       "      <td>308</td>\n",
       "      <td>0</td>\n",
       "      <td>0</td>\n",
       "      <td>0</td>\n",
       "      <td>INDIA</td>\n",
       "      <td>2022</td>\n",
       "      <td>11</td>\n",
       "      <td>NA6</td>\n",
       "      <td>NACYDT</td>\n",
       "      <td>2022-11</td>\n",
       "    </tr>\n",
       "    <tr>\n",
       "      <th>47272</th>\n",
       "      <td>990000</td>\n",
       "      <td>OTHER SPECIAL CLASSIFICATION PROVISIONS</td>\n",
       "      <td>OTHER SPECIAL CLASSIFICATION PROVISIONS</td>\n",
       "      <td>5330</td>\n",
       "      <td>45</td>\n",
       "      <td>ST. LOUIS, MO</td>\n",
       "      <td>0</td>\n",
       "      <td>0</td>\n",
       "      <td>0</td>\n",
       "      <td>0</td>\n",
       "      <td>...</td>\n",
       "      <td>0</td>\n",
       "      <td>0</td>\n",
       "      <td>0</td>\n",
       "      <td>0</td>\n",
       "      <td>INDIA</td>\n",
       "      <td>2022</td>\n",
       "      <td>11</td>\n",
       "      <td>NA6</td>\n",
       "      <td>NACYDT</td>\n",
       "      <td>2022-11</td>\n",
       "    </tr>\n",
       "    <tr>\n",
       "      <th>47273</th>\n",
       "      <td>990000</td>\n",
       "      <td>OTHER SPECIAL CLASSIFICATION PROVISIONS</td>\n",
       "      <td>OTHER SPECIAL CLASSIFICATION PROVISIONS</td>\n",
       "      <td>5330</td>\n",
       "      <td>53</td>\n",
       "      <td>HOUSTON-GALVESTON, TX</td>\n",
       "      <td>1</td>\n",
       "      <td>17571</td>\n",
       "      <td>17572</td>\n",
       "      <td>1</td>\n",
       "      <td>...</td>\n",
       "      <td>0</td>\n",
       "      <td>1</td>\n",
       "      <td>17571</td>\n",
       "      <td>1833</td>\n",
       "      <td>INDIA</td>\n",
       "      <td>2022</td>\n",
       "      <td>11</td>\n",
       "      <td>NA6</td>\n",
       "      <td>NACYDT</td>\n",
       "      <td>2022-11</td>\n",
       "    </tr>\n",
       "    <tr>\n",
       "      <th>47274</th>\n",
       "      <td>990000</td>\n",
       "      <td>OTHER SPECIAL CLASSIFICATION PROVISIONS</td>\n",
       "      <td>OTHER SPECIAL CLASSIFICATION PROVISIONS</td>\n",
       "      <td>5330</td>\n",
       "      <td>55</td>\n",
       "      <td>DALLAS-FORT WORTH, TX</td>\n",
       "      <td>15000</td>\n",
       "      <td>109117</td>\n",
       "      <td>124117</td>\n",
       "      <td>2</td>\n",
       "      <td>...</td>\n",
       "      <td>7698</td>\n",
       "      <td>0</td>\n",
       "      <td>0</td>\n",
       "      <td>0</td>\n",
       "      <td>INDIA</td>\n",
       "      <td>2022</td>\n",
       "      <td>11</td>\n",
       "      <td>NA6</td>\n",
       "      <td>NACYDT</td>\n",
       "      <td>2022-11</td>\n",
       "    </tr>\n",
       "    <tr>\n",
       "      <th>47275</th>\n",
       "      <td>990000</td>\n",
       "      <td>OTHER SPECIAL CLASSIFICATION PROVISIONS</td>\n",
       "      <td>OTHER SPECIAL CLASSIFICATION PROVISIONS</td>\n",
       "      <td>5330</td>\n",
       "      <td>70</td>\n",
       "      <td>LOW VALUE</td>\n",
       "      <td>0</td>\n",
       "      <td>35917932</td>\n",
       "      <td>35917932</td>\n",
       "      <td>1</td>\n",
       "      <td>...</td>\n",
       "      <td>0</td>\n",
       "      <td>0</td>\n",
       "      <td>0</td>\n",
       "      <td>0</td>\n",
       "      <td>INDIA</td>\n",
       "      <td>2022</td>\n",
       "      <td>11</td>\n",
       "      <td>NA6</td>\n",
       "      <td>NACYDT</td>\n",
       "      <td>2022-11</td>\n",
       "    </tr>\n",
       "  </tbody>\n",
       "</table>\n",
       "<p>72284 rows × 25 columns</p>\n",
       "</div>"
      ],
      "text/plain": [
       "        NAICS                              NAICS_LDESC  \\\n",
       "23116  111110                                 SOYBEANS   \n",
       "23117  111120                OILSEEDS (EXCEPT SOYBEAN)   \n",
       "23118  111120                OILSEEDS (EXCEPT SOYBEAN)   \n",
       "23119  111120                OILSEEDS (EXCEPT SOYBEAN)   \n",
       "23120  111120                OILSEEDS (EXCEPT SOYBEAN)   \n",
       "...       ...                                      ...   \n",
       "47271  990000  OTHER SPECIAL CLASSIFICATION PROVISIONS   \n",
       "47272  990000  OTHER SPECIAL CLASSIFICATION PROVISIONS   \n",
       "47273  990000  OTHER SPECIAL CLASSIFICATION PROVISIONS   \n",
       "47274  990000  OTHER SPECIAL CLASSIFICATION PROVISIONS   \n",
       "47275  990000  OTHER SPECIAL CLASSIFICATION PROVISIONS   \n",
       "\n",
       "                                   NAICS_SDESC  CTY_CODE  DISTRICT  \\\n",
       "23116                                 SOYBEANS      5330        13   \n",
       "23117                OILSEEDS (EXCEPT SOYBEAN)      5330         9   \n",
       "23118                OILSEEDS (EXCEPT SOYBEAN)      5330         4   \n",
       "23119                OILSEEDS (EXCEPT SOYBEAN)      5330         7   \n",
       "23120                OILSEEDS (EXCEPT SOYBEAN)      5330        10   \n",
       "...                                        ...       ...       ...   \n",
       "47271  OTHER SPECIAL CLASSIFICATION PROVISIONS      5330        41   \n",
       "47272  OTHER SPECIAL CLASSIFICATION PROVISIONS      5330        45   \n",
       "47273  OTHER SPECIAL CLASSIFICATION PROVISIONS      5330        53   \n",
       "47274  OTHER SPECIAL CLASSIFICATION PROVISIONS      5330        55   \n",
       "47275  OTHER SPECIAL CLASSIFICATION PROVISIONS      5330        70   \n",
       "\n",
       "                   DIST_NAME  GEN_CHA_MO  GEN_VAL_MO  GEN_CIF_MO  CC_MO  ...  \\\n",
       "23116          BALTIMORE, MD      112700      769300      882000      7  ...   \n",
       "23117            BUFFALO, NY          74       22078       22152      1  ...   \n",
       "23118             BOSTON, MA         710        4748        5458      1  ...   \n",
       "23119         OGDENSBURG, NY         390       29512       29902      3  ...   \n",
       "23120      NEW YORK CITY, NY      154429     1409019     1563448     59  ...   \n",
       "...                      ...         ...         ...         ...    ...  ...   \n",
       "47271          CLEVELAND, OH        2575       15565       18140      3  ...   \n",
       "47272          ST. LOUIS, MO           0           0           0      0  ...   \n",
       "47273  HOUSTON-GALVESTON, TX           1       17571       17572      1  ...   \n",
       "47274  DALLAS-FORT WORTH, TX       15000      109117      124117      2  ...   \n",
       "47275              LOW VALUE           0    35917932    35917932      1  ...   \n",
       "\n",
       "       AIR_WGT_MO  VES_CHA_MO  VES_VAL_MO  VES_WGT_MO  CTY_NAME  YEAR  MONTH  \\\n",
       "23116           0      112700      769300      660200     INDIA  2022     01   \n",
       "23117           0           0           0           0     INDIA  2022     01   \n",
       "23118           0         710        4748        1212     INDIA  2022     01   \n",
       "23119           0           0           0           0     INDIA  2022     01   \n",
       "23120         100      154339     1406908      719305     INDIA  2022     01   \n",
       "...           ...         ...         ...         ...       ...   ...    ...   \n",
       "47271         308           0           0           0     INDIA  2022     11   \n",
       "47272           0           0           0           0     INDIA  2022     11   \n",
       "47273           0           1       17571        1833     INDIA  2022     11   \n",
       "47274        7698           0           0           0     INDIA  2022     11   \n",
       "47275           0           0           0           0     INDIA  2022     11   \n",
       "\n",
       "       COMM_LVL  SUMMARY_LVL2 YearMonth  \n",
       "23116       NA6        NACYDT   2022-01  \n",
       "23117       NA6        NACYDT   2022-01  \n",
       "23118       NA6        NACYDT   2022-01  \n",
       "23119       NA6        NACYDT   2022-01  \n",
       "23120       NA6        NACYDT   2022-01  \n",
       "...         ...           ...       ...  \n",
       "47271       NA6        NACYDT   2022-11  \n",
       "47272       NA6        NACYDT   2022-11  \n",
       "47273       NA6        NACYDT   2022-11  \n",
       "47274       NA6        NACYDT   2022-11  \n",
       "47275       NA6        NACYDT   2022-11  \n",
       "\n",
       "[72284 rows x 25 columns]"
      ]
     },
     "execution_count": 14,
     "metadata": {},
     "output_type": "execute_result"
    },
    {
     "name": "stdout",
     "output_type": "stream",
     "text": [
      "time: 91.1 ms (started: 2023-01-21 01:10:20 -05:00)\n"
     ]
    }
   ],
   "source": [
    "naicscydtDf"
   ]
  },
  {
   "attachments": {},
   "cell_type": "markdown",
   "metadata": {},
   "source": [
    "### HS Description Files"
   ]
  },
  {
   "cell_type": "code",
   "execution_count": 4,
   "metadata": {},
   "outputs": [
    {
     "name": "stdout",
     "output_type": "stream",
     "text": [
      "time: 194 ms (started: 2023-01-21 01:02:37 -05:00)\n"
     ]
    }
   ],
   "source": [
    "hs2Descriptions = pd.read_csv(\"API Resources/HS2 Descriptions.csv\")\n",
    "hs2Descriptions['HS2'] = hs2Descriptions['HS2'].apply(lambda x:str(x).zfill(2))\n",
    "hs4Descriptions = pd.read_csv(\"API Resources/HS4 Descriptions.csv\")\n",
    "hs4Descriptions['HS4'] = hs4Descriptions['HS4'].apply(lambda x:str(x).zfill(4))\n",
    "hs4Descriptions['HS2'] = hs4Descriptions['HS4'].apply(lambda x:str(x)[:2])\n",
    "hs4Descriptions = hs4Descriptions.merge(hs2Descriptions,how='left')#.groupby(['HS2','HS2 Description'])['HS4'].count().reset_index().sort_values('HS4',ascending=True)\\\n",
    "    # .plot.barh(x='HS2 Description',y='HS4',figsize=(20, 30),title=\"HS4 Codes per HS2\")"
   ]
  },
  {
   "cell_type": "code",
   "execution_count": 5,
   "metadata": {},
   "outputs": [
    {
     "data": {
      "text/plain": [
       "Index(['HS10', 'I_COMMODITY_SDESC', 'I_COMMODITY_LDESC', 'CTY_CODE',\n",
       "       'DISTRICT', 'DIST_NAME', 'RP', 'GEN_CHA_MO', 'GEN_VAL_MO', 'GEN_CIF_MO',\n",
       "       'GEN_QY1_MO', 'UNIT_QY1', 'CC_MO', 'CNT_CHA_MO', 'CNT_VAL_MO',\n",
       "       'CNT_WGT_MO', 'AIR_CHA_MO', 'AIR_VAL_MO', 'AIR_WGT_MO', 'VES_CHA_MO',\n",
       "       'VES_VAL_MO', 'VES_WGT_MO', 'CTY_NAME', 'YEAR', 'MONTH', 'COMM_LVL',\n",
       "       'SUMMARY_LVL2', 'YearMonth', 'HS2', 'HS4', 'HS6'],\n",
       "      dtype='object')"
      ]
     },
     "execution_count": 5,
     "metadata": {},
     "output_type": "execute_result"
    },
    {
     "name": "stdout",
     "output_type": "stream",
     "text": [
      "time: 9.99 ms (started: 2023-01-21 01:02:39 -05:00)\n"
     ]
    }
   ],
   "source": [
    "hscydtDf.columns"
   ]
  },
  {
   "cell_type": "code",
   "execution_count": 6,
   "metadata": {},
   "outputs": [
    {
     "data": {
      "text/html": [
       "<div>\n",
       "<style scoped>\n",
       "    .dataframe tbody tr th:only-of-type {\n",
       "        vertical-align: middle;\n",
       "    }\n",
       "\n",
       "    .dataframe tbody tr th {\n",
       "        vertical-align: top;\n",
       "    }\n",
       "\n",
       "    .dataframe thead th {\n",
       "        text-align: right;\n",
       "    }\n",
       "</style>\n",
       "<table border=\"1\" class=\"dataframe\">\n",
       "  <thead>\n",
       "    <tr style=\"text-align: right;\">\n",
       "      <th></th>\n",
       "      <th>HS10</th>\n",
       "      <th>I_COMMODITY_SDESC</th>\n",
       "      <th>I_COMMODITY_LDESC</th>\n",
       "      <th>CTY_CODE</th>\n",
       "      <th>DISTRICT</th>\n",
       "      <th>DIST_NAME</th>\n",
       "      <th>RP</th>\n",
       "      <th>GEN_CHA_MO</th>\n",
       "      <th>GEN_VAL_MO</th>\n",
       "      <th>GEN_CIF_MO</th>\n",
       "      <th>...</th>\n",
       "      <th>VES_WGT_MO</th>\n",
       "      <th>CTY_NAME</th>\n",
       "      <th>YEAR</th>\n",
       "      <th>MONTH</th>\n",
       "      <th>COMM_LVL</th>\n",
       "      <th>SUMMARY_LVL2</th>\n",
       "      <th>YearMonth</th>\n",
       "      <th>HS2</th>\n",
       "      <th>HS4</th>\n",
       "      <th>HS6</th>\n",
       "    </tr>\n",
       "  </thead>\n",
       "  <tbody>\n",
       "    <tr>\n",
       "      <th>4</th>\n",
       "      <td>8421190000</td>\n",
       "      <td>CENTRIFUGES, INCLUDING CENTRIFUGAL DRYERS, NESOI</td>\n",
       "      <td>CENTRIFUGES, INCLUDING CENTRIFUGAL DRYERS, NESOI</td>\n",
       "      <td>5330</td>\n",
       "      <td>10</td>\n",
       "      <td>NEW YORK CITY, NY</td>\n",
       "      <td>-</td>\n",
       "      <td>13860</td>\n",
       "      <td>127179</td>\n",
       "      <td>141039</td>\n",
       "      <td>...</td>\n",
       "      <td>2721</td>\n",
       "      <td>INDIA</td>\n",
       "      <td>2022</td>\n",
       "      <td>01</td>\n",
       "      <td>HS10</td>\n",
       "      <td>HSCYDT</td>\n",
       "      <td>2022-01</td>\n",
       "      <td>84</td>\n",
       "      <td>8421</td>\n",
       "      <td>842119</td>\n",
       "    </tr>\n",
       "    <tr>\n",
       "      <th>5</th>\n",
       "      <td>8421190000</td>\n",
       "      <td>CENTRIFUGES, INCLUDING CENTRIFUGAL DRYERS, NESOI</td>\n",
       "      <td>CENTRIFUGES, INCLUDING CENTRIFUGAL DRYERS, NESOI</td>\n",
       "      <td>5330</td>\n",
       "      <td>52</td>\n",
       "      <td>MIAMI, FL</td>\n",
       "      <td>-</td>\n",
       "      <td>244</td>\n",
       "      <td>12479</td>\n",
       "      <td>12723</td>\n",
       "      <td>...</td>\n",
       "      <td>0</td>\n",
       "      <td>INDIA</td>\n",
       "      <td>2022</td>\n",
       "      <td>01</td>\n",
       "      <td>HS10</td>\n",
       "      <td>HSCYDT</td>\n",
       "      <td>2022-01</td>\n",
       "      <td>84</td>\n",
       "      <td>8421</td>\n",
       "      <td>842119</td>\n",
       "    </tr>\n",
       "    <tr>\n",
       "      <th>6</th>\n",
       "      <td>8421190000</td>\n",
       "      <td>CENTRIFUGES, INCLUDING CENTRIFUGAL DRYERS, NESOI</td>\n",
       "      <td>CENTRIFUGES, INCLUDING CENTRIFUGAL DRYERS, NESOI</td>\n",
       "      <td>5330</td>\n",
       "      <td>53</td>\n",
       "      <td>HOUSTON-GALVESTON, TX</td>\n",
       "      <td>-</td>\n",
       "      <td>241</td>\n",
       "      <td>135155</td>\n",
       "      <td>135396</td>\n",
       "      <td>...</td>\n",
       "      <td>3056</td>\n",
       "      <td>INDIA</td>\n",
       "      <td>2022</td>\n",
       "      <td>01</td>\n",
       "      <td>HS10</td>\n",
       "      <td>HSCYDT</td>\n",
       "      <td>2022-01</td>\n",
       "      <td>84</td>\n",
       "      <td>8421</td>\n",
       "      <td>842119</td>\n",
       "    </tr>\n",
       "    <tr>\n",
       "      <th>54</th>\n",
       "      <td>8421390115</td>\n",
       "      <td>DUST COLLECTION AND AIR PURIFICATION EQUIP, NESOI</td>\n",
       "      <td>DUST COLLECTION AND AIR PURIFICATION EQUIPMENT...</td>\n",
       "      <td>5330</td>\n",
       "      <td>9</td>\n",
       "      <td>BUFFALO, NY</td>\n",
       "      <td>-</td>\n",
       "      <td>747</td>\n",
       "      <td>84443</td>\n",
       "      <td>85190</td>\n",
       "      <td>...</td>\n",
       "      <td>0</td>\n",
       "      <td>INDIA</td>\n",
       "      <td>2022</td>\n",
       "      <td>01</td>\n",
       "      <td>HS10</td>\n",
       "      <td>HSCYDT</td>\n",
       "      <td>2022-01</td>\n",
       "      <td>84</td>\n",
       "      <td>8421</td>\n",
       "      <td>842139</td>\n",
       "    </tr>\n",
       "    <tr>\n",
       "      <th>55</th>\n",
       "      <td>8421390115</td>\n",
       "      <td>DUST COLLECTION AND AIR PURIFICATION EQUIP, NESOI</td>\n",
       "      <td>DUST COLLECTION AND AIR PURIFICATION EQUIPMENT...</td>\n",
       "      <td>5330</td>\n",
       "      <td>10</td>\n",
       "      <td>NEW YORK CITY, NY</td>\n",
       "      <td>-</td>\n",
       "      <td>500</td>\n",
       "      <td>44928</td>\n",
       "      <td>45428</td>\n",
       "      <td>...</td>\n",
       "      <td>1100</td>\n",
       "      <td>INDIA</td>\n",
       "      <td>2022</td>\n",
       "      <td>01</td>\n",
       "      <td>HS10</td>\n",
       "      <td>HSCYDT</td>\n",
       "      <td>2022-01</td>\n",
       "      <td>84</td>\n",
       "      <td>8421</td>\n",
       "      <td>842139</td>\n",
       "    </tr>\n",
       "    <tr>\n",
       "      <th>...</th>\n",
       "      <td>...</td>\n",
       "      <td>...</td>\n",
       "      <td>...</td>\n",
       "      <td>...</td>\n",
       "      <td>...</td>\n",
       "      <td>...</td>\n",
       "      <td>...</td>\n",
       "      <td>...</td>\n",
       "      <td>...</td>\n",
       "      <td>...</td>\n",
       "      <td>...</td>\n",
       "      <td>...</td>\n",
       "      <td>...</td>\n",
       "      <td>...</td>\n",
       "      <td>...</td>\n",
       "      <td>...</td>\n",
       "      <td>...</td>\n",
       "      <td>...</td>\n",
       "      <td>...</td>\n",
       "      <td>...</td>\n",
       "      <td>...</td>\n",
       "    </tr>\n",
       "    <tr>\n",
       "      <th>425184</th>\n",
       "      <td>1105100000</td>\n",
       "      <td>FLOUR, MEAL AND POWDER OF POTATOES</td>\n",
       "      <td>FLOUR, MEAL AND POWDER OF POTATOES</td>\n",
       "      <td>5330</td>\n",
       "      <td>17</td>\n",
       "      <td>SAVANNAH, GA</td>\n",
       "      <td>-</td>\n",
       "      <td>22600</td>\n",
       "      <td>86810</td>\n",
       "      <td>109410</td>\n",
       "      <td>...</td>\n",
       "      <td>121100</td>\n",
       "      <td>INDIA</td>\n",
       "      <td>2022</td>\n",
       "      <td>11</td>\n",
       "      <td>HS10</td>\n",
       "      <td>HSCYDT</td>\n",
       "      <td>2022-11</td>\n",
       "      <td>11</td>\n",
       "      <td>1105</td>\n",
       "      <td>110510</td>\n",
       "    </tr>\n",
       "    <tr>\n",
       "      <th>425185</th>\n",
       "      <td>1105100000</td>\n",
       "      <td>FLOUR, MEAL AND POWDER OF POTATOES</td>\n",
       "      <td>FLOUR, MEAL AND POWDER OF POTATOES</td>\n",
       "      <td>5330</td>\n",
       "      <td>27</td>\n",
       "      <td>LOS ANGELES, CA</td>\n",
       "      <td>-</td>\n",
       "      <td>0</td>\n",
       "      <td>0</td>\n",
       "      <td>0</td>\n",
       "      <td>...</td>\n",
       "      <td>0</td>\n",
       "      <td>INDIA</td>\n",
       "      <td>2022</td>\n",
       "      <td>11</td>\n",
       "      <td>HS10</td>\n",
       "      <td>HSCYDT</td>\n",
       "      <td>2022-11</td>\n",
       "      <td>11</td>\n",
       "      <td>1105</td>\n",
       "      <td>110510</td>\n",
       "    </tr>\n",
       "    <tr>\n",
       "      <th>425186</th>\n",
       "      <td>1105100000</td>\n",
       "      <td>FLOUR, MEAL AND POWDER OF POTATOES</td>\n",
       "      <td>FLOUR, MEAL AND POWDER OF POTATOES</td>\n",
       "      <td>5330</td>\n",
       "      <td>28</td>\n",
       "      <td>SAN FRANCISCO, CA</td>\n",
       "      <td>-</td>\n",
       "      <td>0</td>\n",
       "      <td>0</td>\n",
       "      <td>0</td>\n",
       "      <td>...</td>\n",
       "      <td>0</td>\n",
       "      <td>INDIA</td>\n",
       "      <td>2022</td>\n",
       "      <td>11</td>\n",
       "      <td>HS10</td>\n",
       "      <td>HSCYDT</td>\n",
       "      <td>2022-11</td>\n",
       "      <td>11</td>\n",
       "      <td>1105</td>\n",
       "      <td>110510</td>\n",
       "    </tr>\n",
       "    <tr>\n",
       "      <th>425187</th>\n",
       "      <td>1105100000</td>\n",
       "      <td>FLOUR, MEAL AND POWDER OF POTATOES</td>\n",
       "      <td>FLOUR, MEAL AND POWDER OF POTATOES</td>\n",
       "      <td>5330</td>\n",
       "      <td>39</td>\n",
       "      <td>CHICAGO, IL</td>\n",
       "      <td>-</td>\n",
       "      <td>1000</td>\n",
       "      <td>5673</td>\n",
       "      <td>6673</td>\n",
       "      <td>...</td>\n",
       "      <td>3125</td>\n",
       "      <td>INDIA</td>\n",
       "      <td>2022</td>\n",
       "      <td>11</td>\n",
       "      <td>HS10</td>\n",
       "      <td>HSCYDT</td>\n",
       "      <td>2022-11</td>\n",
       "      <td>11</td>\n",
       "      <td>1105</td>\n",
       "      <td>110510</td>\n",
       "    </tr>\n",
       "    <tr>\n",
       "      <th>425212</th>\n",
       "      <td>2008996000</td>\n",
       "      <td>PLUMS, PRUNE PLUMS AND SLOES, PREPRD/PRESERV N...</td>\n",
       "      <td>PLUMS (INCLUDING PRUNE PLUMS AND SLOES), PREPA...</td>\n",
       "      <td>5330</td>\n",
       "      <td>10</td>\n",
       "      <td>NEW YORK CITY, NY</td>\n",
       "      <td>-</td>\n",
       "      <td>0</td>\n",
       "      <td>0</td>\n",
       "      <td>0</td>\n",
       "      <td>...</td>\n",
       "      <td>0</td>\n",
       "      <td>INDIA</td>\n",
       "      <td>2022</td>\n",
       "      <td>11</td>\n",
       "      <td>HS10</td>\n",
       "      <td>HSCYDT</td>\n",
       "      <td>2022-11</td>\n",
       "      <td>20</td>\n",
       "      <td>2008</td>\n",
       "      <td>200899</td>\n",
       "    </tr>\n",
       "  </tbody>\n",
       "</table>\n",
       "<p>548321 rows × 31 columns</p>\n",
       "</div>"
      ],
      "text/plain": [
       "              HS10                                  I_COMMODITY_SDESC  \\\n",
       "4       8421190000   CENTRIFUGES, INCLUDING CENTRIFUGAL DRYERS, NESOI   \n",
       "5       8421190000   CENTRIFUGES, INCLUDING CENTRIFUGAL DRYERS, NESOI   \n",
       "6       8421190000   CENTRIFUGES, INCLUDING CENTRIFUGAL DRYERS, NESOI   \n",
       "54      8421390115  DUST COLLECTION AND AIR PURIFICATION EQUIP, NESOI   \n",
       "55      8421390115  DUST COLLECTION AND AIR PURIFICATION EQUIP, NESOI   \n",
       "...            ...                                                ...   \n",
       "425184  1105100000                 FLOUR, MEAL AND POWDER OF POTATOES   \n",
       "425185  1105100000                 FLOUR, MEAL AND POWDER OF POTATOES   \n",
       "425186  1105100000                 FLOUR, MEAL AND POWDER OF POTATOES   \n",
       "425187  1105100000                 FLOUR, MEAL AND POWDER OF POTATOES   \n",
       "425212  2008996000  PLUMS, PRUNE PLUMS AND SLOES, PREPRD/PRESERV N...   \n",
       "\n",
       "                                        I_COMMODITY_LDESC  CTY_CODE  DISTRICT  \\\n",
       "4        CENTRIFUGES, INCLUDING CENTRIFUGAL DRYERS, NESOI      5330        10   \n",
       "5        CENTRIFUGES, INCLUDING CENTRIFUGAL DRYERS, NESOI      5330        52   \n",
       "6        CENTRIFUGES, INCLUDING CENTRIFUGAL DRYERS, NESOI      5330        53   \n",
       "54      DUST COLLECTION AND AIR PURIFICATION EQUIPMENT...      5330         9   \n",
       "55      DUST COLLECTION AND AIR PURIFICATION EQUIPMENT...      5330        10   \n",
       "...                                                   ...       ...       ...   \n",
       "425184                 FLOUR, MEAL AND POWDER OF POTATOES      5330        17   \n",
       "425185                 FLOUR, MEAL AND POWDER OF POTATOES      5330        27   \n",
       "425186                 FLOUR, MEAL AND POWDER OF POTATOES      5330        28   \n",
       "425187                 FLOUR, MEAL AND POWDER OF POTATOES      5330        39   \n",
       "425212  PLUMS (INCLUDING PRUNE PLUMS AND SLOES), PREPA...      5330        10   \n",
       "\n",
       "                    DIST_NAME RP  GEN_CHA_MO  GEN_VAL_MO  GEN_CIF_MO  ...  \\\n",
       "4           NEW YORK CITY, NY  -       13860      127179      141039  ...   \n",
       "5                   MIAMI, FL  -         244       12479       12723  ...   \n",
       "6       HOUSTON-GALVESTON, TX  -         241      135155      135396  ...   \n",
       "54                BUFFALO, NY  -         747       84443       85190  ...   \n",
       "55          NEW YORK CITY, NY  -         500       44928       45428  ...   \n",
       "...                       ... ..         ...         ...         ...  ...   \n",
       "425184           SAVANNAH, GA  -       22600       86810      109410  ...   \n",
       "425185        LOS ANGELES, CA  -           0           0           0  ...   \n",
       "425186      SAN FRANCISCO, CA  -           0           0           0  ...   \n",
       "425187            CHICAGO, IL  -        1000        5673        6673  ...   \n",
       "425212      NEW YORK CITY, NY  -           0           0           0  ...   \n",
       "\n",
       "        VES_WGT_MO CTY_NAME  YEAR  MONTH  COMM_LVL  SUMMARY_LVL2  YearMonth  \\\n",
       "4             2721    INDIA  2022     01      HS10        HSCYDT    2022-01   \n",
       "5                0    INDIA  2022     01      HS10        HSCYDT    2022-01   \n",
       "6             3056    INDIA  2022     01      HS10        HSCYDT    2022-01   \n",
       "54               0    INDIA  2022     01      HS10        HSCYDT    2022-01   \n",
       "55            1100    INDIA  2022     01      HS10        HSCYDT    2022-01   \n",
       "...            ...      ...   ...    ...       ...           ...        ...   \n",
       "425184      121100    INDIA  2022     11      HS10        HSCYDT    2022-11   \n",
       "425185           0    INDIA  2022     11      HS10        HSCYDT    2022-11   \n",
       "425186           0    INDIA  2022     11      HS10        HSCYDT    2022-11   \n",
       "425187        3125    INDIA  2022     11      HS10        HSCYDT    2022-11   \n",
       "425212           0    INDIA  2022     11      HS10        HSCYDT    2022-11   \n",
       "\n",
       "        HS2   HS4     HS6  \n",
       "4        84  8421  842119  \n",
       "5        84  8421  842119  \n",
       "6        84  8421  842119  \n",
       "54       84  8421  842139  \n",
       "55       84  8421  842139  \n",
       "...     ...   ...     ...  \n",
       "425184   11  1105  110510  \n",
       "425185   11  1105  110510  \n",
       "425186   11  1105  110510  \n",
       "425187   11  1105  110510  \n",
       "425212   20  2008  200899  \n",
       "\n",
       "[548321 rows x 31 columns]"
      ]
     },
     "execution_count": 6,
     "metadata": {},
     "output_type": "execute_result"
    },
    {
     "name": "stdout",
     "output_type": "stream",
     "text": [
      "time: 778 ms (started: 2023-01-21 01:02:40 -05:00)\n"
     ]
    }
   ],
   "source": [
    "hscydtDf"
   ]
  },
  {
   "attachments": {},
   "cell_type": "markdown",
   "metadata": {},
   "source": [
    "## Total Imports Values HS2 by Year"
   ]
  },
  {
   "cell_type": "code",
   "execution_count": 41,
   "metadata": {},
   "outputs": [
    {
     "data": {
      "text/html": [
       "<div>\n",
       "<style scoped>\n",
       "    .dataframe tbody tr th:only-of-type {\n",
       "        vertical-align: middle;\n",
       "    }\n",
       "\n",
       "    .dataframe tbody tr th {\n",
       "        vertical-align: top;\n",
       "    }\n",
       "\n",
       "    .dataframe thead th {\n",
       "        text-align: right;\n",
       "    }\n",
       "</style>\n",
       "<table border=\"1\" class=\"dataframe\">\n",
       "  <thead>\n",
       "    <tr style=\"text-align: right;\">\n",
       "      <th></th>\n",
       "      <th>YEAR</th>\n",
       "      <th>HS2</th>\n",
       "      <th>HS2 Description</th>\n",
       "      <th>GEN_CHA_MO</th>\n",
       "      <th>GEN_VAL_MO</th>\n",
       "      <th>GEN_CIF_MO</th>\n",
       "      <th>GEN_QY1_MO</th>\n",
       "      <th>CNT_CHA_MO</th>\n",
       "      <th>CNT_VAL_MO</th>\n",
       "      <th>CNT_WGT_MO</th>\n",
       "      <th>AIR_CHA_MO</th>\n",
       "      <th>AIR_VAL_MO</th>\n",
       "      <th>AIR_WGT_MO</th>\n",
       "      <th>VES_CHA_MO</th>\n",
       "      <th>VES_VAL_MO</th>\n",
       "      <th>VES_WGT_MO</th>\n",
       "    </tr>\n",
       "  </thead>\n",
       "  <tbody>\n",
       "    <tr>\n",
       "      <th>0</th>\n",
       "      <td>2022</td>\n",
       "      <td>01</td>\n",
       "      <td>LIVE ANIMALS</td>\n",
       "      <td>10827</td>\n",
       "      <td>20630</td>\n",
       "      <td>31457</td>\n",
       "      <td>35</td>\n",
       "      <td>529</td>\n",
       "      <td>7130</td>\n",
       "      <td>300</td>\n",
       "      <td>10298</td>\n",
       "      <td>13500</td>\n",
       "      <td>66</td>\n",
       "      <td>529</td>\n",
       "      <td>7130</td>\n",
       "      <td>300</td>\n",
       "    </tr>\n",
       "    <tr>\n",
       "      <th>1</th>\n",
       "      <td>2022</td>\n",
       "      <td>03</td>\n",
       "      <td>FISH AND CRUSTACEANS, MOLLUSCS AND OTHER AQUAT...</td>\n",
       "      <td>180443782</td>\n",
       "      <td>2133407461</td>\n",
       "      <td>2313851243</td>\n",
       "      <td>244503571</td>\n",
       "      <td>179268336</td>\n",
       "      <td>2123459915</td>\n",
       "      <td>291191781</td>\n",
       "      <td>360670</td>\n",
       "      <td>636681</td>\n",
       "      <td>43004</td>\n",
       "      <td>179738255</td>\n",
       "      <td>2127367160</td>\n",
       "      <td>291810481</td>\n",
       "    </tr>\n",
       "    <tr>\n",
       "      <th>2</th>\n",
       "      <td>2022</td>\n",
       "      <td>04</td>\n",
       "      <td>DAIRY PRODUCE; BIRDS' EGGS; NATURAL HONEY; EDI...</td>\n",
       "      <td>26836466</td>\n",
       "      <td>220996932</td>\n",
       "      <td>247833398</td>\n",
       "      <td>84690027</td>\n",
       "      <td>26822617</td>\n",
       "      <td>220805967</td>\n",
       "      <td>96180757</td>\n",
       "      <td>12049</td>\n",
       "      <td>156583</td>\n",
       "      <td>4718</td>\n",
       "      <td>26823917</td>\n",
       "      <td>220818921</td>\n",
       "      <td>96182105</td>\n",
       "    </tr>\n",
       "    <tr>\n",
       "      <th>3</th>\n",
       "      <td>2022</td>\n",
       "      <td>05</td>\n",
       "      <td>PRODUCTS OF ANIMAL ORIGIN, NESOI</td>\n",
       "      <td>3365910</td>\n",
       "      <td>19101435</td>\n",
       "      <td>22467345</td>\n",
       "      <td>3706231</td>\n",
       "      <td>3245722</td>\n",
       "      <td>17478578</td>\n",
       "      <td>3814302</td>\n",
       "      <td>72665</td>\n",
       "      <td>738807</td>\n",
       "      <td>19454</td>\n",
       "      <td>3292440</td>\n",
       "      <td>17810742</td>\n",
       "      <td>3875040</td>\n",
       "    </tr>\n",
       "    <tr>\n",
       "      <th>4</th>\n",
       "      <td>2022</td>\n",
       "      <td>06</td>\n",
       "      <td>LIVE TREES AND OTHER PLANTS; BULBS, ROOTS AND ...</td>\n",
       "      <td>6655013</td>\n",
       "      <td>37573158</td>\n",
       "      <td>44228171</td>\n",
       "      <td>59790047</td>\n",
       "      <td>3094489</td>\n",
       "      <td>15284292</td>\n",
       "      <td>3398721</td>\n",
       "      <td>3332218</td>\n",
       "      <td>13968370</td>\n",
       "      <td>918485</td>\n",
       "      <td>3270263</td>\n",
       "      <td>16009931</td>\n",
       "      <td>3511768</td>\n",
       "    </tr>\n",
       "    <tr>\n",
       "      <th>...</th>\n",
       "      <td>...</td>\n",
       "      <td>...</td>\n",
       "      <td>...</td>\n",
       "      <td>...</td>\n",
       "      <td>...</td>\n",
       "      <td>...</td>\n",
       "      <td>...</td>\n",
       "      <td>...</td>\n",
       "      <td>...</td>\n",
       "      <td>...</td>\n",
       "      <td>...</td>\n",
       "      <td>...</td>\n",
       "      <td>...</td>\n",
       "      <td>...</td>\n",
       "      <td>...</td>\n",
       "      <td>...</td>\n",
       "    </tr>\n",
       "    <tr>\n",
       "      <th>92</th>\n",
       "      <td>2022</td>\n",
       "      <td>95</td>\n",
       "      <td>TOYS, GAMES AND SPORTS EQUIPMENT; PARTS AND AC...</td>\n",
       "      <td>69674978</td>\n",
       "      <td>679102383</td>\n",
       "      <td>748777361</td>\n",
       "      <td>238587867</td>\n",
       "      <td>63150850</td>\n",
       "      <td>606688669</td>\n",
       "      <td>96855264</td>\n",
       "      <td>5603885</td>\n",
       "      <td>59001123</td>\n",
       "      <td>2792336</td>\n",
       "      <td>63748454</td>\n",
       "      <td>611998024</td>\n",
       "      <td>97366030</td>\n",
       "    </tr>\n",
       "    <tr>\n",
       "      <th>93</th>\n",
       "      <td>2022</td>\n",
       "      <td>96</td>\n",
       "      <td>MISCELLANEOUS MANUFACTURED ARTICLES</td>\n",
       "      <td>37090979</td>\n",
       "      <td>396956665</td>\n",
       "      <td>434047644</td>\n",
       "      <td>2115999858</td>\n",
       "      <td>33705650</td>\n",
       "      <td>349119645</td>\n",
       "      <td>44236149</td>\n",
       "      <td>2945190</td>\n",
       "      <td>23005594</td>\n",
       "      <td>775907</td>\n",
       "      <td>33856232</td>\n",
       "      <td>353565430</td>\n",
       "      <td>44708280</td>\n",
       "    </tr>\n",
       "    <tr>\n",
       "      <th>94</th>\n",
       "      <td>2022</td>\n",
       "      <td>97</td>\n",
       "      <td>WORKS OF ART, COLLECTORS' PIECES AND ANTIQUES</td>\n",
       "      <td>716804</td>\n",
       "      <td>54906812</td>\n",
       "      <td>55623616</td>\n",
       "      <td>295981</td>\n",
       "      <td>207978</td>\n",
       "      <td>2428393</td>\n",
       "      <td>318700</td>\n",
       "      <td>496622</td>\n",
       "      <td>50957960</td>\n",
       "      <td>64155</td>\n",
       "      <td>218639</td>\n",
       "      <td>3022787</td>\n",
       "      <td>324626</td>\n",
       "    </tr>\n",
       "    <tr>\n",
       "      <th>95</th>\n",
       "      <td>2022</td>\n",
       "      <td>98</td>\n",
       "      <td>SPECIAL CLASSIFICATION PROVISIONS, NESOI</td>\n",
       "      <td>20347669</td>\n",
       "      <td>1097283438</td>\n",
       "      <td>1117631107</td>\n",
       "      <td>168826062</td>\n",
       "      <td>10387284</td>\n",
       "      <td>180277782</td>\n",
       "      <td>22613629</td>\n",
       "      <td>8969472</td>\n",
       "      <td>836439459</td>\n",
       "      <td>3086131</td>\n",
       "      <td>10583652</td>\n",
       "      <td>187447236</td>\n",
       "      <td>23216666</td>\n",
       "    </tr>\n",
       "    <tr>\n",
       "      <th>96</th>\n",
       "      <td>2022</td>\n",
       "      <td>99</td>\n",
       "      <td>SPECIAL IMPORT REPORTING PROVISIONS, NESOI</td>\n",
       "      <td>0</td>\n",
       "      <td>1110417543</td>\n",
       "      <td>1110417543</td>\n",
       "      <td>0</td>\n",
       "      <td>0</td>\n",
       "      <td>0</td>\n",
       "      <td>0</td>\n",
       "      <td>0</td>\n",
       "      <td>0</td>\n",
       "      <td>0</td>\n",
       "      <td>0</td>\n",
       "      <td>0</td>\n",
       "      <td>0</td>\n",
       "    </tr>\n",
       "  </tbody>\n",
       "</table>\n",
       "<p>97 rows × 16 columns</p>\n",
       "</div>"
      ],
      "text/plain": [
       "    YEAR HS2                                    HS2 Description  GEN_CHA_MO  \\\n",
       "0   2022  01                                       LIVE ANIMALS       10827   \n",
       "1   2022  03  FISH AND CRUSTACEANS, MOLLUSCS AND OTHER AQUAT...   180443782   \n",
       "2   2022  04  DAIRY PRODUCE; BIRDS' EGGS; NATURAL HONEY; EDI...    26836466   \n",
       "3   2022  05                   PRODUCTS OF ANIMAL ORIGIN, NESOI     3365910   \n",
       "4   2022  06  LIVE TREES AND OTHER PLANTS; BULBS, ROOTS AND ...     6655013   \n",
       "..   ...  ..                                                ...         ...   \n",
       "92  2022  95  TOYS, GAMES AND SPORTS EQUIPMENT; PARTS AND AC...    69674978   \n",
       "93  2022  96                MISCELLANEOUS MANUFACTURED ARTICLES    37090979   \n",
       "94  2022  97      WORKS OF ART, COLLECTORS' PIECES AND ANTIQUES      716804   \n",
       "95  2022  98           SPECIAL CLASSIFICATION PROVISIONS, NESOI    20347669   \n",
       "96  2022  99         SPECIAL IMPORT REPORTING PROVISIONS, NESOI           0   \n",
       "\n",
       "    GEN_VAL_MO  GEN_CIF_MO  GEN_QY1_MO  CNT_CHA_MO  CNT_VAL_MO  CNT_WGT_MO  \\\n",
       "0        20630       31457          35         529        7130         300   \n",
       "1   2133407461  2313851243   244503571   179268336  2123459915   291191781   \n",
       "2    220996932   247833398    84690027    26822617   220805967    96180757   \n",
       "3     19101435    22467345     3706231     3245722    17478578     3814302   \n",
       "4     37573158    44228171    59790047     3094489    15284292     3398721   \n",
       "..         ...         ...         ...         ...         ...         ...   \n",
       "92   679102383   748777361   238587867    63150850   606688669    96855264   \n",
       "93   396956665   434047644  2115999858    33705650   349119645    44236149   \n",
       "94    54906812    55623616      295981      207978     2428393      318700   \n",
       "95  1097283438  1117631107   168826062    10387284   180277782    22613629   \n",
       "96  1110417543  1110417543           0           0           0           0   \n",
       "\n",
       "    AIR_CHA_MO  AIR_VAL_MO  AIR_WGT_MO  VES_CHA_MO  VES_VAL_MO  VES_WGT_MO  \n",
       "0        10298       13500          66         529        7130         300  \n",
       "1       360670      636681       43004   179738255  2127367160   291810481  \n",
       "2        12049      156583        4718    26823917   220818921    96182105  \n",
       "3        72665      738807       19454     3292440    17810742     3875040  \n",
       "4      3332218    13968370      918485     3270263    16009931     3511768  \n",
       "..         ...         ...         ...         ...         ...         ...  \n",
       "92     5603885    59001123     2792336    63748454   611998024    97366030  \n",
       "93     2945190    23005594      775907    33856232   353565430    44708280  \n",
       "94      496622    50957960       64155      218639     3022787      324626  \n",
       "95     8969472   836439459     3086131    10583652   187447236    23216666  \n",
       "96           0           0           0           0           0           0  \n",
       "\n",
       "[97 rows x 16 columns]"
      ]
     },
     "execution_count": 41,
     "metadata": {},
     "output_type": "execute_result"
    },
    {
     "name": "stdout",
     "output_type": "stream",
     "text": [
      "time: 4.99 s (started: 2023-01-21 00:56:53 -05:00)\n"
     ]
    }
   ],
   "source": [
    "hscydtINDDf = hscydtDf[hscydtDf['CTY_NAME']=='INDIA']\n",
    "intCols = ['GEN_CHA_MO', 'GEN_VAL_MO', 'GEN_CIF_MO',\n",
    "       'GEN_QY1_MO', 'CNT_CHA_MO', 'CNT_VAL_MO',\n",
    "       'CNT_WGT_MO', 'AIR_CHA_MO', 'AIR_VAL_MO', 'AIR_WGT_MO', 'VES_CHA_MO',\n",
    "       'VES_VAL_MO', 'VES_WGT_MO']\n",
    "masterhsdf = hscydtINDDf.merge(hs4Descriptions,how='left')\\\n",
    "    .merge(commodityTranslator[['HS10',\"description_long\",\"description_short\",'naics']].drop_duplicates(),how='left')\n",
    "masterhsdf[intCols] = masterhsdf[intCols].astype(int)\n",
    "\n",
    "# intCols = ['GEN_VAL_MO','CNT_VAL_MO','AIR_VAL_MO','CAL_DUT_MO','CNT_WGT_MO','AIR_WGT_MO']\n",
    "# masterhsdf[intCols] = masterhsdf[intCols].astype(int)\n",
    "hs2Summary = masterhsdf.groupby(['YEAR','HS2','HS2 Description'])[intCols].sum().reset_index()\n",
    "hs2Summary.sort_values('YEAR',ascending=True)\n",
    "hs2Summary.columns\n",
    "\n",
    "# hs2Summary['Year'] = hs2Summary['YearMonth'].apply(lambda x:x.split('-')[0])\n",
    "hs2SummaryYR = hs2Summary.groupby(['YEAR','HS2','HS2 Description'])[intCols].sum().reset_index()\n",
    "hs2SummaryYR"
   ]
  },
  {
   "cell_type": "code",
   "execution_count": 15,
   "metadata": {},
   "outputs": [
    {
     "data": {
      "application/vnd.plotly.v1+json": {
       "config": {
        "plotlyServerURL": "https://plot.ly"
       },
       "data": [
        {
         "alignmentgroup": "True",
         "hovertemplate": "HS2 Description=FISH AND CRUSTACEANS, MOLLUSCS AND OTHER AQUATIC INVERTEBRATES<br>YearMonth=%{x}<br>GEN_VAL_MO=%{y}<extra></extra>",
         "legendgroup": "FISH AND CRUSTACEANS, MOLLUSCS AND OTHER AQUATIC INVERTEBRATES",
         "marker": {
          "color": "#636efa",
          "pattern": {
           "shape": ""
          }
         },
         "name": "FISH AND CRUSTACEANS, MOLLUSCS AND OTHER AQUATIC INVERTEBRATES",
         "offsetgroup": "FISH AND CRUSTACEANS, MOLLUSCS AND OTHER AQUATIC INVERTEBRATES",
         "orientation": "v",
         "showlegend": true,
         "textposition": "auto",
         "type": "bar",
         "x": [
          "2022-01",
          "2022-02",
          "2022-03",
          "2022-04",
          "2022-05",
          "2022-06",
          "2022-07",
          "2022-08",
          "2022-09",
          "2022-10",
          "2022-11"
         ],
         "xaxis": "x",
         "y": [
          243166002,
          186310795,
          193444209,
          159750167,
          193407126,
          231457789,
          172590803,
          209182301,
          195282323,
          192161760,
          156654186
         ],
         "yaxis": "y"
        },
        {
         "alignmentgroup": "True",
         "hovertemplate": "HS2 Description=DAIRY PRODUCE; BIRDS' EGGS; NATURAL HONEY; EDIBLE PRODUCTS OF ANIMAL ORIGIN, NESOI<br>YearMonth=%{x}<br>GEN_VAL_MO=%{y}<extra></extra>",
         "legendgroup": "DAIRY PRODUCE; BIRDS' EGGS; NATURAL HONEY; EDIBLE PRODUCTS OF ANIMAL ORIGIN, NESOI",
         "marker": {
          "color": "#EF553B",
          "pattern": {
           "shape": ""
          }
         },
         "name": "DAIRY PRODUCE; BIRDS' EGGS; NATURAL HONEY; EDIBLE PRODUCTS OF ANIMAL ORIGIN, NESOI",
         "offsetgroup": "DAIRY PRODUCE; BIRDS' EGGS; NATURAL HONEY; EDIBLE PRODUCTS OF ANIMAL ORIGIN, NESOI",
         "orientation": "v",
         "showlegend": true,
         "textposition": "auto",
         "type": "bar",
         "x": [
          "2022-01",
          "2022-02",
          "2022-03",
          "2022-04",
          "2022-05",
          "2022-06",
          "2022-07",
          "2022-08",
          "2022-09",
          "2022-10",
          "2022-11"
         ],
         "xaxis": "x",
         "y": [
          5486612,
          7738242,
          17869577,
          30729207,
          21696786,
          17051855,
          24982173,
          20598234,
          28917298,
          32693005,
          13233943
         ],
         "yaxis": "y"
        },
        {
         "alignmentgroup": "True",
         "hovertemplate": "HS2 Description=PRODUCTS OF ANIMAL ORIGIN, NESOI<br>YearMonth=%{x}<br>GEN_VAL_MO=%{y}<extra></extra>",
         "legendgroup": "PRODUCTS OF ANIMAL ORIGIN, NESOI",
         "marker": {
          "color": "#00cc96",
          "pattern": {
           "shape": ""
          }
         },
         "name": "PRODUCTS OF ANIMAL ORIGIN, NESOI",
         "offsetgroup": "PRODUCTS OF ANIMAL ORIGIN, NESOI",
         "orientation": "v",
         "showlegend": true,
         "textposition": "auto",
         "type": "bar",
         "x": [
          "2022-01",
          "2022-02",
          "2022-03",
          "2022-04",
          "2022-05",
          "2022-06",
          "2022-07",
          "2022-08",
          "2022-09",
          "2022-10",
          "2022-11"
         ],
         "xaxis": "x",
         "y": [
          1743183,
          2524093,
          1716975,
          2220434,
          1952778,
          1109166,
          2376272,
          1266847,
          1727852,
          1488511,
          975324
         ],
         "yaxis": "y"
        },
        {
         "alignmentgroup": "True",
         "hovertemplate": "HS2 Description=LIVE TREES AND OTHER PLANTS; BULBS, ROOTS AND THE LIKE; CUT FLOWERS AND ORNAMENTAL FOLIAGE<br>YearMonth=%{x}<br>GEN_VAL_MO=%{y}<extra></extra>",
         "legendgroup": "LIVE TREES AND OTHER PLANTS; BULBS, ROOTS AND THE LIKE; CUT FLOWERS AND ORNAMENTAL FOLIAGE",
         "marker": {
          "color": "#ab63fa",
          "pattern": {
           "shape": ""
          }
         },
         "name": "LIVE TREES AND OTHER PLANTS; BULBS, ROOTS AND THE LIKE; CUT FLOWERS AND ORNAMENTAL FOLIAGE",
         "offsetgroup": "LIVE TREES AND OTHER PLANTS; BULBS, ROOTS AND THE LIKE; CUT FLOWERS AND ORNAMENTAL FOLIAGE",
         "orientation": "v",
         "showlegend": true,
         "textposition": "auto",
         "type": "bar",
         "x": [
          "2022-01",
          "2022-02",
          "2022-03",
          "2022-04",
          "2022-05",
          "2022-06",
          "2022-07",
          "2022-08",
          "2022-09",
          "2022-10",
          "2022-11"
         ],
         "xaxis": "x",
         "y": [
          4363250,
          2798636,
          3744787,
          3617497,
          3507535,
          3835646,
          3478755,
          4478462,
          2146779,
          2935590,
          2666221
         ],
         "yaxis": "y"
        },
        {
         "alignmentgroup": "True",
         "hovertemplate": "HS2 Description=EDIBLE VEGETABLES AND CERTAIN ROOTS AND TUBERS<br>YearMonth=%{x}<br>GEN_VAL_MO=%{y}<extra></extra>",
         "legendgroup": "EDIBLE VEGETABLES AND CERTAIN ROOTS AND TUBERS",
         "marker": {
          "color": "#FFA15A",
          "pattern": {
           "shape": ""
          }
         },
         "name": "EDIBLE VEGETABLES AND CERTAIN ROOTS AND TUBERS",
         "offsetgroup": "EDIBLE VEGETABLES AND CERTAIN ROOTS AND TUBERS",
         "orientation": "v",
         "showlegend": true,
         "textposition": "auto",
         "type": "bar",
         "x": [
          "2022-01",
          "2022-02",
          "2022-03",
          "2022-04",
          "2022-05",
          "2022-06",
          "2022-07",
          "2022-08",
          "2022-09",
          "2022-10",
          "2022-11"
         ],
         "xaxis": "x",
         "y": [
          11164710,
          12422039,
          16060005,
          12205601,
          17427604,
          17051057,
          15247893,
          13431044,
          20526754,
          22274706,
          14132339
         ],
         "yaxis": "y"
        },
        {
         "alignmentgroup": "True",
         "hovertemplate": "HS2 Description=EDIBLE FRUIT AND NUTS; PEEL OF CITRUS FRUIT OR MELONS<br>YearMonth=%{x}<br>GEN_VAL_MO=%{y}<extra></extra>",
         "legendgroup": "EDIBLE FRUIT AND NUTS; PEEL OF CITRUS FRUIT OR MELONS",
         "marker": {
          "color": "#19d3f3",
          "pattern": {
           "shape": ""
          }
         },
         "name": "EDIBLE FRUIT AND NUTS; PEEL OF CITRUS FRUIT OR MELONS",
         "offsetgroup": "EDIBLE FRUIT AND NUTS; PEEL OF CITRUS FRUIT OR MELONS",
         "orientation": "v",
         "showlegend": true,
         "textposition": "auto",
         "type": "bar",
         "x": [
          "2022-01",
          "2022-02",
          "2022-03",
          "2022-04",
          "2022-05",
          "2022-06",
          "2022-07",
          "2022-08",
          "2022-09",
          "2022-10",
          "2022-11"
         ],
         "xaxis": "x",
         "y": [
          8948153,
          3783334,
          9064368,
          8102433,
          12305517,
          5564015,
          4217901,
          5640166,
          7850770,
          4169235,
          4066304
         ],
         "yaxis": "y"
        },
        {
         "alignmentgroup": "True",
         "hovertemplate": "HS2 Description=COFFEE, TEA, MATE AND SPICES<br>YearMonth=%{x}<br>GEN_VAL_MO=%{y}<extra></extra>",
         "legendgroup": "COFFEE, TEA, MATE AND SPICES",
         "marker": {
          "color": "#FF6692",
          "pattern": {
           "shape": ""
          }
         },
         "name": "COFFEE, TEA, MATE AND SPICES",
         "offsetgroup": "COFFEE, TEA, MATE AND SPICES",
         "orientation": "v",
         "showlegend": true,
         "textposition": "auto",
         "type": "bar",
         "x": [
          "2022-01",
          "2022-02",
          "2022-03",
          "2022-04",
          "2022-05",
          "2022-06",
          "2022-07",
          "2022-08",
          "2022-09",
          "2022-10",
          "2022-11"
         ],
         "xaxis": "x",
         "y": [
          45150989,
          31319969,
          48548020,
          46077802,
          57764129,
          47408398,
          46927696,
          42958880,
          51293997,
          51008986,
          39693174
         ],
         "yaxis": "y"
        },
        {
         "alignmentgroup": "True",
         "hovertemplate": "HS2 Description=CEREALS<br>YearMonth=%{x}<br>GEN_VAL_MO=%{y}<extra></extra>",
         "legendgroup": "CEREALS",
         "marker": {
          "color": "#B6E880",
          "pattern": {
           "shape": ""
          }
         },
         "name": "CEREALS",
         "offsetgroup": "CEREALS",
         "orientation": "v",
         "showlegend": true,
         "textposition": "auto",
         "type": "bar",
         "x": [
          "2022-01",
          "2022-02",
          "2022-03",
          "2022-04",
          "2022-05",
          "2022-06",
          "2022-07",
          "2022-08",
          "2022-09",
          "2022-10",
          "2022-11"
         ],
         "xaxis": "x",
         "y": [
          20909691,
          21234107,
          26554309,
          22098357,
          39431862,
          22760406,
          31300996,
          33940603,
          32970967,
          26989849,
          30169342
         ],
         "yaxis": "y"
        },
        {
         "alignmentgroup": "True",
         "hovertemplate": "HS2 Description=MILLING INDUSTRY PRODUCTS; MALT; STARCHES; INULIN; WHEAT GLUTEN<br>YearMonth=%{x}<br>GEN_VAL_MO=%{y}<extra></extra>",
         "legendgroup": "MILLING INDUSTRY PRODUCTS; MALT; STARCHES; INULIN; WHEAT GLUTEN",
         "marker": {
          "color": "#FF97FF",
          "pattern": {
           "shape": ""
          }
         },
         "name": "MILLING INDUSTRY PRODUCTS; MALT; STARCHES; INULIN; WHEAT GLUTEN",
         "offsetgroup": "MILLING INDUSTRY PRODUCTS; MALT; STARCHES; INULIN; WHEAT GLUTEN",
         "orientation": "v",
         "showlegend": true,
         "textposition": "auto",
         "type": "bar",
         "x": [
          "2022-01",
          "2022-02",
          "2022-03",
          "2022-04",
          "2022-05",
          "2022-06",
          "2022-07",
          "2022-08",
          "2022-09",
          "2022-10",
          "2022-11"
         ],
         "xaxis": "x",
         "y": [
          8351626,
          9475564,
          10705154,
          10672238,
          12922191,
          9736713,
          13175342,
          10997488,
          8489801,
          6578433,
          14340788
         ],
         "yaxis": "y"
        },
        {
         "alignmentgroup": "True",
         "hovertemplate": "HS2 Description=OIL SEEDS AND OLEAGINOUS FRUITS; MISCELLANEOUS GRAINS, SEEDS AND FRUITS; INDUSTRIAL OR MEDICINAL PLANTS; STRAW AND FODDER<br>YearMonth=%{x}<br>GEN_VAL_MO=%{y}<extra></extra>",
         "legendgroup": "OIL SEEDS AND OLEAGINOUS FRUITS; MISCELLANEOUS GRAINS, SEEDS AND FRUITS; INDUSTRIAL OR MEDICINAL PLANTS; STRAW AND FODDER",
         "marker": {
          "color": "#FECB52",
          "pattern": {
           "shape": ""
          }
         },
         "name": "OIL SEEDS AND OLEAGINOUS FRUITS; MISCELLANEOUS GRAINS, SEEDS AND FRUITS; INDUSTRIAL OR MEDICINAL PLANTS; STRAW AND FODDER",
         "offsetgroup": "OIL SEEDS AND OLEAGINOUS FRUITS; MISCELLANEOUS GRAINS, SEEDS AND FRUITS; INDUSTRIAL OR MEDICINAL PLANTS; STRAW AND FODDER",
         "orientation": "v",
         "showlegend": true,
         "textposition": "auto",
         "type": "bar",
         "x": [
          "2022-01",
          "2022-02",
          "2022-03",
          "2022-04",
          "2022-05",
          "2022-06",
          "2022-07",
          "2022-08",
          "2022-09",
          "2022-10",
          "2022-11"
         ],
         "xaxis": "x",
         "y": [
          26894660,
          18334861,
          40590368,
          38061121,
          29949530,
          26230485,
          31758563,
          36964709,
          37641263,
          26484968,
          30279695
         ],
         "yaxis": "y"
        },
        {
         "alignmentgroup": "True",
         "hovertemplate": "HS2 Description=LAC; GUMS; RESINS AND OTHER VEGETABLE SAPS AND EXTRACTS<br>YearMonth=%{x}<br>GEN_VAL_MO=%{y}<extra></extra>",
         "legendgroup": "LAC; GUMS; RESINS AND OTHER VEGETABLE SAPS AND EXTRACTS",
         "marker": {
          "color": "#636efa",
          "pattern": {
           "shape": ""
          }
         },
         "name": "LAC; GUMS; RESINS AND OTHER VEGETABLE SAPS AND EXTRACTS",
         "offsetgroup": "LAC; GUMS; RESINS AND OTHER VEGETABLE SAPS AND EXTRACTS",
         "orientation": "v",
         "showlegend": true,
         "textposition": "auto",
         "type": "bar",
         "x": [
          "2022-01",
          "2022-02",
          "2022-03",
          "2022-04",
          "2022-05",
          "2022-06",
          "2022-07",
          "2022-08",
          "2022-09",
          "2022-10",
          "2022-11"
         ],
         "xaxis": "x",
         "y": [
          62471308,
          53862640,
          66797824,
          70432863,
          66318622,
          53805877,
          77114094,
          48096290,
          58230761,
          66861248,
          50320407
         ],
         "yaxis": "y"
        },
        {
         "alignmentgroup": "True",
         "hovertemplate": "HS2 Description=VEGETABLE PLAITING MATERIALS AND VEGETABLE PRODUCTS, NESOI<br>YearMonth=%{x}<br>GEN_VAL_MO=%{y}<extra></extra>",
         "legendgroup": "VEGETABLE PLAITING MATERIALS AND VEGETABLE PRODUCTS, NESOI",
         "marker": {
          "color": "#EF553B",
          "pattern": {
           "shape": ""
          }
         },
         "name": "VEGETABLE PLAITING MATERIALS AND VEGETABLE PRODUCTS, NESOI",
         "offsetgroup": "VEGETABLE PLAITING MATERIALS AND VEGETABLE PRODUCTS, NESOI",
         "orientation": "v",
         "showlegend": true,
         "textposition": "auto",
         "type": "bar",
         "x": [
          "2022-01",
          "2022-02",
          "2022-03",
          "2022-04",
          "2022-05",
          "2022-06",
          "2022-07",
          "2022-08",
          "2022-09",
          "2022-10",
          "2022-11"
         ],
         "xaxis": "x",
         "y": [
          1630737,
          1214153,
          1928829,
          2642153,
          3372995,
          2555317,
          1793908,
          1274943,
          1495647,
          1678842,
          843888
         ],
         "yaxis": "y"
        },
        {
         "alignmentgroup": "True",
         "hovertemplate": "HS2 Description=ANIMAL OR VEGETABLE FATS AND OILS AND THEIR CLEAVAGE PRODUCTS; PREPARED EDIBLE FATS; ANIMAL OR VEGETABLE WAXES<br>YearMonth=%{x}<br>GEN_VAL_MO=%{y}<extra></extra>",
         "legendgroup": "ANIMAL OR VEGETABLE FATS AND OILS AND THEIR CLEAVAGE PRODUCTS; PREPARED EDIBLE FATS; ANIMAL OR VEGETABLE WAXES",
         "marker": {
          "color": "#00cc96",
          "pattern": {
           "shape": ""
          }
         },
         "name": "ANIMAL OR VEGETABLE FATS AND OILS AND THEIR CLEAVAGE PRODUCTS; PREPARED EDIBLE FATS; ANIMAL OR VEGETABLE WAXES",
         "offsetgroup": "ANIMAL OR VEGETABLE FATS AND OILS AND THEIR CLEAVAGE PRODUCTS; PREPARED EDIBLE FATS; ANIMAL OR VEGETABLE WAXES",
         "orientation": "v",
         "showlegend": true,
         "textposition": "auto",
         "type": "bar",
         "x": [
          "2022-01",
          "2022-02",
          "2022-03",
          "2022-04",
          "2022-05",
          "2022-06",
          "2022-07",
          "2022-08",
          "2022-09",
          "2022-10",
          "2022-11"
         ],
         "xaxis": "x",
         "y": [
          44492214,
          14817663,
          61466564,
          106147480,
          67390265,
          59822823,
          103995993,
          40151567,
          58891513,
          91432153,
          34067191
         ],
         "yaxis": "y"
        },
        {
         "alignmentgroup": "True",
         "hovertemplate": "HS2 Description=EDIBLE PREPARATIONS OF MEAT, FISH, CRUSTACEANS, MOLLUSCS OR OTHER AQUATIC INVERTEBRATES<br>YearMonth=%{x}<br>GEN_VAL_MO=%{y}<extra></extra>",
         "legendgroup": "EDIBLE PREPARATIONS OF MEAT, FISH, CRUSTACEANS, MOLLUSCS OR OTHER AQUATIC INVERTEBRATES",
         "marker": {
          "color": "#ab63fa",
          "pattern": {
           "shape": ""
          }
         },
         "name": "EDIBLE PREPARATIONS OF MEAT, FISH, CRUSTACEANS, MOLLUSCS OR OTHER AQUATIC INVERTEBRATES",
         "offsetgroup": "EDIBLE PREPARATIONS OF MEAT, FISH, CRUSTACEANS, MOLLUSCS OR OTHER AQUATIC INVERTEBRATES",
         "orientation": "v",
         "showlegend": true,
         "textposition": "auto",
         "type": "bar",
         "x": [
          "2022-01",
          "2022-02",
          "2022-03",
          "2022-04",
          "2022-05",
          "2022-06",
          "2022-07",
          "2022-08",
          "2022-09",
          "2022-10",
          "2022-11"
         ],
         "xaxis": "x",
         "y": [
          76174973,
          70287347,
          91392698,
          82624057,
          93396678,
          102165812,
          70520000,
          84781444,
          72132186,
          69883547,
          61675968
         ],
         "yaxis": "y"
        },
        {
         "alignmentgroup": "True",
         "hovertemplate": "HS2 Description=SUGARS AND SUGAR CONFECTIONERY<br>YearMonth=%{x}<br>GEN_VAL_MO=%{y}<extra></extra>",
         "legendgroup": "SUGARS AND SUGAR CONFECTIONERY",
         "marker": {
          "color": "#FFA15A",
          "pattern": {
           "shape": ""
          }
         },
         "name": "SUGARS AND SUGAR CONFECTIONERY",
         "offsetgroup": "SUGARS AND SUGAR CONFECTIONERY",
         "orientation": "v",
         "showlegend": true,
         "textposition": "auto",
         "type": "bar",
         "x": [
          "2022-01",
          "2022-02",
          "2022-03",
          "2022-04",
          "2022-05",
          "2022-06",
          "2022-07",
          "2022-08",
          "2022-09",
          "2022-10",
          "2022-11"
         ],
         "xaxis": "x",
         "y": [
          3749075,
          2534795,
          4265797,
          3708800,
          11023381,
          5502059,
          6777421,
          4526781,
          5321154,
          3651149,
          5794529
         ],
         "yaxis": "y"
        },
        {
         "alignmentgroup": "True",
         "hovertemplate": "HS2 Description=COCOA AND COCOA PREPARATIONS<br>YearMonth=%{x}<br>GEN_VAL_MO=%{y}<extra></extra>",
         "legendgroup": "COCOA AND COCOA PREPARATIONS",
         "marker": {
          "color": "#19d3f3",
          "pattern": {
           "shape": ""
          }
         },
         "name": "COCOA AND COCOA PREPARATIONS",
         "offsetgroup": "COCOA AND COCOA PREPARATIONS",
         "orientation": "v",
         "showlegend": true,
         "textposition": "auto",
         "type": "bar",
         "x": [
          "2022-01",
          "2022-02",
          "2022-03",
          "2022-04",
          "2022-05",
          "2022-06",
          "2022-07",
          "2022-08",
          "2022-09",
          "2022-10",
          "2022-11"
         ],
         "xaxis": "x",
         "y": [
          12398158,
          1333299,
          5591812,
          6585312,
          8820522,
          3564672,
          6547152,
          10825542,
          11245830,
          4477739,
          9172223
         ],
         "yaxis": "y"
        },
        {
         "alignmentgroup": "True",
         "hovertemplate": "HS2 Description=PREPARATIONS OF CEREALS, FLOUR, STARCH OR MILK; BAKERS' WARES<br>YearMonth=%{x}<br>GEN_VAL_MO=%{y}<extra></extra>",
         "legendgroup": "PREPARATIONS OF CEREALS, FLOUR, STARCH OR MILK; BAKERS' WARES",
         "marker": {
          "color": "#FF6692",
          "pattern": {
           "shape": ""
          }
         },
         "name": "PREPARATIONS OF CEREALS, FLOUR, STARCH OR MILK; BAKERS' WARES",
         "offsetgroup": "PREPARATIONS OF CEREALS, FLOUR, STARCH OR MILK; BAKERS' WARES",
         "orientation": "v",
         "showlegend": true,
         "textposition": "auto",
         "type": "bar",
         "x": [
          "2022-01",
          "2022-02",
          "2022-03",
          "2022-04",
          "2022-05",
          "2022-06",
          "2022-07",
          "2022-08",
          "2022-09",
          "2022-10",
          "2022-11"
         ],
         "xaxis": "x",
         "y": [
          31719851,
          29643734,
          41069095,
          40674354,
          43075034,
          41140587,
          40188070,
          38134521,
          51922600,
          45939998,
          42512048
         ],
         "yaxis": "y"
        },
        {
         "alignmentgroup": "True",
         "hovertemplate": "HS2 Description=PREPARATIONS OF VEGETABLES, FRUIT, NUTS, OR OTHER PARTS OF PLANTS<br>YearMonth=%{x}<br>GEN_VAL_MO=%{y}<extra></extra>",
         "legendgroup": "PREPARATIONS OF VEGETABLES, FRUIT, NUTS, OR OTHER PARTS OF PLANTS",
         "marker": {
          "color": "#B6E880",
          "pattern": {
           "shape": ""
          }
         },
         "name": "PREPARATIONS OF VEGETABLES, FRUIT, NUTS, OR OTHER PARTS OF PLANTS",
         "offsetgroup": "PREPARATIONS OF VEGETABLES, FRUIT, NUTS, OR OTHER PARTS OF PLANTS",
         "orientation": "v",
         "showlegend": true,
         "textposition": "auto",
         "type": "bar",
         "x": [
          "2022-01",
          "2022-02",
          "2022-03",
          "2022-04",
          "2022-05",
          "2022-06",
          "2022-07",
          "2022-08",
          "2022-09",
          "2022-10",
          "2022-11"
         ],
         "xaxis": "x",
         "y": [
          23682887,
          19800990,
          33606338,
          28988593,
          25695237,
          21156235,
          18554171,
          21218603,
          32744604,
          33146997,
          24172796
         ],
         "yaxis": "y"
        },
        {
         "alignmentgroup": "True",
         "hovertemplate": "HS2 Description=MISCELLANEOUS EDIBLE PREPARATIONS<br>YearMonth=%{x}<br>GEN_VAL_MO=%{y}<extra></extra>",
         "legendgroup": "MISCELLANEOUS EDIBLE PREPARATIONS",
         "marker": {
          "color": "#FF97FF",
          "pattern": {
           "shape": ""
          }
         },
         "name": "MISCELLANEOUS EDIBLE PREPARATIONS",
         "offsetgroup": "MISCELLANEOUS EDIBLE PREPARATIONS",
         "orientation": "v",
         "showlegend": true,
         "textposition": "auto",
         "type": "bar",
         "x": [
          "2022-01",
          "2022-02",
          "2022-03",
          "2022-04",
          "2022-05",
          "2022-06",
          "2022-07",
          "2022-08",
          "2022-09",
          "2022-10",
          "2022-11"
         ],
         "xaxis": "x",
         "y": [
          24234646,
          27144877,
          34346192,
          32514047,
          48341315,
          24777833,
          35794112,
          29013018,
          31905267,
          33306465,
          27277936
         ],
         "yaxis": "y"
        },
        {
         "alignmentgroup": "True",
         "hovertemplate": "HS2 Description=BEVERAGES, SPIRITS AND VINEGAR<br>YearMonth=%{x}<br>GEN_VAL_MO=%{y}<extra></extra>",
         "legendgroup": "BEVERAGES, SPIRITS AND VINEGAR",
         "marker": {
          "color": "#FECB52",
          "pattern": {
           "shape": ""
          }
         },
         "name": "BEVERAGES, SPIRITS AND VINEGAR",
         "offsetgroup": "BEVERAGES, SPIRITS AND VINEGAR",
         "orientation": "v",
         "showlegend": true,
         "textposition": "auto",
         "type": "bar",
         "x": [
          "2022-01",
          "2022-02",
          "2022-03",
          "2022-04",
          "2022-05",
          "2022-06",
          "2022-07",
          "2022-08",
          "2022-09",
          "2022-10",
          "2022-11"
         ],
         "xaxis": "x",
         "y": [
          2249190,
          1473353,
          2078764,
          2526070,
          2169520,
          2370407,
          2001748,
          2211107,
          1205779,
          1767936,
          2813169
         ],
         "yaxis": "y"
        },
        {
         "alignmentgroup": "True",
         "hovertemplate": "HS2 Description=RESIDUES AND WASTE FROM THE FOOD INDUSTRIES; PREPARED ANIMAL FEED<br>YearMonth=%{x}<br>GEN_VAL_MO=%{y}<extra></extra>",
         "legendgroup": "RESIDUES AND WASTE FROM THE FOOD INDUSTRIES; PREPARED ANIMAL FEED",
         "marker": {
          "color": "#636efa",
          "pattern": {
           "shape": ""
          }
         },
         "name": "RESIDUES AND WASTE FROM THE FOOD INDUSTRIES; PREPARED ANIMAL FEED",
         "offsetgroup": "RESIDUES AND WASTE FROM THE FOOD INDUSTRIES; PREPARED ANIMAL FEED",
         "orientation": "v",
         "showlegend": true,
         "textposition": "auto",
         "type": "bar",
         "x": [
          "2022-01",
          "2022-02",
          "2022-03",
          "2022-04",
          "2022-05",
          "2022-06",
          "2022-07",
          "2022-08",
          "2022-09",
          "2022-10",
          "2022-11"
         ],
         "xaxis": "x",
         "y": [
          12920389,
          12768807,
          31917069,
          54916616,
          17539609,
          36803098,
          9133462,
          22613722,
          77326526,
          22368615,
          77526830
         ],
         "yaxis": "y"
        },
        {
         "alignmentgroup": "True",
         "hovertemplate": "HS2 Description=TOBACCO AND MANUFACTURED TOBACCO SUBSTITUTES<br>YearMonth=%{x}<br>GEN_VAL_MO=%{y}<extra></extra>",
         "legendgroup": "TOBACCO AND MANUFACTURED TOBACCO SUBSTITUTES",
         "marker": {
          "color": "#EF553B",
          "pattern": {
           "shape": ""
          }
         },
         "name": "TOBACCO AND MANUFACTURED TOBACCO SUBSTITUTES",
         "offsetgroup": "TOBACCO AND MANUFACTURED TOBACCO SUBSTITUTES",
         "orientation": "v",
         "showlegend": true,
         "textposition": "auto",
         "type": "bar",
         "x": [
          "2022-01",
          "2022-02",
          "2022-03",
          "2022-04",
          "2022-05",
          "2022-06",
          "2022-07",
          "2022-08",
          "2022-09",
          "2022-10",
          "2022-11"
         ],
         "xaxis": "x",
         "y": [
          4998238,
          2539606,
          6393653,
          6799243,
          3821756,
          6656216,
          7865074,
          9254563,
          6646928,
          4752325,
          5789991
         ],
         "yaxis": "y"
        },
        {
         "alignmentgroup": "True",
         "hovertemplate": "HS2 Description=SALT; SULFUR; EARTHS AND STONE; PLASTERING MATERIALS, LIME AND CEMENT<br>YearMonth=%{x}<br>GEN_VAL_MO=%{y}<extra></extra>",
         "legendgroup": "SALT; SULFUR; EARTHS AND STONE; PLASTERING MATERIALS, LIME AND CEMENT",
         "marker": {
          "color": "#00cc96",
          "pattern": {
           "shape": ""
          }
         },
         "name": "SALT; SULFUR; EARTHS AND STONE; PLASTERING MATERIALS, LIME AND CEMENT",
         "offsetgroup": "SALT; SULFUR; EARTHS AND STONE; PLASTERING MATERIALS, LIME AND CEMENT",
         "orientation": "v",
         "showlegend": true,
         "textposition": "auto",
         "type": "bar",
         "x": [
          "2022-01",
          "2022-02",
          "2022-03",
          "2022-04",
          "2022-05",
          "2022-06",
          "2022-07",
          "2022-08",
          "2022-09",
          "2022-10",
          "2022-11"
         ],
         "xaxis": "x",
         "y": [
          30598437,
          14682214,
          27169363,
          21086870,
          17499519,
          20262748,
          23763896,
          21358355,
          25150279,
          15906163,
          15061936
         ],
         "yaxis": "y"
        },
        {
         "alignmentgroup": "True",
         "hovertemplate": "HS2 Description=ORES, SLAG AND ASH<br>YearMonth=%{x}<br>GEN_VAL_MO=%{y}<extra></extra>",
         "legendgroup": "ORES, SLAG AND ASH",
         "marker": {
          "color": "#ab63fa",
          "pattern": {
           "shape": ""
          }
         },
         "name": "ORES, SLAG AND ASH",
         "offsetgroup": "ORES, SLAG AND ASH",
         "orientation": "v",
         "showlegend": true,
         "textposition": "auto",
         "type": "bar",
         "x": [
          "2022-01",
          "2022-02",
          "2022-03",
          "2022-04",
          "2022-05",
          "2022-06",
          "2022-07",
          "2022-08",
          "2022-09",
          "2022-10",
          "2022-11"
         ],
         "xaxis": "x",
         "y": [
          280624,
          415484,
          295954,
          740982,
          483951,
          425220,
          618799,
          354753,
          226626,
          28300,
          126614
         ],
         "yaxis": "y"
        },
        {
         "alignmentgroup": "True",
         "hovertemplate": "HS2 Description=MINERAL FUELS, MINERAL OILS AND PRODUCTS OF THEIR DISTILLATION; BITUMINOUS SUBSTANCES; MINERAL WAXES<br>YearMonth=%{x}<br>GEN_VAL_MO=%{y}<extra></extra>",
         "legendgroup": "MINERAL FUELS, MINERAL OILS AND PRODUCTS OF THEIR DISTILLATION; BITUMINOUS SUBSTANCES; MINERAL WAXES",
         "marker": {
          "color": "#FFA15A",
          "pattern": {
           "shape": ""
          }
         },
         "name": "MINERAL FUELS, MINERAL OILS AND PRODUCTS OF THEIR DISTILLATION; BITUMINOUS SUBSTANCES; MINERAL WAXES",
         "offsetgroup": "MINERAL FUELS, MINERAL OILS AND PRODUCTS OF THEIR DISTILLATION; BITUMINOUS SUBSTANCES; MINERAL WAXES",
         "orientation": "v",
         "showlegend": true,
         "textposition": "auto",
         "type": "bar",
         "x": [
          "2022-01",
          "2022-02",
          "2022-03",
          "2022-04",
          "2022-05",
          "2022-06",
          "2022-07",
          "2022-08",
          "2022-09",
          "2022-10",
          "2022-11"
         ],
         "xaxis": "x",
         "y": [
          157921882,
          156468913,
          270145888,
          447148628,
          625726959,
          692252224,
          449774369,
          299958526,
          169452983,
          324202498,
          72115783
         ],
         "yaxis": "y"
        },
        {
         "alignmentgroup": "True",
         "hovertemplate": "HS2 Description=INORGANIC CHEMICALS; ORGANIC OR INORGANIC COMPOUNDS OF PRECIOUS METALS, OF RARE-EARTH METALS, OF RADIOACTIVE ELEMENTS OR OF ISOTOPES<br>YearMonth=%{x}<br>GEN_VAL_MO=%{y}<extra></extra>",
         "legendgroup": "INORGANIC CHEMICALS; ORGANIC OR INORGANIC COMPOUNDS OF PRECIOUS METALS, OF RARE-EARTH METALS, OF RADIOACTIVE ELEMENTS OR OF ISOTOPES",
         "marker": {
          "color": "#19d3f3",
          "pattern": {
           "shape": ""
          }
         },
         "name": "INORGANIC CHEMICALS; ORGANIC OR INORGANIC COMPOUNDS OF PRECIOUS METALS, OF RARE-EARTH METALS, OF RADIOACTIVE ELEMENTS OR OF ISOTOPES",
         "offsetgroup": "INORGANIC CHEMICALS; ORGANIC OR INORGANIC COMPOUNDS OF PRECIOUS METALS, OF RARE-EARTH METALS, OF RADIOACTIVE ELEMENTS OR OF ISOTOPES",
         "orientation": "v",
         "showlegend": true,
         "textposition": "auto",
         "type": "bar",
         "x": [
          "2022-01",
          "2022-02",
          "2022-03",
          "2022-04",
          "2022-05",
          "2022-06",
          "2022-07",
          "2022-08",
          "2022-09",
          "2022-10",
          "2022-11"
         ],
         "xaxis": "x",
         "y": [
          47516184,
          43866811,
          59250205,
          67653610,
          72796815,
          72710507,
          81680902,
          87708298,
          63360102,
          80024491,
          101381709
         ],
         "yaxis": "y"
        },
        {
         "alignmentgroup": "True",
         "hovertemplate": "HS2 Description=ORGANIC CHEMICALS<br>YearMonth=%{x}<br>GEN_VAL_MO=%{y}<extra></extra>",
         "legendgroup": "ORGANIC CHEMICALS",
         "marker": {
          "color": "#FF6692",
          "pattern": {
           "shape": ""
          }
         },
         "name": "ORGANIC CHEMICALS",
         "offsetgroup": "ORGANIC CHEMICALS",
         "orientation": "v",
         "showlegend": true,
         "textposition": "auto",
         "type": "bar",
         "x": [
          "2022-01",
          "2022-02",
          "2022-03",
          "2022-04",
          "2022-05",
          "2022-06",
          "2022-07",
          "2022-08",
          "2022-09",
          "2022-10",
          "2022-11"
         ],
         "xaxis": "x",
         "y": [
          637551118,
          514203584,
          556979979,
          612252106,
          670515116,
          551594364,
          653812501,
          583067400,
          651070931,
          768188856,
          600532795
         ],
         "yaxis": "y"
        },
        {
         "alignmentgroup": "True",
         "hovertemplate": "HS2 Description=PHARMACEUTICAL PRODUCTS<br>YearMonth=%{x}<br>GEN_VAL_MO=%{y}<extra></extra>",
         "legendgroup": "PHARMACEUTICAL PRODUCTS",
         "marker": {
          "color": "#B6E880",
          "pattern": {
           "shape": ""
          }
         },
         "name": "PHARMACEUTICAL PRODUCTS",
         "offsetgroup": "PHARMACEUTICAL PRODUCTS",
         "orientation": "v",
         "showlegend": true,
         "textposition": "auto",
         "type": "bar",
         "x": [
          "2022-01",
          "2022-02",
          "2022-03",
          "2022-04",
          "2022-05",
          "2022-06",
          "2022-07",
          "2022-08",
          "2022-09",
          "2022-10",
          "2022-11"
         ],
         "xaxis": "x",
         "y": [
          1150916582,
          798390647,
          873636783,
          922390462,
          1045229712,
          1130379583,
          923476630,
          1127566200,
          954500581,
          926582462,
          996772680
         ],
         "yaxis": "y"
        },
        {
         "alignmentgroup": "True",
         "hovertemplate": "HS2 Description=FERTILIZERS<br>YearMonth=%{x}<br>GEN_VAL_MO=%{y}<extra></extra>",
         "legendgroup": "FERTILIZERS",
         "marker": {
          "color": "#FF97FF",
          "pattern": {
           "shape": ""
          }
         },
         "name": "FERTILIZERS",
         "offsetgroup": "FERTILIZERS",
         "orientation": "v",
         "showlegend": true,
         "textposition": "auto",
         "type": "bar",
         "x": [
          "2022-01",
          "2022-02",
          "2022-03",
          "2022-04",
          "2022-05",
          "2022-06",
          "2022-07",
          "2022-08",
          "2022-09",
          "2022-10",
          "2022-11"
         ],
         "xaxis": "x",
         "y": [
          1755469,
          2228470,
          2050369,
          3245650,
          3579781,
          3769122,
          2542534,
          2591227,
          2245645,
          4203294,
          8116796
         ],
         "yaxis": "y"
        },
        {
         "alignmentgroup": "True",
         "hovertemplate": "HS2 Description=TANNING OR DYEING EXTRACTS; TANNINS AND DERIVATIVES; DYES, PIGMENTS AND OTHER COLORING MATTER; PAINTS AND VARNISHES; PUTTY AND OTHER MASTICS; INKS<br>YearMonth=%{x}<br>GEN_VAL_MO=%{y}<extra></extra>",
         "legendgroup": "TANNING OR DYEING EXTRACTS; TANNINS AND DERIVATIVES; DYES, PIGMENTS AND OTHER COLORING MATTER; PAINTS AND VARNISHES; PUTTY AND OTHER MASTICS; INKS",
         "marker": {
          "color": "#FECB52",
          "pattern": {
           "shape": ""
          }
         },
         "name": "TANNING OR DYEING EXTRACTS; TANNINS AND DERIVATIVES; DYES, PIGMENTS AND OTHER COLORING MATTER; PAINTS AND VARNISHES; PUTTY AND OTHER MASTICS; INKS",
         "offsetgroup": "TANNING OR DYEING EXTRACTS; TANNINS AND DERIVATIVES; DYES, PIGMENTS AND OTHER COLORING MATTER; PAINTS AND VARNISHES; PUTTY AND OTHER MASTICS; INKS",
         "orientation": "v",
         "showlegend": true,
         "textposition": "auto",
         "type": "bar",
         "x": [
          "2022-01",
          "2022-02",
          "2022-03",
          "2022-04",
          "2022-05",
          "2022-06",
          "2022-07",
          "2022-08",
          "2022-09",
          "2022-10",
          "2022-11"
         ],
         "xaxis": "x",
         "y": [
          77332395,
          78037966,
          85749376,
          120727241,
          119974460,
          102513066,
          99740748,
          98984160,
          96028914,
          85599318,
          82108643
         ],
         "yaxis": "y"
        },
        {
         "alignmentgroup": "True",
         "hovertemplate": "HS2 Description=ESSENTIAL OILS AND RESINOIDS; PERFUMERY, COSMETIC OR TOILET PREPARATIONS<br>YearMonth=%{x}<br>GEN_VAL_MO=%{y}<extra></extra>",
         "legendgroup": "ESSENTIAL OILS AND RESINOIDS; PERFUMERY, COSMETIC OR TOILET PREPARATIONS",
         "marker": {
          "color": "#636efa",
          "pattern": {
           "shape": ""
          }
         },
         "name": "ESSENTIAL OILS AND RESINOIDS; PERFUMERY, COSMETIC OR TOILET PREPARATIONS",
         "offsetgroup": "ESSENTIAL OILS AND RESINOIDS; PERFUMERY, COSMETIC OR TOILET PREPARATIONS",
         "orientation": "v",
         "showlegend": true,
         "textposition": "auto",
         "type": "bar",
         "x": [
          "2022-01",
          "2022-02",
          "2022-03",
          "2022-04",
          "2022-05",
          "2022-06",
          "2022-07",
          "2022-08",
          "2022-09",
          "2022-10",
          "2022-11"
         ],
         "xaxis": "x",
         "y": [
          74044031,
          59190713,
          97744317,
          87099990,
          98288306,
          79425802,
          81411728,
          55965030,
          82699899,
          81757789,
          77207123
         ],
         "yaxis": "y"
        },
        {
         "alignmentgroup": "True",
         "hovertemplate": "HS2 Description=SOAP ETC.; LUBRICATING PRODUCTS; WAXES, POLISHING OR SCOURING PRODUCTS; CANDLES ETC., MODELING PASTES; DENTAL WAXES AND DENTAL PLASTER PREPARATIONS<br>YearMonth=%{x}<br>GEN_VAL_MO=%{y}<extra></extra>",
         "legendgroup": "SOAP ETC.; LUBRICATING PRODUCTS; WAXES, POLISHING OR SCOURING PRODUCTS; CANDLES ETC., MODELING PASTES; DENTAL WAXES AND DENTAL PLASTER PREPARATIONS",
         "marker": {
          "color": "#EF553B",
          "pattern": {
           "shape": ""
          }
         },
         "name": "SOAP ETC.; LUBRICATING PRODUCTS; WAXES, POLISHING OR SCOURING PRODUCTS; CANDLES ETC., MODELING PASTES; DENTAL WAXES AND DENTAL PLASTER PREPARATIONS",
         "offsetgroup": "SOAP ETC.; LUBRICATING PRODUCTS; WAXES, POLISHING OR SCOURING PRODUCTS; CANDLES ETC., MODELING PASTES; DENTAL WAXES AND DENTAL PLASTER PREPARATIONS",
         "orientation": "v",
         "showlegend": true,
         "textposition": "auto",
         "type": "bar",
         "x": [
          "2022-01",
          "2022-02",
          "2022-03",
          "2022-04",
          "2022-05",
          "2022-06",
          "2022-07",
          "2022-08",
          "2022-09",
          "2022-10",
          "2022-11"
         ],
         "xaxis": "x",
         "y": [
          20107130,
          18578380,
          22859476,
          26071943,
          30295008,
          23242905,
          30174490,
          31420410,
          31029693,
          28683571,
          22107245
         ],
         "yaxis": "y"
        },
        {
         "alignmentgroup": "True",
         "hovertemplate": "HS2 Description=ALBUMINOIDAL SUBSTANCES; MODIFIED STARCHES; GLUES; ENZYMES<br>YearMonth=%{x}<br>GEN_VAL_MO=%{y}<extra></extra>",
         "legendgroup": "ALBUMINOIDAL SUBSTANCES; MODIFIED STARCHES; GLUES; ENZYMES",
         "marker": {
          "color": "#00cc96",
          "pattern": {
           "shape": ""
          }
         },
         "name": "ALBUMINOIDAL SUBSTANCES; MODIFIED STARCHES; GLUES; ENZYMES",
         "offsetgroup": "ALBUMINOIDAL SUBSTANCES; MODIFIED STARCHES; GLUES; ENZYMES",
         "orientation": "v",
         "showlegend": true,
         "textposition": "auto",
         "type": "bar",
         "x": [
          "2022-01",
          "2022-02",
          "2022-03",
          "2022-04",
          "2022-05",
          "2022-06",
          "2022-07",
          "2022-08",
          "2022-09",
          "2022-10",
          "2022-11"
         ],
         "xaxis": "x",
         "y": [
          17003549,
          17397894,
          18414096,
          21567332,
          20229303,
          9385068,
          5711870,
          11214889,
          12128265,
          17144426,
          15000027
         ],
         "yaxis": "y"
        },
        {
         "alignmentgroup": "True",
         "hovertemplate": "HS2 Description=EXPLOSIVES; PYROTECHNIC PRODUCTS; MATCHES; PYROPHORIC ALLOYS; CERTAIN COMBUSTIBLE PREPARATIONS<br>YearMonth=%{x}<br>GEN_VAL_MO=%{y}<extra></extra>",
         "legendgroup": "EXPLOSIVES; PYROTECHNIC PRODUCTS; MATCHES; PYROPHORIC ALLOYS; CERTAIN COMBUSTIBLE PREPARATIONS",
         "marker": {
          "color": "#ab63fa",
          "pattern": {
           "shape": ""
          }
         },
         "name": "EXPLOSIVES; PYROTECHNIC PRODUCTS; MATCHES; PYROPHORIC ALLOYS; CERTAIN COMBUSTIBLE PREPARATIONS",
         "offsetgroup": "EXPLOSIVES; PYROTECHNIC PRODUCTS; MATCHES; PYROPHORIC ALLOYS; CERTAIN COMBUSTIBLE PREPARATIONS",
         "orientation": "v",
         "showlegend": true,
         "textposition": "auto",
         "type": "bar",
         "x": [
          "2022-01",
          "2022-02",
          "2022-03",
          "2022-04",
          "2022-05",
          "2022-06",
          "2022-07",
          "2022-08",
          "2022-09",
          "2022-10",
          "2022-11"
         ],
         "xaxis": "x",
         "y": [
          735580,
          555658,
          1023368,
          200144,
          1182380,
          679242,
          393170,
          394526,
          580730,
          194378,
          456874
         ],
         "yaxis": "y"
        },
        {
         "alignmentgroup": "True",
         "hovertemplate": "HS2 Description=MISCELLANEOUS CHEMICAL PRODUCTS<br>YearMonth=%{x}<br>GEN_VAL_MO=%{y}<extra></extra>",
         "legendgroup": "MISCELLANEOUS CHEMICAL PRODUCTS",
         "marker": {
          "color": "#FFA15A",
          "pattern": {
           "shape": ""
          }
         },
         "name": "MISCELLANEOUS CHEMICAL PRODUCTS",
         "offsetgroup": "MISCELLANEOUS CHEMICAL PRODUCTS",
         "orientation": "v",
         "showlegend": true,
         "textposition": "auto",
         "type": "bar",
         "x": [
          "2022-01",
          "2022-02",
          "2022-03",
          "2022-04",
          "2022-05",
          "2022-06",
          "2022-07",
          "2022-08",
          "2022-09",
          "2022-10",
          "2022-11"
         ],
         "xaxis": "x",
         "y": [
          86099512,
          74722450,
          99213074,
          151159891,
          112278128,
          117646100,
          102278907,
          99457213,
          88079448,
          119533298,
          145687099
         ],
         "yaxis": "y"
        },
        {
         "alignmentgroup": "True",
         "hovertemplate": "HS2 Description=PLASTICS AND ARTICLES THEREOF<br>YearMonth=%{x}<br>GEN_VAL_MO=%{y}<extra></extra>",
         "legendgroup": "PLASTICS AND ARTICLES THEREOF",
         "marker": {
          "color": "#19d3f3",
          "pattern": {
           "shape": ""
          }
         },
         "name": "PLASTICS AND ARTICLES THEREOF",
         "offsetgroup": "PLASTICS AND ARTICLES THEREOF",
         "orientation": "v",
         "showlegend": true,
         "textposition": "auto",
         "type": "bar",
         "x": [
          "2022-01",
          "2022-02",
          "2022-03",
          "2022-04",
          "2022-05",
          "2022-06",
          "2022-07",
          "2022-08",
          "2022-09",
          "2022-10",
          "2022-11"
         ],
         "xaxis": "x",
         "y": [
          211685925,
          187149272,
          270284197,
          260082265,
          315096538,
          240664022,
          257976818,
          192791913,
          251347532,
          247032392,
          219370870
         ],
         "yaxis": "y"
        },
        {
         "alignmentgroup": "True",
         "hovertemplate": "HS2 Description=RUBBER AND ARTICLES THEREOF<br>YearMonth=%{x}<br>GEN_VAL_MO=%{y}<extra></extra>",
         "legendgroup": "RUBBER AND ARTICLES THEREOF",
         "marker": {
          "color": "#FF6692",
          "pattern": {
           "shape": ""
          }
         },
         "name": "RUBBER AND ARTICLES THEREOF",
         "offsetgroup": "RUBBER AND ARTICLES THEREOF",
         "orientation": "v",
         "showlegend": true,
         "textposition": "auto",
         "type": "bar",
         "x": [
          "2022-01",
          "2022-02",
          "2022-03",
          "2022-04",
          "2022-05",
          "2022-06",
          "2022-07",
          "2022-08",
          "2022-09",
          "2022-10",
          "2022-11"
         ],
         "xaxis": "x",
         "y": [
          152807867,
          138559213,
          179290461,
          179541473,
          242570058,
          193569333,
          196314388,
          205069979,
          213993280,
          228031196,
          193789975
         ],
         "yaxis": "y"
        },
        {
         "alignmentgroup": "True",
         "hovertemplate": "HS2 Description=RAW HIDES AND SKINS (OTHER THAN FURSKINS) AND LEATHER<br>YearMonth=%{x}<br>GEN_VAL_MO=%{y}<extra></extra>",
         "legendgroup": "RAW HIDES AND SKINS (OTHER THAN FURSKINS) AND LEATHER",
         "marker": {
          "color": "#B6E880",
          "pattern": {
           "shape": ""
          }
         },
         "name": "RAW HIDES AND SKINS (OTHER THAN FURSKINS) AND LEATHER",
         "offsetgroup": "RAW HIDES AND SKINS (OTHER THAN FURSKINS) AND LEATHER",
         "orientation": "v",
         "showlegend": true,
         "textposition": "auto",
         "type": "bar",
         "x": [
          "2022-01",
          "2022-02",
          "2022-03",
          "2022-04",
          "2022-05",
          "2022-06",
          "2022-07",
          "2022-08",
          "2022-09",
          "2022-10",
          "2022-11"
         ],
         "xaxis": "x",
         "y": [
          530274,
          402262,
          1300062,
          209432,
          884482,
          1348691,
          779780,
          1097954,
          588499,
          600175,
          730088
         ],
         "yaxis": "y"
        },
        {
         "alignmentgroup": "True",
         "hovertemplate": "HS2 Description=ARTICLES OF LEATHER; SADDLERY AND HARNESS; TRAVEL GOODS, HANDBAGS AND SIMILAR CONTAINERS; ARTICLES OF GUT (OTHER THAN SILKWORM GUT)<br>YearMonth=%{x}<br>GEN_VAL_MO=%{y}<extra></extra>",
         "legendgroup": "ARTICLES OF LEATHER; SADDLERY AND HARNESS; TRAVEL GOODS, HANDBAGS AND SIMILAR CONTAINERS; ARTICLES OF GUT (OTHER THAN SILKWORM GUT)",
         "marker": {
          "color": "#FF97FF",
          "pattern": {
           "shape": ""
          }
         },
         "name": "ARTICLES OF LEATHER; SADDLERY AND HARNESS; TRAVEL GOODS, HANDBAGS AND SIMILAR CONTAINERS; ARTICLES OF GUT (OTHER THAN SILKWORM GUT)",
         "offsetgroup": "ARTICLES OF LEATHER; SADDLERY AND HARNESS; TRAVEL GOODS, HANDBAGS AND SIMILAR CONTAINERS; ARTICLES OF GUT (OTHER THAN SILKWORM GUT)",
         "orientation": "v",
         "showlegend": true,
         "textposition": "auto",
         "type": "bar",
         "x": [
          "2022-01",
          "2022-02",
          "2022-03",
          "2022-04",
          "2022-05",
          "2022-06",
          "2022-07",
          "2022-08",
          "2022-09",
          "2022-10",
          "2022-11"
         ],
         "xaxis": "x",
         "y": [
          159062564,
          147563675,
          195910938,
          188153976,
          187119382,
          190527943,
          199129167,
          206315521,
          205230806,
          200510412,
          161021384
         ],
         "yaxis": "y"
        },
        {
         "alignmentgroup": "True",
         "hovertemplate": "HS2 Description=FURSKINS AND ARTIFICIAL FUR; MANUFACTURES THEREOF<br>YearMonth=%{x}<br>GEN_VAL_MO=%{y}<extra></extra>",
         "legendgroup": "FURSKINS AND ARTIFICIAL FUR; MANUFACTURES THEREOF",
         "marker": {
          "color": "#FECB52",
          "pattern": {
           "shape": ""
          }
         },
         "name": "FURSKINS AND ARTIFICIAL FUR; MANUFACTURES THEREOF",
         "offsetgroup": "FURSKINS AND ARTIFICIAL FUR; MANUFACTURES THEREOF",
         "orientation": "v",
         "showlegend": true,
         "textposition": "auto",
         "type": "bar",
         "x": [
          "2022-01",
          "2022-02",
          "2022-03",
          "2022-04",
          "2022-05",
          "2022-06",
          "2022-07",
          "2022-08",
          "2022-09",
          "2022-10",
          "2022-11"
         ],
         "xaxis": "x",
         "y": [
          1807039,
          917206,
          1907453,
          2129365,
          1944017,
          921630,
          1848079,
          1540266,
          1878022,
          1945627,
          1828042
         ],
         "yaxis": "y"
        },
        {
         "alignmentgroup": "True",
         "hovertemplate": "HS2 Description=WOOD AND ARTICLES OF WOOD; WOOD CHARCOAL<br>YearMonth=%{x}<br>GEN_VAL_MO=%{y}<extra></extra>",
         "legendgroup": "WOOD AND ARTICLES OF WOOD; WOOD CHARCOAL",
         "marker": {
          "color": "#636efa",
          "pattern": {
           "shape": ""
          }
         },
         "name": "WOOD AND ARTICLES OF WOOD; WOOD CHARCOAL",
         "offsetgroup": "WOOD AND ARTICLES OF WOOD; WOOD CHARCOAL",
         "orientation": "v",
         "showlegend": true,
         "textposition": "auto",
         "type": "bar",
         "x": [
          "2022-01",
          "2022-02",
          "2022-03",
          "2022-04",
          "2022-05",
          "2022-06",
          "2022-07",
          "2022-08",
          "2022-09",
          "2022-10",
          "2022-11"
         ],
         "xaxis": "x",
         "y": [
          25037907,
          23315779,
          28993587,
          31626199,
          29137922,
          23069787,
          27408875,
          22232235,
          20194554,
          17108494,
          19205146
         ],
         "yaxis": "y"
        },
        {
         "alignmentgroup": "True",
         "hovertemplate": "HS2 Description=CORK AND ARTICLES OF CORK<br>YearMonth=%{x}<br>GEN_VAL_MO=%{y}<extra></extra>",
         "legendgroup": "CORK AND ARTICLES OF CORK",
         "marker": {
          "color": "#EF553B",
          "pattern": {
           "shape": ""
          }
         },
         "name": "CORK AND ARTICLES OF CORK",
         "offsetgroup": "CORK AND ARTICLES OF CORK",
         "orientation": "v",
         "showlegend": true,
         "textposition": "auto",
         "type": "bar",
         "x": [
          "2022-01",
          "2022-02",
          "2022-03",
          "2022-04",
          "2022-05",
          "2022-06",
          "2022-07",
          "2022-08",
          "2022-09",
          "2022-10",
          "2022-11"
         ],
         "xaxis": "x",
         "y": [
          98082,
          76981,
          46421,
          138662,
          99316,
          82012,
          13944,
          208194,
          244045,
          6080,
          128529
         ],
         "yaxis": "y"
        },
        {
         "alignmentgroup": "True",
         "hovertemplate": "HS2 Description=MANUFACTURES OF STRAW, ESPARTO OR OTHER PLAITING MATERIALS; BASKETWARE AND WICKERWORK<br>YearMonth=%{x}<br>GEN_VAL_MO=%{y}<extra></extra>",
         "legendgroup": "MANUFACTURES OF STRAW, ESPARTO OR OTHER PLAITING MATERIALS; BASKETWARE AND WICKERWORK",
         "marker": {
          "color": "#00cc96",
          "pattern": {
           "shape": ""
          }
         },
         "name": "MANUFACTURES OF STRAW, ESPARTO OR OTHER PLAITING MATERIALS; BASKETWARE AND WICKERWORK",
         "offsetgroup": "MANUFACTURES OF STRAW, ESPARTO OR OTHER PLAITING MATERIALS; BASKETWARE AND WICKERWORK",
         "orientation": "v",
         "showlegend": true,
         "textposition": "auto",
         "type": "bar",
         "x": [
          "2022-01",
          "2022-02",
          "2022-03",
          "2022-04",
          "2022-05",
          "2022-06",
          "2022-07",
          "2022-08",
          "2022-09",
          "2022-10",
          "2022-11"
         ],
         "xaxis": "x",
         "y": [
          56235088,
          50319636,
          63338059,
          71179744,
          55373159,
          34460154,
          54574878,
          48662756,
          39389900,
          45343809,
          30809312
         ],
         "yaxis": "y"
        },
        {
         "alignmentgroup": "True",
         "hovertemplate": "HS2 Description=PAPER AND PAPERBOARD; ARTICLES OF PAPER PULP, PAPER OR PAPERBOARD<br>YearMonth=%{x}<br>GEN_VAL_MO=%{y}<extra></extra>",
         "legendgroup": "PAPER AND PAPERBOARD; ARTICLES OF PAPER PULP, PAPER OR PAPERBOARD",
         "marker": {
          "color": "#ab63fa",
          "pattern": {
           "shape": ""
          }
         },
         "name": "PAPER AND PAPERBOARD; ARTICLES OF PAPER PULP, PAPER OR PAPERBOARD",
         "offsetgroup": "PAPER AND PAPERBOARD; ARTICLES OF PAPER PULP, PAPER OR PAPERBOARD",
         "orientation": "v",
         "showlegend": true,
         "textposition": "auto",
         "type": "bar",
         "x": [
          "2022-01",
          "2022-02",
          "2022-03",
          "2022-04",
          "2022-05",
          "2022-06",
          "2022-07",
          "2022-08",
          "2022-09",
          "2022-10",
          "2022-11"
         ],
         "xaxis": "x",
         "y": [
          56863224,
          52256279,
          75354570,
          81111820,
          94956943,
          88401972,
          89102800,
          81669595,
          101995030,
          90802655,
          81551286
         ],
         "yaxis": "y"
        },
        {
         "alignmentgroup": "True",
         "hovertemplate": "HS2 Description=PRINTED BOOKS, NEWSPAPERS, PICTURES AND OTHER PRINTED PRODUCTS; MANUSCRIPTS, TYPESCRIPTS AND PLANS<br>YearMonth=%{x}<br>GEN_VAL_MO=%{y}<extra></extra>",
         "legendgroup": "PRINTED BOOKS, NEWSPAPERS, PICTURES AND OTHER PRINTED PRODUCTS; MANUSCRIPTS, TYPESCRIPTS AND PLANS",
         "marker": {
          "color": "#FFA15A",
          "pattern": {
           "shape": ""
          }
         },
         "name": "PRINTED BOOKS, NEWSPAPERS, PICTURES AND OTHER PRINTED PRODUCTS; MANUSCRIPTS, TYPESCRIPTS AND PLANS",
         "offsetgroup": "PRINTED BOOKS, NEWSPAPERS, PICTURES AND OTHER PRINTED PRODUCTS; MANUSCRIPTS, TYPESCRIPTS AND PLANS",
         "orientation": "v",
         "showlegend": true,
         "textposition": "auto",
         "type": "bar",
         "x": [
          "2022-01",
          "2022-02",
          "2022-03",
          "2022-04",
          "2022-05",
          "2022-06",
          "2022-07",
          "2022-08",
          "2022-09",
          "2022-10",
          "2022-11"
         ],
         "xaxis": "x",
         "y": [
          19568852,
          28350270,
          28703476,
          25939891,
          25080430,
          23086338,
          24078471,
          19798125,
          32114187,
          26301085,
          29192693
         ],
         "yaxis": "y"
        },
        {
         "alignmentgroup": "True",
         "hovertemplate": "HS2 Description=SILK, INCLUDING YARNS AND WOVEN FABRICS THEREOF<br>YearMonth=%{x}<br>GEN_VAL_MO=%{y}<extra></extra>",
         "legendgroup": "SILK, INCLUDING YARNS AND WOVEN FABRICS THEREOF",
         "marker": {
          "color": "#19d3f3",
          "pattern": {
           "shape": ""
          }
         },
         "name": "SILK, INCLUDING YARNS AND WOVEN FABRICS THEREOF",
         "offsetgroup": "SILK, INCLUDING YARNS AND WOVEN FABRICS THEREOF",
         "orientation": "v",
         "showlegend": true,
         "textposition": "auto",
         "type": "bar",
         "x": [
          "2022-01",
          "2022-02",
          "2022-03",
          "2022-04",
          "2022-05",
          "2022-06",
          "2022-07",
          "2022-08",
          "2022-09",
          "2022-10",
          "2022-11"
         ],
         "xaxis": "x",
         "y": [
          2804045,
          3140455,
          3045003,
          3143285,
          4099638,
          3558613,
          2607662,
          2821741,
          2833290,
          2600762,
          2860444
         ],
         "yaxis": "y"
        },
        {
         "alignmentgroup": "True",
         "hovertemplate": "HS2 Description=WOOL AND FINE OR COARSE ANIMAL HAIR, INCLUDING YARNS AND WOVEN FABRICS THEREOF; HORSEHAIR YARN AND WOVEN FABRIC<br>YearMonth=%{x}<br>GEN_VAL_MO=%{y}<extra></extra>",
         "legendgroup": "WOOL AND FINE OR COARSE ANIMAL HAIR, INCLUDING YARNS AND WOVEN FABRICS THEREOF; HORSEHAIR YARN AND WOVEN FABRIC",
         "marker": {
          "color": "#FF6692",
          "pattern": {
           "shape": ""
          }
         },
         "name": "WOOL AND FINE OR COARSE ANIMAL HAIR, INCLUDING YARNS AND WOVEN FABRICS THEREOF; HORSEHAIR YARN AND WOVEN FABRIC",
         "offsetgroup": "WOOL AND FINE OR COARSE ANIMAL HAIR, INCLUDING YARNS AND WOVEN FABRICS THEREOF; HORSEHAIR YARN AND WOVEN FABRIC",
         "orientation": "v",
         "showlegend": true,
         "textposition": "auto",
         "type": "bar",
         "x": [
          "2022-01",
          "2022-02",
          "2022-03",
          "2022-04",
          "2022-05",
          "2022-06",
          "2022-07",
          "2022-08",
          "2022-09",
          "2022-10",
          "2022-11"
         ],
         "xaxis": "x",
         "y": [
          1534904,
          1204730,
          3527303,
          2480011,
          1637042,
          2638683,
          538778,
          3641678,
          1014645,
          1492689,
          1944728
         ],
         "yaxis": "y"
        },
        {
         "alignmentgroup": "True",
         "hovertemplate": "HS2 Description=COTTON, INCLUDING YARNS AND WOVEN FABRICS THEREOF<br>YearMonth=%{x}<br>GEN_VAL_MO=%{y}<extra></extra>",
         "legendgroup": "COTTON, INCLUDING YARNS AND WOVEN FABRICS THEREOF",
         "marker": {
          "color": "#B6E880",
          "pattern": {
           "shape": ""
          }
         },
         "name": "COTTON, INCLUDING YARNS AND WOVEN FABRICS THEREOF",
         "offsetgroup": "COTTON, INCLUDING YARNS AND WOVEN FABRICS THEREOF",
         "orientation": "v",
         "showlegend": true,
         "textposition": "auto",
         "type": "bar",
         "x": [
          "2022-01",
          "2022-02",
          "2022-03",
          "2022-04",
          "2022-05",
          "2022-06",
          "2022-07",
          "2022-08",
          "2022-09",
          "2022-10",
          "2022-11"
         ],
         "xaxis": "x",
         "y": [
          47035926,
          44354356,
          53611311,
          69072002,
          78758485,
          52616478,
          43708700,
          41015919,
          42903318,
          42076642,
          33059682
         ],
         "yaxis": "y"
        },
        {
         "alignmentgroup": "True",
         "hovertemplate": "HS2 Description=VEGETABLE TEXTILE FIBERS NESOI; YARNS AND WOVEN FABRICS OF VEGETABLE TEXTILE FIBERS NESOI AND PAPER<br>YearMonth=%{x}<br>GEN_VAL_MO=%{y}<extra></extra>",
         "legendgroup": "VEGETABLE TEXTILE FIBERS NESOI; YARNS AND WOVEN FABRICS OF VEGETABLE TEXTILE FIBERS NESOI AND PAPER",
         "marker": {
          "color": "#FF97FF",
          "pattern": {
           "shape": ""
          }
         },
         "name": "VEGETABLE TEXTILE FIBERS NESOI; YARNS AND WOVEN FABRICS OF VEGETABLE TEXTILE FIBERS NESOI AND PAPER",
         "offsetgroup": "VEGETABLE TEXTILE FIBERS NESOI; YARNS AND WOVEN FABRICS OF VEGETABLE TEXTILE FIBERS NESOI AND PAPER",
         "orientation": "v",
         "showlegend": true,
         "textposition": "auto",
         "type": "bar",
         "x": [
          "2022-01",
          "2022-02",
          "2022-03",
          "2022-04",
          "2022-05",
          "2022-06",
          "2022-07",
          "2022-08",
          "2022-09",
          "2022-10",
          "2022-11"
         ],
         "xaxis": "x",
         "y": [
          22593606,
          16288699,
          23998144,
          26341641,
          33439074,
          39268829,
          29182976,
          24192136,
          22590210,
          16667907,
          16793790
         ],
         "yaxis": "y"
        },
        {
         "alignmentgroup": "True",
         "hovertemplate": "HS2 Description=MANMADE FILAMENTS, INCLUDING YARNS AND WOVEN FABRICS THEREOF<br>YearMonth=%{x}<br>GEN_VAL_MO=%{y}<extra></extra>",
         "legendgroup": "MANMADE FILAMENTS, INCLUDING YARNS AND WOVEN FABRICS THEREOF",
         "marker": {
          "color": "#FECB52",
          "pattern": {
           "shape": ""
          }
         },
         "name": "MANMADE FILAMENTS, INCLUDING YARNS AND WOVEN FABRICS THEREOF",
         "offsetgroup": "MANMADE FILAMENTS, INCLUDING YARNS AND WOVEN FABRICS THEREOF",
         "orientation": "v",
         "showlegend": true,
         "textposition": "auto",
         "type": "bar",
         "x": [
          "2022-01",
          "2022-02",
          "2022-03",
          "2022-04",
          "2022-05",
          "2022-06",
          "2022-07",
          "2022-08",
          "2022-09",
          "2022-10",
          "2022-11"
         ],
         "xaxis": "x",
         "y": [
          78642733,
          76177649,
          89359387,
          93928304,
          123466379,
          75791444,
          84982804,
          67322037,
          85320676,
          71807501,
          72662616
         ],
         "yaxis": "y"
        },
        {
         "alignmentgroup": "True",
         "hovertemplate": "HS2 Description=MANMADE STAPLE FIBERS, INCLUDING YARNS AND WOVEN FABRICS THEREOF<br>YearMonth=%{x}<br>GEN_VAL_MO=%{y}<extra></extra>",
         "legendgroup": "MANMADE STAPLE FIBERS, INCLUDING YARNS AND WOVEN FABRICS THEREOF",
         "marker": {
          "color": "#636efa",
          "pattern": {
           "shape": ""
          }
         },
         "name": "MANMADE STAPLE FIBERS, INCLUDING YARNS AND WOVEN FABRICS THEREOF",
         "offsetgroup": "MANMADE STAPLE FIBERS, INCLUDING YARNS AND WOVEN FABRICS THEREOF",
         "orientation": "v",
         "showlegend": true,
         "textposition": "auto",
         "type": "bar",
         "x": [
          "2022-01",
          "2022-02",
          "2022-03",
          "2022-04",
          "2022-05",
          "2022-06",
          "2022-07",
          "2022-08",
          "2022-09",
          "2022-10",
          "2022-11"
         ],
         "xaxis": "x",
         "y": [
          55660428,
          78407065,
          63575766,
          81444149,
          91684742,
          62798318,
          66780276,
          65067207,
          72298942,
          54242012,
          51298743
         ],
         "yaxis": "y"
        },
        {
         "alignmentgroup": "True",
         "hovertemplate": "HS2 Description=WADDING, FELT AND NONWOVENS; SPECIAL YARNS; TWINE, CORDAGE, ROPES AND CABLES AND ARTICLES THEREOF<br>YearMonth=%{x}<br>GEN_VAL_MO=%{y}<extra></extra>",
         "legendgroup": "WADDING, FELT AND NONWOVENS; SPECIAL YARNS; TWINE, CORDAGE, ROPES AND CABLES AND ARTICLES THEREOF",
         "marker": {
          "color": "#EF553B",
          "pattern": {
           "shape": ""
          }
         },
         "name": "WADDING, FELT AND NONWOVENS; SPECIAL YARNS; TWINE, CORDAGE, ROPES AND CABLES AND ARTICLES THEREOF",
         "offsetgroup": "WADDING, FELT AND NONWOVENS; SPECIAL YARNS; TWINE, CORDAGE, ROPES AND CABLES AND ARTICLES THEREOF",
         "orientation": "v",
         "showlegend": true,
         "textposition": "auto",
         "type": "bar",
         "x": [
          "2022-01",
          "2022-02",
          "2022-03",
          "2022-04",
          "2022-05",
          "2022-06",
          "2022-07",
          "2022-08",
          "2022-09",
          "2022-10",
          "2022-11"
         ],
         "xaxis": "x",
         "y": [
          48271832,
          48630698,
          58201002,
          68561848,
          82375655,
          55198257,
          44595227,
          35437262,
          43774470,
          40460790,
          45298708
         ],
         "yaxis": "y"
        },
        {
         "alignmentgroup": "True",
         "hovertemplate": "HS2 Description=CARPETS AND OTHER TEXTILE FLOOR COVERINGS<br>YearMonth=%{x}<br>GEN_VAL_MO=%{y}<extra></extra>",
         "legendgroup": "CARPETS AND OTHER TEXTILE FLOOR COVERINGS",
         "marker": {
          "color": "#00cc96",
          "pattern": {
           "shape": ""
          }
         },
         "name": "CARPETS AND OTHER TEXTILE FLOOR COVERINGS",
         "offsetgroup": "CARPETS AND OTHER TEXTILE FLOOR COVERINGS",
         "orientation": "v",
         "showlegend": true,
         "textposition": "auto",
         "type": "bar",
         "x": [
          "2022-01",
          "2022-02",
          "2022-03",
          "2022-04",
          "2022-05",
          "2022-06",
          "2022-07",
          "2022-08",
          "2022-09",
          "2022-10",
          "2022-11"
         ],
         "xaxis": "x",
         "y": [
          189660530,
          185977188,
          199122762,
          224556632,
          235645134,
          170378168,
          206448081,
          157461937,
          188106376,
          147028439,
          174773541
         ],
         "yaxis": "y"
        },
        {
         "alignmentgroup": "True",
         "hovertemplate": "HS2 Description=SPECIAL WOVEN FABRICS; TUFTED TEXTILE FABRICS; LACE; TAPESTRIES; TRIMMINGS; EMBROIDERY<br>YearMonth=%{x}<br>GEN_VAL_MO=%{y}<extra></extra>",
         "legendgroup": "SPECIAL WOVEN FABRICS; TUFTED TEXTILE FABRICS; LACE; TAPESTRIES; TRIMMINGS; EMBROIDERY",
         "marker": {
          "color": "#ab63fa",
          "pattern": {
           "shape": ""
          }
         },
         "name": "SPECIAL WOVEN FABRICS; TUFTED TEXTILE FABRICS; LACE; TAPESTRIES; TRIMMINGS; EMBROIDERY",
         "offsetgroup": "SPECIAL WOVEN FABRICS; TUFTED TEXTILE FABRICS; LACE; TAPESTRIES; TRIMMINGS; EMBROIDERY",
         "orientation": "v",
         "showlegend": true,
         "textposition": "auto",
         "type": "bar",
         "x": [
          "2022-01",
          "2022-02",
          "2022-03",
          "2022-04",
          "2022-05",
          "2022-06",
          "2022-07",
          "2022-08",
          "2022-09",
          "2022-10",
          "2022-11"
         ],
         "xaxis": "x",
         "y": [
          11956150,
          9903069,
          14267549,
          13517462,
          12123692,
          13539608,
          16637523,
          17095151,
          15271921,
          12600857,
          12980526
         ],
         "yaxis": "y"
        },
        {
         "alignmentgroup": "True",
         "hovertemplate": "HS2 Description=IMPREGNATED, COATED, COVERED OR LAMINATED TEXTILE FABRICS; TEXTILE ARTICLES SUITABLE FOR INDUSTRIAL USE<br>YearMonth=%{x}<br>GEN_VAL_MO=%{y}<extra></extra>",
         "legendgroup": "IMPREGNATED, COATED, COVERED OR LAMINATED TEXTILE FABRICS; TEXTILE ARTICLES SUITABLE FOR INDUSTRIAL USE",
         "marker": {
          "color": "#FFA15A",
          "pattern": {
           "shape": ""
          }
         },
         "name": "IMPREGNATED, COATED, COVERED OR LAMINATED TEXTILE FABRICS; TEXTILE ARTICLES SUITABLE FOR INDUSTRIAL USE",
         "offsetgroup": "IMPREGNATED, COATED, COVERED OR LAMINATED TEXTILE FABRICS; TEXTILE ARTICLES SUITABLE FOR INDUSTRIAL USE",
         "orientation": "v",
         "showlegend": true,
         "textposition": "auto",
         "type": "bar",
         "x": [
          "2022-01",
          "2022-02",
          "2022-03",
          "2022-04",
          "2022-05",
          "2022-06",
          "2022-07",
          "2022-08",
          "2022-09",
          "2022-10",
          "2022-11"
         ],
         "xaxis": "x",
         "y": [
          58062588,
          59823408,
          47310216,
          60390360,
          97211914,
          62925747,
          93890127,
          71199260,
          61311124,
          48625509,
          43668692
         ],
         "yaxis": "y"
        },
        {
         "alignmentgroup": "True",
         "hovertemplate": "HS2 Description=KNITTED OR CROCHETED FABRICS<br>YearMonth=%{x}<br>GEN_VAL_MO=%{y}<extra></extra>",
         "legendgroup": "KNITTED OR CROCHETED FABRICS",
         "marker": {
          "color": "#19d3f3",
          "pattern": {
           "shape": ""
          }
         },
         "name": "KNITTED OR CROCHETED FABRICS",
         "offsetgroup": "KNITTED OR CROCHETED FABRICS",
         "orientation": "v",
         "showlegend": true,
         "textposition": "auto",
         "type": "bar",
         "x": [
          "2022-01",
          "2022-02",
          "2022-03",
          "2022-04",
          "2022-05",
          "2022-06",
          "2022-07",
          "2022-08",
          "2022-09",
          "2022-10",
          "2022-11"
         ],
         "xaxis": "x",
         "y": [
          43102606,
          31596558,
          50533178,
          59451502,
          99336813,
          81331410,
          44453737,
          47527389,
          35783066,
          29645706,
          19488218
         ],
         "yaxis": "y"
        },
        {
         "alignmentgroup": "True",
         "hovertemplate": "HS2 Description=ARTICLES OF APPAREL AND CLOTHING ACCESSORIES, KNITTED OR CROCHETED<br>YearMonth=%{x}<br>GEN_VAL_MO=%{y}<extra></extra>",
         "legendgroup": "ARTICLES OF APPAREL AND CLOTHING ACCESSORIES, KNITTED OR CROCHETED",
         "marker": {
          "color": "#FF6692",
          "pattern": {
           "shape": ""
          }
         },
         "name": "ARTICLES OF APPAREL AND CLOTHING ACCESSORIES, KNITTED OR CROCHETED",
         "offsetgroup": "ARTICLES OF APPAREL AND CLOTHING ACCESSORIES, KNITTED OR CROCHETED",
         "orientation": "v",
         "showlegend": true,
         "textposition": "auto",
         "type": "bar",
         "x": [
          "2022-01",
          "2022-02",
          "2022-03",
          "2022-04",
          "2022-05",
          "2022-06",
          "2022-07",
          "2022-08",
          "2022-09",
          "2022-10",
          "2022-11"
         ],
         "xaxis": "x",
         "y": [
          560165068,
          531961454,
          796133730,
          685613115,
          739523435,
          695660593,
          701712063,
          659820642,
          639162239,
          512807177,
          439632883
         ],
         "yaxis": "y"
        },
        {
         "alignmentgroup": "True",
         "hovertemplate": "HS2 Description=ARTICLES OF APPAREL AND CLOTHING ACCESSORIES, NOT KNITTED OR CROCHETED<br>YearMonth=%{x}<br>GEN_VAL_MO=%{y}<extra></extra>",
         "legendgroup": "ARTICLES OF APPAREL AND CLOTHING ACCESSORIES, NOT KNITTED OR CROCHETED",
         "marker": {
          "color": "#B6E880",
          "pattern": {
           "shape": ""
          }
         },
         "name": "ARTICLES OF APPAREL AND CLOTHING ACCESSORIES, NOT KNITTED OR CROCHETED",
         "offsetgroup": "ARTICLES OF APPAREL AND CLOTHING ACCESSORIES, NOT KNITTED OR CROCHETED",
         "orientation": "v",
         "showlegend": true,
         "textposition": "auto",
         "type": "bar",
         "x": [
          "2022-01",
          "2022-02",
          "2022-03",
          "2022-04",
          "2022-05",
          "2022-06",
          "2022-07",
          "2022-08",
          "2022-09",
          "2022-10",
          "2022-11"
         ],
         "xaxis": "x",
         "y": [
          593218079,
          599348232,
          875573598,
          916044829,
          840710775,
          634928319,
          605342481,
          531358981,
          582972176,
          434287901,
          381723465
         ],
         "yaxis": "y"
        },
        {
         "alignmentgroup": "True",
         "hovertemplate": "HS2 Description=MADE-UP TEXTILE ARTICLES NESOI; NEEDLECRAFT SETS; WORN CLOTHING AND WORN TEXTILE ARTICLES; RAGS<br>YearMonth=%{x}<br>GEN_VAL_MO=%{y}<extra></extra>",
         "legendgroup": "MADE-UP TEXTILE ARTICLES NESOI; NEEDLECRAFT SETS; WORN CLOTHING AND WORN TEXTILE ARTICLES; RAGS",
         "marker": {
          "color": "#FF97FF",
          "pattern": {
           "shape": ""
          }
         },
         "name": "MADE-UP TEXTILE ARTICLES NESOI; NEEDLECRAFT SETS; WORN CLOTHING AND WORN TEXTILE ARTICLES; RAGS",
         "offsetgroup": "MADE-UP TEXTILE ARTICLES NESOI; NEEDLECRAFT SETS; WORN CLOTHING AND WORN TEXTILE ARTICLES; RAGS",
         "orientation": "v",
         "showlegend": true,
         "textposition": "auto",
         "type": "bar",
         "x": [
          "2022-01",
          "2022-02",
          "2022-03",
          "2022-04",
          "2022-05",
          "2022-06",
          "2022-07",
          "2022-08",
          "2022-09",
          "2022-10",
          "2022-11"
         ],
         "xaxis": "x",
         "y": [
          789163395,
          841361755,
          925706687,
          982727649,
          984267269,
          795549308,
          861221348,
          697320216,
          844634095,
          761609373,
          657371765
         ],
         "yaxis": "y"
        },
        {
         "alignmentgroup": "True",
         "hovertemplate": "HS2 Description=FOOTWEAR, GAITERS AND THE LIKE; PARTS OF SUCH ARTICLES<br>YearMonth=%{x}<br>GEN_VAL_MO=%{y}<extra></extra>",
         "legendgroup": "FOOTWEAR, GAITERS AND THE LIKE; PARTS OF SUCH ARTICLES",
         "marker": {
          "color": "#FECB52",
          "pattern": {
           "shape": ""
          }
         },
         "name": "FOOTWEAR, GAITERS AND THE LIKE; PARTS OF SUCH ARTICLES",
         "offsetgroup": "FOOTWEAR, GAITERS AND THE LIKE; PARTS OF SUCH ARTICLES",
         "orientation": "v",
         "showlegend": true,
         "textposition": "auto",
         "type": "bar",
         "x": [
          "2022-01",
          "2022-02",
          "2022-03",
          "2022-04",
          "2022-05",
          "2022-06",
          "2022-07",
          "2022-08",
          "2022-09",
          "2022-10",
          "2022-11"
         ],
         "xaxis": "x",
         "y": [
          137661128,
          178952185,
          191638224,
          192804430,
          181032475,
          191183631,
          166742406,
          194692360,
          220961796,
          197678038,
          157746823
         ],
         "yaxis": "y"
        },
        {
         "alignmentgroup": "True",
         "hovertemplate": "HS2 Description=HEADGEAR AND PARTS THEREOF<br>YearMonth=%{x}<br>GEN_VAL_MO=%{y}<extra></extra>",
         "legendgroup": "HEADGEAR AND PARTS THEREOF",
         "marker": {
          "color": "#636efa",
          "pattern": {
           "shape": ""
          }
         },
         "name": "HEADGEAR AND PARTS THEREOF",
         "offsetgroup": "HEADGEAR AND PARTS THEREOF",
         "orientation": "v",
         "showlegend": true,
         "textposition": "auto",
         "type": "bar",
         "x": [
          "2022-01",
          "2022-02",
          "2022-03",
          "2022-04",
          "2022-05",
          "2022-06",
          "2022-07",
          "2022-08",
          "2022-09",
          "2022-10",
          "2022-11"
         ],
         "xaxis": "x",
         "y": [
          2603313,
          2603172,
          2683068,
          2484797,
          2107251,
          2135274,
          2135655,
          1933899,
          2352329,
          1315535,
          1636933
         ],
         "yaxis": "y"
        },
        {
         "alignmentgroup": "True",
         "hovertemplate": "HS2 Description=UMBRELLAS, SUN UMBRELLAS, WALKING-STICKS, SEAT-STICKS, WHIPS, RIDING-CROPS AND PARTS THEREOF<br>YearMonth=%{x}<br>GEN_VAL_MO=%{y}<extra></extra>",
         "legendgroup": "UMBRELLAS, SUN UMBRELLAS, WALKING-STICKS, SEAT-STICKS, WHIPS, RIDING-CROPS AND PARTS THEREOF",
         "marker": {
          "color": "#EF553B",
          "pattern": {
           "shape": ""
          }
         },
         "name": "UMBRELLAS, SUN UMBRELLAS, WALKING-STICKS, SEAT-STICKS, WHIPS, RIDING-CROPS AND PARTS THEREOF",
         "offsetgroup": "UMBRELLAS, SUN UMBRELLAS, WALKING-STICKS, SEAT-STICKS, WHIPS, RIDING-CROPS AND PARTS THEREOF",
         "orientation": "v",
         "showlegend": true,
         "textposition": "auto",
         "type": "bar",
         "x": [
          "2022-01",
          "2022-02",
          "2022-03",
          "2022-04",
          "2022-05",
          "2022-06",
          "2022-07",
          "2022-08",
          "2022-09",
          "2022-10",
          "2022-11"
         ],
         "xaxis": "x",
         "y": [
          17152,
          138008,
          354342,
          70745,
          159397,
          89439,
          67886,
          58206,
          151172,
          225531,
          388654
         ],
         "yaxis": "y"
        },
        {
         "alignmentgroup": "True",
         "hovertemplate": "HS2 Description=PREPARED FEATHERS AND DOWN AND ARTICLES THEREOF; ARTIFICIAL FLOWERS; ARTICLES OF HUMAN HAIR<br>YearMonth=%{x}<br>GEN_VAL_MO=%{y}<extra></extra>",
         "legendgroup": "PREPARED FEATHERS AND DOWN AND ARTICLES THEREOF; ARTIFICIAL FLOWERS; ARTICLES OF HUMAN HAIR",
         "marker": {
          "color": "#00cc96",
          "pattern": {
           "shape": ""
          }
         },
         "name": "PREPARED FEATHERS AND DOWN AND ARTICLES THEREOF; ARTIFICIAL FLOWERS; ARTICLES OF HUMAN HAIR",
         "offsetgroup": "PREPARED FEATHERS AND DOWN AND ARTICLES THEREOF; ARTIFICIAL FLOWERS; ARTICLES OF HUMAN HAIR",
         "orientation": "v",
         "showlegend": true,
         "textposition": "auto",
         "type": "bar",
         "x": [
          "2022-01",
          "2022-02",
          "2022-03",
          "2022-04",
          "2022-05",
          "2022-06",
          "2022-07",
          "2022-08",
          "2022-09",
          "2022-10",
          "2022-11"
         ],
         "xaxis": "x",
         "y": [
          3930528,
          2851082,
          3730287,
          5266069,
          5541598,
          4403076,
          4637640,
          4123157,
          3084218,
          4482006,
          3694157
         ],
         "yaxis": "y"
        },
        {
         "alignmentgroup": "True",
         "hovertemplate": "HS2 Description=ARTICLES OF STONE, PLASTER, CEMENT, ASBESTOS, MICA OR SIMILAR MATERIALS<br>YearMonth=%{x}<br>GEN_VAL_MO=%{y}<extra></extra>",
         "legendgroup": "ARTICLES OF STONE, PLASTER, CEMENT, ASBESTOS, MICA OR SIMILAR MATERIALS",
         "marker": {
          "color": "#ab63fa",
          "pattern": {
           "shape": ""
          }
         },
         "name": "ARTICLES OF STONE, PLASTER, CEMENT, ASBESTOS, MICA OR SIMILAR MATERIALS",
         "offsetgroup": "ARTICLES OF STONE, PLASTER, CEMENT, ASBESTOS, MICA OR SIMILAR MATERIALS",
         "orientation": "v",
         "showlegend": true,
         "textposition": "auto",
         "type": "bar",
         "x": [
          "2022-01",
          "2022-02",
          "2022-03",
          "2022-04",
          "2022-05",
          "2022-06",
          "2022-07",
          "2022-08",
          "2022-09",
          "2022-10",
          "2022-11"
         ],
         "xaxis": "x",
         "y": [
          157469073,
          112686861,
          155015603,
          167273539,
          186665744,
          172287492,
          200458993,
          174079333,
          188604438,
          210213314,
          119615250
         ],
         "yaxis": "y"
        },
        {
         "alignmentgroup": "True",
         "hovertemplate": "HS2 Description=CERAMIC PRODUCTS<br>YearMonth=%{x}<br>GEN_VAL_MO=%{y}<extra></extra>",
         "legendgroup": "CERAMIC PRODUCTS",
         "marker": {
          "color": "#FFA15A",
          "pattern": {
           "shape": ""
          }
         },
         "name": "CERAMIC PRODUCTS",
         "offsetgroup": "CERAMIC PRODUCTS",
         "orientation": "v",
         "showlegend": true,
         "textposition": "auto",
         "type": "bar",
         "x": [
          "2022-01",
          "2022-02",
          "2022-03",
          "2022-04",
          "2022-05",
          "2022-06",
          "2022-07",
          "2022-08",
          "2022-09",
          "2022-10",
          "2022-11"
         ],
         "xaxis": "x",
         "y": [
          30248987,
          32780105,
          34182072,
          38028966,
          42231320,
          41940357,
          35788603,
          30663612,
          32588574,
          39914994,
          36457836
         ],
         "yaxis": "y"
        },
        {
         "alignmentgroup": "True",
         "hovertemplate": "HS2 Description=GLASS AND GLASSWARE<br>YearMonth=%{x}<br>GEN_VAL_MO=%{y}<extra></extra>",
         "legendgroup": "GLASS AND GLASSWARE",
         "marker": {
          "color": "#19d3f3",
          "pattern": {
           "shape": ""
          }
         },
         "name": "GLASS AND GLASSWARE",
         "offsetgroup": "GLASS AND GLASSWARE",
         "orientation": "v",
         "showlegend": true,
         "textposition": "auto",
         "type": "bar",
         "x": [
          "2022-01",
          "2022-02",
          "2022-03",
          "2022-04",
          "2022-05",
          "2022-06",
          "2022-07",
          "2022-08",
          "2022-09",
          "2022-10",
          "2022-11"
         ],
         "xaxis": "x",
         "y": [
          32521272,
          29440358,
          37214956,
          43143062,
          43938694,
          36884740,
          37879336,
          35226073,
          38485756,
          32657506,
          26984280
         ],
         "yaxis": "y"
        },
        {
         "alignmentgroup": "True",
         "hovertemplate": "HS2 Description=NATURAL OR CULTURED PEARLS, PRECIOUS OR SEMIPRECIOUS STONES, PRECIOUS METALS; PRECIOUS METAL CLAD METALS, ARTICLES THEREOF; IMITATION JEWELRY; COIN<br>YearMonth=%{x}<br>GEN_VAL_MO=%{y}<extra></extra>",
         "legendgroup": "NATURAL OR CULTURED PEARLS, PRECIOUS OR SEMIPRECIOUS STONES, PRECIOUS METALS; PRECIOUS METAL CLAD METALS, ARTICLES THEREOF; IMITATION JEWELRY; COIN",
         "marker": {
          "color": "#FF6692",
          "pattern": {
           "shape": ""
          }
         },
         "name": "NATURAL OR CULTURED PEARLS, PRECIOUS OR SEMIPRECIOUS STONES, PRECIOUS METALS; PRECIOUS METAL CLAD METALS, ARTICLES THEREOF; IMITATION JEWELRY; COIN",
         "offsetgroup": "NATURAL OR CULTURED PEARLS, PRECIOUS OR SEMIPRECIOUS STONES, PRECIOUS METALS; PRECIOUS METAL CLAD METALS, ARTICLES THEREOF; IMITATION JEWELRY; COIN",
         "orientation": "v",
         "showlegend": true,
         "textposition": "auto",
         "type": "bar",
         "x": [
          "2022-01",
          "2022-02",
          "2022-03",
          "2022-04",
          "2022-05",
          "2022-06",
          "2022-07",
          "2022-08",
          "2022-09",
          "2022-10",
          "2022-11"
         ],
         "xaxis": "x",
         "y": [
          4746537856,
          4356293102,
          5064718571,
          4557851112,
          4653399338,
          5077028161,
          4383593891,
          4181012252,
          4006850017,
          4923507558,
          2892698156
         ],
         "yaxis": "y"
        },
        {
         "alignmentgroup": "True",
         "hovertemplate": "HS2 Description=IRON AND STEEL<br>YearMonth=%{x}<br>GEN_VAL_MO=%{y}<extra></extra>",
         "legendgroup": "IRON AND STEEL",
         "marker": {
          "color": "#B6E880",
          "pattern": {
           "shape": ""
          }
         },
         "name": "IRON AND STEEL",
         "offsetgroup": "IRON AND STEEL",
         "orientation": "v",
         "showlegend": true,
         "textposition": "auto",
         "type": "bar",
         "x": [
          "2022-01",
          "2022-02",
          "2022-03",
          "2022-04",
          "2022-05",
          "2022-06",
          "2022-07",
          "2022-08",
          "2022-09",
          "2022-10",
          "2022-11"
         ],
         "xaxis": "x",
         "y": [
          134979905,
          197988189,
          128782781,
          167026075,
          558468650,
          983764693,
          145583467,
          111001676,
          193548839,
          84019165,
          126538714
         ],
         "yaxis": "y"
        },
        {
         "alignmentgroup": "True",
         "hovertemplate": "HS2 Description=ARTICLES OF IRON OR STEEL<br>YearMonth=%{x}<br>GEN_VAL_MO=%{y}<extra></extra>",
         "legendgroup": "ARTICLES OF IRON OR STEEL",
         "marker": {
          "color": "#FF97FF",
          "pattern": {
           "shape": ""
          }
         },
         "name": "ARTICLES OF IRON OR STEEL",
         "offsetgroup": "ARTICLES OF IRON OR STEEL",
         "orientation": "v",
         "showlegend": true,
         "textposition": "auto",
         "type": "bar",
         "x": [
          "2022-01",
          "2022-02",
          "2022-03",
          "2022-04",
          "2022-05",
          "2022-06",
          "2022-07",
          "2022-08",
          "2022-09",
          "2022-10",
          "2022-11"
         ],
         "xaxis": "x",
         "y": [
          405683279,
          397502277,
          529266397,
          498054697,
          562946099,
          566712250,
          472515693,
          475703947,
          566778430,
          725962952,
          560432913
         ],
         "yaxis": "y"
        },
        {
         "alignmentgroup": "True",
         "hovertemplate": "HS2 Description=COPPER AND ARTICLES THEREOF<br>YearMonth=%{x}<br>GEN_VAL_MO=%{y}<extra></extra>",
         "legendgroup": "COPPER AND ARTICLES THEREOF",
         "marker": {
          "color": "#FECB52",
          "pattern": {
           "shape": ""
          }
         },
         "name": "COPPER AND ARTICLES THEREOF",
         "offsetgroup": "COPPER AND ARTICLES THEREOF",
         "orientation": "v",
         "showlegend": true,
         "textposition": "auto",
         "type": "bar",
         "x": [
          "2022-01",
          "2022-02",
          "2022-03",
          "2022-04",
          "2022-05",
          "2022-06",
          "2022-07",
          "2022-08",
          "2022-09",
          "2022-10",
          "2022-11"
         ],
         "xaxis": "x",
         "y": [
          35761244,
          28390842,
          49194325,
          49426522,
          55272149,
          62116362,
          53801505,
          50062127,
          56118618,
          58660409,
          50383341
         ],
         "yaxis": "y"
        },
        {
         "alignmentgroup": "True",
         "hovertemplate": "HS2 Description=NICKEL AND ARTICLES THEREOF<br>YearMonth=%{x}<br>GEN_VAL_MO=%{y}<extra></extra>",
         "legendgroup": "NICKEL AND ARTICLES THEREOF",
         "marker": {
          "color": "#636efa",
          "pattern": {
           "shape": ""
          }
         },
         "name": "NICKEL AND ARTICLES THEREOF",
         "offsetgroup": "NICKEL AND ARTICLES THEREOF",
         "orientation": "v",
         "showlegend": true,
         "textposition": "auto",
         "type": "bar",
         "x": [
          "2022-01",
          "2022-02",
          "2022-03",
          "2022-04",
          "2022-05",
          "2022-06",
          "2022-07",
          "2022-08",
          "2022-09",
          "2022-10",
          "2022-11"
         ],
         "xaxis": "x",
         "y": [
          2031494,
          3320362,
          3542168,
          4417376,
          3465495,
          3112447,
          3495991,
          2256598,
          2246606,
          2708940,
          4612446
         ],
         "yaxis": "y"
        },
        {
         "alignmentgroup": "True",
         "hovertemplate": "HS2 Description=ALUMINUM AND ARTICLES THEREOF<br>YearMonth=%{x}<br>GEN_VAL_MO=%{y}<extra></extra>",
         "legendgroup": "ALUMINUM AND ARTICLES THEREOF",
         "marker": {
          "color": "#EF553B",
          "pattern": {
           "shape": ""
          }
         },
         "name": "ALUMINUM AND ARTICLES THEREOF",
         "offsetgroup": "ALUMINUM AND ARTICLES THEREOF",
         "orientation": "v",
         "showlegend": true,
         "textposition": "auto",
         "type": "bar",
         "x": [
          "2022-01",
          "2022-02",
          "2022-03",
          "2022-04",
          "2022-05",
          "2022-06",
          "2022-07",
          "2022-08",
          "2022-09",
          "2022-10",
          "2022-11"
         ],
         "xaxis": "x",
         "y": [
          91352765,
          119198362,
          96658314,
          216897448,
          253789088,
          145154007,
          304248605,
          118573117,
          164311253,
          199567961,
          179804497
         ],
         "yaxis": "y"
        },
        {
         "alignmentgroup": "True",
         "hovertemplate": "HS2 Description=LEAD AND ARTICLES THEREOF<br>YearMonth=%{x}<br>GEN_VAL_MO=%{y}<extra></extra>",
         "legendgroup": "LEAD AND ARTICLES THEREOF",
         "marker": {
          "color": "#00cc96",
          "pattern": {
           "shape": ""
          }
         },
         "name": "LEAD AND ARTICLES THEREOF",
         "offsetgroup": "LEAD AND ARTICLES THEREOF",
         "orientation": "v",
         "showlegend": true,
         "textposition": "auto",
         "type": "bar",
         "x": [
          "2022-01",
          "2022-02",
          "2022-03",
          "2022-04",
          "2022-05",
          "2022-06",
          "2022-07",
          "2022-08",
          "2022-09",
          "2022-10",
          "2022-11"
         ],
         "xaxis": "x",
         "y": [
          54672,
          282348,
          336519,
          110712,
          3956322,
          749237,
          7652370,
          393513,
          256124,
          33386,
          75009
         ],
         "yaxis": "y"
        },
        {
         "alignmentgroup": "True",
         "hovertemplate": "HS2 Description=ZINC AND ARTICLES THEREOF<br>YearMonth=%{x}<br>GEN_VAL_MO=%{y}<extra></extra>",
         "legendgroup": "ZINC AND ARTICLES THEREOF",
         "marker": {
          "color": "#ab63fa",
          "pattern": {
           "shape": ""
          }
         },
         "name": "ZINC AND ARTICLES THEREOF",
         "offsetgroup": "ZINC AND ARTICLES THEREOF",
         "orientation": "v",
         "showlegend": true,
         "textposition": "auto",
         "type": "bar",
         "x": [
          "2022-01",
          "2022-02",
          "2022-03",
          "2022-04",
          "2022-05",
          "2022-06",
          "2022-07",
          "2022-08",
          "2022-09",
          "2022-10",
          "2022-11"
         ],
         "xaxis": "x",
         "y": [
          3694160,
          6301576,
          4735720,
          4615893,
          6075863,
          4096502,
          5225449,
          4178997,
          3792532,
          4101812,
          4478969
         ],
         "yaxis": "y"
        },
        {
         "alignmentgroup": "True",
         "hovertemplate": "HS2 Description=TIN AND ARTICLES THEREOF<br>YearMonth=%{x}<br>GEN_VAL_MO=%{y}<extra></extra>",
         "legendgroup": "TIN AND ARTICLES THEREOF",
         "marker": {
          "color": "#FFA15A",
          "pattern": {
           "shape": ""
          }
         },
         "name": "TIN AND ARTICLES THEREOF",
         "offsetgroup": "TIN AND ARTICLES THEREOF",
         "orientation": "v",
         "showlegend": true,
         "textposition": "auto",
         "type": "bar",
         "x": [
          "2022-01",
          "2022-02",
          "2022-03",
          "2022-04",
          "2022-05",
          "2022-06",
          "2022-07",
          "2022-08",
          "2022-09",
          "2022-10",
          "2022-11"
         ],
         "xaxis": "x",
         "y": [
          12676,
          59138,
          133704,
          310682,
          110326,
          17950,
          73168,
          465154,
          445244,
          110822,
          0
         ],
         "yaxis": "y"
        },
        {
         "alignmentgroup": "True",
         "hovertemplate": "HS2 Description=BASE METALS NESOI; CERMETS; ARTICLES THEREOF<br>YearMonth=%{x}<br>GEN_VAL_MO=%{y}<extra></extra>",
         "legendgroup": "BASE METALS NESOI; CERMETS; ARTICLES THEREOF",
         "marker": {
          "color": "#19d3f3",
          "pattern": {
           "shape": ""
          }
         },
         "name": "BASE METALS NESOI; CERMETS; ARTICLES THEREOF",
         "offsetgroup": "BASE METALS NESOI; CERMETS; ARTICLES THEREOF",
         "orientation": "v",
         "showlegend": true,
         "textposition": "auto",
         "type": "bar",
         "x": [
          "2022-01",
          "2022-02",
          "2022-03",
          "2022-04",
          "2022-05",
          "2022-06",
          "2022-07",
          "2022-08",
          "2022-09",
          "2022-10",
          "2022-11"
         ],
         "xaxis": "x",
         "y": [
          4407352,
          3076725,
          6790617,
          8258931,
          9779453,
          8371494,
          8418036,
          7119189,
          6131310,
          8672743,
          5894555
         ],
         "yaxis": "y"
        },
        {
         "alignmentgroup": "True",
         "hovertemplate": "HS2 Description=TOOLS, IMPLEMENTS, CUTLERY, SPOONS AND FORKS, OF BASE METAL; PARTS THEREOF OF BASE METAL<br>YearMonth=%{x}<br>GEN_VAL_MO=%{y}<extra></extra>",
         "legendgroup": "TOOLS, IMPLEMENTS, CUTLERY, SPOONS AND FORKS, OF BASE METAL; PARTS THEREOF OF BASE METAL",
         "marker": {
          "color": "#FF6692",
          "pattern": {
           "shape": ""
          }
         },
         "name": "TOOLS, IMPLEMENTS, CUTLERY, SPOONS AND FORKS, OF BASE METAL; PARTS THEREOF OF BASE METAL",
         "offsetgroup": "TOOLS, IMPLEMENTS, CUTLERY, SPOONS AND FORKS, OF BASE METAL; PARTS THEREOF OF BASE METAL",
         "orientation": "v",
         "showlegend": true,
         "textposition": "auto",
         "type": "bar",
         "x": [
          "2022-01",
          "2022-02",
          "2022-03",
          "2022-04",
          "2022-05",
          "2022-06",
          "2022-07",
          "2022-08",
          "2022-09",
          "2022-10",
          "2022-11"
         ],
         "xaxis": "x",
         "y": [
          73964067,
          77959172,
          95049994,
          104708444,
          101716962,
          87982282,
          87745002,
          81859556,
          97614201,
          84892242,
          78358440
         ],
         "yaxis": "y"
        },
        {
         "alignmentgroup": "True",
         "hovertemplate": "HS2 Description=MISCELLANEOUS ARTICLES OF BASE METAL<br>YearMonth=%{x}<br>GEN_VAL_MO=%{y}<extra></extra>",
         "legendgroup": "MISCELLANEOUS ARTICLES OF BASE METAL",
         "marker": {
          "color": "#B6E880",
          "pattern": {
           "shape": ""
          }
         },
         "name": "MISCELLANEOUS ARTICLES OF BASE METAL",
         "offsetgroup": "MISCELLANEOUS ARTICLES OF BASE METAL",
         "orientation": "v",
         "showlegend": true,
         "textposition": "auto",
         "type": "bar",
         "x": [
          "2022-01",
          "2022-02",
          "2022-03",
          "2022-04",
          "2022-05",
          "2022-06",
          "2022-07",
          "2022-08",
          "2022-09",
          "2022-10",
          "2022-11"
         ],
         "xaxis": "x",
         "y": [
          99451645,
          99487554,
          104009082,
          130367647,
          134791445,
          102131684,
          113742943,
          100086043,
          106078376,
          90448419,
          96845909
         ],
         "yaxis": "y"
        },
        {
         "alignmentgroup": "True",
         "hovertemplate": "HS2 Description=NUCLEAR REACTORS, BOILERS, MACHINERY AND MECHANICAL APPLIANCES; PARTS THEREOF<br>YearMonth=%{x}<br>GEN_VAL_MO=%{y}<extra></extra>",
         "legendgroup": "NUCLEAR REACTORS, BOILERS, MACHINERY AND MECHANICAL APPLIANCES; PARTS THEREOF",
         "marker": {
          "color": "#FF97FF",
          "pattern": {
           "shape": ""
          }
         },
         "name": "NUCLEAR REACTORS, BOILERS, MACHINERY AND MECHANICAL APPLIANCES; PARTS THEREOF",
         "offsetgroup": "NUCLEAR REACTORS, BOILERS, MACHINERY AND MECHANICAL APPLIANCES; PARTS THEREOF",
         "orientation": "v",
         "showlegend": true,
         "textposition": "auto",
         "type": "bar",
         "x": [
          "2022-01",
          "2022-02",
          "2022-03",
          "2022-04",
          "2022-05",
          "2022-06",
          "2022-07",
          "2022-08",
          "2022-09",
          "2022-10",
          "2022-11"
         ],
         "xaxis": "x",
         "y": [
          737105118,
          732495121,
          984755244,
          996166927,
          1072263263,
          913557249,
          925702409,
          970428277,
          1032798943,
          1042908685,
          986778207
         ],
         "yaxis": "y"
        },
        {
         "alignmentgroup": "True",
         "hovertemplate": "HS2 Description=ELECTRICAL MACHINERY AND EQUIPMENT AND PARTS THEREOF; SOUND RECORDERS AND REPRODUCERS, TELEVISION RECORDERS AND REPRODUCERS, PARTS AND ACCESSORIES<br>YearMonth=%{x}<br>GEN_VAL_MO=%{y}<extra></extra>",
         "legendgroup": "ELECTRICAL MACHINERY AND EQUIPMENT AND PARTS THEREOF; SOUND RECORDERS AND REPRODUCERS, TELEVISION RECORDERS AND REPRODUCERS, PARTS AND ACCESSORIES",
         "marker": {
          "color": "#FECB52",
          "pattern": {
           "shape": ""
          }
         },
         "name": "ELECTRICAL MACHINERY AND EQUIPMENT AND PARTS THEREOF; SOUND RECORDERS AND REPRODUCERS, TELEVISION RECORDERS AND REPRODUCERS, PARTS AND ACCESSORIES",
         "offsetgroup": "ELECTRICAL MACHINERY AND EQUIPMENT AND PARTS THEREOF; SOUND RECORDERS AND REPRODUCERS, TELEVISION RECORDERS AND REPRODUCERS, PARTS AND ACCESSORIES",
         "orientation": "v",
         "showlegend": true,
         "textposition": "auto",
         "type": "bar",
         "x": [
          "2022-01",
          "2022-02",
          "2022-03",
          "2022-04",
          "2022-05",
          "2022-06",
          "2022-07",
          "2022-08",
          "2022-09",
          "2022-10",
          "2022-11"
         ],
         "xaxis": "x",
         "y": [
          634002506,
          551918579,
          684515701,
          730191051,
          948448216,
          827955828,
          894489905,
          830923789,
          947652687,
          998632943,
          910515155
         ],
         "yaxis": "y"
        },
        {
         "alignmentgroup": "True",
         "hovertemplate": "HS2 Description=RAILWAY OR TRAMWAY LOCOMOTIVES, ROLLING STOCK, TRACK FIXTURES AND FITTINGS, AND PARTS THEREOF; MECHANICAL ETC. TRAFFIC SIGNAL EQUIPMENT OF ALL KINDS<br>YearMonth=%{x}<br>GEN_VAL_MO=%{y}<extra></extra>",
         "legendgroup": "RAILWAY OR TRAMWAY LOCOMOTIVES, ROLLING STOCK, TRACK FIXTURES AND FITTINGS, AND PARTS THEREOF; MECHANICAL ETC. TRAFFIC SIGNAL EQUIPMENT OF ALL KINDS",
         "marker": {
          "color": "#636efa",
          "pattern": {
           "shape": ""
          }
         },
         "name": "RAILWAY OR TRAMWAY LOCOMOTIVES, ROLLING STOCK, TRACK FIXTURES AND FITTINGS, AND PARTS THEREOF; MECHANICAL ETC. TRAFFIC SIGNAL EQUIPMENT OF ALL KINDS",
         "offsetgroup": "RAILWAY OR TRAMWAY LOCOMOTIVES, ROLLING STOCK, TRACK FIXTURES AND FITTINGS, AND PARTS THEREOF; MECHANICAL ETC. TRAFFIC SIGNAL EQUIPMENT OF ALL KINDS",
         "orientation": "v",
         "showlegend": true,
         "textposition": "auto",
         "type": "bar",
         "x": [
          "2022-01",
          "2022-02",
          "2022-03",
          "2022-04",
          "2022-05",
          "2022-06",
          "2022-07",
          "2022-08",
          "2022-09",
          "2022-10",
          "2022-11"
         ],
         "xaxis": "x",
         "y": [
          2924044,
          5180880,
          3910164,
          5023280,
          4499488,
          5537191,
          4984768,
          6268472,
          5469410,
          7708284,
          6076683
         ],
         "yaxis": "y"
        },
        {
         "alignmentgroup": "True",
         "hovertemplate": "HS2 Description=VEHICLES, OTHER THAN RAILWAY OR TRAMWAY ROLLING STOCK, AND PARTS AND ACCESSORIES THEREOF<br>YearMonth=%{x}<br>GEN_VAL_MO=%{y}<extra></extra>",
         "legendgroup": "VEHICLES, OTHER THAN RAILWAY OR TRAMWAY ROLLING STOCK, AND PARTS AND ACCESSORIES THEREOF",
         "marker": {
          "color": "#EF553B",
          "pattern": {
           "shape": ""
          }
         },
         "name": "VEHICLES, OTHER THAN RAILWAY OR TRAMWAY ROLLING STOCK, AND PARTS AND ACCESSORIES THEREOF",
         "offsetgroup": "VEHICLES, OTHER THAN RAILWAY OR TRAMWAY ROLLING STOCK, AND PARTS AND ACCESSORIES THEREOF",
         "orientation": "v",
         "showlegend": true,
         "textposition": "auto",
         "type": "bar",
         "x": [
          "2022-01",
          "2022-02",
          "2022-03",
          "2022-04",
          "2022-05",
          "2022-06",
          "2022-07",
          "2022-08",
          "2022-09",
          "2022-10",
          "2022-11"
         ],
         "xaxis": "x",
         "y": [
          288827401,
          296989154,
          350087952,
          364955073,
          440681810,
          387260104,
          444684333,
          372947549,
          392332308,
          326735780,
          314550334
         ],
         "yaxis": "y"
        },
        {
         "alignmentgroup": "True",
         "hovertemplate": "HS2 Description=AIRCRAFT, SPACECRAFT, AND PARTS THEREOF<br>YearMonth=%{x}<br>GEN_VAL_MO=%{y}<extra></extra>",
         "legendgroup": "AIRCRAFT, SPACECRAFT, AND PARTS THEREOF",
         "marker": {
          "color": "#00cc96",
          "pattern": {
           "shape": ""
          }
         },
         "name": "AIRCRAFT, SPACECRAFT, AND PARTS THEREOF",
         "offsetgroup": "AIRCRAFT, SPACECRAFT, AND PARTS THEREOF",
         "orientation": "v",
         "showlegend": true,
         "textposition": "auto",
         "type": "bar",
         "x": [
          "2022-01",
          "2022-02",
          "2022-03",
          "2022-04",
          "2022-05",
          "2022-06",
          "2022-07",
          "2022-08",
          "2022-09",
          "2022-10",
          "2022-11"
         ],
         "xaxis": "x",
         "y": [
          26876716,
          13909420,
          17025535,
          12996016,
          20000831,
          22965354,
          19710132,
          16476945,
          20255996,
          15510145,
          19618080
         ],
         "yaxis": "y"
        },
        {
         "alignmentgroup": "True",
         "hovertemplate": "HS2 Description=SHIPS, BOATS AND FLOATING STRUCTURES<br>YearMonth=%{x}<br>GEN_VAL_MO=%{y}<extra></extra>",
         "legendgroup": "SHIPS, BOATS AND FLOATING STRUCTURES",
         "marker": {
          "color": "#ab63fa",
          "pattern": {
           "shape": ""
          }
         },
         "name": "SHIPS, BOATS AND FLOATING STRUCTURES",
         "offsetgroup": "SHIPS, BOATS AND FLOATING STRUCTURES",
         "orientation": "v",
         "showlegend": true,
         "textposition": "auto",
         "type": "bar",
         "x": [
          "2022-01",
          "2022-02",
          "2022-03",
          "2022-04",
          "2022-05",
          "2022-06",
          "2022-07",
          "2022-08",
          "2022-09",
          "2022-10",
          "2022-11"
         ],
         "xaxis": "x",
         "y": [
          21608,
          74144,
          0,
          2768,
          0,
          0,
          0,
          0,
          0,
          0,
          0
         ],
         "yaxis": "y"
        },
        {
         "alignmentgroup": "True",
         "hovertemplate": "HS2 Description=OPTICAL, PHOTOGRAPHIC, CINEMATOGRAPHIC, MEASURING, CHECKING, PRECISION, MEDICAL OR SURGICAL INSTRUMENTS AND APPARATUS; PARTS AND ACCESSORIES THEREOF<br>YearMonth=%{x}<br>GEN_VAL_MO=%{y}<extra></extra>",
         "legendgroup": "OPTICAL, PHOTOGRAPHIC, CINEMATOGRAPHIC, MEASURING, CHECKING, PRECISION, MEDICAL OR SURGICAL INSTRUMENTS AND APPARATUS; PARTS AND ACCESSORIES THEREOF",
         "marker": {
          "color": "#FFA15A",
          "pattern": {
           "shape": ""
          }
         },
         "name": "OPTICAL, PHOTOGRAPHIC, CINEMATOGRAPHIC, MEASURING, CHECKING, PRECISION, MEDICAL OR SURGICAL INSTRUMENTS AND APPARATUS; PARTS AND ACCESSORIES THEREOF",
         "offsetgroup": "OPTICAL, PHOTOGRAPHIC, CINEMATOGRAPHIC, MEASURING, CHECKING, PRECISION, MEDICAL OR SURGICAL INSTRUMENTS AND APPARATUS; PARTS AND ACCESSORIES THEREOF",
         "orientation": "v",
         "showlegend": true,
         "textposition": "auto",
         "type": "bar",
         "x": [
          "2022-01",
          "2022-02",
          "2022-03",
          "2022-04",
          "2022-05",
          "2022-06",
          "2022-07",
          "2022-08",
          "2022-09",
          "2022-10",
          "2022-11"
         ],
         "xaxis": "x",
         "y": [
          110682416,
          108327751,
          118375666,
          147775040,
          127929548,
          125920021,
          124111062,
          124018343,
          139086541,
          132402229,
          151489839
         ],
         "yaxis": "y"
        },
        {
         "alignmentgroup": "True",
         "hovertemplate": "HS2 Description=CLOCKS AND WATCHES AND PARTS THEREOF<br>YearMonth=%{x}<br>GEN_VAL_MO=%{y}<extra></extra>",
         "legendgroup": "CLOCKS AND WATCHES AND PARTS THEREOF",
         "marker": {
          "color": "#19d3f3",
          "pattern": {
           "shape": ""
          }
         },
         "name": "CLOCKS AND WATCHES AND PARTS THEREOF",
         "offsetgroup": "CLOCKS AND WATCHES AND PARTS THEREOF",
         "orientation": "v",
         "showlegend": true,
         "textposition": "auto",
         "type": "bar",
         "x": [
          "2022-01",
          "2022-02",
          "2022-03",
          "2022-04",
          "2022-05",
          "2022-06",
          "2022-07",
          "2022-08",
          "2022-09",
          "2022-10",
          "2022-11"
         ],
         "xaxis": "x",
         "y": [
          838445,
          1014368,
          1110787,
          1319057,
          1567299,
          798443,
          625448,
          1116945,
          440596,
          518717,
          723202
         ],
         "yaxis": "y"
        },
        {
         "alignmentgroup": "True",
         "hovertemplate": "HS2 Description=MUSICAL INSTRUMENTS; PARTS AND ACCESSORIES THEREOF<br>YearMonth=%{x}<br>GEN_VAL_MO=%{y}<extra></extra>",
         "legendgroup": "MUSICAL INSTRUMENTS; PARTS AND ACCESSORIES THEREOF",
         "marker": {
          "color": "#FF6692",
          "pattern": {
           "shape": ""
          }
         },
         "name": "MUSICAL INSTRUMENTS; PARTS AND ACCESSORIES THEREOF",
         "offsetgroup": "MUSICAL INSTRUMENTS; PARTS AND ACCESSORIES THEREOF",
         "orientation": "v",
         "showlegend": true,
         "textposition": "auto",
         "type": "bar",
         "x": [
          "2022-01",
          "2022-02",
          "2022-03",
          "2022-04",
          "2022-05",
          "2022-06",
          "2022-07",
          "2022-08",
          "2022-09",
          "2022-10",
          "2022-11"
         ],
         "xaxis": "x",
         "y": [
          660821,
          1592672,
          1887436,
          1906919,
          593647,
          2022282,
          908494,
          540082,
          754262,
          1126788,
          1176812
         ],
         "yaxis": "y"
        },
        {
         "alignmentgroup": "True",
         "hovertemplate": "HS2 Description=ARMS AND AMMUNITION; PARTS AND ACCESSORIES THEREOF<br>YearMonth=%{x}<br>GEN_VAL_MO=%{y}<extra></extra>",
         "legendgroup": "ARMS AND AMMUNITION; PARTS AND ACCESSORIES THEREOF",
         "marker": {
          "color": "#B6E880",
          "pattern": {
           "shape": ""
          }
         },
         "name": "ARMS AND AMMUNITION; PARTS AND ACCESSORIES THEREOF",
         "offsetgroup": "ARMS AND AMMUNITION; PARTS AND ACCESSORIES THEREOF",
         "orientation": "v",
         "showlegend": true,
         "textposition": "auto",
         "type": "bar",
         "x": [
          "2022-01",
          "2022-02",
          "2022-03",
          "2022-04",
          "2022-05",
          "2022-06",
          "2022-07",
          "2022-08",
          "2022-09",
          "2022-10",
          "2022-11"
         ],
         "xaxis": "x",
         "y": [
          3340520,
          5925293,
          5994171,
          7326434,
          6967311,
          4965040,
          4869079,
          4425050,
          5110560,
          5337407,
          5755797
         ],
         "yaxis": "y"
        },
        {
         "alignmentgroup": "True",
         "hovertemplate": "HS2 Description=FURNITURE; BEDDING, CUSHIONS ETC.; LAMPS AND LIGHTING FITTINGS NESOI; ILLUMINATED SIGNS, NAMEPLATES AND THE LIKE; PREFABRICATED BUILDINGS<br>YearMonth=%{x}<br>GEN_VAL_MO=%{y}<extra></extra>",
         "legendgroup": "FURNITURE; BEDDING, CUSHIONS ETC.; LAMPS AND LIGHTING FITTINGS NESOI; ILLUMINATED SIGNS, NAMEPLATES AND THE LIKE; PREFABRICATED BUILDINGS",
         "marker": {
          "color": "#FF97FF",
          "pattern": {
           "shape": ""
          }
         },
         "name": "FURNITURE; BEDDING, CUSHIONS ETC.; LAMPS AND LIGHTING FITTINGS NESOI; ILLUMINATED SIGNS, NAMEPLATES AND THE LIKE; PREFABRICATED BUILDINGS",
         "offsetgroup": "FURNITURE; BEDDING, CUSHIONS ETC.; LAMPS AND LIGHTING FITTINGS NESOI; ILLUMINATED SIGNS, NAMEPLATES AND THE LIKE; PREFABRICATED BUILDINGS",
         "orientation": "v",
         "showlegend": true,
         "textposition": "auto",
         "type": "bar",
         "x": [
          "2022-01",
          "2022-02",
          "2022-03",
          "2022-04",
          "2022-05",
          "2022-06",
          "2022-07",
          "2022-08",
          "2022-09",
          "2022-10",
          "2022-11"
         ],
         "xaxis": "x",
         "y": [
          207635949,
          219577766,
          253438691,
          270040889,
          261983559,
          199241352,
          223043469,
          177709809,
          200116243,
          170888635,
          188337943
         ],
         "yaxis": "y"
        },
        {
         "alignmentgroup": "True",
         "hovertemplate": "HS2 Description=TOYS, GAMES AND SPORTS EQUIPMENT; PARTS AND ACCESSORIES THEREOF<br>YearMonth=%{x}<br>GEN_VAL_MO=%{y}<extra></extra>",
         "legendgroup": "TOYS, GAMES AND SPORTS EQUIPMENT; PARTS AND ACCESSORIES THEREOF",
         "marker": {
          "color": "#FECB52",
          "pattern": {
           "shape": ""
          }
         },
         "name": "TOYS, GAMES AND SPORTS EQUIPMENT; PARTS AND ACCESSORIES THEREOF",
         "offsetgroup": "TOYS, GAMES AND SPORTS EQUIPMENT; PARTS AND ACCESSORIES THEREOF",
         "orientation": "v",
         "showlegend": true,
         "textposition": "auto",
         "type": "bar",
         "x": [
          "2022-01",
          "2022-02",
          "2022-03",
          "2022-04",
          "2022-05",
          "2022-06",
          "2022-07",
          "2022-08",
          "2022-09",
          "2022-10",
          "2022-11"
         ],
         "xaxis": "x",
         "y": [
          42551665,
          36689220,
          49368388,
          46024873,
          48565485,
          53671568,
          86829921,
          98310997,
          100676126,
          68168477,
          48245663
         ],
         "yaxis": "y"
        },
        {
         "alignmentgroup": "True",
         "hovertemplate": "HS2 Description=MISCELLANEOUS MANUFACTURED ARTICLES<br>YearMonth=%{x}<br>GEN_VAL_MO=%{y}<extra></extra>",
         "legendgroup": "MISCELLANEOUS MANUFACTURED ARTICLES",
         "marker": {
          "color": "#636efa",
          "pattern": {
           "shape": ""
          }
         },
         "name": "MISCELLANEOUS MANUFACTURED ARTICLES",
         "offsetgroup": "MISCELLANEOUS MANUFACTURED ARTICLES",
         "orientation": "v",
         "showlegend": true,
         "textposition": "auto",
         "type": "bar",
         "x": [
          "2022-01",
          "2022-02",
          "2022-03",
          "2022-04",
          "2022-05",
          "2022-06",
          "2022-07",
          "2022-08",
          "2022-09",
          "2022-10",
          "2022-11"
         ],
         "xaxis": "x",
         "y": [
          28083732,
          29739296,
          38890752,
          35638649,
          43955059,
          50091183,
          42233829,
          33689284,
          34610858,
          31864560,
          28159463
         ],
         "yaxis": "y"
        },
        {
         "alignmentgroup": "True",
         "hovertemplate": "HS2 Description=WORKS OF ART, COLLECTORS' PIECES AND ANTIQUES<br>YearMonth=%{x}<br>GEN_VAL_MO=%{y}<extra></extra>",
         "legendgroup": "WORKS OF ART, COLLECTORS' PIECES AND ANTIQUES",
         "marker": {
          "color": "#EF553B",
          "pattern": {
           "shape": ""
          }
         },
         "name": "WORKS OF ART, COLLECTORS' PIECES AND ANTIQUES",
         "offsetgroup": "WORKS OF ART, COLLECTORS' PIECES AND ANTIQUES",
         "orientation": "v",
         "showlegend": true,
         "textposition": "auto",
         "type": "bar",
         "x": [
          "2022-01",
          "2022-02",
          "2022-03",
          "2022-04",
          "2022-05",
          "2022-06",
          "2022-07",
          "2022-08",
          "2022-09",
          "2022-10",
          "2022-11"
         ],
         "xaxis": "x",
         "y": [
          5531378,
          6419966,
          8255144,
          5383659,
          3411198,
          4289188,
          2065185,
          2639745,
          7362044,
          6628020,
          2921285
         ],
         "yaxis": "y"
        },
        {
         "alignmentgroup": "True",
         "hovertemplate": "HS2 Description=SPECIAL CLASSIFICATION PROVISIONS, NESOI<br>YearMonth=%{x}<br>GEN_VAL_MO=%{y}<extra></extra>",
         "legendgroup": "SPECIAL CLASSIFICATION PROVISIONS, NESOI",
         "marker": {
          "color": "#00cc96",
          "pattern": {
           "shape": ""
          }
         },
         "name": "SPECIAL CLASSIFICATION PROVISIONS, NESOI",
         "offsetgroup": "SPECIAL CLASSIFICATION PROVISIONS, NESOI",
         "orientation": "v",
         "showlegend": true,
         "textposition": "auto",
         "type": "bar",
         "x": [
          "2022-01",
          "2022-02",
          "2022-03",
          "2022-04",
          "2022-05",
          "2022-06",
          "2022-07",
          "2022-08",
          "2022-09",
          "2022-10",
          "2022-11"
         ],
         "xaxis": "x",
         "y": [
          74403232,
          81914322,
          97152039,
          107223870,
          123076395,
          92743098,
          99092247,
          102372342,
          102336532,
          88687060,
          128282301
         ],
         "yaxis": "y"
        },
        {
         "alignmentgroup": "True",
         "hovertemplate": "HS2 Description=SPECIAL IMPORT REPORTING PROVISIONS, NESOI<br>YearMonth=%{x}<br>GEN_VAL_MO=%{y}<extra></extra>",
         "legendgroup": "SPECIAL IMPORT REPORTING PROVISIONS, NESOI",
         "marker": {
          "color": "#ab63fa",
          "pattern": {
           "shape": ""
          }
         },
         "name": "SPECIAL IMPORT REPORTING PROVISIONS, NESOI",
         "offsetgroup": "SPECIAL IMPORT REPORTING PROVISIONS, NESOI",
         "orientation": "v",
         "showlegend": true,
         "textposition": "auto",
         "type": "bar",
         "x": [
          "2022-01",
          "2022-02",
          "2022-03",
          "2022-04",
          "2022-05",
          "2022-06",
          "2022-07",
          "2022-08",
          "2022-09",
          "2022-10",
          "2022-11"
         ],
         "xaxis": "x",
         "y": [
          96980781,
          84533412,
          100440351,
          98061327,
          103525371,
          98699961,
          96954804,
          99548853,
          111947388,
          111971499,
          107753796
         ],
         "yaxis": "y"
        },
        {
         "alignmentgroup": "True",
         "hovertemplate": "HS2 Description=LIVE ANIMALS<br>YearMonth=%{x}<br>GEN_VAL_MO=%{y}<extra></extra>",
         "legendgroup": "LIVE ANIMALS",
         "marker": {
          "color": "#FFA15A",
          "pattern": {
           "shape": ""
          }
         },
         "name": "LIVE ANIMALS",
         "offsetgroup": "LIVE ANIMALS",
         "orientation": "v",
         "showlegend": true,
         "textposition": "auto",
         "type": "bar",
         "x": [
          "2022-02",
          "2022-03",
          "2022-04",
          "2022-05",
          "2022-06",
          "2022-07",
          "2022-08",
          "2022-09",
          "2022-10",
          "2022-11"
         ],
         "xaxis": "x",
         "y": [
          7130,
          0,
          0,
          5000,
          0,
          0,
          2500,
          3000,
          3000,
          0
         ],
         "yaxis": "y"
        },
        {
         "alignmentgroup": "True",
         "hovertemplate": "HS2 Description=PHOTOGRAPHIC OR CINEMATOGRAPHIC GOODS<br>YearMonth=%{x}<br>GEN_VAL_MO=%{y}<extra></extra>",
         "legendgroup": "PHOTOGRAPHIC OR CINEMATOGRAPHIC GOODS",
         "marker": {
          "color": "#19d3f3",
          "pattern": {
           "shape": ""
          }
         },
         "name": "PHOTOGRAPHIC OR CINEMATOGRAPHIC GOODS",
         "offsetgroup": "PHOTOGRAPHIC OR CINEMATOGRAPHIC GOODS",
         "orientation": "v",
         "showlegend": true,
         "textposition": "auto",
         "type": "bar",
         "x": [
          "2022-02",
          "2022-03",
          "2022-04",
          "2022-05",
          "2022-06",
          "2022-07",
          "2022-08",
          "2022-09",
          "2022-10",
          "2022-11"
         ],
         "xaxis": "x",
         "y": [
          35000,
          0,
          173912,
          47486,
          0,
          19262,
          0,
          30600,
          5640,
          0
         ],
         "yaxis": "y"
        },
        {
         "alignmentgroup": "True",
         "hovertemplate": "HS2 Description=PULP OF WOOD OR OTHER FIBROUS CELLULOSIC MATERIAL; RECOVERED (WASTE AND SCRAP) PAPER AND PAPERBOARD<br>YearMonth=%{x}<br>GEN_VAL_MO=%{y}<extra></extra>",
         "legendgroup": "PULP OF WOOD OR OTHER FIBROUS CELLULOSIC MATERIAL; RECOVERED (WASTE AND SCRAP) PAPER AND PAPERBOARD",
         "marker": {
          "color": "#FF6692",
          "pattern": {
           "shape": ""
          }
         },
         "name": "PULP OF WOOD OR OTHER FIBROUS CELLULOSIC MATERIAL; RECOVERED (WASTE AND SCRAP) PAPER AND PAPERBOARD",
         "offsetgroup": "PULP OF WOOD OR OTHER FIBROUS CELLULOSIC MATERIAL; RECOVERED (WASTE AND SCRAP) PAPER AND PAPERBOARD",
         "orientation": "v",
         "showlegend": true,
         "textposition": "auto",
         "type": "bar",
         "x": [
          "2022-05",
          "2022-06",
          "2022-07",
          "2022-08",
          "2022-09",
          "2022-10",
          "2022-11"
         ],
         "xaxis": "x",
         "y": [
          37440,
          0,
          0,
          0,
          0,
          0,
          80849
         ],
         "yaxis": "y"
        }
       ],
       "layout": {
        "barmode": "relative",
        "height": 800,
        "legend": {
         "title": {
          "text": "HS2 Description"
         },
         "tracegroupgap": 0
        },
        "showlegend": true,
        "template": {
         "data": {
          "bar": [
           {
            "error_x": {
             "color": "#2a3f5f"
            },
            "error_y": {
             "color": "#2a3f5f"
            },
            "marker": {
             "line": {
              "color": "#E5ECF6",
              "width": 0.5
             },
             "pattern": {
              "fillmode": "overlay",
              "size": 10,
              "solidity": 0.2
             }
            },
            "type": "bar"
           }
          ],
          "barpolar": [
           {
            "marker": {
             "line": {
              "color": "#E5ECF6",
              "width": 0.5
             },
             "pattern": {
              "fillmode": "overlay",
              "size": 10,
              "solidity": 0.2
             }
            },
            "type": "barpolar"
           }
          ],
          "carpet": [
           {
            "aaxis": {
             "endlinecolor": "#2a3f5f",
             "gridcolor": "white",
             "linecolor": "white",
             "minorgridcolor": "white",
             "startlinecolor": "#2a3f5f"
            },
            "baxis": {
             "endlinecolor": "#2a3f5f",
             "gridcolor": "white",
             "linecolor": "white",
             "minorgridcolor": "white",
             "startlinecolor": "#2a3f5f"
            },
            "type": "carpet"
           }
          ],
          "choropleth": [
           {
            "colorbar": {
             "outlinewidth": 0,
             "ticks": ""
            },
            "type": "choropleth"
           }
          ],
          "contour": [
           {
            "colorbar": {
             "outlinewidth": 0,
             "ticks": ""
            },
            "colorscale": [
             [
              0,
              "#0d0887"
             ],
             [
              0.1111111111111111,
              "#46039f"
             ],
             [
              0.2222222222222222,
              "#7201a8"
             ],
             [
              0.3333333333333333,
              "#9c179e"
             ],
             [
              0.4444444444444444,
              "#bd3786"
             ],
             [
              0.5555555555555556,
              "#d8576b"
             ],
             [
              0.6666666666666666,
              "#ed7953"
             ],
             [
              0.7777777777777778,
              "#fb9f3a"
             ],
             [
              0.8888888888888888,
              "#fdca26"
             ],
             [
              1,
              "#f0f921"
             ]
            ],
            "type": "contour"
           }
          ],
          "contourcarpet": [
           {
            "colorbar": {
             "outlinewidth": 0,
             "ticks": ""
            },
            "type": "contourcarpet"
           }
          ],
          "heatmap": [
           {
            "colorbar": {
             "outlinewidth": 0,
             "ticks": ""
            },
            "colorscale": [
             [
              0,
              "#0d0887"
             ],
             [
              0.1111111111111111,
              "#46039f"
             ],
             [
              0.2222222222222222,
              "#7201a8"
             ],
             [
              0.3333333333333333,
              "#9c179e"
             ],
             [
              0.4444444444444444,
              "#bd3786"
             ],
             [
              0.5555555555555556,
              "#d8576b"
             ],
             [
              0.6666666666666666,
              "#ed7953"
             ],
             [
              0.7777777777777778,
              "#fb9f3a"
             ],
             [
              0.8888888888888888,
              "#fdca26"
             ],
             [
              1,
              "#f0f921"
             ]
            ],
            "type": "heatmap"
           }
          ],
          "heatmapgl": [
           {
            "colorbar": {
             "outlinewidth": 0,
             "ticks": ""
            },
            "colorscale": [
             [
              0,
              "#0d0887"
             ],
             [
              0.1111111111111111,
              "#46039f"
             ],
             [
              0.2222222222222222,
              "#7201a8"
             ],
             [
              0.3333333333333333,
              "#9c179e"
             ],
             [
              0.4444444444444444,
              "#bd3786"
             ],
             [
              0.5555555555555556,
              "#d8576b"
             ],
             [
              0.6666666666666666,
              "#ed7953"
             ],
             [
              0.7777777777777778,
              "#fb9f3a"
             ],
             [
              0.8888888888888888,
              "#fdca26"
             ],
             [
              1,
              "#f0f921"
             ]
            ],
            "type": "heatmapgl"
           }
          ],
          "histogram": [
           {
            "marker": {
             "pattern": {
              "fillmode": "overlay",
              "size": 10,
              "solidity": 0.2
             }
            },
            "type": "histogram"
           }
          ],
          "histogram2d": [
           {
            "colorbar": {
             "outlinewidth": 0,
             "ticks": ""
            },
            "colorscale": [
             [
              0,
              "#0d0887"
             ],
             [
              0.1111111111111111,
              "#46039f"
             ],
             [
              0.2222222222222222,
              "#7201a8"
             ],
             [
              0.3333333333333333,
              "#9c179e"
             ],
             [
              0.4444444444444444,
              "#bd3786"
             ],
             [
              0.5555555555555556,
              "#d8576b"
             ],
             [
              0.6666666666666666,
              "#ed7953"
             ],
             [
              0.7777777777777778,
              "#fb9f3a"
             ],
             [
              0.8888888888888888,
              "#fdca26"
             ],
             [
              1,
              "#f0f921"
             ]
            ],
            "type": "histogram2d"
           }
          ],
          "histogram2dcontour": [
           {
            "colorbar": {
             "outlinewidth": 0,
             "ticks": ""
            },
            "colorscale": [
             [
              0,
              "#0d0887"
             ],
             [
              0.1111111111111111,
              "#46039f"
             ],
             [
              0.2222222222222222,
              "#7201a8"
             ],
             [
              0.3333333333333333,
              "#9c179e"
             ],
             [
              0.4444444444444444,
              "#bd3786"
             ],
             [
              0.5555555555555556,
              "#d8576b"
             ],
             [
              0.6666666666666666,
              "#ed7953"
             ],
             [
              0.7777777777777778,
              "#fb9f3a"
             ],
             [
              0.8888888888888888,
              "#fdca26"
             ],
             [
              1,
              "#f0f921"
             ]
            ],
            "type": "histogram2dcontour"
           }
          ],
          "mesh3d": [
           {
            "colorbar": {
             "outlinewidth": 0,
             "ticks": ""
            },
            "type": "mesh3d"
           }
          ],
          "parcoords": [
           {
            "line": {
             "colorbar": {
              "outlinewidth": 0,
              "ticks": ""
             }
            },
            "type": "parcoords"
           }
          ],
          "pie": [
           {
            "automargin": true,
            "type": "pie"
           }
          ],
          "scatter": [
           {
            "fillpattern": {
             "fillmode": "overlay",
             "size": 10,
             "solidity": 0.2
            },
            "type": "scatter"
           }
          ],
          "scatter3d": [
           {
            "line": {
             "colorbar": {
              "outlinewidth": 0,
              "ticks": ""
             }
            },
            "marker": {
             "colorbar": {
              "outlinewidth": 0,
              "ticks": ""
             }
            },
            "type": "scatter3d"
           }
          ],
          "scattercarpet": [
           {
            "marker": {
             "colorbar": {
              "outlinewidth": 0,
              "ticks": ""
             }
            },
            "type": "scattercarpet"
           }
          ],
          "scattergeo": [
           {
            "marker": {
             "colorbar": {
              "outlinewidth": 0,
              "ticks": ""
             }
            },
            "type": "scattergeo"
           }
          ],
          "scattergl": [
           {
            "marker": {
             "colorbar": {
              "outlinewidth": 0,
              "ticks": ""
             }
            },
            "type": "scattergl"
           }
          ],
          "scattermapbox": [
           {
            "marker": {
             "colorbar": {
              "outlinewidth": 0,
              "ticks": ""
             }
            },
            "type": "scattermapbox"
           }
          ],
          "scatterpolar": [
           {
            "marker": {
             "colorbar": {
              "outlinewidth": 0,
              "ticks": ""
             }
            },
            "type": "scatterpolar"
           }
          ],
          "scatterpolargl": [
           {
            "marker": {
             "colorbar": {
              "outlinewidth": 0,
              "ticks": ""
             }
            },
            "type": "scatterpolargl"
           }
          ],
          "scatterternary": [
           {
            "marker": {
             "colorbar": {
              "outlinewidth": 0,
              "ticks": ""
             }
            },
            "type": "scatterternary"
           }
          ],
          "surface": [
           {
            "colorbar": {
             "outlinewidth": 0,
             "ticks": ""
            },
            "colorscale": [
             [
              0,
              "#0d0887"
             ],
             [
              0.1111111111111111,
              "#46039f"
             ],
             [
              0.2222222222222222,
              "#7201a8"
             ],
             [
              0.3333333333333333,
              "#9c179e"
             ],
             [
              0.4444444444444444,
              "#bd3786"
             ],
             [
              0.5555555555555556,
              "#d8576b"
             ],
             [
              0.6666666666666666,
              "#ed7953"
             ],
             [
              0.7777777777777778,
              "#fb9f3a"
             ],
             [
              0.8888888888888888,
              "#fdca26"
             ],
             [
              1,
              "#f0f921"
             ]
            ],
            "type": "surface"
           }
          ],
          "table": [
           {
            "cells": {
             "fill": {
              "color": "#EBF0F8"
             },
             "line": {
              "color": "white"
             }
            },
            "header": {
             "fill": {
              "color": "#C8D4E3"
             },
             "line": {
              "color": "white"
             }
            },
            "type": "table"
           }
          ]
         },
         "layout": {
          "annotationdefaults": {
           "arrowcolor": "#2a3f5f",
           "arrowhead": 0,
           "arrowwidth": 1
          },
          "autotypenumbers": "strict",
          "coloraxis": {
           "colorbar": {
            "outlinewidth": 0,
            "ticks": ""
           }
          },
          "colorscale": {
           "diverging": [
            [
             0,
             "#8e0152"
            ],
            [
             0.1,
             "#c51b7d"
            ],
            [
             0.2,
             "#de77ae"
            ],
            [
             0.3,
             "#f1b6da"
            ],
            [
             0.4,
             "#fde0ef"
            ],
            [
             0.5,
             "#f7f7f7"
            ],
            [
             0.6,
             "#e6f5d0"
            ],
            [
             0.7,
             "#b8e186"
            ],
            [
             0.8,
             "#7fbc41"
            ],
            [
             0.9,
             "#4d9221"
            ],
            [
             1,
             "#276419"
            ]
           ],
           "sequential": [
            [
             0,
             "#0d0887"
            ],
            [
             0.1111111111111111,
             "#46039f"
            ],
            [
             0.2222222222222222,
             "#7201a8"
            ],
            [
             0.3333333333333333,
             "#9c179e"
            ],
            [
             0.4444444444444444,
             "#bd3786"
            ],
            [
             0.5555555555555556,
             "#d8576b"
            ],
            [
             0.6666666666666666,
             "#ed7953"
            ],
            [
             0.7777777777777778,
             "#fb9f3a"
            ],
            [
             0.8888888888888888,
             "#fdca26"
            ],
            [
             1,
             "#f0f921"
            ]
           ],
           "sequentialminus": [
            [
             0,
             "#0d0887"
            ],
            [
             0.1111111111111111,
             "#46039f"
            ],
            [
             0.2222222222222222,
             "#7201a8"
            ],
            [
             0.3333333333333333,
             "#9c179e"
            ],
            [
             0.4444444444444444,
             "#bd3786"
            ],
            [
             0.5555555555555556,
             "#d8576b"
            ],
            [
             0.6666666666666666,
             "#ed7953"
            ],
            [
             0.7777777777777778,
             "#fb9f3a"
            ],
            [
             0.8888888888888888,
             "#fdca26"
            ],
            [
             1,
             "#f0f921"
            ]
           ]
          },
          "colorway": [
           "#636efa",
           "#EF553B",
           "#00cc96",
           "#ab63fa",
           "#FFA15A",
           "#19d3f3",
           "#FF6692",
           "#B6E880",
           "#FF97FF",
           "#FECB52"
          ],
          "font": {
           "color": "#2a3f5f"
          },
          "geo": {
           "bgcolor": "white",
           "lakecolor": "white",
           "landcolor": "#E5ECF6",
           "showlakes": true,
           "showland": true,
           "subunitcolor": "white"
          },
          "hoverlabel": {
           "align": "left"
          },
          "hovermode": "closest",
          "mapbox": {
           "style": "light"
          },
          "paper_bgcolor": "white",
          "plot_bgcolor": "#E5ECF6",
          "polar": {
           "angularaxis": {
            "gridcolor": "white",
            "linecolor": "white",
            "ticks": ""
           },
           "bgcolor": "#E5ECF6",
           "radialaxis": {
            "gridcolor": "white",
            "linecolor": "white",
            "ticks": ""
           }
          },
          "scene": {
           "xaxis": {
            "backgroundcolor": "#E5ECF6",
            "gridcolor": "white",
            "gridwidth": 2,
            "linecolor": "white",
            "showbackground": true,
            "ticks": "",
            "zerolinecolor": "white"
           },
           "yaxis": {
            "backgroundcolor": "#E5ECF6",
            "gridcolor": "white",
            "gridwidth": 2,
            "linecolor": "white",
            "showbackground": true,
            "ticks": "",
            "zerolinecolor": "white"
           },
           "zaxis": {
            "backgroundcolor": "#E5ECF6",
            "gridcolor": "white",
            "gridwidth": 2,
            "linecolor": "white",
            "showbackground": true,
            "ticks": "",
            "zerolinecolor": "white"
           }
          },
          "shapedefaults": {
           "line": {
            "color": "#2a3f5f"
           }
          },
          "ternary": {
           "aaxis": {
            "gridcolor": "white",
            "linecolor": "white",
            "ticks": ""
           },
           "baxis": {
            "gridcolor": "white",
            "linecolor": "white",
            "ticks": ""
           },
           "bgcolor": "#E5ECF6",
           "caxis": {
            "gridcolor": "white",
            "linecolor": "white",
            "ticks": ""
           }
          },
          "title": {
           "x": 0.05
          },
          "xaxis": {
           "automargin": true,
           "gridcolor": "white",
           "linecolor": "white",
           "ticks": "",
           "title": {
            "standoff": 15
           },
           "zerolinecolor": "white",
           "zerolinewidth": 2
          },
          "yaxis": {
           "automargin": true,
           "gridcolor": "white",
           "linecolor": "white",
           "ticks": "",
           "title": {
            "standoff": 15
           },
           "zerolinecolor": "white",
           "zerolinewidth": 2
          }
         }
        },
        "title": {
         "text": "Total Import Values from India 2022 by HS2 Code"
        },
        "width": 1500,
        "xaxis": {
         "anchor": "y",
         "domain": [
          0,
          1
         ],
         "title": {
          "text": "YearMonth"
         }
        },
        "yaxis": {
         "anchor": "x",
         "domain": [
          0,
          1
         ],
         "title": {
          "text": "GEN_VAL_MO"
         }
        }
       }
      }
     },
     "metadata": {},
     "output_type": "display_data"
    },
    {
     "name": "stdout",
     "output_type": "stream",
     "text": [
      "time: 402 ms (started: 2023-01-19 22:00:22 -05:00)\n"
     ]
    }
   ],
   "source": [
    "import plotly.express as px\n",
    "\n",
    "fig = px.bar(hs2Summary, x=\"YearMonth\", y=\"GEN_VAL_MO\", color=\"HS2 Description\", \n",
    "                        width=1500, height=800,\n",
    "                        title=\"Total Import Values from India 2022 by HS2 Code\")\n",
    "fig.update_layout(showlegend=True)\n",
    "fig.show()"
   ]
  },
  {
   "cell_type": "code",
   "execution_count": 60,
   "metadata": {},
   "outputs": [
    {
     "data": {
      "text/html": [
       "<div>\n",
       "<style scoped>\n",
       "    .dataframe tbody tr th:only-of-type {\n",
       "        vertical-align: middle;\n",
       "    }\n",
       "\n",
       "    .dataframe tbody tr th {\n",
       "        vertical-align: top;\n",
       "    }\n",
       "\n",
       "    .dataframe thead th {\n",
       "        text-align: right;\n",
       "    }\n",
       "</style>\n",
       "<table border=\"1\" class=\"dataframe\">\n",
       "  <thead>\n",
       "    <tr style=\"text-align: right;\">\n",
       "      <th></th>\n",
       "      <th>NAICS</th>\n",
       "      <th>NAICS_LDESC</th>\n",
       "      <th>NAICS_SDESC</th>\n",
       "      <th>CTY_CODE</th>\n",
       "      <th>DISTRICT</th>\n",
       "      <th>DIST_NAME</th>\n",
       "      <th>GEN_CHA_MO</th>\n",
       "      <th>GEN_VAL_MO</th>\n",
       "      <th>GEN_CIF_MO</th>\n",
       "      <th>CC_MO</th>\n",
       "      <th>...</th>\n",
       "      <th>AIR_WGT_MO</th>\n",
       "      <th>VES_CHA_MO</th>\n",
       "      <th>VES_VAL_MO</th>\n",
       "      <th>VES_WGT_MO</th>\n",
       "      <th>CTY_NAME</th>\n",
       "      <th>YEAR</th>\n",
       "      <th>MONTH</th>\n",
       "      <th>COMM_LVL</th>\n",
       "      <th>SUMMARY_LVL2</th>\n",
       "      <th>YearMonth</th>\n",
       "    </tr>\n",
       "  </thead>\n",
       "  <tbody>\n",
       "    <tr>\n",
       "      <th>23116</th>\n",
       "      <td>111110</td>\n",
       "      <td>SOYBEANS</td>\n",
       "      <td>SOYBEANS</td>\n",
       "      <td>5330</td>\n",
       "      <td>13</td>\n",
       "      <td>BALTIMORE, MD</td>\n",
       "      <td>112700</td>\n",
       "      <td>769300</td>\n",
       "      <td>882000</td>\n",
       "      <td>7</td>\n",
       "      <td>...</td>\n",
       "      <td>0</td>\n",
       "      <td>112700</td>\n",
       "      <td>769300</td>\n",
       "      <td>660200</td>\n",
       "      <td>INDIA</td>\n",
       "      <td>2022</td>\n",
       "      <td>01</td>\n",
       "      <td>NA6</td>\n",
       "      <td>NACYDT</td>\n",
       "      <td>2022-01</td>\n",
       "    </tr>\n",
       "    <tr>\n",
       "      <th>23117</th>\n",
       "      <td>111120</td>\n",
       "      <td>OILSEEDS (EXCEPT SOYBEAN)</td>\n",
       "      <td>OILSEEDS (EXCEPT SOYBEAN)</td>\n",
       "      <td>5330</td>\n",
       "      <td>9</td>\n",
       "      <td>BUFFALO, NY</td>\n",
       "      <td>74</td>\n",
       "      <td>22078</td>\n",
       "      <td>22152</td>\n",
       "      <td>1</td>\n",
       "      <td>...</td>\n",
       "      <td>0</td>\n",
       "      <td>0</td>\n",
       "      <td>0</td>\n",
       "      <td>0</td>\n",
       "      <td>INDIA</td>\n",
       "      <td>2022</td>\n",
       "      <td>01</td>\n",
       "      <td>NA6</td>\n",
       "      <td>NACYDT</td>\n",
       "      <td>2022-01</td>\n",
       "    </tr>\n",
       "    <tr>\n",
       "      <th>23118</th>\n",
       "      <td>111120</td>\n",
       "      <td>OILSEEDS (EXCEPT SOYBEAN)</td>\n",
       "      <td>OILSEEDS (EXCEPT SOYBEAN)</td>\n",
       "      <td>5330</td>\n",
       "      <td>4</td>\n",
       "      <td>BOSTON, MA</td>\n",
       "      <td>710</td>\n",
       "      <td>4748</td>\n",
       "      <td>5458</td>\n",
       "      <td>1</td>\n",
       "      <td>...</td>\n",
       "      <td>0</td>\n",
       "      <td>710</td>\n",
       "      <td>4748</td>\n",
       "      <td>1212</td>\n",
       "      <td>INDIA</td>\n",
       "      <td>2022</td>\n",
       "      <td>01</td>\n",
       "      <td>NA6</td>\n",
       "      <td>NACYDT</td>\n",
       "      <td>2022-01</td>\n",
       "    </tr>\n",
       "    <tr>\n",
       "      <th>23119</th>\n",
       "      <td>111120</td>\n",
       "      <td>OILSEEDS (EXCEPT SOYBEAN)</td>\n",
       "      <td>OILSEEDS (EXCEPT SOYBEAN)</td>\n",
       "      <td>5330</td>\n",
       "      <td>7</td>\n",
       "      <td>OGDENSBURG, NY</td>\n",
       "      <td>390</td>\n",
       "      <td>29512</td>\n",
       "      <td>29902</td>\n",
       "      <td>3</td>\n",
       "      <td>...</td>\n",
       "      <td>0</td>\n",
       "      <td>0</td>\n",
       "      <td>0</td>\n",
       "      <td>0</td>\n",
       "      <td>INDIA</td>\n",
       "      <td>2022</td>\n",
       "      <td>01</td>\n",
       "      <td>NA6</td>\n",
       "      <td>NACYDT</td>\n",
       "      <td>2022-01</td>\n",
       "    </tr>\n",
       "    <tr>\n",
       "      <th>23120</th>\n",
       "      <td>111120</td>\n",
       "      <td>OILSEEDS (EXCEPT SOYBEAN)</td>\n",
       "      <td>OILSEEDS (EXCEPT SOYBEAN)</td>\n",
       "      <td>5330</td>\n",
       "      <td>10</td>\n",
       "      <td>NEW YORK CITY, NY</td>\n",
       "      <td>154429</td>\n",
       "      <td>1409019</td>\n",
       "      <td>1563448</td>\n",
       "      <td>59</td>\n",
       "      <td>...</td>\n",
       "      <td>100</td>\n",
       "      <td>154339</td>\n",
       "      <td>1406908</td>\n",
       "      <td>719305</td>\n",
       "      <td>INDIA</td>\n",
       "      <td>2022</td>\n",
       "      <td>01</td>\n",
       "      <td>NA6</td>\n",
       "      <td>NACYDT</td>\n",
       "      <td>2022-01</td>\n",
       "    </tr>\n",
       "    <tr>\n",
       "      <th>...</th>\n",
       "      <td>...</td>\n",
       "      <td>...</td>\n",
       "      <td>...</td>\n",
       "      <td>...</td>\n",
       "      <td>...</td>\n",
       "      <td>...</td>\n",
       "      <td>...</td>\n",
       "      <td>...</td>\n",
       "      <td>...</td>\n",
       "      <td>...</td>\n",
       "      <td>...</td>\n",
       "      <td>...</td>\n",
       "      <td>...</td>\n",
       "      <td>...</td>\n",
       "      <td>...</td>\n",
       "      <td>...</td>\n",
       "      <td>...</td>\n",
       "      <td>...</td>\n",
       "      <td>...</td>\n",
       "      <td>...</td>\n",
       "      <td>...</td>\n",
       "    </tr>\n",
       "    <tr>\n",
       "      <th>47271</th>\n",
       "      <td>990000</td>\n",
       "      <td>OTHER SPECIAL CLASSIFICATION PROVISIONS</td>\n",
       "      <td>OTHER SPECIAL CLASSIFICATION PROVISIONS</td>\n",
       "      <td>5330</td>\n",
       "      <td>41</td>\n",
       "      <td>CLEVELAND, OH</td>\n",
       "      <td>2575</td>\n",
       "      <td>15565</td>\n",
       "      <td>18140</td>\n",
       "      <td>3</td>\n",
       "      <td>...</td>\n",
       "      <td>308</td>\n",
       "      <td>0</td>\n",
       "      <td>0</td>\n",
       "      <td>0</td>\n",
       "      <td>INDIA</td>\n",
       "      <td>2022</td>\n",
       "      <td>11</td>\n",
       "      <td>NA6</td>\n",
       "      <td>NACYDT</td>\n",
       "      <td>2022-11</td>\n",
       "    </tr>\n",
       "    <tr>\n",
       "      <th>47272</th>\n",
       "      <td>990000</td>\n",
       "      <td>OTHER SPECIAL CLASSIFICATION PROVISIONS</td>\n",
       "      <td>OTHER SPECIAL CLASSIFICATION PROVISIONS</td>\n",
       "      <td>5330</td>\n",
       "      <td>45</td>\n",
       "      <td>ST. LOUIS, MO</td>\n",
       "      <td>0</td>\n",
       "      <td>0</td>\n",
       "      <td>0</td>\n",
       "      <td>0</td>\n",
       "      <td>...</td>\n",
       "      <td>0</td>\n",
       "      <td>0</td>\n",
       "      <td>0</td>\n",
       "      <td>0</td>\n",
       "      <td>INDIA</td>\n",
       "      <td>2022</td>\n",
       "      <td>11</td>\n",
       "      <td>NA6</td>\n",
       "      <td>NACYDT</td>\n",
       "      <td>2022-11</td>\n",
       "    </tr>\n",
       "    <tr>\n",
       "      <th>47273</th>\n",
       "      <td>990000</td>\n",
       "      <td>OTHER SPECIAL CLASSIFICATION PROVISIONS</td>\n",
       "      <td>OTHER SPECIAL CLASSIFICATION PROVISIONS</td>\n",
       "      <td>5330</td>\n",
       "      <td>53</td>\n",
       "      <td>HOUSTON-GALVESTON, TX</td>\n",
       "      <td>1</td>\n",
       "      <td>17571</td>\n",
       "      <td>17572</td>\n",
       "      <td>1</td>\n",
       "      <td>...</td>\n",
       "      <td>0</td>\n",
       "      <td>1</td>\n",
       "      <td>17571</td>\n",
       "      <td>1833</td>\n",
       "      <td>INDIA</td>\n",
       "      <td>2022</td>\n",
       "      <td>11</td>\n",
       "      <td>NA6</td>\n",
       "      <td>NACYDT</td>\n",
       "      <td>2022-11</td>\n",
       "    </tr>\n",
       "    <tr>\n",
       "      <th>47274</th>\n",
       "      <td>990000</td>\n",
       "      <td>OTHER SPECIAL CLASSIFICATION PROVISIONS</td>\n",
       "      <td>OTHER SPECIAL CLASSIFICATION PROVISIONS</td>\n",
       "      <td>5330</td>\n",
       "      <td>55</td>\n",
       "      <td>DALLAS-FORT WORTH, TX</td>\n",
       "      <td>15000</td>\n",
       "      <td>109117</td>\n",
       "      <td>124117</td>\n",
       "      <td>2</td>\n",
       "      <td>...</td>\n",
       "      <td>7698</td>\n",
       "      <td>0</td>\n",
       "      <td>0</td>\n",
       "      <td>0</td>\n",
       "      <td>INDIA</td>\n",
       "      <td>2022</td>\n",
       "      <td>11</td>\n",
       "      <td>NA6</td>\n",
       "      <td>NACYDT</td>\n",
       "      <td>2022-11</td>\n",
       "    </tr>\n",
       "    <tr>\n",
       "      <th>47275</th>\n",
       "      <td>990000</td>\n",
       "      <td>OTHER SPECIAL CLASSIFICATION PROVISIONS</td>\n",
       "      <td>OTHER SPECIAL CLASSIFICATION PROVISIONS</td>\n",
       "      <td>5330</td>\n",
       "      <td>70</td>\n",
       "      <td>LOW VALUE</td>\n",
       "      <td>0</td>\n",
       "      <td>35917932</td>\n",
       "      <td>35917932</td>\n",
       "      <td>1</td>\n",
       "      <td>...</td>\n",
       "      <td>0</td>\n",
       "      <td>0</td>\n",
       "      <td>0</td>\n",
       "      <td>0</td>\n",
       "      <td>INDIA</td>\n",
       "      <td>2022</td>\n",
       "      <td>11</td>\n",
       "      <td>NA6</td>\n",
       "      <td>NACYDT</td>\n",
       "      <td>2022-11</td>\n",
       "    </tr>\n",
       "  </tbody>\n",
       "</table>\n",
       "<p>72284 rows × 25 columns</p>\n",
       "</div>"
      ],
      "text/plain": [
       "        NAICS                              NAICS_LDESC  \\\n",
       "23116  111110                                 SOYBEANS   \n",
       "23117  111120                OILSEEDS (EXCEPT SOYBEAN)   \n",
       "23118  111120                OILSEEDS (EXCEPT SOYBEAN)   \n",
       "23119  111120                OILSEEDS (EXCEPT SOYBEAN)   \n",
       "23120  111120                OILSEEDS (EXCEPT SOYBEAN)   \n",
       "...       ...                                      ...   \n",
       "47271  990000  OTHER SPECIAL CLASSIFICATION PROVISIONS   \n",
       "47272  990000  OTHER SPECIAL CLASSIFICATION PROVISIONS   \n",
       "47273  990000  OTHER SPECIAL CLASSIFICATION PROVISIONS   \n",
       "47274  990000  OTHER SPECIAL CLASSIFICATION PROVISIONS   \n",
       "47275  990000  OTHER SPECIAL CLASSIFICATION PROVISIONS   \n",
       "\n",
       "                                   NAICS_SDESC  CTY_CODE  DISTRICT  \\\n",
       "23116                                 SOYBEANS      5330        13   \n",
       "23117                OILSEEDS (EXCEPT SOYBEAN)      5330         9   \n",
       "23118                OILSEEDS (EXCEPT SOYBEAN)      5330         4   \n",
       "23119                OILSEEDS (EXCEPT SOYBEAN)      5330         7   \n",
       "23120                OILSEEDS (EXCEPT SOYBEAN)      5330        10   \n",
       "...                                        ...       ...       ...   \n",
       "47271  OTHER SPECIAL CLASSIFICATION PROVISIONS      5330        41   \n",
       "47272  OTHER SPECIAL CLASSIFICATION PROVISIONS      5330        45   \n",
       "47273  OTHER SPECIAL CLASSIFICATION PROVISIONS      5330        53   \n",
       "47274  OTHER SPECIAL CLASSIFICATION PROVISIONS      5330        55   \n",
       "47275  OTHER SPECIAL CLASSIFICATION PROVISIONS      5330        70   \n",
       "\n",
       "                   DIST_NAME  GEN_CHA_MO  GEN_VAL_MO  GEN_CIF_MO  CC_MO  ...  \\\n",
       "23116          BALTIMORE, MD      112700      769300      882000      7  ...   \n",
       "23117            BUFFALO, NY          74       22078       22152      1  ...   \n",
       "23118             BOSTON, MA         710        4748        5458      1  ...   \n",
       "23119         OGDENSBURG, NY         390       29512       29902      3  ...   \n",
       "23120      NEW YORK CITY, NY      154429     1409019     1563448     59  ...   \n",
       "...                      ...         ...         ...         ...    ...  ...   \n",
       "47271          CLEVELAND, OH        2575       15565       18140      3  ...   \n",
       "47272          ST. LOUIS, MO           0           0           0      0  ...   \n",
       "47273  HOUSTON-GALVESTON, TX           1       17571       17572      1  ...   \n",
       "47274  DALLAS-FORT WORTH, TX       15000      109117      124117      2  ...   \n",
       "47275              LOW VALUE           0    35917932    35917932      1  ...   \n",
       "\n",
       "       AIR_WGT_MO  VES_CHA_MO  VES_VAL_MO  VES_WGT_MO  CTY_NAME  YEAR  MONTH  \\\n",
       "23116           0      112700      769300      660200     INDIA  2022     01   \n",
       "23117           0           0           0           0     INDIA  2022     01   \n",
       "23118           0         710        4748        1212     INDIA  2022     01   \n",
       "23119           0           0           0           0     INDIA  2022     01   \n",
       "23120         100      154339     1406908      719305     INDIA  2022     01   \n",
       "...           ...         ...         ...         ...       ...   ...    ...   \n",
       "47271         308           0           0           0     INDIA  2022     11   \n",
       "47272           0           0           0           0     INDIA  2022     11   \n",
       "47273           0           1       17571        1833     INDIA  2022     11   \n",
       "47274        7698           0           0           0     INDIA  2022     11   \n",
       "47275           0           0           0           0     INDIA  2022     11   \n",
       "\n",
       "       COMM_LVL  SUMMARY_LVL2 YearMonth  \n",
       "23116       NA6        NACYDT   2022-01  \n",
       "23117       NA6        NACYDT   2022-01  \n",
       "23118       NA6        NACYDT   2022-01  \n",
       "23119       NA6        NACYDT   2022-01  \n",
       "23120       NA6        NACYDT   2022-01  \n",
       "...         ...           ...       ...  \n",
       "47271       NA6        NACYDT   2022-11  \n",
       "47272       NA6        NACYDT   2022-11  \n",
       "47273       NA6        NACYDT   2022-11  \n",
       "47274       NA6        NACYDT   2022-11  \n",
       "47275       NA6        NACYDT   2022-11  \n",
       "\n",
       "[72284 rows x 25 columns]"
      ]
     },
     "execution_count": 60,
     "metadata": {},
     "output_type": "execute_result"
    },
    {
     "name": "stdout",
     "output_type": "stream",
     "text": [
      "time: 78.8 ms (started: 2023-01-21 14:32:46 -05:00)\n"
     ]
    }
   ],
   "source": [
    "naicscydtDf"
   ]
  },
  {
   "cell_type": "code",
   "execution_count": 65,
   "metadata": {},
   "outputs": [
    {
     "data": {
      "text/plain": [
       "Index(['NAICS', 'NAICS_LDESC', 'NAICS_SDESC', 'CTY_CODE', 'DISTRICT',\n",
       "       'DIST_NAME', 'GEN_CHA_MO', 'GEN_VAL_MO', 'GEN_CIF_MO', 'CC_MO',\n",
       "       'CNT_CHA_MO', 'CNT_VAL_MO', 'CNT_WGT_MO', 'AIR_CHA_MO', 'AIR_VAL_MO',\n",
       "       'AIR_WGT_MO', 'VES_CHA_MO', 'VES_VAL_MO', 'VES_WGT_MO', 'CTY_NAME',\n",
       "       'YEAR', 'MONTH', 'COMM_LVL', 'SUMMARY_LVL2', 'YearMonth'],\n",
       "      dtype='object')"
      ]
     },
     "execution_count": 65,
     "metadata": {},
     "output_type": "execute_result"
    },
    {
     "name": "stdout",
     "output_type": "stream",
     "text": [
      "time: 4.99 ms (started: 2023-01-21 14:41:13 -05:00)\n"
     ]
    }
   ],
   "source": [
    "naicscydtDf.columns"
   ]
  },
  {
   "cell_type": "code",
   "execution_count": 68,
   "metadata": {},
   "outputs": [
    {
     "data": {
      "text/html": [
       "<div>\n",
       "<style scoped>\n",
       "    .dataframe tbody tr th:only-of-type {\n",
       "        vertical-align: middle;\n",
       "    }\n",
       "\n",
       "    .dataframe tbody tr th {\n",
       "        vertical-align: top;\n",
       "    }\n",
       "\n",
       "    .dataframe thead th {\n",
       "        text-align: right;\n",
       "    }\n",
       "</style>\n",
       "<table border=\"1\" class=\"dataframe\">\n",
       "  <thead>\n",
       "    <tr style=\"text-align: right;\">\n",
       "      <th></th>\n",
       "      <th>NAICS_SDESC</th>\n",
       "      <th>GEN_CHA_MO</th>\n",
       "      <th>GEN_VAL_MO</th>\n",
       "      <th>AIR_CHA_MO</th>\n",
       "      <th>AIR_VAL_MO</th>\n",
       "      <th>CNT_CHA_MO</th>\n",
       "      <th>CNT_VAL_MO</th>\n",
       "      <th>Total_VAL_YR</th>\n",
       "      <th>Total_CHA_YR</th>\n",
       "    </tr>\n",
       "  </thead>\n",
       "  <tbody>\n",
       "    <tr>\n",
       "      <th>0</th>\n",
       "      <td>ABRASIVE PRODUCTS</td>\n",
       "      <td>1384599</td>\n",
       "      <td>23778283</td>\n",
       "      <td>202763</td>\n",
       "      <td>3010877</td>\n",
       "      <td>972554</td>\n",
       "      <td>16140413</td>\n",
       "      <td>19151290</td>\n",
       "      <td>1175317</td>\n",
       "    </tr>\n",
       "    <tr>\n",
       "      <th>1</th>\n",
       "      <td>AC/WARM AIR HTG &amp; COMMERCIAL REFRIG EQUIP</td>\n",
       "      <td>2968875</td>\n",
       "      <td>64760747</td>\n",
       "      <td>462011</td>\n",
       "      <td>19919015</td>\n",
       "      <td>2437422</td>\n",
       "      <td>42894068</td>\n",
       "      <td>62813083</td>\n",
       "      <td>2899433</td>\n",
       "    </tr>\n",
       "    <tr>\n",
       "      <th>2</th>\n",
       "      <td>ADHESIVES</td>\n",
       "      <td>120847</td>\n",
       "      <td>1756808</td>\n",
       "      <td>5327</td>\n",
       "      <td>64576</td>\n",
       "      <td>113519</td>\n",
       "      <td>1679782</td>\n",
       "      <td>1744358</td>\n",
       "      <td>118846</td>\n",
       "    </tr>\n",
       "    <tr>\n",
       "      <th>3</th>\n",
       "      <td>AIR &amp; GAS COMPRESSORS</td>\n",
       "      <td>14908926</td>\n",
       "      <td>264168071</td>\n",
       "      <td>2079546</td>\n",
       "      <td>34378565</td>\n",
       "      <td>12606650</td>\n",
       "      <td>218523893</td>\n",
       "      <td>252902458</td>\n",
       "      <td>14686196</td>\n",
       "    </tr>\n",
       "    <tr>\n",
       "      <th>4</th>\n",
       "      <td>AIRCRAFT</td>\n",
       "      <td>201458</td>\n",
       "      <td>991598</td>\n",
       "      <td>201458</td>\n",
       "      <td>991598</td>\n",
       "      <td>0</td>\n",
       "      <td>0</td>\n",
       "      <td>991598</td>\n",
       "      <td>201458</td>\n",
       "    </tr>\n",
       "    <tr>\n",
       "      <th>...</th>\n",
       "      <td>...</td>\n",
       "      <td>...</td>\n",
       "      <td>...</td>\n",
       "      <td>...</td>\n",
       "      <td>...</td>\n",
       "      <td>...</td>\n",
       "      <td>...</td>\n",
       "      <td>...</td>\n",
       "      <td>...</td>\n",
       "    </tr>\n",
       "    <tr>\n",
       "      <th>354</th>\n",
       "      <td>WOMEN'S, GIRLS', AND INFANTS' CUT AND SEW APPAREL</td>\n",
       "      <td>161911574</td>\n",
       "      <td>3239106694</td>\n",
       "      <td>73419812</td>\n",
       "      <td>716498469</td>\n",
       "      <td>85834864</td>\n",
       "      <td>2468040699</td>\n",
       "      <td>3184539168</td>\n",
       "      <td>159254676</td>\n",
       "    </tr>\n",
       "    <tr>\n",
       "      <th>355</th>\n",
       "      <td>WOOD CONTAINERS &amp; PALLETS</td>\n",
       "      <td>823056</td>\n",
       "      <td>8551632</td>\n",
       "      <td>13144</td>\n",
       "      <td>76213</td>\n",
       "      <td>799718</td>\n",
       "      <td>8254671</td>\n",
       "      <td>8330884</td>\n",
       "      <td>812862</td>\n",
       "    </tr>\n",
       "    <tr>\n",
       "      <th>356</th>\n",
       "      <td>WOOD KITCHEN CABINETS &amp; COUNTERTOPS</td>\n",
       "      <td>271391</td>\n",
       "      <td>683175</td>\n",
       "      <td>167</td>\n",
       "      <td>4355</td>\n",
       "      <td>252649</td>\n",
       "      <td>568794</td>\n",
       "      <td>573149</td>\n",
       "      <td>252816</td>\n",
       "    </tr>\n",
       "    <tr>\n",
       "      <th>357</th>\n",
       "      <td>WOOD OFFICE FURNITURE</td>\n",
       "      <td>530298</td>\n",
       "      <td>3912753</td>\n",
       "      <td>39587</td>\n",
       "      <td>389689</td>\n",
       "      <td>486998</td>\n",
       "      <td>3461776</td>\n",
       "      <td>3851465</td>\n",
       "      <td>526585</td>\n",
       "    </tr>\n",
       "    <tr>\n",
       "      <th>358</th>\n",
       "      <td>WOOD WINDOWS &amp; DOORS</td>\n",
       "      <td>167745</td>\n",
       "      <td>954881</td>\n",
       "      <td>2561</td>\n",
       "      <td>23363</td>\n",
       "      <td>144562</td>\n",
       "      <td>886154</td>\n",
       "      <td>909517</td>\n",
       "      <td>147123</td>\n",
       "    </tr>\n",
       "  </tbody>\n",
       "</table>\n",
       "<p>359 rows × 9 columns</p>\n",
       "</div>"
      ],
      "text/plain": [
       "                                           NAICS_SDESC  GEN_CHA_MO  \\\n",
       "0                                    ABRASIVE PRODUCTS     1384599   \n",
       "1            AC/WARM AIR HTG & COMMERCIAL REFRIG EQUIP     2968875   \n",
       "2                                            ADHESIVES      120847   \n",
       "3                                AIR & GAS COMPRESSORS    14908926   \n",
       "4                                             AIRCRAFT      201458   \n",
       "..                                                 ...         ...   \n",
       "354  WOMEN'S, GIRLS', AND INFANTS' CUT AND SEW APPAREL   161911574   \n",
       "355                          WOOD CONTAINERS & PALLETS      823056   \n",
       "356                WOOD KITCHEN CABINETS & COUNTERTOPS      271391   \n",
       "357                              WOOD OFFICE FURNITURE      530298   \n",
       "358                               WOOD WINDOWS & DOORS      167745   \n",
       "\n",
       "     GEN_VAL_MO  AIR_CHA_MO  AIR_VAL_MO  CNT_CHA_MO  CNT_VAL_MO  Total_VAL_YR  \\\n",
       "0      23778283      202763     3010877      972554    16140413      19151290   \n",
       "1      64760747      462011    19919015     2437422    42894068      62813083   \n",
       "2       1756808        5327       64576      113519     1679782       1744358   \n",
       "3     264168071     2079546    34378565    12606650   218523893     252902458   \n",
       "4        991598      201458      991598           0           0        991598   \n",
       "..          ...         ...         ...         ...         ...           ...   \n",
       "354  3239106694    73419812   716498469    85834864  2468040699    3184539168   \n",
       "355     8551632       13144       76213      799718     8254671       8330884   \n",
       "356      683175         167        4355      252649      568794        573149   \n",
       "357     3912753       39587      389689      486998     3461776       3851465   \n",
       "358      954881        2561       23363      144562      886154        909517   \n",
       "\n",
       "     Total_CHA_YR  \n",
       "0         1175317  \n",
       "1         2899433  \n",
       "2          118846  \n",
       "3        14686196  \n",
       "4          201458  \n",
       "..            ...  \n",
       "354     159254676  \n",
       "355        812862  \n",
       "356        252816  \n",
       "357        526585  \n",
       "358        147123  \n",
       "\n",
       "[359 rows x 9 columns]"
      ]
     },
     "execution_count": 68,
     "metadata": {},
     "output_type": "execute_result"
    },
    {
     "name": "stdout",
     "output_type": "stream",
     "text": [
      "time: 63 ms (started: 2023-01-21 14:52:29 -05:00)\n"
     ]
    }
   ],
   "source": [
    "intCols = ['GEN_CHA_MO','GEN_VAL_MO','AIR_CHA_MO','AIR_VAL_MO','CNT_CHA_MO','CNT_VAL_MO']\n",
    "naicscydtDf[intCols] = naicscydtDf[intCols].astype(int)\n",
    "naicsSummary = naicscydtDf.groupby(['NAICS_SDESC'])[intCols].sum().reset_index()\n",
    "naicsSummary['Total_VAL_YR'] = naicsSummary['AIR_VAL_MO']+naicsSummary['CNT_VAL_MO']\n",
    "naicsSummary['Total_CHA_YR'] = naicsSummary['AIR_CHA_MO']+naicsSummary['CNT_CHA_MO']\n",
    "naicsSummary\n",
    "    # .apply(lambda x: x.sort_values(['GEN_VAL_MO'],ascending=False))\n",
    "        # .groupby(['YearMonth','NAICS_SDESC'])['GEN_VAL_MO'].sum()"
   ]
  },
  {
   "cell_type": "code",
   "execution_count": null,
   "metadata": {},
   "outputs": [
    {
     "data": {
      "text/plain": [
       "array(['2014-1', '2014-10', '2014-11', '2014-12', '2014-2', '2014-3',\n",
       "       '2014-4', '2014-5', '2014-6', '2014-7', '2014-8', '2014-9',\n",
       "       '2015-1', '2015-10', '2015-11', '2015-12', '2015-2', '2015-3',\n",
       "       '2015-4', '2015-5', '2015-6', '2015-7', '2015-8', '2015-9',\n",
       "       '2016-1', '2016-10', '2016-11', '2016-12', '2016-2', '2016-3',\n",
       "       '2016-4', '2016-5', '2016-6', '2016-7', '2016-8', '2016-9',\n",
       "       '2017-1', '2017-10', '2017-11', '2017-12', '2017-2', '2017-3',\n",
       "       '2017-4', '2017-5', '2017-6', '2017-7', '2017-8', '2017-9',\n",
       "       '2018-1', '2018-10', '2018-11', '2018-12', '2018-2', '2018-3',\n",
       "       '2018-4', '2018-5', '2018-6', '2018-7', '2018-8', '2018-9',\n",
       "       '2019-1', '2019-10', '2019-11', '2019-12', '2019-2', '2019-3',\n",
       "       '2019-4', '2019-5', '2019-6', '2019-7', '2019-8', '2019-9',\n",
       "       '2020-1', '2020-10', '2020-11', '2020-12', '2020-2', '2020-3',\n",
       "       '2020-4', '2020-5', '2020-6', '2020-7', '2020-8', '2020-9',\n",
       "       '2021-1', '2021-10', '2021-11', '2021-12', '2021-2', '2021-3',\n",
       "       '2021-4', '2021-5', '2021-6', '2021-7', '2021-8', '2021-9',\n",
       "       '2022-1', '2022-10', '2022-11', '2022-2', '2022-3', '2022-4',\n",
       "       '2022-5', '2022-6', '2022-7', '2022-8', '2022-9'], dtype=object)"
      ]
     },
     "execution_count": 16,
     "metadata": {},
     "output_type": "execute_result"
    },
    {
     "name": "stdout",
     "output_type": "stream",
     "text": [
      "time: 4.57 ms (started: 2023-01-19 21:06:51 -05:00)\n"
     ]
    }
   ],
   "source": [
    "hs2Summary['YearMonth'].unique()"
   ]
  },
  {
   "cell_type": "code",
   "execution_count": 24,
   "metadata": {},
   "outputs": [
    {
     "ename": "NameError",
     "evalue": "name 'df' is not defined",
     "output_type": "error",
     "traceback": [
      "\u001b[0;31m---------------------------------------------------------------------------\u001b[0m",
      "\u001b[0;31mNameError\u001b[0m                                 Traceback (most recent call last)",
      "Cell \u001b[0;32mIn[24], line 3\u001b[0m\n\u001b[1;32m      1\u001b[0m \u001b[39mimport\u001b[39;00m \u001b[39mplotly\u001b[39;00m\u001b[39m.\u001b[39;00m\u001b[39mgraph_objects\u001b[39;00m \u001b[39mas\u001b[39;00m \u001b[39mgo\u001b[39;00m\n\u001b[0;32m----> 3\u001b[0m audi \u001b[39m=\u001b[39m df[df[\u001b[39m'\u001b[39m\u001b[39mcar\u001b[39m\u001b[39m'\u001b[39m] \u001b[39m==\u001b[39m \u001b[39m'\u001b[39m\u001b[39mAudi Q5\u001b[39m\u001b[39m'\u001b[39m]\n\u001b[1;32m      4\u001b[0m benz \u001b[39m=\u001b[39m df[df[\u001b[39m'\u001b[39m\u001b[39mcar\u001b[39m\u001b[39m'\u001b[39m] \u001b[39m==\u001b[39m \u001b[39m'\u001b[39m\u001b[39mMerucedes GLE\u001b[39m\u001b[39m'\u001b[39m]\n\u001b[1;32m      5\u001b[0m bmw \u001b[39m=\u001b[39m df[df[\u001b[39m'\u001b[39m\u001b[39mcar\u001b[39m\u001b[39m'\u001b[39m] \u001b[39m==\u001b[39m \u001b[39m'\u001b[39m\u001b[39mBMW X5\u001b[39m\u001b[39m'\u001b[39m]\n",
      "\u001b[0;31mNameError\u001b[0m: name 'df' is not defined"
     ]
    },
    {
     "name": "stdout",
     "output_type": "stream",
     "text": [
      "time: 37.6 ms (started: 2023-01-21 00:02:02 -05:00)\n"
     ]
    }
   ],
   "source": [
    "\n",
    "import plotly.graph_objects as go\n",
    "\n",
    "audi = df[df['car'] == 'Audi Q5']\n",
    "benz = df[df['car'] == 'Merucedes GLE']\n",
    "bmw = df[df['car'] == 'BMW X5']\n",
    "x = df['date'].unique()\n",
    "\n",
    "fig = go.Figure()\n",
    "\n",
    "fig.add_trace(go.Scatter(x=x, y=audi['Fuel Efficiency'],\n",
    "                    mode='lines+markers',\n",
    "                    name='Audi Q5', marker=dict(color=\"DarkOrange\"))),\n",
    "fig.add_trace(go.Scatter(x=x, y=benz['Fuel Efficiency'],\n",
    "                    mode='lines+markers',\n",
    "                    name='Merucedes GLE', marker=dict(color=\"Crimson\"))),\n",
    "fig.add_trace(go.Scatter(x=x, y=bmw['Fuel Efficiency'],\n",
    "                    mode='lines+markers', name='BMW X5', marker=dict(color=\"RebeccaPurple\")))\n",
    "\n",
    "fig.update_layout(title_text='Fuel Efficiency Visual',\n",
    "                 xaxis_title='Date', yaxis_title='FuelEfficiency')\n",
    "\n",
    "\n",
    "fig.update_layout(\n",
    "    updatemenus=[\n",
    "        dict(active=0,\n",
    "            buttons=list([\n",
    "            dict(label=\"None\",\n",
    "                 method=\"update\",\n",
    "                 args=[{\"visible\":[True,True,True]},\n",
    "                       {\"title\":\"ALL\"}]),\n",
    "            dict(label=\"Audi Q5\",\n",
    "                 method=\"update\",\n",
    "                 args=[{\"visible\":[True, False, False]},\n",
    "                       {\"title\":\"Audi Q5\"}]),\n",
    "            dict(label=\"Merucedes GLE\",\n",
    "                 method=\"update\",\n",
    "                 args=[{\"visible\":[False,True,False]},\n",
    "                       {\"title\":\"Merucedes GLE\"}]),\n",
    "            dict(label=\"BMW X5\",\n",
    "                 method=\"update\",\n",
    "                 args=[{\"visible\":[False,False,True]},\n",
    "                       {\"title\":\"BMW X5\"}])\n",
    "        ]),\n",
    "        )\n",
    "    ]\n",
    ")\n",
    "\n",
    "fig.show()"
   ]
  }
 ],
 "metadata": {
  "kernelspec": {
   "display_name": ".dashenv",
   "language": "python",
   "name": "python3"
  },
  "language_info": {
   "codemirror_mode": {
    "name": "ipython",
    "version": 3
   },
   "file_extension": ".py",
   "mimetype": "text/x-python",
   "name": "python",
   "nbconvert_exporter": "python",
   "pygments_lexer": "ipython3",
   "version": "3.11.1"
  },
  "orig_nbformat": 4,
  "vscode": {
   "interpreter": {
    "hash": "e25057c6014c70833d5c6fa785354358ed0334dfa55da4dba0c885d6c054fdb7"
   }
  }
 },
 "nbformat": 4,
 "nbformat_minor": 2
}
