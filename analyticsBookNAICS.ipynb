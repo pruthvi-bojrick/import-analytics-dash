{
 "cells": [
  {
   "cell_type": "code",
   "execution_count": 2,
   "metadata": {},
   "outputs": [
    {
     "name": "stdout",
     "output_type": "stream",
     "text": [
      "time: 3.95 s (started: 2023-01-22 21:04:17 -05:00)\n"
     ]
    }
   ],
   "source": [
    "%load_ext autotime\n",
    "import pandas as pd\n",
    "import requests\n",
    "from datetime import datetime\n",
    "from tqdm import tqdm\n",
    "import os"
   ]
  },
  {
   "cell_type": "code",
   "execution_count": 3,
   "metadata": {},
   "outputs": [
    {
     "name": "stdout",
     "output_type": "stream",
     "text": [
      "time: 1.82 s (started: 2023-01-22 21:04:21 -05:00)\n"
     ]
    }
   ],
   "source": [
    "D_NA_DESC = pd.read_excel('API Resources/2022_NAICS_Structure.xlsx',skiprows=2)\n",
    "D_NA_DESC.loc[D_NA_DESC['2022 NAICS Code'].astype(str).apply(len)==6,'Code Type'] = 'NA6'\n",
    "D_NA_DESC.loc[D_NA_DESC['2022 NAICS Code'].astype(str).apply(len)==5,'Code Type'] = 'NA5'\n",
    "D_NA_DESC.loc[D_NA_DESC['2022 NAICS Code'].astype(str).apply(len)==4,'Code Type'] = 'NA4'\n",
    "D_NA_DESC.loc[D_NA_DESC['2022 NAICS Code'].astype(str).apply(len)==3,'Code Type'] = 'NA3'\n",
    "D_NA_DESC.loc[D_NA_DESC['2022 NAICS Code'].astype(str).apply(len)==2,'Code Type'] = 'NA2'\n",
    "D_NA_DESC.isna().sum()\n",
    "D_NA_DESC.drop('Change Indicator',axis=1,inplace=True)\n",
    "D_NA_DESC[D_NA_DESC['Code Type']=='NA2'].shape\n",
    "D_NA_DESC[D_NA_DESC['Code Type']=='NA3'].shape\n",
    "D_NA_DESC[D_NA_DESC['Code Type']=='NA4'].shape\n",
    "D_NA_DESC[D_NA_DESC['Code Type']=='NA5'].shape\n",
    "# D_NA_DESC[D_NA_DESC['Code Type']=='NA6'].shape\n",
    "D_NA_DESC = D_NA_DESC.dropna()\n",
    "\n",
    "for intE in range(2,6):D_NA_DESC[f'NA{intE}'] = D_NA_DESC[f'2022 NAICS Code'].apply(lambda x:str(x)[:intE])\n",
    "\n",
    "D_NA_DESC = D_NA_DESC[D_NA_DESC['Code Type']=='NA6']\\\n",
    "    .merge(D_NA_DESC[D_NA_DESC['Code Type']=='NA5'][['NA5','2022 NAICS Title']].rename({\"2022 NAICS Title\":'NA5 Description'},axis=1)\n",
    "    ,how='left',suffixes=[\"_NA5\"])\\\n",
    "        .merge(D_NA_DESC[D_NA_DESC['Code Type']=='NA4'][['NA4','2022 NAICS Title']].rename({\"2022 NAICS Title\":'NA4 Description'},axis=1)\n",
    "    ,how='left',suffixes=[\"_NA4\"])\\\n",
    "        .merge(D_NA_DESC[D_NA_DESC['Code Type']=='NA3'][['NA3','2022 NAICS Title']].rename({\"2022 NAICS Title\":'NA3 Description'},axis=1)\n",
    "    ,how='left',suffixes=[\"_NA3\"])\\\n",
    "        .merge(D_NA_DESC[D_NA_DESC['Code Type']=='NA2'][['NA2','2022 NAICS Title']].rename({\"2022 NAICS Title\":'NA2 Description'},axis=1)\n",
    "    ,how='left',suffixes=[\"_NA2\"])"
   ]
  },
  {
   "cell_type": "code",
   "execution_count": 4,
   "metadata": {},
   "outputs": [
    {
     "name": "stdout",
     "output_type": "stream",
     "text": [
      "time: 2.9 ms (started: 2023-01-22 21:04:22 -05:00)\n"
     ]
    }
   ],
   "source": [
    "D_NA_DESC = D_NA_DESC.rename({'2022 NAICS Code':'NAICS'},axis=1)#.pivot_table(index=['2022 NAICS Code','NA2','NA3','NA4','NA5'],columns='Code Type',aggfunc=lambda x:' '.join(x)).to_clipboard()\n",
    "D_NA_DESC['NAICS'] = D_NA_DESC['NAICS'].astype(str)"
   ]
  },
  {
   "cell_type": "code",
   "execution_count": 5,
   "metadata": {},
   "outputs": [
    {
     "data": {
      "text/html": [
       "<div>\n",
       "<style scoped>\n",
       "    .dataframe tbody tr th:only-of-type {\n",
       "        vertical-align: middle;\n",
       "    }\n",
       "\n",
       "    .dataframe tbody tr th {\n",
       "        vertical-align: top;\n",
       "    }\n",
       "\n",
       "    .dataframe thead th {\n",
       "        text-align: right;\n",
       "    }\n",
       "</style>\n",
       "<table border=\"1\" class=\"dataframe\">\n",
       "  <thead>\n",
       "    <tr style=\"text-align: right;\">\n",
       "      <th></th>\n",
       "      <th>NAICS</th>\n",
       "      <th>2022 NAICS Title</th>\n",
       "      <th>Code Type</th>\n",
       "      <th>NA2</th>\n",
       "      <th>NA3</th>\n",
       "      <th>NA4</th>\n",
       "      <th>NA5</th>\n",
       "      <th>NA5 Description</th>\n",
       "      <th>NA4 Description</th>\n",
       "      <th>NA3 Description</th>\n",
       "      <th>NA2 Description</th>\n",
       "    </tr>\n",
       "  </thead>\n",
       "  <tbody>\n",
       "    <tr>\n",
       "      <th>0</th>\n",
       "      <td>111110</td>\n",
       "      <td>Soybean Farming</td>\n",
       "      <td>NA6</td>\n",
       "      <td>11</td>\n",
       "      <td>111</td>\n",
       "      <td>1111</td>\n",
       "      <td>11111</td>\n",
       "      <td>Soybean FarmingT</td>\n",
       "      <td>Oilseed and Grain FarmingT</td>\n",
       "      <td>Crop ProductionT</td>\n",
       "      <td>Agriculture, Forestry, Fishing and HuntingT</td>\n",
       "    </tr>\n",
       "    <tr>\n",
       "      <th>1</th>\n",
       "      <td>111120</td>\n",
       "      <td>Oilseed (except Soybean) Farming</td>\n",
       "      <td>NA6</td>\n",
       "      <td>11</td>\n",
       "      <td>111</td>\n",
       "      <td>1111</td>\n",
       "      <td>11112</td>\n",
       "      <td>Oilseed (except Soybean) FarmingT</td>\n",
       "      <td>Oilseed and Grain FarmingT</td>\n",
       "      <td>Crop ProductionT</td>\n",
       "      <td>Agriculture, Forestry, Fishing and HuntingT</td>\n",
       "    </tr>\n",
       "    <tr>\n",
       "      <th>2</th>\n",
       "      <td>111130</td>\n",
       "      <td>Dry Pea and Bean Farming</td>\n",
       "      <td>NA6</td>\n",
       "      <td>11</td>\n",
       "      <td>111</td>\n",
       "      <td>1111</td>\n",
       "      <td>11113</td>\n",
       "      <td>Dry Pea and Bean FarmingT</td>\n",
       "      <td>Oilseed and Grain FarmingT</td>\n",
       "      <td>Crop ProductionT</td>\n",
       "      <td>Agriculture, Forestry, Fishing and HuntingT</td>\n",
       "    </tr>\n",
       "    <tr>\n",
       "      <th>3</th>\n",
       "      <td>111140</td>\n",
       "      <td>Wheat Farming</td>\n",
       "      <td>NA6</td>\n",
       "      <td>11</td>\n",
       "      <td>111</td>\n",
       "      <td>1111</td>\n",
       "      <td>11114</td>\n",
       "      <td>Wheat FarmingT</td>\n",
       "      <td>Oilseed and Grain FarmingT</td>\n",
       "      <td>Crop ProductionT</td>\n",
       "      <td>Agriculture, Forestry, Fishing and HuntingT</td>\n",
       "    </tr>\n",
       "    <tr>\n",
       "      <th>4</th>\n",
       "      <td>111150</td>\n",
       "      <td>Corn Farming</td>\n",
       "      <td>NA6</td>\n",
       "      <td>11</td>\n",
       "      <td>111</td>\n",
       "      <td>1111</td>\n",
       "      <td>11115</td>\n",
       "      <td>Corn FarmingT</td>\n",
       "      <td>Oilseed and Grain FarmingT</td>\n",
       "      <td>Crop ProductionT</td>\n",
       "      <td>Agriculture, Forestry, Fishing and HuntingT</td>\n",
       "    </tr>\n",
       "  </tbody>\n",
       "</table>\n",
       "</div>"
      ],
      "text/plain": [
       "    NAICS                   2022 NAICS Title Code Type NA2  NA3   NA4    NA5  \\\n",
       "0  111110                    Soybean Farming       NA6  11  111  1111  11111   \n",
       "1  111120  Oilseed (except Soybean) Farming        NA6  11  111  1111  11112   \n",
       "2  111130          Dry Pea and Bean Farming        NA6  11  111  1111  11113   \n",
       "3  111140                      Wheat Farming       NA6  11  111  1111  11114   \n",
       "4  111150                      Corn Farming        NA6  11  111  1111  11115   \n",
       "\n",
       "                      NA5 Description             NA4 Description  \\\n",
       "0                    Soybean FarmingT  Oilseed and Grain FarmingT   \n",
       "1  Oilseed (except Soybean) FarmingT   Oilseed and Grain FarmingT   \n",
       "2           Dry Pea and Bean FarmingT  Oilseed and Grain FarmingT   \n",
       "3                      Wheat FarmingT  Oilseed and Grain FarmingT   \n",
       "4                       Corn FarmingT  Oilseed and Grain FarmingT   \n",
       "\n",
       "     NA3 Description                              NA2 Description  \n",
       "0  Crop ProductionT   Agriculture, Forestry, Fishing and HuntingT  \n",
       "1  Crop ProductionT   Agriculture, Forestry, Fishing and HuntingT  \n",
       "2  Crop ProductionT   Agriculture, Forestry, Fishing and HuntingT  \n",
       "3  Crop ProductionT   Agriculture, Forestry, Fishing and HuntingT  \n",
       "4  Crop ProductionT   Agriculture, Forestry, Fishing and HuntingT  "
      ]
     },
     "execution_count": 5,
     "metadata": {},
     "output_type": "execute_result"
    },
    {
     "name": "stdout",
     "output_type": "stream",
     "text": [
      "time: 177 ms (started: 2023-01-22 21:04:23 -05:00)\n"
     ]
    }
   ],
   "source": [
    "D_NA_DESC.head()"
   ]
  },
  {
   "cell_type": "code",
   "execution_count": 6,
   "metadata": {},
   "outputs": [
    {
     "name": "stdout",
     "output_type": "stream",
     "text": [
      "time: 558 ms (started: 2023-01-22 21:04:23 -05:00)\n"
     ]
    }
   ],
   "source": [
    "# [31,32,33,44,45,48,49]\n",
    "D_NA_DESC.loc[D_NA_DESC['NA2']=='31','NA2 Description'] = 'Manufacturing 1'\n",
    "D_NA_DESC.loc[D_NA_DESC['NA2']=='32','NA2 Description'] = 'Manufacturing 2'\n",
    "D_NA_DESC.loc[D_NA_DESC['NA2']=='33','NA2 Description'] = 'Manufacturing 3'\n",
    "D_NA_DESC.loc[D_NA_DESC['NA2']=='44','NA2 Description'] = 'Retail Trade 1'\n",
    "D_NA_DESC.loc[D_NA_DESC['NA2']=='45','NA2 Description'] = 'Retail Trade 2'\n",
    "D_NA_DESC.loc[D_NA_DESC['NA2']=='48','NA2 Description'] = 'Transportation and Warehousing 1'\n",
    "D_NA_DESC.loc[D_NA_DESC['NA2']=='49','NA2 Description'] = 'Transportation and Warehousing 2'\n",
    "\n"
   ]
  },
  {
   "cell_type": "code",
   "execution_count": 7,
   "metadata": {},
   "outputs": [
    {
     "data": {
      "text/html": [
       "<div>\n",
       "<style scoped>\n",
       "    .dataframe tbody tr th:only-of-type {\n",
       "        vertical-align: middle;\n",
       "    }\n",
       "\n",
       "    .dataframe tbody tr th {\n",
       "        vertical-align: top;\n",
       "    }\n",
       "\n",
       "    .dataframe thead th {\n",
       "        text-align: right;\n",
       "    }\n",
       "</style>\n",
       "<table border=\"1\" class=\"dataframe\">\n",
       "  <thead>\n",
       "    <tr style=\"text-align: right;\">\n",
       "      <th></th>\n",
       "      <th>NA2</th>\n",
       "      <th>NA2 Description</th>\n",
       "    </tr>\n",
       "  </thead>\n",
       "  <tbody>\n",
       "    <tr>\n",
       "      <th>0</th>\n",
       "      <td>11</td>\n",
       "      <td>Agriculture, Forestry, Fishing and HuntingT</td>\n",
       "    </tr>\n",
       "    <tr>\n",
       "      <th>64</th>\n",
       "      <td>21</td>\n",
       "      <td>Mining, Quarrying, and Oil and Gas ExtractionT</td>\n",
       "    </tr>\n",
       "    <tr>\n",
       "      <th>85</th>\n",
       "      <td>22</td>\n",
       "      <td>UtilitiesT</td>\n",
       "    </tr>\n",
       "    <tr>\n",
       "      <th>99</th>\n",
       "      <td>23</td>\n",
       "      <td>ConstructionT</td>\n",
       "    </tr>\n",
       "    <tr>\n",
       "      <th>130</th>\n",
       "      <td>31</td>\n",
       "      <td>Manufacturing 1</td>\n",
       "    </tr>\n",
       "    <tr>\n",
       "      <th>199</th>\n",
       "      <td>32</td>\n",
       "      <td>Manufacturing 2</td>\n",
       "    </tr>\n",
       "    <tr>\n",
       "      <th>295</th>\n",
       "      <td>33</td>\n",
       "      <td>Manufacturing 3</td>\n",
       "    </tr>\n",
       "    <tr>\n",
       "      <th>476</th>\n",
       "      <td>42</td>\n",
       "      <td>Wholesale TradeT</td>\n",
       "    </tr>\n",
       "    <tr>\n",
       "      <th>545</th>\n",
       "      <td>44</td>\n",
       "      <td>Retail Trade 1</td>\n",
       "    </tr>\n",
       "    <tr>\n",
       "      <th>573</th>\n",
       "      <td>45</td>\n",
       "      <td>Retail Trade 2</td>\n",
       "    </tr>\n",
       "    <tr>\n",
       "      <th>602</th>\n",
       "      <td>48</td>\n",
       "      <td>Transportation and Warehousing 1</td>\n",
       "    </tr>\n",
       "    <tr>\n",
       "      <th>652</th>\n",
       "      <td>49</td>\n",
       "      <td>Transportation and Warehousing 2</td>\n",
       "    </tr>\n",
       "    <tr>\n",
       "      <th>659</th>\n",
       "      <td>51</td>\n",
       "      <td>InformationT</td>\n",
       "    </tr>\n",
       "    <tr>\n",
       "      <th>688</th>\n",
       "      <td>52</td>\n",
       "      <td>Finance and InsuranceT</td>\n",
       "    </tr>\n",
       "    <tr>\n",
       "      <th>723</th>\n",
       "      <td>53</td>\n",
       "      <td>Real Estate and Rental and LeasingT</td>\n",
       "    </tr>\n",
       "    <tr>\n",
       "      <th>747</th>\n",
       "      <td>54</td>\n",
       "      <td>Professional, Scientific, and Technical ServicesT</td>\n",
       "    </tr>\n",
       "    <tr>\n",
       "      <th>796</th>\n",
       "      <td>55</td>\n",
       "      <td>Management of Companies and EnterprisesT</td>\n",
       "    </tr>\n",
       "    <tr>\n",
       "      <th>799</th>\n",
       "      <td>56</td>\n",
       "      <td>Administrative and Support and Waste Managemen...</td>\n",
       "    </tr>\n",
       "    <tr>\n",
       "      <th>843</th>\n",
       "      <td>61</td>\n",
       "      <td>Educational ServicesT</td>\n",
       "    </tr>\n",
       "    <tr>\n",
       "      <th>860</th>\n",
       "      <td>62</td>\n",
       "      <td>Health Care and Social AssistanceT</td>\n",
       "    </tr>\n",
       "    <tr>\n",
       "      <th>899</th>\n",
       "      <td>71</td>\n",
       "      <td>Arts, Entertainment, and RecreationT</td>\n",
       "    </tr>\n",
       "    <tr>\n",
       "      <th>924</th>\n",
       "      <td>72</td>\n",
       "      <td>Accommodation and Food ServicesT</td>\n",
       "    </tr>\n",
       "    <tr>\n",
       "      <th>939</th>\n",
       "      <td>81</td>\n",
       "      <td>Other Services (except Public Administration)T</td>\n",
       "    </tr>\n",
       "    <tr>\n",
       "      <th>983</th>\n",
       "      <td>92</td>\n",
       "      <td>Public AdministrationT</td>\n",
       "    </tr>\n",
       "  </tbody>\n",
       "</table>\n",
       "</div>"
      ],
      "text/plain": [
       "    NA2                                    NA2 Description\n",
       "0    11        Agriculture, Forestry, Fishing and HuntingT\n",
       "64   21     Mining, Quarrying, and Oil and Gas ExtractionT\n",
       "85   22                                         UtilitiesT\n",
       "99   23                                      ConstructionT\n",
       "130  31                                    Manufacturing 1\n",
       "199  32                                    Manufacturing 2\n",
       "295  33                                    Manufacturing 3\n",
       "476  42                                   Wholesale TradeT\n",
       "545  44                                     Retail Trade 1\n",
       "573  45                                     Retail Trade 2\n",
       "602  48                   Transportation and Warehousing 1\n",
       "652  49                   Transportation and Warehousing 2\n",
       "659  51                                       InformationT\n",
       "688  52                             Finance and InsuranceT\n",
       "723  53                Real Estate and Rental and LeasingT\n",
       "747  54  Professional, Scientific, and Technical ServicesT\n",
       "796  55          Management of Companies and EnterprisesT \n",
       "799  56  Administrative and Support and Waste Managemen...\n",
       "843  61                              Educational ServicesT\n",
       "860  62                 Health Care and Social AssistanceT\n",
       "899  71               Arts, Entertainment, and RecreationT\n",
       "924  72                   Accommodation and Food ServicesT\n",
       "939  81     Other Services (except Public Administration)T\n",
       "983  92                             Public AdministrationT"
      ]
     },
     "execution_count": 7,
     "metadata": {},
     "output_type": "execute_result"
    },
    {
     "name": "stdout",
     "output_type": "stream",
     "text": [
      "time: 235 ms (started: 2023-01-22 21:04:23 -05:00)\n"
     ]
    }
   ],
   "source": [
    "D_NA_DESC[['NA2','NA2 Description']].drop_duplicates()"
   ]
  },
  {
   "cell_type": "code",
   "execution_count": 8,
   "metadata": {},
   "outputs": [
    {
     "data": {
      "text/plain": [
       "('98', '99', '21', '93', '91')"
      ]
     },
     "execution_count": 8,
     "metadata": {},
     "output_type": "execute_result"
    },
    {
     "name": "stdout",
     "output_type": "stream",
     "text": [
      "time: 265 ms (started: 2023-01-22 21:04:24 -05:00)\n"
     ]
    }
   ],
   "source": [
    "'98', '99', '21', '93', '91'"
   ]
  },
  {
   "cell_type": "code",
   "execution_count": 9,
   "metadata": {},
   "outputs": [
    {
     "name": "stderr",
     "output_type": "stream",
     "text": [
      "100%|██████████| 591/591 [01:05<00:00,  9.02it/s] \n"
     ]
    },
    {
     "data": {
      "text/html": [
       "<div>\n",
       "<style scoped>\n",
       "    .dataframe tbody tr th:only-of-type {\n",
       "        vertical-align: middle;\n",
       "    }\n",
       "\n",
       "    .dataframe tbody tr th {\n",
       "        vertical-align: top;\n",
       "    }\n",
       "\n",
       "    .dataframe thead th {\n",
       "        text-align: right;\n",
       "    }\n",
       "</style>\n",
       "<table border=\"1\" class=\"dataframe\">\n",
       "  <thead>\n",
       "    <tr style=\"text-align: right;\">\n",
       "      <th></th>\n",
       "      <th>NAICS</th>\n",
       "      <th>NAICS_LDESC</th>\n",
       "      <th>NAICS_SDESC</th>\n",
       "      <th>CTY_CODE</th>\n",
       "      <th>CTY_NAME</th>\n",
       "      <th>DISTRICT</th>\n",
       "      <th>DIST_NAME</th>\n",
       "      <th>DUT_VAL_MO</th>\n",
       "      <th>CON_VAL_MO</th>\n",
       "      <th>CAL_DUT_MO</th>\n",
       "      <th>...</th>\n",
       "      <th>VES_CHA_MO</th>\n",
       "      <th>VES_VAL_MO</th>\n",
       "      <th>VES_WGT_MO</th>\n",
       "      <th>YEAR</th>\n",
       "      <th>MONTH</th>\n",
       "      <th>COMM_LVL</th>\n",
       "      <th>SUMMARY_LVL2</th>\n",
       "      <th>YearMonth</th>\n",
       "      <th>NA2</th>\n",
       "      <th>NA2 Description</th>\n",
       "    </tr>\n",
       "  </thead>\n",
       "  <tbody>\n",
       "    <tr>\n",
       "      <th>0</th>\n",
       "      <td>111110</td>\n",
       "      <td>SOYBEANS</td>\n",
       "      <td>SOYBEANS</td>\n",
       "      <td>5330</td>\n",
       "      <td>INDIA</td>\n",
       "      <td>13</td>\n",
       "      <td>BALTIMORE, MD</td>\n",
       "      <td>0</td>\n",
       "      <td>769300</td>\n",
       "      <td>0</td>\n",
       "      <td>...</td>\n",
       "      <td>112700</td>\n",
       "      <td>769300</td>\n",
       "      <td>660200</td>\n",
       "      <td>2022</td>\n",
       "      <td>1</td>\n",
       "      <td>NA6</td>\n",
       "      <td>NACYDT</td>\n",
       "      <td>2022-01</td>\n",
       "      <td>11</td>\n",
       "      <td>Agriculture, Forestry, Fishing and HuntingT</td>\n",
       "    </tr>\n",
       "    <tr>\n",
       "      <th>1</th>\n",
       "      <td>111120</td>\n",
       "      <td>OILSEEDS (EXCEPT SOYBEAN)</td>\n",
       "      <td>OILSEEDS (EXCEPT SOYBEAN)</td>\n",
       "      <td>5330</td>\n",
       "      <td>INDIA</td>\n",
       "      <td>4</td>\n",
       "      <td>BOSTON, MA</td>\n",
       "      <td>0</td>\n",
       "      <td>4748</td>\n",
       "      <td>0</td>\n",
       "      <td>...</td>\n",
       "      <td>710</td>\n",
       "      <td>4748</td>\n",
       "      <td>1212</td>\n",
       "      <td>2022</td>\n",
       "      <td>1</td>\n",
       "      <td>NA6</td>\n",
       "      <td>NACYDT</td>\n",
       "      <td>2022-01</td>\n",
       "      <td>11</td>\n",
       "      <td>Agriculture, Forestry, Fishing and HuntingT</td>\n",
       "    </tr>\n",
       "    <tr>\n",
       "      <th>2</th>\n",
       "      <td>111120</td>\n",
       "      <td>OILSEEDS (EXCEPT SOYBEAN)</td>\n",
       "      <td>OILSEEDS (EXCEPT SOYBEAN)</td>\n",
       "      <td>5330</td>\n",
       "      <td>INDIA</td>\n",
       "      <td>7</td>\n",
       "      <td>OGDENSBURG, NY</td>\n",
       "      <td>0</td>\n",
       "      <td>29512</td>\n",
       "      <td>0</td>\n",
       "      <td>...</td>\n",
       "      <td>0</td>\n",
       "      <td>0</td>\n",
       "      <td>0</td>\n",
       "      <td>2022</td>\n",
       "      <td>1</td>\n",
       "      <td>NA6</td>\n",
       "      <td>NACYDT</td>\n",
       "      <td>2022-01</td>\n",
       "      <td>11</td>\n",
       "      <td>Agriculture, Forestry, Fishing and HuntingT</td>\n",
       "    </tr>\n",
       "    <tr>\n",
       "      <th>3</th>\n",
       "      <td>111120</td>\n",
       "      <td>OILSEEDS (EXCEPT SOYBEAN)</td>\n",
       "      <td>OILSEEDS (EXCEPT SOYBEAN)</td>\n",
       "      <td>5330</td>\n",
       "      <td>INDIA</td>\n",
       "      <td>9</td>\n",
       "      <td>BUFFALO, NY</td>\n",
       "      <td>0</td>\n",
       "      <td>22078</td>\n",
       "      <td>0</td>\n",
       "      <td>...</td>\n",
       "      <td>0</td>\n",
       "      <td>0</td>\n",
       "      <td>0</td>\n",
       "      <td>2022</td>\n",
       "      <td>1</td>\n",
       "      <td>NA6</td>\n",
       "      <td>NACYDT</td>\n",
       "      <td>2022-01</td>\n",
       "      <td>11</td>\n",
       "      <td>Agriculture, Forestry, Fishing and HuntingT</td>\n",
       "    </tr>\n",
       "    <tr>\n",
       "      <th>4</th>\n",
       "      <td>111120</td>\n",
       "      <td>OILSEEDS (EXCEPT SOYBEAN)</td>\n",
       "      <td>OILSEEDS (EXCEPT SOYBEAN)</td>\n",
       "      <td>5330</td>\n",
       "      <td>INDIA</td>\n",
       "      <td>10</td>\n",
       "      <td>NEW YORK CITY, NY</td>\n",
       "      <td>78683</td>\n",
       "      <td>1409019</td>\n",
       "      <td>147</td>\n",
       "      <td>...</td>\n",
       "      <td>154339</td>\n",
       "      <td>1406908</td>\n",
       "      <td>719305</td>\n",
       "      <td>2022</td>\n",
       "      <td>1</td>\n",
       "      <td>NA6</td>\n",
       "      <td>NACYDT</td>\n",
       "      <td>2022-01</td>\n",
       "      <td>11</td>\n",
       "      <td>Agriculture, Forestry, Fishing and HuntingT</td>\n",
       "    </tr>\n",
       "    <tr>\n",
       "      <th>...</th>\n",
       "      <td>...</td>\n",
       "      <td>...</td>\n",
       "      <td>...</td>\n",
       "      <td>...</td>\n",
       "      <td>...</td>\n",
       "      <td>...</td>\n",
       "      <td>...</td>\n",
       "      <td>...</td>\n",
       "      <td>...</td>\n",
       "      <td>...</td>\n",
       "      <td>...</td>\n",
       "      <td>...</td>\n",
       "      <td>...</td>\n",
       "      <td>...</td>\n",
       "      <td>...</td>\n",
       "      <td>...</td>\n",
       "      <td>...</td>\n",
       "      <td>...</td>\n",
       "      <td>...</td>\n",
       "      <td>...</td>\n",
       "      <td>...</td>\n",
       "    </tr>\n",
       "    <tr>\n",
       "      <th>225482</th>\n",
       "      <td>990000</td>\n",
       "      <td>OTHER SPECIAL CLASSIFICATION PROVISIONS</td>\n",
       "      <td>OTHER SPECIAL CLASSIFICATION PROVISIONS</td>\n",
       "      <td>5330</td>\n",
       "      <td>INDIA</td>\n",
       "      <td>41</td>\n",
       "      <td>CLEVELAND, OH</td>\n",
       "      <td>9718</td>\n",
       "      <td>29816</td>\n",
       "      <td>136</td>\n",
       "      <td>...</td>\n",
       "      <td>1937</td>\n",
       "      <td>4124</td>\n",
       "      <td>186</td>\n",
       "      <td>2021</td>\n",
       "      <td>12</td>\n",
       "      <td>NA6</td>\n",
       "      <td>NACYDT</td>\n",
       "      <td>2021-12</td>\n",
       "      <td>99</td>\n",
       "      <td>Other Speical Classification Provisions</td>\n",
       "    </tr>\n",
       "    <tr>\n",
       "      <th>225483</th>\n",
       "      <td>990000</td>\n",
       "      <td>OTHER SPECIAL CLASSIFICATION PROVISIONS</td>\n",
       "      <td>OTHER SPECIAL CLASSIFICATION PROVISIONS</td>\n",
       "      <td>5330</td>\n",
       "      <td>INDIA</td>\n",
       "      <td>45</td>\n",
       "      <td>ST. LOUIS, MO</td>\n",
       "      <td>0</td>\n",
       "      <td>103464</td>\n",
       "      <td>0</td>\n",
       "      <td>...</td>\n",
       "      <td>26795</td>\n",
       "      <td>103464</td>\n",
       "      <td>18192</td>\n",
       "      <td>2021</td>\n",
       "      <td>12</td>\n",
       "      <td>NA6</td>\n",
       "      <td>NACYDT</td>\n",
       "      <td>2021-12</td>\n",
       "      <td>99</td>\n",
       "      <td>Other Speical Classification Provisions</td>\n",
       "    </tr>\n",
       "    <tr>\n",
       "      <th>225484</th>\n",
       "      <td>990000</td>\n",
       "      <td>OTHER SPECIAL CLASSIFICATION PROVISIONS</td>\n",
       "      <td>OTHER SPECIAL CLASSIFICATION PROVISIONS</td>\n",
       "      <td>5330</td>\n",
       "      <td>INDIA</td>\n",
       "      <td>49</td>\n",
       "      <td>SAN JUAN, PR</td>\n",
       "      <td>0</td>\n",
       "      <td>0</td>\n",
       "      <td>0</td>\n",
       "      <td>...</td>\n",
       "      <td>0</td>\n",
       "      <td>0</td>\n",
       "      <td>0</td>\n",
       "      <td>2021</td>\n",
       "      <td>12</td>\n",
       "      <td>NA6</td>\n",
       "      <td>NACYDT</td>\n",
       "      <td>2021-12</td>\n",
       "      <td>99</td>\n",
       "      <td>Other Speical Classification Provisions</td>\n",
       "    </tr>\n",
       "    <tr>\n",
       "      <th>225485</th>\n",
       "      <td>990000</td>\n",
       "      <td>OTHER SPECIAL CLASSIFICATION PROVISIONS</td>\n",
       "      <td>OTHER SPECIAL CLASSIFICATION PROVISIONS</td>\n",
       "      <td>5330</td>\n",
       "      <td>INDIA</td>\n",
       "      <td>52</td>\n",
       "      <td>MIAMI, FL</td>\n",
       "      <td>0</td>\n",
       "      <td>0</td>\n",
       "      <td>0</td>\n",
       "      <td>...</td>\n",
       "      <td>0</td>\n",
       "      <td>0</td>\n",
       "      <td>0</td>\n",
       "      <td>2021</td>\n",
       "      <td>12</td>\n",
       "      <td>NA6</td>\n",
       "      <td>NACYDT</td>\n",
       "      <td>2021-12</td>\n",
       "      <td>99</td>\n",
       "      <td>Other Speical Classification Provisions</td>\n",
       "    </tr>\n",
       "    <tr>\n",
       "      <th>225486</th>\n",
       "      <td>990000</td>\n",
       "      <td>OTHER SPECIAL CLASSIFICATION PROVISIONS</td>\n",
       "      <td>OTHER SPECIAL CLASSIFICATION PROVISIONS</td>\n",
       "      <td>5330</td>\n",
       "      <td>INDIA</td>\n",
       "      <td>70</td>\n",
       "      <td>LOW VALUE</td>\n",
       "      <td>31579290</td>\n",
       "      <td>31579290</td>\n",
       "      <td>0</td>\n",
       "      <td>...</td>\n",
       "      <td>0</td>\n",
       "      <td>0</td>\n",
       "      <td>0</td>\n",
       "      <td>2021</td>\n",
       "      <td>12</td>\n",
       "      <td>NA6</td>\n",
       "      <td>NACYDT</td>\n",
       "      <td>2021-12</td>\n",
       "      <td>99</td>\n",
       "      <td>Other Speical Classification Provisions</td>\n",
       "    </tr>\n",
       "  </tbody>\n",
       "</table>\n",
       "<p>225487 rows × 30 columns</p>\n",
       "</div>"
      ],
      "text/plain": [
       "         NAICS                              NAICS_LDESC  \\\n",
       "0       111110                                 SOYBEANS   \n",
       "1       111120                OILSEEDS (EXCEPT SOYBEAN)   \n",
       "2       111120                OILSEEDS (EXCEPT SOYBEAN)   \n",
       "3       111120                OILSEEDS (EXCEPT SOYBEAN)   \n",
       "4       111120                OILSEEDS (EXCEPT SOYBEAN)   \n",
       "...        ...                                      ...   \n",
       "225482  990000  OTHER SPECIAL CLASSIFICATION PROVISIONS   \n",
       "225483  990000  OTHER SPECIAL CLASSIFICATION PROVISIONS   \n",
       "225484  990000  OTHER SPECIAL CLASSIFICATION PROVISIONS   \n",
       "225485  990000  OTHER SPECIAL CLASSIFICATION PROVISIONS   \n",
       "225486  990000  OTHER SPECIAL CLASSIFICATION PROVISIONS   \n",
       "\n",
       "                                    NAICS_SDESC CTY_CODE CTY_NAME  DISTRICT  \\\n",
       "0                                      SOYBEANS     5330    INDIA        13   \n",
       "1                     OILSEEDS (EXCEPT SOYBEAN)     5330    INDIA         4   \n",
       "2                     OILSEEDS (EXCEPT SOYBEAN)     5330    INDIA         7   \n",
       "3                     OILSEEDS (EXCEPT SOYBEAN)     5330    INDIA         9   \n",
       "4                     OILSEEDS (EXCEPT SOYBEAN)     5330    INDIA        10   \n",
       "...                                         ...      ...      ...       ...   \n",
       "225482  OTHER SPECIAL CLASSIFICATION PROVISIONS     5330    INDIA        41   \n",
       "225483  OTHER SPECIAL CLASSIFICATION PROVISIONS     5330    INDIA        45   \n",
       "225484  OTHER SPECIAL CLASSIFICATION PROVISIONS     5330    INDIA        49   \n",
       "225485  OTHER SPECIAL CLASSIFICATION PROVISIONS     5330    INDIA        52   \n",
       "225486  OTHER SPECIAL CLASSIFICATION PROVISIONS     5330    INDIA        70   \n",
       "\n",
       "                DIST_NAME  DUT_VAL_MO  CON_VAL_MO  CAL_DUT_MO  ...  \\\n",
       "0           BALTIMORE, MD           0      769300           0  ...   \n",
       "1              BOSTON, MA           0        4748           0  ...   \n",
       "2          OGDENSBURG, NY           0       29512           0  ...   \n",
       "3             BUFFALO, NY           0       22078           0  ...   \n",
       "4       NEW YORK CITY, NY       78683     1409019         147  ...   \n",
       "...                   ...         ...         ...         ...  ...   \n",
       "225482      CLEVELAND, OH        9718       29816         136  ...   \n",
       "225483      ST. LOUIS, MO           0      103464           0  ...   \n",
       "225484       SAN JUAN, PR           0           0           0  ...   \n",
       "225485          MIAMI, FL           0           0           0  ...   \n",
       "225486          LOW VALUE    31579290    31579290           0  ...   \n",
       "\n",
       "        VES_CHA_MO  VES_VAL_MO  VES_WGT_MO  YEAR  MONTH  COMM_LVL  \\\n",
       "0           112700      769300      660200  2022      1       NA6   \n",
       "1              710        4748        1212  2022      1       NA6   \n",
       "2                0           0           0  2022      1       NA6   \n",
       "3                0           0           0  2022      1       NA6   \n",
       "4           154339     1406908      719305  2022      1       NA6   \n",
       "...            ...         ...         ...   ...    ...       ...   \n",
       "225482        1937        4124         186  2021     12       NA6   \n",
       "225483       26795      103464       18192  2021     12       NA6   \n",
       "225484           0           0           0  2021     12       NA6   \n",
       "225485           0           0           0  2021     12       NA6   \n",
       "225486           0           0           0  2021     12       NA6   \n",
       "\n",
       "        SUMMARY_LVL2  YearMonth  NA2  \\\n",
       "0             NACYDT    2022-01   11   \n",
       "1             NACYDT    2022-01   11   \n",
       "2             NACYDT    2022-01   11   \n",
       "3             NACYDT    2022-01   11   \n",
       "4             NACYDT    2022-01   11   \n",
       "...              ...        ...  ...   \n",
       "225482        NACYDT    2021-12   99   \n",
       "225483        NACYDT    2021-12   99   \n",
       "225484        NACYDT    2021-12   99   \n",
       "225485        NACYDT    2021-12   99   \n",
       "225486        NACYDT    2021-12   99   \n",
       "\n",
       "                                    NA2 Description  \n",
       "0       Agriculture, Forestry, Fishing and HuntingT  \n",
       "1       Agriculture, Forestry, Fishing and HuntingT  \n",
       "2       Agriculture, Forestry, Fishing and HuntingT  \n",
       "3       Agriculture, Forestry, Fishing and HuntingT  \n",
       "4       Agriculture, Forestry, Fishing and HuntingT  \n",
       "...                                             ...  \n",
       "225482      Other Speical Classification Provisions  \n",
       "225483      Other Speical Classification Provisions  \n",
       "225484      Other Speical Classification Provisions  \n",
       "225485      Other Speical Classification Provisions  \n",
       "225486      Other Speical Classification Provisions  \n",
       "\n",
       "[225487 rows x 30 columns]"
      ]
     },
     "execution_count": 9,
     "metadata": {},
     "output_type": "execute_result"
    },
    {
     "name": "stdout",
     "output_type": "stream",
     "text": [
      "time: 1min 7s (started: 2023-01-22 21:04:25 -05:00)\n"
     ]
    }
   ],
   "source": [
    "# hslistDf = []\n",
    "na2listDf = []\n",
    "na3listDf = []\n",
    "# for fileName in tqdm(os.listdir('.apiResponses/hs')):\n",
    "#     if 'HSCYDT_2022' in fileName:hslistDf.append(pd.read_csv(os.path.join('.apiResponses/hs',fileName),compression='gzip'))\n",
    "for fileName in tqdm(os.listdir('.apiResponses/naics')):\n",
    "    # if 'NA2_NACYDT_2022' in fileName:na2listDf.append(pd.read_csv(os.path.join('.apiResponses/naics',fileName),compression='gzip'))\n",
    "    if 'NA6_NACYDT_202' in fileName:\n",
    "        \n",
    "        temp = pd.read_csv(os.path.join('.apiResponses/naics',fileName),compression='gzip',low_memory=False)\n",
    "        temp = temp[temp['CTY_NAME']=='INDIA']\n",
    "        na3listDf.append(temp)\n",
    "\n",
    "# hscydtDf = cleaningResponses(pd.concat(hslistDf))\n",
    "na6Df = pd.concat(na3listDf)\n",
    "na6Df['NA2'] = na6Df['NAICS'].apply(lambda x:str(x)[:2])\n",
    "na6Df = na6Df.merge(na6Df,how='left')\n",
    "na6Df = na6Df[na6Df['CTY_NAME']=='INDIA']\n",
    "\n",
    "na6Df.loc[na6Df['NA2']=='31','NA2 Description'] = 'Manufacturing 1'\n",
    "na6Df.loc[na6Df['NA2']=='32','NA2 Description'] = 'Manufacturing 2'\n",
    "na6Df.loc[na6Df['NA2']=='33','NA2 Description'] = 'Manufacturing 3'\n",
    "na6Df.loc[na6Df['NA2']=='44','NA2 Description'] = 'Retail Trade 1'\n",
    "na6Df.loc[na6Df['NA2']=='45','NA2 Description'] = 'Retail Trade 2'\n",
    "na6Df.loc[na6Df['NA2']=='48','NA2 Description'] = 'Transportation and Warehousing 1'\n",
    "na6Df.loc[na6Df['NA2']=='49','NA2 Description'] = 'Transportation and Warehousing 2'\n",
    "na6Df.loc[na6Df['NA2']=='11','NA2 Description'] = 'Agriculture, Forestry, Fishing and HuntingT'\n",
    "na6Df.loc[na6Df['NA2']=='21','NA2 Description'] = 'Mining, Quarrying, and Oil and Gas ExtractionT'\n",
    "na6Df.loc[na6Df['NA2']=='91','NA2 Description'] = 'Waste and Scrap'\n",
    "na6Df.loc[na6Df['NA2']=='93','NA2 Description'] = 'Used or Second-Hand Merchandise'\n",
    "na6Df.loc[na6Df['NA2']=='98','NA2 Description'] = 'Goods Returned (EXPORTS FOR CANADA ONLY)'\n",
    "na6Df.loc[na6Df['NA2']=='99','NA2 Description'] = 'Other Speical Classification Provisions'\n",
    "na6Df"
   ]
  },
  {
   "cell_type": "code",
   "execution_count": 10,
   "metadata": {},
   "outputs": [
    {
     "data": {
      "text/html": [
       "<div>\n",
       "<style scoped>\n",
       "    .dataframe tbody tr th:only-of-type {\n",
       "        vertical-align: middle;\n",
       "    }\n",
       "\n",
       "    .dataframe tbody tr th {\n",
       "        vertical-align: top;\n",
       "    }\n",
       "\n",
       "    .dataframe thead th {\n",
       "        text-align: right;\n",
       "    }\n",
       "</style>\n",
       "<table border=\"1\" class=\"dataframe\">\n",
       "  <thead>\n",
       "    <tr style=\"text-align: right;\">\n",
       "      <th></th>\n",
       "      <th>YearMonth</th>\n",
       "      <th>NA2</th>\n",
       "      <th>NAICS</th>\n",
       "      <th>NA2 Description</th>\n",
       "      <th>NAICS_LDESC</th>\n",
       "      <th>GEN_CHA_MO</th>\n",
       "      <th>GEN_VAL_MO</th>\n",
       "      <th>GEN_CIF_MO</th>\n",
       "      <th>AIR_VAL_MO</th>\n",
       "      <th>VES_VAL_MO</th>\n",
       "      <th>CC_MO</th>\n",
       "    </tr>\n",
       "  </thead>\n",
       "  <tbody>\n",
       "    <tr>\n",
       "      <th>7642</th>\n",
       "      <td>2021-10</td>\n",
       "      <td>33</td>\n",
       "      <td>339910</td>\n",
       "      <td>Manufacturing 3</td>\n",
       "      <td>JEWELRY AND SILVERWARE</td>\n",
       "      <td>31754138</td>\n",
       "      <td>1718386081</td>\n",
       "      <td>1750140219</td>\n",
       "      <td>1700780629</td>\n",
       "      <td>16721635</td>\n",
       "      <td>24461</td>\n",
       "    </tr>\n",
       "    <tr>\n",
       "      <th>6918</th>\n",
       "      <td>2021-08</td>\n",
       "      <td>33</td>\n",
       "      <td>339910</td>\n",
       "      <td>Manufacturing 3</td>\n",
       "      <td>JEWELRY AND SILVERWARE</td>\n",
       "      <td>30126220</td>\n",
       "      <td>1633735717</td>\n",
       "      <td>1663861937</td>\n",
       "      <td>1619364174</td>\n",
       "      <td>12131151</td>\n",
       "      <td>23497</td>\n",
       "    </tr>\n",
       "    <tr>\n",
       "      <th>11871</th>\n",
       "      <td>2022-10</td>\n",
       "      <td>33</td>\n",
       "      <td>339910</td>\n",
       "      <td>Manufacturing 3</td>\n",
       "      <td>JEWELRY AND SILVERWARE</td>\n",
       "      <td>23849081</td>\n",
       "      <td>1563615961</td>\n",
       "      <td>1587465042</td>\n",
       "      <td>1553506631</td>\n",
       "      <td>9409386</td>\n",
       "      <td>19981</td>\n",
       "    </tr>\n",
       "    <tr>\n",
       "      <th>6558</th>\n",
       "      <td>2021-07</td>\n",
       "      <td>33</td>\n",
       "      <td>339910</td>\n",
       "      <td>Manufacturing 3</td>\n",
       "      <td>JEWELRY AND SILVERWARE</td>\n",
       "      <td>25477489</td>\n",
       "      <td>1537636716</td>\n",
       "      <td>1563114205</td>\n",
       "      <td>1525820144</td>\n",
       "      <td>11569383</td>\n",
       "      <td>21525</td>\n",
       "    </tr>\n",
       "    <tr>\n",
       "      <th>10445</th>\n",
       "      <td>2022-06</td>\n",
       "      <td>33</td>\n",
       "      <td>339910</td>\n",
       "      <td>Manufacturing 3</td>\n",
       "      <td>JEWELRY AND SILVERWARE</td>\n",
       "      <td>25394691</td>\n",
       "      <td>1519759304</td>\n",
       "      <td>1545153995</td>\n",
       "      <td>1502688769</td>\n",
       "      <td>14387016</td>\n",
       "      <td>19984</td>\n",
       "    </tr>\n",
       "    <tr>\n",
       "      <th>...</th>\n",
       "      <td>...</td>\n",
       "      <td>...</td>\n",
       "      <td>...</td>\n",
       "      <td>...</td>\n",
       "      <td>...</td>\n",
       "      <td>...</td>\n",
       "      <td>...</td>\n",
       "      <td>...</td>\n",
       "      <td>...</td>\n",
       "      <td>...</td>\n",
       "      <td>...</td>\n",
       "    </tr>\n",
       "    <tr>\n",
       "      <th>1631</th>\n",
       "      <td>2020-05</td>\n",
       "      <td>33</td>\n",
       "      <td>336112</td>\n",
       "      <td>Manufacturing 3</td>\n",
       "      <td>LIGHT TRUCK AND UTILITY VEHICLE</td>\n",
       "      <td>0</td>\n",
       "      <td>0</td>\n",
       "      <td>0</td>\n",
       "      <td>0</td>\n",
       "      <td>0</td>\n",
       "      <td>0</td>\n",
       "    </tr>\n",
       "    <tr>\n",
       "      <th>1632</th>\n",
       "      <td>2020-05</td>\n",
       "      <td>33</td>\n",
       "      <td>336211</td>\n",
       "      <td>Manufacturing 3</td>\n",
       "      <td>MOTOR VEHICLE BODIES</td>\n",
       "      <td>0</td>\n",
       "      <td>0</td>\n",
       "      <td>0</td>\n",
       "      <td>0</td>\n",
       "      <td>0</td>\n",
       "      <td>0</td>\n",
       "    </tr>\n",
       "    <tr>\n",
       "      <th>6961</th>\n",
       "      <td>2021-09</td>\n",
       "      <td>21</td>\n",
       "      <td>212299</td>\n",
       "      <td>Mining, Quarrying, and Oil and Gas ExtractionT</td>\n",
       "      <td>ALL OTHER METAL ORES</td>\n",
       "      <td>0</td>\n",
       "      <td>0</td>\n",
       "      <td>0</td>\n",
       "      <td>0</td>\n",
       "      <td>0</td>\n",
       "      <td>0</td>\n",
       "    </tr>\n",
       "    <tr>\n",
       "      <th>2758</th>\n",
       "      <td>2020-09</td>\n",
       "      <td>21</td>\n",
       "      <td>212324</td>\n",
       "      <td>Mining, Quarrying, and Oil and Gas ExtractionT</td>\n",
       "      <td>KAOLIN AND OTHER KAOLINIC CLAYS</td>\n",
       "      <td>0</td>\n",
       "      <td>0</td>\n",
       "      <td>0</td>\n",
       "      <td>0</td>\n",
       "      <td>0</td>\n",
       "      <td>0</td>\n",
       "    </tr>\n",
       "    <tr>\n",
       "      <th>6896</th>\n",
       "      <td>2021-08</td>\n",
       "      <td>33</td>\n",
       "      <td>336611</td>\n",
       "      <td>Manufacturing 3</td>\n",
       "      <td>SHIPS</td>\n",
       "      <td>0</td>\n",
       "      <td>0</td>\n",
       "      <td>0</td>\n",
       "      <td>0</td>\n",
       "      <td>0</td>\n",
       "      <td>0</td>\n",
       "    </tr>\n",
       "  </tbody>\n",
       "</table>\n",
       "<p>12245 rows × 11 columns</p>\n",
       "</div>"
      ],
      "text/plain": [
       "      YearMonth NA2   NAICS                                 NA2 Description  \\\n",
       "7642    2021-10  33  339910                                 Manufacturing 3   \n",
       "6918    2021-08  33  339910                                 Manufacturing 3   \n",
       "11871   2022-10  33  339910                                 Manufacturing 3   \n",
       "6558    2021-07  33  339910                                 Manufacturing 3   \n",
       "10445   2022-06  33  339910                                 Manufacturing 3   \n",
       "...         ...  ..     ...                                             ...   \n",
       "1631    2020-05  33  336112                                 Manufacturing 3   \n",
       "1632    2020-05  33  336211                                 Manufacturing 3   \n",
       "6961    2021-09  21  212299  Mining, Quarrying, and Oil and Gas ExtractionT   \n",
       "2758    2020-09  21  212324  Mining, Quarrying, and Oil and Gas ExtractionT   \n",
       "6896    2021-08  33  336611                                 Manufacturing 3   \n",
       "\n",
       "                           NAICS_LDESC  GEN_CHA_MO  GEN_VAL_MO  GEN_CIF_MO  \\\n",
       "7642            JEWELRY AND SILVERWARE    31754138  1718386081  1750140219   \n",
       "6918            JEWELRY AND SILVERWARE    30126220  1633735717  1663861937   \n",
       "11871           JEWELRY AND SILVERWARE    23849081  1563615961  1587465042   \n",
       "6558            JEWELRY AND SILVERWARE    25477489  1537636716  1563114205   \n",
       "10445           JEWELRY AND SILVERWARE    25394691  1519759304  1545153995   \n",
       "...                                ...         ...         ...         ...   \n",
       "1631   LIGHT TRUCK AND UTILITY VEHICLE           0           0           0   \n",
       "1632              MOTOR VEHICLE BODIES           0           0           0   \n",
       "6961              ALL OTHER METAL ORES           0           0           0   \n",
       "2758   KAOLIN AND OTHER KAOLINIC CLAYS           0           0           0   \n",
       "6896                             SHIPS           0           0           0   \n",
       "\n",
       "       AIR_VAL_MO  VES_VAL_MO  CC_MO  \n",
       "7642   1700780629    16721635  24461  \n",
       "6918   1619364174    12131151  23497  \n",
       "11871  1553506631     9409386  19981  \n",
       "6558   1525820144    11569383  21525  \n",
       "10445  1502688769    14387016  19984  \n",
       "...           ...         ...    ...  \n",
       "1631            0           0      0  \n",
       "1632            0           0      0  \n",
       "6961            0           0      0  \n",
       "2758            0           0      0  \n",
       "6896            0           0      0  \n",
       "\n",
       "[12245 rows x 11 columns]"
      ]
     },
     "execution_count": 10,
     "metadata": {},
     "output_type": "execute_result"
    },
    {
     "name": "stdout",
     "output_type": "stream",
     "text": [
      "time: 626 ms (started: 2023-01-22 21:05:44 -05:00)\n"
     ]
    }
   ],
   "source": [
    "tempdf = na6Df.fillna('UKN').groupby(['YearMonth','NA2',\"NAICS\",'NA2 Description',\"NAICS_LDESC\"])[[\"GEN_CHA_MO\",\"GEN_VAL_MO\",\"GEN_CIF_MO\",'AIR_VAL_MO','VES_VAL_MO','CC_MO']].sum().reset_index()\n",
    "tempdf['NAICS'] = tempdf['NAICS'].astype(str)\n",
    "tempdf = tempdf.sort_values('GEN_CIF_MO',ascending=False)\n",
    "tempdf"
   ]
  },
  {
   "cell_type": "code",
   "execution_count": 36,
   "metadata": {},
   "outputs": [
    {
     "name": "stdout",
     "output_type": "stream",
     "text": [
      "time: 12.1 ms (started: 2023-01-22 20:33:13 -05:00)\n"
     ]
    }
   ],
   "source": [
    "NA2Summary = tempdf.groupby(['NA2','NA2 Description'])[['GEN_CHA_MO','GEN_VAL_MO','CC_MO']].sum().sort_values('GEN_VAL_MO',ascending=False).reset_index()"
   ]
  },
  {
   "cell_type": "code",
   "execution_count": 13,
   "metadata": {},
   "outputs": [
    {
     "data": {
      "text/html": [
       "<div>\n",
       "<style scoped>\n",
       "    .dataframe tbody tr th:only-of-type {\n",
       "        vertical-align: middle;\n",
       "    }\n",
       "\n",
       "    .dataframe tbody tr th {\n",
       "        vertical-align: top;\n",
       "    }\n",
       "\n",
       "    .dataframe thead th {\n",
       "        text-align: right;\n",
       "    }\n",
       "</style>\n",
       "<table border=\"1\" class=\"dataframe\">\n",
       "  <thead>\n",
       "    <tr style=\"text-align: right;\">\n",
       "      <th></th>\n",
       "      <th>NAICS_LDESC</th>\n",
       "      <th>GEN_CHA_MO</th>\n",
       "      <th>GEN_VAL_MO</th>\n",
       "    </tr>\n",
       "  </thead>\n",
       "  <tbody>\n",
       "    <tr>\n",
       "      <th>0</th>\n",
       "      <td>JEWELRY AND SILVERWARE</td>\n",
       "      <td>269921042</td>\n",
       "      <td>15124629912</td>\n",
       "    </tr>\n",
       "    <tr>\n",
       "      <th>1</th>\n",
       "      <td>PHARMACEUTICAL PREPARATIONS</td>\n",
       "      <td>240469476</td>\n",
       "      <td>8314333560</td>\n",
       "    </tr>\n",
       "    <tr>\n",
       "      <th>2</th>\n",
       "      <td>PETROLEUM REFINERY PRODUCTS</td>\n",
       "      <td>136723696</td>\n",
       "      <td>3491837991</td>\n",
       "    </tr>\n",
       "    <tr>\n",
       "      <th>3</th>\n",
       "      <td>ALL OTHER BASIC ORGANIC CHEMICALS</td>\n",
       "      <td>160228860</td>\n",
       "      <td>3413218295</td>\n",
       "    </tr>\n",
       "    <tr>\n",
       "      <th>4</th>\n",
       "      <td>WOMEN'S, GIRLS', AND INFANTS' CUT AND SEW APPAREL</td>\n",
       "      <td>161911574</td>\n",
       "      <td>3239106694</td>\n",
       "    </tr>\n",
       "    <tr>\n",
       "      <th>...</th>\n",
       "      <td>...</td>\n",
       "      <td>...</td>\n",
       "      <td>...</td>\n",
       "    </tr>\n",
       "    <tr>\n",
       "      <th>354</th>\n",
       "      <td>IRON ORES</td>\n",
       "      <td>365</td>\n",
       "      <td>9216</td>\n",
       "    </tr>\n",
       "    <tr>\n",
       "      <th>355</th>\n",
       "      <td>GOATS AND OTHER FINE ANIMAL HAIR</td>\n",
       "      <td>410</td>\n",
       "      <td>8543</td>\n",
       "    </tr>\n",
       "    <tr>\n",
       "      <th>356</th>\n",
       "      <td>HORSES AND OTHER EQUINE</td>\n",
       "      <td>529</td>\n",
       "      <td>7130</td>\n",
       "    </tr>\n",
       "    <tr>\n",
       "      <th>357</th>\n",
       "      <td>ICE</td>\n",
       "      <td>31</td>\n",
       "      <td>4524</td>\n",
       "    </tr>\n",
       "    <tr>\n",
       "      <th>358</th>\n",
       "      <td>ETHYL ALCOHOLS</td>\n",
       "      <td>2000</td>\n",
       "      <td>4096</td>\n",
       "    </tr>\n",
       "  </tbody>\n",
       "</table>\n",
       "<p>359 rows × 3 columns</p>\n",
       "</div>"
      ],
      "text/plain": [
       "                                           NAICS_LDESC  GEN_CHA_MO  \\\n",
       "0                               JEWELRY AND SILVERWARE   269921042   \n",
       "1                          PHARMACEUTICAL PREPARATIONS   240469476   \n",
       "2                          PETROLEUM REFINERY PRODUCTS   136723696   \n",
       "3                    ALL OTHER BASIC ORGANIC CHEMICALS   160228860   \n",
       "4    WOMEN'S, GIRLS', AND INFANTS' CUT AND SEW APPAREL   161911574   \n",
       "..                                                 ...         ...   \n",
       "354                                          IRON ORES         365   \n",
       "355                   GOATS AND OTHER FINE ANIMAL HAIR         410   \n",
       "356                            HORSES AND OTHER EQUINE         529   \n",
       "357                                                ICE          31   \n",
       "358                                     ETHYL ALCOHOLS        2000   \n",
       "\n",
       "      GEN_VAL_MO  \n",
       "0    15124629912  \n",
       "1     8314333560  \n",
       "2     3491837991  \n",
       "3     3413218295  \n",
       "4     3239106694  \n",
       "..           ...  \n",
       "354         9216  \n",
       "355         8543  \n",
       "356         7130  \n",
       "357         4524  \n",
       "358         4096  \n",
       "\n",
       "[359 rows x 3 columns]"
      ]
     },
     "execution_count": 13,
     "metadata": {},
     "output_type": "execute_result"
    },
    {
     "name": "stdout",
     "output_type": "stream",
     "text": [
      "time: 161 ms (started: 2023-01-22 20:22:32 -05:00)\n"
     ]
    }
   ],
   "source": [
    "tempdf.groupby('NAICS_LDESC')[['GEN_CHA_MO','GEN_VAL_MO']].sum().sort_values('GEN_VAL_MO',ascending=False).reset_index()"
   ]
  },
  {
   "cell_type": "code",
   "execution_count": 52,
   "metadata": {},
   "outputs": [
    {
     "data": {
      "text/plain": [
       "array(['33', '32', '31', '11', '98', '99', '93', '21', '91'], dtype=object)"
      ]
     },
     "execution_count": 52,
     "metadata": {},
     "output_type": "execute_result"
    },
    {
     "name": "stdout",
     "output_type": "stream",
     "text": [
      "time: 5.02 ms (started: 2023-01-22 21:31:40 -05:00)\n"
     ]
    }
   ],
   "source": []
  },
  {
   "cell_type": "code",
   "execution_count": 53,
   "metadata": {},
   "outputs": [
    {
     "name": "stdout",
     "output_type": "stream",
     "text": [
      "time: 2.95 ms (started: 2023-01-22 21:32:01 -05:00)\n"
     ]
    }
   ],
   "source": [
    "import plotly.graph_objects as go\n",
    "from plotly.subplots import make_subplots\n",
    "\n",
    "# fig = make_subplots(specs=[[{\"secondary_y\": True}]])\n",
    "def MoMChangePlotbyNA2(tempdf,NA2Code):\n",
    "    totalCIF33 = tempdf[tempdf['NA2']==NA2Code].groupby('YearMonth')[['AIR_VAL_MO','VES_VAL_MO']].sum().reset_index()\n",
    "    \n",
    "    fig = go.Figure(data=[\n",
    "        go.Bar(name='by Air', \n",
    "               x = totalCIF33['YearMonth'], \n",
    "               y = totalCIF33['AIR_VAL_MO']/1e9,\n",
    "               yaxis='y1',\n",
    "               hoverinfo='text',\n",
    "            #    hover=NA2Summary['NA2 Description'],\n",
    "               text = \"Air:\"+(totalCIF33['AIR_VAL_MO']/1e9).round(2).astype(str) + 'B',\n",
    "               textposition=\"inside\",\n",
    "               insidetextanchor=\"end\"),\n",
    "    \n",
    "        go.Bar(name='by Vessel',\n",
    "               x=totalCIF33['YearMonth'], \n",
    "               y=totalCIF33['VES_VAL_MO']/1e9,\n",
    "               yaxis='y1',\n",
    "               hoverinfo='text',\n",
    "               text=\"Vessel:\"+(totalCIF33['VES_VAL_MO']/1e9).round(2).astype(str) + 'B',\n",
    "               textposition=\"inside\",\n",
    "            #    texttemplate='%text',\n",
    "               textfont=dict(\n",
    "            family=\"sans serif\",\n",
    "            size=24,\n",
    "            color=\"white\"\n",
    "        )),\n",
    "    ])\n",
    "    \n",
    "    fig.add_trace(go.Scatter(\n",
    "        x=totalCIF33['YearMonth'],\n",
    "        y=(totalCIF33['VES_VAL_MO']+totalCIF33['AIR_VAL_MO']).pct_change()*100,\n",
    "        # xperiod=\"M1\",\n",
    "        yaxis=\"y2\",\n",
    "        name=\"MoM Growth\",\n",
    "        hoverinfo='text',\n",
    "        text=\"{y2:.2f}%\",\n",
    "        xperiodalignment=\"middle\",\n",
    "        hovertemplate=\"%{y:.2f}%%{_xother}\"\n",
    "    ))\n",
    "    fig.update_traces(textfont_size=30)\n",
    "    fig.update_layout(autosize=False,\n",
    "        yaxis1=dict(side='left'),\n",
    "        yaxis2=dict(title='MoM Growth',overlaying= 'y',side='right'),\n",
    "        legend=dict(orientation=\"h\",yanchor=\"bottom\",y=1.02,xanchor=\"right\",x=1),\n",
    "        width=1400,\n",
    "        height=500,\n",
    "        margin=dict(l=50, r=50, b=100, t=50, pad=4),\n",
    "        barmode='group',\n",
    "        title=f\"Inbound CIF by Air and Vessel for {tempdf[tempdf['NA2']==NA2Code]['NA2 Description'].unique()[0]} in US From India\",\n",
    "        xaxis_title=\"Year-Month\",\n",
    "        yaxis_title=\"Dollar value (in Billions)\")\n",
    "    # fig.show()\n",
    "    \n",
    "    fig.update_layout(hovermode=\"x unified\")\n",
    "    fig.show()"
   ]
  },
  {
   "cell_type": "code",
   "execution_count": 55,
   "metadata": {},
   "outputs": [
    {
     "data": {
      "application/vnd.plotly.v1+json": {
       "config": {
        "plotlyServerURL": "https://plot.ly"
       },
       "data": [
        {
         "hoverinfo": "text",
         "insidetextanchor": "end",
         "name": "by Air",
         "text": [
          "Air:1.08B",
          "Air:1.05B",
          "Air:0.71B",
          "Air:0.13B",
          "Air:0.25B",
          "Air:0.71B",
          "Air:0.8B",
          "Air:0.77B",
          "Air:1.22B",
          "Air:1.37B",
          "Air:1.42B",
          "Air:1.27B",
          "Air:1.37B",
          "Air:1.16B",
          "Air:1.51B",
          "Air:1.69B",
          "Air:1.44B",
          "Air:1.48B",
          "Air:1.82B",
          "Air:1.91B",
          "Air:1.61B",
          "Air:1.96B",
          "Air:1.42B",
          "Air:1.41B",
          "Air:1.68B",
          "Air:1.58B",
          "Air:1.8B",
          "Air:1.75B",
          "Air:1.76B",
          "Air:1.87B",
          "Air:1.71B",
          "Air:1.66B",
          "Air:1.74B",
          "Air:2.01B",
          "Air:1.4B"
         ],
         "textfont": {
          "size": 30
         },
         "textposition": "inside",
         "type": "bar",
         "x": [
          "2020-01",
          "2020-02",
          "2020-03",
          "2020-04",
          "2020-05",
          "2020-06",
          "2020-07",
          "2020-08",
          "2020-09",
          "2020-10",
          "2020-11",
          "2020-12",
          "2021-01",
          "2021-02",
          "2021-03",
          "2021-04",
          "2021-05",
          "2021-06",
          "2021-07",
          "2021-08",
          "2021-09",
          "2021-10",
          "2021-11",
          "2021-12",
          "2022-01",
          "2022-02",
          "2022-03",
          "2022-04",
          "2022-05",
          "2022-06",
          "2022-07",
          "2022-08",
          "2022-09",
          "2022-10",
          "2022-11"
         ],
         "y": [
          1.077246154,
          1.054581887,
          0.711960912,
          0.125106208,
          0.249609292,
          0.711549156,
          0.802187277,
          0.76810785,
          1.216128601,
          1.365667448,
          1.418792061,
          1.268489601,
          1.373024921,
          1.157009113,
          1.505464149,
          1.68778291,
          1.438099998,
          1.484474051,
          1.816859916,
          1.909695237,
          1.60731537,
          1.957634907,
          1.415824304,
          1.414029387,
          1.67809574,
          1.57721868,
          1.801441487,
          1.746307866,
          1.763123215,
          1.866138287,
          1.71174556,
          1.655900317,
          1.737363414,
          2.006285811,
          1.397218926
         ],
         "yaxis": "y"
        },
        {
         "hoverinfo": "text",
         "name": "by Vessel",
         "text": [
          "Vessel:0.98B",
          "Vessel:0.89B",
          "Vessel:0.96B",
          "Vessel:0.89B",
          "Vessel:0.33B",
          "Vessel:0.43B",
          "Vessel:0.67B",
          "Vessel:0.77B",
          "Vessel:0.91B",
          "Vessel:0.98B",
          "Vessel:0.84B",
          "Vessel:0.88B",
          "Vessel:0.92B",
          "Vessel:0.81B",
          "Vessel:1.12B",
          "Vessel:1.07B",
          "Vessel:1.18B",
          "Vessel:1.1B",
          "Vessel:1.09B",
          "Vessel:1.22B",
          "Vessel:1.24B",
          "Vessel:1.26B",
          "Vessel:1.31B",
          "Vessel:1.37B",
          "Vessel:1.27B",
          "Vessel:1.23B",
          "Vessel:1.54B",
          "Vessel:1.63B",
          "Vessel:2.14B",
          "Vessel:1.87B",
          "Vessel:1.78B",
          "Vessel:1.55B",
          "Vessel:1.72B",
          "Vessel:1.69B",
          "Vessel:1.59B"
         ],
         "textfont": {
          "color": "white",
          "family": "sans serif",
          "size": 30
         },
         "textposition": "inside",
         "type": "bar",
         "x": [
          "2020-01",
          "2020-02",
          "2020-03",
          "2020-04",
          "2020-05",
          "2020-06",
          "2020-07",
          "2020-08",
          "2020-09",
          "2020-10",
          "2020-11",
          "2020-12",
          "2021-01",
          "2021-02",
          "2021-03",
          "2021-04",
          "2021-05",
          "2021-06",
          "2021-07",
          "2021-08",
          "2021-09",
          "2021-10",
          "2021-11",
          "2021-12",
          "2022-01",
          "2022-02",
          "2022-03",
          "2022-04",
          "2022-05",
          "2022-06",
          "2022-07",
          "2022-08",
          "2022-09",
          "2022-10",
          "2022-11"
         ],
         "y": [
          0.98310007,
          0.887728677,
          0.962855091,
          0.892076257,
          0.334565235,
          0.42661326,
          0.672857603,
          0.765204414,
          0.907705342,
          0.984411345,
          0.837889042,
          0.884206987,
          0.919278961,
          0.809510147,
          1.119300041,
          1.073818309,
          1.178817648,
          1.096799951,
          1.094052439,
          1.218296257,
          1.239980071,
          1.263610183,
          1.305361462,
          1.370005921,
          1.272923811,
          1.234875585,
          1.536287304,
          1.632639634,
          2.135966484,
          1.870904708,
          1.778008648,
          1.54639995,
          1.717293927,
          1.694465288,
          1.589071838
         ],
         "yaxis": "y"
        },
        {
         "hoverinfo": "text",
         "hovertemplate": "%{y:.2f}%%{_xother}",
         "name": "MoM Growth",
         "text": "{y2:.2f}%",
         "textfont": {
          "size": 30
         },
         "type": "scatter",
         "x": [
          "2020-01",
          "2020-02",
          "2020-03",
          "2020-04",
          "2020-05",
          "2020-06",
          "2020-07",
          "2020-08",
          "2020-09",
          "2020-10",
          "2020-11",
          "2020-12",
          "2021-01",
          "2021-02",
          "2021-03",
          "2021-04",
          "2021-05",
          "2021-06",
          "2021-07",
          "2021-08",
          "2021-09",
          "2021-10",
          "2021-11",
          "2021-12",
          "2022-01",
          "2022-02",
          "2022-03",
          "2022-04",
          "2022-05",
          "2022-06",
          "2022-07",
          "2022-08",
          "2022-09",
          "2022-10",
          "2022-11"
         ],
         "xperiodalignment": "middle",
         "y": [
          null,
          -5.728923548142461,
          -13.771976838200429,
          -39.26601709214741,
          -42.569347476905236,
          94.83259940226733,
          29.598804113032664,
          3.950210925107589,
          38.51281261257817,
          10.652661934596463,
          -3.9742365353109266,
          -4.607851541884422,
          6.485228563013834,
          -14.212104449073216,
          33.47259004216414,
          5.213307523827493,
          -5.239118957674538,
          -1.3620468360738047,
          12.770374347883727,
          7.457426144319612,
          -8.973683385598108,
          13.133503591347196,
          -15.523790026172769,
          2.3096380550448714,
          5.997921165732567,
          -4.707704696599624,
          18.69192411300622,
          1.234932841492209,
          15.393615881868538,
          -4.156013749608278,
          -6.617231520505962,
          -8.237082724652456,
          7.880493800052513,
          7.123535960552441,
          -19.305819707600936
         ],
         "yaxis": "y2"
        }
       ],
       "layout": {
        "autosize": false,
        "barmode": "group",
        "height": 500,
        "hovermode": "x unified",
        "legend": {
         "orientation": "h",
         "x": 1,
         "xanchor": "right",
         "y": 1.02,
         "yanchor": "bottom"
        },
        "margin": {
         "b": 100,
         "l": 50,
         "pad": 4,
         "r": 50,
         "t": 50
        },
        "template": {
         "data": {
          "bar": [
           {
            "error_x": {
             "color": "#2a3f5f"
            },
            "error_y": {
             "color": "#2a3f5f"
            },
            "marker": {
             "line": {
              "color": "#E5ECF6",
              "width": 0.5
             },
             "pattern": {
              "fillmode": "overlay",
              "size": 10,
              "solidity": 0.2
             }
            },
            "type": "bar"
           }
          ],
          "barpolar": [
           {
            "marker": {
             "line": {
              "color": "#E5ECF6",
              "width": 0.5
             },
             "pattern": {
              "fillmode": "overlay",
              "size": 10,
              "solidity": 0.2
             }
            },
            "type": "barpolar"
           }
          ],
          "carpet": [
           {
            "aaxis": {
             "endlinecolor": "#2a3f5f",
             "gridcolor": "white",
             "linecolor": "white",
             "minorgridcolor": "white",
             "startlinecolor": "#2a3f5f"
            },
            "baxis": {
             "endlinecolor": "#2a3f5f",
             "gridcolor": "white",
             "linecolor": "white",
             "minorgridcolor": "white",
             "startlinecolor": "#2a3f5f"
            },
            "type": "carpet"
           }
          ],
          "choropleth": [
           {
            "colorbar": {
             "outlinewidth": 0,
             "ticks": ""
            },
            "type": "choropleth"
           }
          ],
          "contour": [
           {
            "colorbar": {
             "outlinewidth": 0,
             "ticks": ""
            },
            "colorscale": [
             [
              0,
              "#0d0887"
             ],
             [
              0.1111111111111111,
              "#46039f"
             ],
             [
              0.2222222222222222,
              "#7201a8"
             ],
             [
              0.3333333333333333,
              "#9c179e"
             ],
             [
              0.4444444444444444,
              "#bd3786"
             ],
             [
              0.5555555555555556,
              "#d8576b"
             ],
             [
              0.6666666666666666,
              "#ed7953"
             ],
             [
              0.7777777777777778,
              "#fb9f3a"
             ],
             [
              0.8888888888888888,
              "#fdca26"
             ],
             [
              1,
              "#f0f921"
             ]
            ],
            "type": "contour"
           }
          ],
          "contourcarpet": [
           {
            "colorbar": {
             "outlinewidth": 0,
             "ticks": ""
            },
            "type": "contourcarpet"
           }
          ],
          "heatmap": [
           {
            "colorbar": {
             "outlinewidth": 0,
             "ticks": ""
            },
            "colorscale": [
             [
              0,
              "#0d0887"
             ],
             [
              0.1111111111111111,
              "#46039f"
             ],
             [
              0.2222222222222222,
              "#7201a8"
             ],
             [
              0.3333333333333333,
              "#9c179e"
             ],
             [
              0.4444444444444444,
              "#bd3786"
             ],
             [
              0.5555555555555556,
              "#d8576b"
             ],
             [
              0.6666666666666666,
              "#ed7953"
             ],
             [
              0.7777777777777778,
              "#fb9f3a"
             ],
             [
              0.8888888888888888,
              "#fdca26"
             ],
             [
              1,
              "#f0f921"
             ]
            ],
            "type": "heatmap"
           }
          ],
          "heatmapgl": [
           {
            "colorbar": {
             "outlinewidth": 0,
             "ticks": ""
            },
            "colorscale": [
             [
              0,
              "#0d0887"
             ],
             [
              0.1111111111111111,
              "#46039f"
             ],
             [
              0.2222222222222222,
              "#7201a8"
             ],
             [
              0.3333333333333333,
              "#9c179e"
             ],
             [
              0.4444444444444444,
              "#bd3786"
             ],
             [
              0.5555555555555556,
              "#d8576b"
             ],
             [
              0.6666666666666666,
              "#ed7953"
             ],
             [
              0.7777777777777778,
              "#fb9f3a"
             ],
             [
              0.8888888888888888,
              "#fdca26"
             ],
             [
              1,
              "#f0f921"
             ]
            ],
            "type": "heatmapgl"
           }
          ],
          "histogram": [
           {
            "marker": {
             "pattern": {
              "fillmode": "overlay",
              "size": 10,
              "solidity": 0.2
             }
            },
            "type": "histogram"
           }
          ],
          "histogram2d": [
           {
            "colorbar": {
             "outlinewidth": 0,
             "ticks": ""
            },
            "colorscale": [
             [
              0,
              "#0d0887"
             ],
             [
              0.1111111111111111,
              "#46039f"
             ],
             [
              0.2222222222222222,
              "#7201a8"
             ],
             [
              0.3333333333333333,
              "#9c179e"
             ],
             [
              0.4444444444444444,
              "#bd3786"
             ],
             [
              0.5555555555555556,
              "#d8576b"
             ],
             [
              0.6666666666666666,
              "#ed7953"
             ],
             [
              0.7777777777777778,
              "#fb9f3a"
             ],
             [
              0.8888888888888888,
              "#fdca26"
             ],
             [
              1,
              "#f0f921"
             ]
            ],
            "type": "histogram2d"
           }
          ],
          "histogram2dcontour": [
           {
            "colorbar": {
             "outlinewidth": 0,
             "ticks": ""
            },
            "colorscale": [
             [
              0,
              "#0d0887"
             ],
             [
              0.1111111111111111,
              "#46039f"
             ],
             [
              0.2222222222222222,
              "#7201a8"
             ],
             [
              0.3333333333333333,
              "#9c179e"
             ],
             [
              0.4444444444444444,
              "#bd3786"
             ],
             [
              0.5555555555555556,
              "#d8576b"
             ],
             [
              0.6666666666666666,
              "#ed7953"
             ],
             [
              0.7777777777777778,
              "#fb9f3a"
             ],
             [
              0.8888888888888888,
              "#fdca26"
             ],
             [
              1,
              "#f0f921"
             ]
            ],
            "type": "histogram2dcontour"
           }
          ],
          "mesh3d": [
           {
            "colorbar": {
             "outlinewidth": 0,
             "ticks": ""
            },
            "type": "mesh3d"
           }
          ],
          "parcoords": [
           {
            "line": {
             "colorbar": {
              "outlinewidth": 0,
              "ticks": ""
             }
            },
            "type": "parcoords"
           }
          ],
          "pie": [
           {
            "automargin": true,
            "type": "pie"
           }
          ],
          "scatter": [
           {
            "fillpattern": {
             "fillmode": "overlay",
             "size": 10,
             "solidity": 0.2
            },
            "type": "scatter"
           }
          ],
          "scatter3d": [
           {
            "line": {
             "colorbar": {
              "outlinewidth": 0,
              "ticks": ""
             }
            },
            "marker": {
             "colorbar": {
              "outlinewidth": 0,
              "ticks": ""
             }
            },
            "type": "scatter3d"
           }
          ],
          "scattercarpet": [
           {
            "marker": {
             "colorbar": {
              "outlinewidth": 0,
              "ticks": ""
             }
            },
            "type": "scattercarpet"
           }
          ],
          "scattergeo": [
           {
            "marker": {
             "colorbar": {
              "outlinewidth": 0,
              "ticks": ""
             }
            },
            "type": "scattergeo"
           }
          ],
          "scattergl": [
           {
            "marker": {
             "colorbar": {
              "outlinewidth": 0,
              "ticks": ""
             }
            },
            "type": "scattergl"
           }
          ],
          "scattermapbox": [
           {
            "marker": {
             "colorbar": {
              "outlinewidth": 0,
              "ticks": ""
             }
            },
            "type": "scattermapbox"
           }
          ],
          "scatterpolar": [
           {
            "marker": {
             "colorbar": {
              "outlinewidth": 0,
              "ticks": ""
             }
            },
            "type": "scatterpolar"
           }
          ],
          "scatterpolargl": [
           {
            "marker": {
             "colorbar": {
              "outlinewidth": 0,
              "ticks": ""
             }
            },
            "type": "scatterpolargl"
           }
          ],
          "scatterternary": [
           {
            "marker": {
             "colorbar": {
              "outlinewidth": 0,
              "ticks": ""
             }
            },
            "type": "scatterternary"
           }
          ],
          "surface": [
           {
            "colorbar": {
             "outlinewidth": 0,
             "ticks": ""
            },
            "colorscale": [
             [
              0,
              "#0d0887"
             ],
             [
              0.1111111111111111,
              "#46039f"
             ],
             [
              0.2222222222222222,
              "#7201a8"
             ],
             [
              0.3333333333333333,
              "#9c179e"
             ],
             [
              0.4444444444444444,
              "#bd3786"
             ],
             [
              0.5555555555555556,
              "#d8576b"
             ],
             [
              0.6666666666666666,
              "#ed7953"
             ],
             [
              0.7777777777777778,
              "#fb9f3a"
             ],
             [
              0.8888888888888888,
              "#fdca26"
             ],
             [
              1,
              "#f0f921"
             ]
            ],
            "type": "surface"
           }
          ],
          "table": [
           {
            "cells": {
             "fill": {
              "color": "#EBF0F8"
             },
             "line": {
              "color": "white"
             }
            },
            "header": {
             "fill": {
              "color": "#C8D4E3"
             },
             "line": {
              "color": "white"
             }
            },
            "type": "table"
           }
          ]
         },
         "layout": {
          "annotationdefaults": {
           "arrowcolor": "#2a3f5f",
           "arrowhead": 0,
           "arrowwidth": 1
          },
          "autotypenumbers": "strict",
          "coloraxis": {
           "colorbar": {
            "outlinewidth": 0,
            "ticks": ""
           }
          },
          "colorscale": {
           "diverging": [
            [
             0,
             "#8e0152"
            ],
            [
             0.1,
             "#c51b7d"
            ],
            [
             0.2,
             "#de77ae"
            ],
            [
             0.3,
             "#f1b6da"
            ],
            [
             0.4,
             "#fde0ef"
            ],
            [
             0.5,
             "#f7f7f7"
            ],
            [
             0.6,
             "#e6f5d0"
            ],
            [
             0.7,
             "#b8e186"
            ],
            [
             0.8,
             "#7fbc41"
            ],
            [
             0.9,
             "#4d9221"
            ],
            [
             1,
             "#276419"
            ]
           ],
           "sequential": [
            [
             0,
             "#0d0887"
            ],
            [
             0.1111111111111111,
             "#46039f"
            ],
            [
             0.2222222222222222,
             "#7201a8"
            ],
            [
             0.3333333333333333,
             "#9c179e"
            ],
            [
             0.4444444444444444,
             "#bd3786"
            ],
            [
             0.5555555555555556,
             "#d8576b"
            ],
            [
             0.6666666666666666,
             "#ed7953"
            ],
            [
             0.7777777777777778,
             "#fb9f3a"
            ],
            [
             0.8888888888888888,
             "#fdca26"
            ],
            [
             1,
             "#f0f921"
            ]
           ],
           "sequentialminus": [
            [
             0,
             "#0d0887"
            ],
            [
             0.1111111111111111,
             "#46039f"
            ],
            [
             0.2222222222222222,
             "#7201a8"
            ],
            [
             0.3333333333333333,
             "#9c179e"
            ],
            [
             0.4444444444444444,
             "#bd3786"
            ],
            [
             0.5555555555555556,
             "#d8576b"
            ],
            [
             0.6666666666666666,
             "#ed7953"
            ],
            [
             0.7777777777777778,
             "#fb9f3a"
            ],
            [
             0.8888888888888888,
             "#fdca26"
            ],
            [
             1,
             "#f0f921"
            ]
           ]
          },
          "colorway": [
           "#636efa",
           "#EF553B",
           "#00cc96",
           "#ab63fa",
           "#FFA15A",
           "#19d3f3",
           "#FF6692",
           "#B6E880",
           "#FF97FF",
           "#FECB52"
          ],
          "font": {
           "color": "#2a3f5f"
          },
          "geo": {
           "bgcolor": "white",
           "lakecolor": "white",
           "landcolor": "#E5ECF6",
           "showlakes": true,
           "showland": true,
           "subunitcolor": "white"
          },
          "hoverlabel": {
           "align": "left"
          },
          "hovermode": "closest",
          "mapbox": {
           "style": "light"
          },
          "paper_bgcolor": "white",
          "plot_bgcolor": "#E5ECF6",
          "polar": {
           "angularaxis": {
            "gridcolor": "white",
            "linecolor": "white",
            "ticks": ""
           },
           "bgcolor": "#E5ECF6",
           "radialaxis": {
            "gridcolor": "white",
            "linecolor": "white",
            "ticks": ""
           }
          },
          "scene": {
           "xaxis": {
            "backgroundcolor": "#E5ECF6",
            "gridcolor": "white",
            "gridwidth": 2,
            "linecolor": "white",
            "showbackground": true,
            "ticks": "",
            "zerolinecolor": "white"
           },
           "yaxis": {
            "backgroundcolor": "#E5ECF6",
            "gridcolor": "white",
            "gridwidth": 2,
            "linecolor": "white",
            "showbackground": true,
            "ticks": "",
            "zerolinecolor": "white"
           },
           "zaxis": {
            "backgroundcolor": "#E5ECF6",
            "gridcolor": "white",
            "gridwidth": 2,
            "linecolor": "white",
            "showbackground": true,
            "ticks": "",
            "zerolinecolor": "white"
           }
          },
          "shapedefaults": {
           "line": {
            "color": "#2a3f5f"
           }
          },
          "ternary": {
           "aaxis": {
            "gridcolor": "white",
            "linecolor": "white",
            "ticks": ""
           },
           "baxis": {
            "gridcolor": "white",
            "linecolor": "white",
            "ticks": ""
           },
           "bgcolor": "#E5ECF6",
           "caxis": {
            "gridcolor": "white",
            "linecolor": "white",
            "ticks": ""
           }
          },
          "title": {
           "x": 0.05
          },
          "xaxis": {
           "automargin": true,
           "gridcolor": "white",
           "linecolor": "white",
           "ticks": "",
           "title": {
            "standoff": 15
           },
           "zerolinecolor": "white",
           "zerolinewidth": 2
          },
          "yaxis": {
           "automargin": true,
           "gridcolor": "white",
           "linecolor": "white",
           "ticks": "",
           "title": {
            "standoff": 15
           },
           "zerolinecolor": "white",
           "zerolinewidth": 2
          }
         }
        },
        "title": {
         "text": "Inbound CIF by Air and Vessel for Manufacturing 3 in US From India"
        },
        "width": 1400,
        "xaxis": {
         "title": {
          "text": "Year-Month"
         }
        },
        "yaxis": {
         "side": "left",
         "title": {
          "text": "Dollar value (in Billions)"
         }
        },
        "yaxis2": {
         "overlaying": "y",
         "side": "right",
         "title": {
          "text": "MoM Growth"
         }
        }
       }
      }
     },
     "metadata": {},
     "output_type": "display_data"
    },
    {
     "data": {
      "application/vnd.plotly.v1+json": {
       "config": {
        "plotlyServerURL": "https://plot.ly"
       },
       "data": [
        {
         "hoverinfo": "text",
         "insidetextanchor": "end",
         "name": "by Air",
         "text": [
          "Air:0.35B",
          "Air:0.39B",
          "Air:0.39B",
          "Air:0.47B",
          "Air:0.46B",
          "Air:0.5B",
          "Air:0.43B",
          "Air:0.38B",
          "Air:0.42B",
          "Air:0.35B",
          "Air:0.32B",
          "Air:0.39B",
          "Air:0.38B",
          "Air:0.32B",
          "Air:0.36B",
          "Air:0.32B",
          "Air:0.29B",
          "Air:0.32B",
          "Air:0.31B",
          "Air:0.28B",
          "Air:0.34B",
          "Air:0.46B",
          "Air:0.28B",
          "Air:0.42B",
          "Air:0.36B",
          "Air:0.34B",
          "Air:0.41B",
          "Air:0.35B",
          "Air:0.35B",
          "Air:0.38B",
          "Air:0.35B",
          "Air:0.53B",
          "Air:0.38B",
          "Air:0.35B",
          "Air:0.33B"
         ],
         "textfont": {
          "size": 30
         },
         "textposition": "inside",
         "type": "bar",
         "x": [
          "2020-01",
          "2020-02",
          "2020-03",
          "2020-04",
          "2020-05",
          "2020-06",
          "2020-07",
          "2020-08",
          "2020-09",
          "2020-10",
          "2020-11",
          "2020-12",
          "2021-01",
          "2021-02",
          "2021-03",
          "2021-04",
          "2021-05",
          "2021-06",
          "2021-07",
          "2021-08",
          "2021-09",
          "2021-10",
          "2021-11",
          "2021-12",
          "2022-01",
          "2022-02",
          "2022-03",
          "2022-04",
          "2022-05",
          "2022-06",
          "2022-07",
          "2022-08",
          "2022-09",
          "2022-10",
          "2022-11"
         ],
         "y": [
          0.35349262,
          0.385981231,
          0.388283421,
          0.474495061,
          0.46095747,
          0.504243639,
          0.429267018,
          0.379893758,
          0.424994336,
          0.35056208,
          0.318419247,
          0.394859527,
          0.381543064,
          0.318281481,
          0.364028163,
          0.322860507,
          0.289054787,
          0.320995934,
          0.309023867,
          0.282848771,
          0.339390386,
          0.460858934,
          0.279292793,
          0.423077331,
          0.358426777,
          0.336908283,
          0.410139728,
          0.35358071,
          0.352335334,
          0.379347484,
          0.354865917,
          0.529433857,
          0.380564162,
          0.347494306,
          0.33171639
         ],
         "yaxis": "y"
        },
        {
         "hoverinfo": "text",
         "name": "by Vessel",
         "text": [
          "Vessel:1.13B",
          "Vessel:0.85B",
          "Vessel:1.05B",
          "Vessel:0.82B",
          "Vessel:0.59B",
          "Vessel:0.91B",
          "Vessel:1.06B",
          "Vessel:1.04B",
          "Vessel:1.01B",
          "Vessel:1.08B",
          "Vessel:1.0B",
          "Vessel:1.05B",
          "Vessel:1.11B",
          "Vessel:0.92B",
          "Vessel:1.32B",
          "Vessel:1.34B",
          "Vessel:1.4B",
          "Vessel:1.34B",
          "Vessel:1.42B",
          "Vessel:1.4B",
          "Vessel:1.42B",
          "Vessel:1.54B",
          "Vessel:1.28B",
          "Vessel:1.43B",
          "Vessel:1.3B",
          "Vessel:1.19B",
          "Vessel:1.45B",
          "Vessel:1.81B",
          "Vessel:2.07B",
          "Vessel:1.84B",
          "Vessel:1.84B",
          "Vessel:1.55B",
          "Vessel:1.51B",
          "Vessel:1.79B",
          "Vessel:1.45B"
         ],
         "textfont": {
          "color": "white",
          "family": "sans serif",
          "size": 30
         },
         "textposition": "inside",
         "type": "bar",
         "x": [
          "2020-01",
          "2020-02",
          "2020-03",
          "2020-04",
          "2020-05",
          "2020-06",
          "2020-07",
          "2020-08",
          "2020-09",
          "2020-10",
          "2020-11",
          "2020-12",
          "2021-01",
          "2021-02",
          "2021-03",
          "2021-04",
          "2021-05",
          "2021-06",
          "2021-07",
          "2021-08",
          "2021-09",
          "2021-10",
          "2021-11",
          "2021-12",
          "2022-01",
          "2022-02",
          "2022-03",
          "2022-04",
          "2022-05",
          "2022-06",
          "2022-07",
          "2022-08",
          "2022-09",
          "2022-10",
          "2022-11"
         ],
         "y": [
          1.128403151,
          0.84848353,
          1.049357796,
          0.821991873,
          0.586984125,
          0.912731534,
          1.061770292,
          1.03724465,
          1.010628173,
          1.075900007,
          0.997745861,
          1.045184546,
          1.105072532,
          0.923981103,
          1.321299764,
          1.337420827,
          1.40180796,
          1.338220403,
          1.416625293,
          1.395673485,
          1.423003366,
          1.541397177,
          1.281364964,
          1.425057148,
          1.301007123,
          1.190859305,
          1.450150573,
          1.806654654,
          2.070528681,
          1.841579274,
          1.838058876,
          1.546275999,
          1.508368826,
          1.785727406,
          1.446809193
         ],
         "yaxis": "y"
        },
        {
         "hoverinfo": "text",
         "hovertemplate": "%{y:.2f}%%{_xother}",
         "name": "MoM Growth",
         "text": "{y2:.2f}%",
         "textfont": {
          "size": 30
         },
         "type": "scatter",
         "x": [
          "2020-01",
          "2020-02",
          "2020-03",
          "2020-04",
          "2020-05",
          "2020-06",
          "2020-07",
          "2020-08",
          "2020-09",
          "2020-10",
          "2020-11",
          "2020-12",
          "2021-01",
          "2021-02",
          "2021-03",
          "2021-04",
          "2021-05",
          "2021-06",
          "2021-07",
          "2021-08",
          "2021-09",
          "2021-10",
          "2021-11",
          "2021-12",
          "2022-01",
          "2022-02",
          "2022-03",
          "2022-04",
          "2022-05",
          "2022-06",
          "2022-07",
          "2022-08",
          "2022-09",
          "2022-10",
          "2022-11"
         ],
         "xperiodalignment": "middle",
         "y": [
          null,
          -16.69692395660396,
          16.45866795220734,
          -9.818463837212033,
          -19.17067827542024,
          35.21509020738889,
          5.226777321948184,
          -4.956207433870318,
          1.3043257380968454,
          -0.6380801319687324,
          -7.732205433652018,
          9.412114350018165,
          3.2340345599964238,
          -16.436865902488485,
          35.66599756819207,
          -1.4861554596430793,
          1.8419416260208266,
          -1.8716131783108048,
          4.003867459508981,
          -2.7309667047269337,
          4.996746137871888,
          13.610032305652432,
          -22.055038392638473,
          18.420228311465724,
          -10.210327286470156,
          -7.934411367635674,
          21.765268199942977,
          16.1235621579473,
          12.157409112759998,
          -8.334650882170946,
          -1.2608234332417423,
          -5.345141674450482,
          -8.998216559993056,
          12.932630514259413,
          -16.627251026216815
         ],
         "yaxis": "y2"
        }
       ],
       "layout": {
        "autosize": false,
        "barmode": "group",
        "height": 500,
        "hovermode": "x unified",
        "legend": {
         "orientation": "h",
         "x": 1,
         "xanchor": "right",
         "y": 1.02,
         "yanchor": "bottom"
        },
        "margin": {
         "b": 100,
         "l": 50,
         "pad": 4,
         "r": 50,
         "t": 50
        },
        "template": {
         "data": {
          "bar": [
           {
            "error_x": {
             "color": "#2a3f5f"
            },
            "error_y": {
             "color": "#2a3f5f"
            },
            "marker": {
             "line": {
              "color": "#E5ECF6",
              "width": 0.5
             },
             "pattern": {
              "fillmode": "overlay",
              "size": 10,
              "solidity": 0.2
             }
            },
            "type": "bar"
           }
          ],
          "barpolar": [
           {
            "marker": {
             "line": {
              "color": "#E5ECF6",
              "width": 0.5
             },
             "pattern": {
              "fillmode": "overlay",
              "size": 10,
              "solidity": 0.2
             }
            },
            "type": "barpolar"
           }
          ],
          "carpet": [
           {
            "aaxis": {
             "endlinecolor": "#2a3f5f",
             "gridcolor": "white",
             "linecolor": "white",
             "minorgridcolor": "white",
             "startlinecolor": "#2a3f5f"
            },
            "baxis": {
             "endlinecolor": "#2a3f5f",
             "gridcolor": "white",
             "linecolor": "white",
             "minorgridcolor": "white",
             "startlinecolor": "#2a3f5f"
            },
            "type": "carpet"
           }
          ],
          "choropleth": [
           {
            "colorbar": {
             "outlinewidth": 0,
             "ticks": ""
            },
            "type": "choropleth"
           }
          ],
          "contour": [
           {
            "colorbar": {
             "outlinewidth": 0,
             "ticks": ""
            },
            "colorscale": [
             [
              0,
              "#0d0887"
             ],
             [
              0.1111111111111111,
              "#46039f"
             ],
             [
              0.2222222222222222,
              "#7201a8"
             ],
             [
              0.3333333333333333,
              "#9c179e"
             ],
             [
              0.4444444444444444,
              "#bd3786"
             ],
             [
              0.5555555555555556,
              "#d8576b"
             ],
             [
              0.6666666666666666,
              "#ed7953"
             ],
             [
              0.7777777777777778,
              "#fb9f3a"
             ],
             [
              0.8888888888888888,
              "#fdca26"
             ],
             [
              1,
              "#f0f921"
             ]
            ],
            "type": "contour"
           }
          ],
          "contourcarpet": [
           {
            "colorbar": {
             "outlinewidth": 0,
             "ticks": ""
            },
            "type": "contourcarpet"
           }
          ],
          "heatmap": [
           {
            "colorbar": {
             "outlinewidth": 0,
             "ticks": ""
            },
            "colorscale": [
             [
              0,
              "#0d0887"
             ],
             [
              0.1111111111111111,
              "#46039f"
             ],
             [
              0.2222222222222222,
              "#7201a8"
             ],
             [
              0.3333333333333333,
              "#9c179e"
             ],
             [
              0.4444444444444444,
              "#bd3786"
             ],
             [
              0.5555555555555556,
              "#d8576b"
             ],
             [
              0.6666666666666666,
              "#ed7953"
             ],
             [
              0.7777777777777778,
              "#fb9f3a"
             ],
             [
              0.8888888888888888,
              "#fdca26"
             ],
             [
              1,
              "#f0f921"
             ]
            ],
            "type": "heatmap"
           }
          ],
          "heatmapgl": [
           {
            "colorbar": {
             "outlinewidth": 0,
             "ticks": ""
            },
            "colorscale": [
             [
              0,
              "#0d0887"
             ],
             [
              0.1111111111111111,
              "#46039f"
             ],
             [
              0.2222222222222222,
              "#7201a8"
             ],
             [
              0.3333333333333333,
              "#9c179e"
             ],
             [
              0.4444444444444444,
              "#bd3786"
             ],
             [
              0.5555555555555556,
              "#d8576b"
             ],
             [
              0.6666666666666666,
              "#ed7953"
             ],
             [
              0.7777777777777778,
              "#fb9f3a"
             ],
             [
              0.8888888888888888,
              "#fdca26"
             ],
             [
              1,
              "#f0f921"
             ]
            ],
            "type": "heatmapgl"
           }
          ],
          "histogram": [
           {
            "marker": {
             "pattern": {
              "fillmode": "overlay",
              "size": 10,
              "solidity": 0.2
             }
            },
            "type": "histogram"
           }
          ],
          "histogram2d": [
           {
            "colorbar": {
             "outlinewidth": 0,
             "ticks": ""
            },
            "colorscale": [
             [
              0,
              "#0d0887"
             ],
             [
              0.1111111111111111,
              "#46039f"
             ],
             [
              0.2222222222222222,
              "#7201a8"
             ],
             [
              0.3333333333333333,
              "#9c179e"
             ],
             [
              0.4444444444444444,
              "#bd3786"
             ],
             [
              0.5555555555555556,
              "#d8576b"
             ],
             [
              0.6666666666666666,
              "#ed7953"
             ],
             [
              0.7777777777777778,
              "#fb9f3a"
             ],
             [
              0.8888888888888888,
              "#fdca26"
             ],
             [
              1,
              "#f0f921"
             ]
            ],
            "type": "histogram2d"
           }
          ],
          "histogram2dcontour": [
           {
            "colorbar": {
             "outlinewidth": 0,
             "ticks": ""
            },
            "colorscale": [
             [
              0,
              "#0d0887"
             ],
             [
              0.1111111111111111,
              "#46039f"
             ],
             [
              0.2222222222222222,
              "#7201a8"
             ],
             [
              0.3333333333333333,
              "#9c179e"
             ],
             [
              0.4444444444444444,
              "#bd3786"
             ],
             [
              0.5555555555555556,
              "#d8576b"
             ],
             [
              0.6666666666666666,
              "#ed7953"
             ],
             [
              0.7777777777777778,
              "#fb9f3a"
             ],
             [
              0.8888888888888888,
              "#fdca26"
             ],
             [
              1,
              "#f0f921"
             ]
            ],
            "type": "histogram2dcontour"
           }
          ],
          "mesh3d": [
           {
            "colorbar": {
             "outlinewidth": 0,
             "ticks": ""
            },
            "type": "mesh3d"
           }
          ],
          "parcoords": [
           {
            "line": {
             "colorbar": {
              "outlinewidth": 0,
              "ticks": ""
             }
            },
            "type": "parcoords"
           }
          ],
          "pie": [
           {
            "automargin": true,
            "type": "pie"
           }
          ],
          "scatter": [
           {
            "fillpattern": {
             "fillmode": "overlay",
             "size": 10,
             "solidity": 0.2
            },
            "type": "scatter"
           }
          ],
          "scatter3d": [
           {
            "line": {
             "colorbar": {
              "outlinewidth": 0,
              "ticks": ""
             }
            },
            "marker": {
             "colorbar": {
              "outlinewidth": 0,
              "ticks": ""
             }
            },
            "type": "scatter3d"
           }
          ],
          "scattercarpet": [
           {
            "marker": {
             "colorbar": {
              "outlinewidth": 0,
              "ticks": ""
             }
            },
            "type": "scattercarpet"
           }
          ],
          "scattergeo": [
           {
            "marker": {
             "colorbar": {
              "outlinewidth": 0,
              "ticks": ""
             }
            },
            "type": "scattergeo"
           }
          ],
          "scattergl": [
           {
            "marker": {
             "colorbar": {
              "outlinewidth": 0,
              "ticks": ""
             }
            },
            "type": "scattergl"
           }
          ],
          "scattermapbox": [
           {
            "marker": {
             "colorbar": {
              "outlinewidth": 0,
              "ticks": ""
             }
            },
            "type": "scattermapbox"
           }
          ],
          "scatterpolar": [
           {
            "marker": {
             "colorbar": {
              "outlinewidth": 0,
              "ticks": ""
             }
            },
            "type": "scatterpolar"
           }
          ],
          "scatterpolargl": [
           {
            "marker": {
             "colorbar": {
              "outlinewidth": 0,
              "ticks": ""
             }
            },
            "type": "scatterpolargl"
           }
          ],
          "scatterternary": [
           {
            "marker": {
             "colorbar": {
              "outlinewidth": 0,
              "ticks": ""
             }
            },
            "type": "scatterternary"
           }
          ],
          "surface": [
           {
            "colorbar": {
             "outlinewidth": 0,
             "ticks": ""
            },
            "colorscale": [
             [
              0,
              "#0d0887"
             ],
             [
              0.1111111111111111,
              "#46039f"
             ],
             [
              0.2222222222222222,
              "#7201a8"
             ],
             [
              0.3333333333333333,
              "#9c179e"
             ],
             [
              0.4444444444444444,
              "#bd3786"
             ],
             [
              0.5555555555555556,
              "#d8576b"
             ],
             [
              0.6666666666666666,
              "#ed7953"
             ],
             [
              0.7777777777777778,
              "#fb9f3a"
             ],
             [
              0.8888888888888888,
              "#fdca26"
             ],
             [
              1,
              "#f0f921"
             ]
            ],
            "type": "surface"
           }
          ],
          "table": [
           {
            "cells": {
             "fill": {
              "color": "#EBF0F8"
             },
             "line": {
              "color": "white"
             }
            },
            "header": {
             "fill": {
              "color": "#C8D4E3"
             },
             "line": {
              "color": "white"
             }
            },
            "type": "table"
           }
          ]
         },
         "layout": {
          "annotationdefaults": {
           "arrowcolor": "#2a3f5f",
           "arrowhead": 0,
           "arrowwidth": 1
          },
          "autotypenumbers": "strict",
          "coloraxis": {
           "colorbar": {
            "outlinewidth": 0,
            "ticks": ""
           }
          },
          "colorscale": {
           "diverging": [
            [
             0,
             "#8e0152"
            ],
            [
             0.1,
             "#c51b7d"
            ],
            [
             0.2,
             "#de77ae"
            ],
            [
             0.3,
             "#f1b6da"
            ],
            [
             0.4,
             "#fde0ef"
            ],
            [
             0.5,
             "#f7f7f7"
            ],
            [
             0.6,
             "#e6f5d0"
            ],
            [
             0.7,
             "#b8e186"
            ],
            [
             0.8,
             "#7fbc41"
            ],
            [
             0.9,
             "#4d9221"
            ],
            [
             1,
             "#276419"
            ]
           ],
           "sequential": [
            [
             0,
             "#0d0887"
            ],
            [
             0.1111111111111111,
             "#46039f"
            ],
            [
             0.2222222222222222,
             "#7201a8"
            ],
            [
             0.3333333333333333,
             "#9c179e"
            ],
            [
             0.4444444444444444,
             "#bd3786"
            ],
            [
             0.5555555555555556,
             "#d8576b"
            ],
            [
             0.6666666666666666,
             "#ed7953"
            ],
            [
             0.7777777777777778,
             "#fb9f3a"
            ],
            [
             0.8888888888888888,
             "#fdca26"
            ],
            [
             1,
             "#f0f921"
            ]
           ],
           "sequentialminus": [
            [
             0,
             "#0d0887"
            ],
            [
             0.1111111111111111,
             "#46039f"
            ],
            [
             0.2222222222222222,
             "#7201a8"
            ],
            [
             0.3333333333333333,
             "#9c179e"
            ],
            [
             0.4444444444444444,
             "#bd3786"
            ],
            [
             0.5555555555555556,
             "#d8576b"
            ],
            [
             0.6666666666666666,
             "#ed7953"
            ],
            [
             0.7777777777777778,
             "#fb9f3a"
            ],
            [
             0.8888888888888888,
             "#fdca26"
            ],
            [
             1,
             "#f0f921"
            ]
           ]
          },
          "colorway": [
           "#636efa",
           "#EF553B",
           "#00cc96",
           "#ab63fa",
           "#FFA15A",
           "#19d3f3",
           "#FF6692",
           "#B6E880",
           "#FF97FF",
           "#FECB52"
          ],
          "font": {
           "color": "#2a3f5f"
          },
          "geo": {
           "bgcolor": "white",
           "lakecolor": "white",
           "landcolor": "#E5ECF6",
           "showlakes": true,
           "showland": true,
           "subunitcolor": "white"
          },
          "hoverlabel": {
           "align": "left"
          },
          "hovermode": "closest",
          "mapbox": {
           "style": "light"
          },
          "paper_bgcolor": "white",
          "plot_bgcolor": "#E5ECF6",
          "polar": {
           "angularaxis": {
            "gridcolor": "white",
            "linecolor": "white",
            "ticks": ""
           },
           "bgcolor": "#E5ECF6",
           "radialaxis": {
            "gridcolor": "white",
            "linecolor": "white",
            "ticks": ""
           }
          },
          "scene": {
           "xaxis": {
            "backgroundcolor": "#E5ECF6",
            "gridcolor": "white",
            "gridwidth": 2,
            "linecolor": "white",
            "showbackground": true,
            "ticks": "",
            "zerolinecolor": "white"
           },
           "yaxis": {
            "backgroundcolor": "#E5ECF6",
            "gridcolor": "white",
            "gridwidth": 2,
            "linecolor": "white",
            "showbackground": true,
            "ticks": "",
            "zerolinecolor": "white"
           },
           "zaxis": {
            "backgroundcolor": "#E5ECF6",
            "gridcolor": "white",
            "gridwidth": 2,
            "linecolor": "white",
            "showbackground": true,
            "ticks": "",
            "zerolinecolor": "white"
           }
          },
          "shapedefaults": {
           "line": {
            "color": "#2a3f5f"
           }
          },
          "ternary": {
           "aaxis": {
            "gridcolor": "white",
            "linecolor": "white",
            "ticks": ""
           },
           "baxis": {
            "gridcolor": "white",
            "linecolor": "white",
            "ticks": ""
           },
           "bgcolor": "#E5ECF6",
           "caxis": {
            "gridcolor": "white",
            "linecolor": "white",
            "ticks": ""
           }
          },
          "title": {
           "x": 0.05
          },
          "xaxis": {
           "automargin": true,
           "gridcolor": "white",
           "linecolor": "white",
           "ticks": "",
           "title": {
            "standoff": 15
           },
           "zerolinecolor": "white",
           "zerolinewidth": 2
          },
          "yaxis": {
           "automargin": true,
           "gridcolor": "white",
           "linecolor": "white",
           "ticks": "",
           "title": {
            "standoff": 15
           },
           "zerolinecolor": "white",
           "zerolinewidth": 2
          }
         }
        },
        "title": {
         "text": "Inbound CIF by Air and Vessel for Manufacturing 2 in US From India"
        },
        "width": 1400,
        "xaxis": {
         "title": {
          "text": "Year-Month"
         }
        },
        "yaxis": {
         "side": "left",
         "title": {
          "text": "Dollar value (in Billions)"
         }
        },
        "yaxis2": {
         "overlaying": "y",
         "side": "right",
         "title": {
          "text": "MoM Growth"
         }
        }
       }
      }
     },
     "metadata": {},
     "output_type": "display_data"
    },
    {
     "data": {
      "application/vnd.plotly.v1+json": {
       "config": {
        "plotlyServerURL": "https://plot.ly"
       },
       "data": [
        {
         "hoverinfo": "text",
         "insidetextanchor": "end",
         "name": "by Air",
         "text": [
          "Air:0.11B",
          "Air:0.13B",
          "Air:0.11B",
          "Air:0.01B",
          "Air:0.02B",
          "Air:0.06B",
          "Air:0.07B",
          "Air:0.08B",
          "Air:0.1B",
          "Air:0.09B",
          "Air:0.07B",
          "Air:0.06B",
          "Air:0.07B",
          "Air:0.08B",
          "Air:0.1B",
          "Air:0.1B",
          "Air:0.1B",
          "Air:0.1B",
          "Air:0.12B",
          "Air:0.14B",
          "Air:0.16B",
          "Air:0.17B",
          "Air:0.13B",
          "Air:0.12B",
          "Air:0.12B",
          "Air:0.12B",
          "Air:0.16B",
          "Air:0.16B",
          "Air:0.14B",
          "Air:0.12B",
          "Air:0.11B",
          "Air:0.11B",
          "Air:0.11B",
          "Air:0.11B",
          "Air:0.09B"
         ],
         "textfont": {
          "size": 30
         },
         "textposition": "inside",
         "type": "bar",
         "x": [
          "2020-01",
          "2020-02",
          "2020-03",
          "2020-04",
          "2020-05",
          "2020-06",
          "2020-07",
          "2020-08",
          "2020-09",
          "2020-10",
          "2020-11",
          "2020-12",
          "2021-01",
          "2021-02",
          "2021-03",
          "2021-04",
          "2021-05",
          "2021-06",
          "2021-07",
          "2021-08",
          "2021-09",
          "2021-10",
          "2021-11",
          "2021-12",
          "2022-01",
          "2022-02",
          "2022-03",
          "2022-04",
          "2022-05",
          "2022-06",
          "2022-07",
          "2022-08",
          "2022-09",
          "2022-10",
          "2022-11"
         ],
         "y": [
          0.114270847,
          0.133500207,
          0.105354094,
          0.006768658,
          0.019716273,
          0.064560593,
          0.07442807,
          0.08218118,
          0.096486721,
          0.093510318,
          0.074182617,
          0.062899923,
          0.069138201,
          0.080176096,
          0.095132824,
          0.098631347,
          0.098612913,
          0.098236286,
          0.121621269,
          0.136768786,
          0.164155016,
          0.16671059,
          0.132323531,
          0.120633181,
          0.124064801,
          0.123662773,
          0.162890266,
          0.159782132,
          0.136275752,
          0.119819098,
          0.113723152,
          0.109217313,
          0.108352893,
          0.106369913,
          0.086470278
         ],
         "yaxis": "y"
        },
        {
         "hoverinfo": "text",
         "name": "by Vessel",
         "text": [
          "Vessel:0.86B",
          "Vessel:0.83B",
          "Vessel:0.87B",
          "Vessel:0.72B",
          "Vessel:0.26B",
          "Vessel:0.37B",
          "Vessel:0.65B",
          "Vessel:0.79B",
          "Vessel:0.87B",
          "Vessel:1.0B",
          "Vessel:0.85B",
          "Vessel:0.82B",
          "Vessel:0.94B",
          "Vessel:0.86B",
          "Vessel:1.05B",
          "Vessel:1.08B",
          "Vessel:1.15B",
          "Vessel:0.91B",
          "Vessel:0.92B",
          "Vessel:1.02B",
          "Vessel:0.97B",
          "Vessel:1.16B",
          "Vessel:1.04B",
          "Vessel:1.14B",
          "Vessel:1.07B",
          "Vessel:1.08B",
          "Vessel:1.36B",
          "Vessel:1.41B",
          "Vessel:1.48B",
          "Vessel:1.2B",
          "Vessel:1.26B",
          "Vessel:1.12B",
          "Vessel:1.24B",
          "Vessel:1.05B",
          "Vessel:0.95B"
         ],
         "textfont": {
          "color": "white",
          "family": "sans serif",
          "size": 30
         },
         "textposition": "inside",
         "type": "bar",
         "x": [
          "2020-01",
          "2020-02",
          "2020-03",
          "2020-04",
          "2020-05",
          "2020-06",
          "2020-07",
          "2020-08",
          "2020-09",
          "2020-10",
          "2020-11",
          "2020-12",
          "2021-01",
          "2021-02",
          "2021-03",
          "2021-04",
          "2021-05",
          "2021-06",
          "2021-07",
          "2021-08",
          "2021-09",
          "2021-10",
          "2021-11",
          "2021-12",
          "2022-01",
          "2022-02",
          "2022-03",
          "2022-04",
          "2022-05",
          "2022-06",
          "2022-07",
          "2022-08",
          "2022-09",
          "2022-10",
          "2022-11"
         ],
         "y": [
          0.859072952,
          0.832212007,
          0.865954086,
          0.717212365,
          0.264818599,
          0.368033321,
          0.648077263,
          0.792618694,
          0.870423581,
          0.997164023,
          0.845023918,
          0.821411511,
          0.944094997,
          0.864968399,
          1.048152201,
          1.083807098,
          1.146798499,
          0.913317969,
          0.919116311,
          1.017899456,
          0.971138488,
          1.164147494,
          1.0444693,
          1.139877013,
          1.072392798,
          1.075107054,
          1.361099458,
          1.405279394,
          1.475355501,
          1.204274843,
          1.259361978,
          1.117618563,
          1.235211937,
          1.045624861,
          0.950083475
         ],
         "yaxis": "y"
        },
        {
         "hoverinfo": "text",
         "hovertemplate": "%{y:.2f}%%{_xother}",
         "name": "MoM Growth",
         "text": "{y2:.2f}%",
         "textfont": {
          "size": 30
         },
         "type": "scatter",
         "x": [
          "2020-01",
          "2020-02",
          "2020-03",
          "2020-04",
          "2020-05",
          "2020-06",
          "2020-07",
          "2020-08",
          "2020-09",
          "2020-10",
          "2020-11",
          "2020-12",
          "2021-01",
          "2021-02",
          "2021-03",
          "2021-04",
          "2021-05",
          "2021-06",
          "2021-07",
          "2021-08",
          "2021-09",
          "2021-10",
          "2021-11",
          "2021-12",
          "2022-01",
          "2022-02",
          "2022-03",
          "2022-04",
          "2022-05",
          "2022-06",
          "2022-07",
          "2022-08",
          "2022-09",
          "2022-10",
          "2022-11"
         ],
         "xperiodalignment": "middle",
         "y": [
          null,
          -0.7840585215460938,
          0.5794651780183457,
          -25.46330424191424,
          -60.69857317240759,
          52.03546439116258,
          67.01698974895889,
          21.07867361582507,
          10.529314273769552,
          12.799950392916593,
          -15.721265235119342,
          -3.7962198560740235,
          14.578773839534009,
          -6.7199439511455905,
          20.96404634933624,
          3.4246420747092277,
          5.3256866999110475,
          -18.777502337516715,
          2.884998491751678,
          10.947107531179956,
          -1.6779484613208884,
          17.225904958582404,
          -11.576384804076522,
          7.114027277754542,
          -5.081481713110203,
          0.1932561590091142,
          27.12946970094201,
          2.6950183031549058,
          2.9755844244042873,
          -17.841383471855522,
          3.6999783386215235,
          -10.651142511462485,
          9.514634865470795,
          -14.258341073128566,
          -10.020967421506722
         ],
         "yaxis": "y2"
        }
       ],
       "layout": {
        "autosize": false,
        "barmode": "group",
        "height": 500,
        "hovermode": "x unified",
        "legend": {
         "orientation": "h",
         "x": 1,
         "xanchor": "right",
         "y": 1.02,
         "yanchor": "bottom"
        },
        "margin": {
         "b": 100,
         "l": 50,
         "pad": 4,
         "r": 50,
         "t": 50
        },
        "template": {
         "data": {
          "bar": [
           {
            "error_x": {
             "color": "#2a3f5f"
            },
            "error_y": {
             "color": "#2a3f5f"
            },
            "marker": {
             "line": {
              "color": "#E5ECF6",
              "width": 0.5
             },
             "pattern": {
              "fillmode": "overlay",
              "size": 10,
              "solidity": 0.2
             }
            },
            "type": "bar"
           }
          ],
          "barpolar": [
           {
            "marker": {
             "line": {
              "color": "#E5ECF6",
              "width": 0.5
             },
             "pattern": {
              "fillmode": "overlay",
              "size": 10,
              "solidity": 0.2
             }
            },
            "type": "barpolar"
           }
          ],
          "carpet": [
           {
            "aaxis": {
             "endlinecolor": "#2a3f5f",
             "gridcolor": "white",
             "linecolor": "white",
             "minorgridcolor": "white",
             "startlinecolor": "#2a3f5f"
            },
            "baxis": {
             "endlinecolor": "#2a3f5f",
             "gridcolor": "white",
             "linecolor": "white",
             "minorgridcolor": "white",
             "startlinecolor": "#2a3f5f"
            },
            "type": "carpet"
           }
          ],
          "choropleth": [
           {
            "colorbar": {
             "outlinewidth": 0,
             "ticks": ""
            },
            "type": "choropleth"
           }
          ],
          "contour": [
           {
            "colorbar": {
             "outlinewidth": 0,
             "ticks": ""
            },
            "colorscale": [
             [
              0,
              "#0d0887"
             ],
             [
              0.1111111111111111,
              "#46039f"
             ],
             [
              0.2222222222222222,
              "#7201a8"
             ],
             [
              0.3333333333333333,
              "#9c179e"
             ],
             [
              0.4444444444444444,
              "#bd3786"
             ],
             [
              0.5555555555555556,
              "#d8576b"
             ],
             [
              0.6666666666666666,
              "#ed7953"
             ],
             [
              0.7777777777777778,
              "#fb9f3a"
             ],
             [
              0.8888888888888888,
              "#fdca26"
             ],
             [
              1,
              "#f0f921"
             ]
            ],
            "type": "contour"
           }
          ],
          "contourcarpet": [
           {
            "colorbar": {
             "outlinewidth": 0,
             "ticks": ""
            },
            "type": "contourcarpet"
           }
          ],
          "heatmap": [
           {
            "colorbar": {
             "outlinewidth": 0,
             "ticks": ""
            },
            "colorscale": [
             [
              0,
              "#0d0887"
             ],
             [
              0.1111111111111111,
              "#46039f"
             ],
             [
              0.2222222222222222,
              "#7201a8"
             ],
             [
              0.3333333333333333,
              "#9c179e"
             ],
             [
              0.4444444444444444,
              "#bd3786"
             ],
             [
              0.5555555555555556,
              "#d8576b"
             ],
             [
              0.6666666666666666,
              "#ed7953"
             ],
             [
              0.7777777777777778,
              "#fb9f3a"
             ],
             [
              0.8888888888888888,
              "#fdca26"
             ],
             [
              1,
              "#f0f921"
             ]
            ],
            "type": "heatmap"
           }
          ],
          "heatmapgl": [
           {
            "colorbar": {
             "outlinewidth": 0,
             "ticks": ""
            },
            "colorscale": [
             [
              0,
              "#0d0887"
             ],
             [
              0.1111111111111111,
              "#46039f"
             ],
             [
              0.2222222222222222,
              "#7201a8"
             ],
             [
              0.3333333333333333,
              "#9c179e"
             ],
             [
              0.4444444444444444,
              "#bd3786"
             ],
             [
              0.5555555555555556,
              "#d8576b"
             ],
             [
              0.6666666666666666,
              "#ed7953"
             ],
             [
              0.7777777777777778,
              "#fb9f3a"
             ],
             [
              0.8888888888888888,
              "#fdca26"
             ],
             [
              1,
              "#f0f921"
             ]
            ],
            "type": "heatmapgl"
           }
          ],
          "histogram": [
           {
            "marker": {
             "pattern": {
              "fillmode": "overlay",
              "size": 10,
              "solidity": 0.2
             }
            },
            "type": "histogram"
           }
          ],
          "histogram2d": [
           {
            "colorbar": {
             "outlinewidth": 0,
             "ticks": ""
            },
            "colorscale": [
             [
              0,
              "#0d0887"
             ],
             [
              0.1111111111111111,
              "#46039f"
             ],
             [
              0.2222222222222222,
              "#7201a8"
             ],
             [
              0.3333333333333333,
              "#9c179e"
             ],
             [
              0.4444444444444444,
              "#bd3786"
             ],
             [
              0.5555555555555556,
              "#d8576b"
             ],
             [
              0.6666666666666666,
              "#ed7953"
             ],
             [
              0.7777777777777778,
              "#fb9f3a"
             ],
             [
              0.8888888888888888,
              "#fdca26"
             ],
             [
              1,
              "#f0f921"
             ]
            ],
            "type": "histogram2d"
           }
          ],
          "histogram2dcontour": [
           {
            "colorbar": {
             "outlinewidth": 0,
             "ticks": ""
            },
            "colorscale": [
             [
              0,
              "#0d0887"
             ],
             [
              0.1111111111111111,
              "#46039f"
             ],
             [
              0.2222222222222222,
              "#7201a8"
             ],
             [
              0.3333333333333333,
              "#9c179e"
             ],
             [
              0.4444444444444444,
              "#bd3786"
             ],
             [
              0.5555555555555556,
              "#d8576b"
             ],
             [
              0.6666666666666666,
              "#ed7953"
             ],
             [
              0.7777777777777778,
              "#fb9f3a"
             ],
             [
              0.8888888888888888,
              "#fdca26"
             ],
             [
              1,
              "#f0f921"
             ]
            ],
            "type": "histogram2dcontour"
           }
          ],
          "mesh3d": [
           {
            "colorbar": {
             "outlinewidth": 0,
             "ticks": ""
            },
            "type": "mesh3d"
           }
          ],
          "parcoords": [
           {
            "line": {
             "colorbar": {
              "outlinewidth": 0,
              "ticks": ""
             }
            },
            "type": "parcoords"
           }
          ],
          "pie": [
           {
            "automargin": true,
            "type": "pie"
           }
          ],
          "scatter": [
           {
            "fillpattern": {
             "fillmode": "overlay",
             "size": 10,
             "solidity": 0.2
            },
            "type": "scatter"
           }
          ],
          "scatter3d": [
           {
            "line": {
             "colorbar": {
              "outlinewidth": 0,
              "ticks": ""
             }
            },
            "marker": {
             "colorbar": {
              "outlinewidth": 0,
              "ticks": ""
             }
            },
            "type": "scatter3d"
           }
          ],
          "scattercarpet": [
           {
            "marker": {
             "colorbar": {
              "outlinewidth": 0,
              "ticks": ""
             }
            },
            "type": "scattercarpet"
           }
          ],
          "scattergeo": [
           {
            "marker": {
             "colorbar": {
              "outlinewidth": 0,
              "ticks": ""
             }
            },
            "type": "scattergeo"
           }
          ],
          "scattergl": [
           {
            "marker": {
             "colorbar": {
              "outlinewidth": 0,
              "ticks": ""
             }
            },
            "type": "scattergl"
           }
          ],
          "scattermapbox": [
           {
            "marker": {
             "colorbar": {
              "outlinewidth": 0,
              "ticks": ""
             }
            },
            "type": "scattermapbox"
           }
          ],
          "scatterpolar": [
           {
            "marker": {
             "colorbar": {
              "outlinewidth": 0,
              "ticks": ""
             }
            },
            "type": "scatterpolar"
           }
          ],
          "scatterpolargl": [
           {
            "marker": {
             "colorbar": {
              "outlinewidth": 0,
              "ticks": ""
             }
            },
            "type": "scatterpolargl"
           }
          ],
          "scatterternary": [
           {
            "marker": {
             "colorbar": {
              "outlinewidth": 0,
              "ticks": ""
             }
            },
            "type": "scatterternary"
           }
          ],
          "surface": [
           {
            "colorbar": {
             "outlinewidth": 0,
             "ticks": ""
            },
            "colorscale": [
             [
              0,
              "#0d0887"
             ],
             [
              0.1111111111111111,
              "#46039f"
             ],
             [
              0.2222222222222222,
              "#7201a8"
             ],
             [
              0.3333333333333333,
              "#9c179e"
             ],
             [
              0.4444444444444444,
              "#bd3786"
             ],
             [
              0.5555555555555556,
              "#d8576b"
             ],
             [
              0.6666666666666666,
              "#ed7953"
             ],
             [
              0.7777777777777778,
              "#fb9f3a"
             ],
             [
              0.8888888888888888,
              "#fdca26"
             ],
             [
              1,
              "#f0f921"
             ]
            ],
            "type": "surface"
           }
          ],
          "table": [
           {
            "cells": {
             "fill": {
              "color": "#EBF0F8"
             },
             "line": {
              "color": "white"
             }
            },
            "header": {
             "fill": {
              "color": "#C8D4E3"
             },
             "line": {
              "color": "white"
             }
            },
            "type": "table"
           }
          ]
         },
         "layout": {
          "annotationdefaults": {
           "arrowcolor": "#2a3f5f",
           "arrowhead": 0,
           "arrowwidth": 1
          },
          "autotypenumbers": "strict",
          "coloraxis": {
           "colorbar": {
            "outlinewidth": 0,
            "ticks": ""
           }
          },
          "colorscale": {
           "diverging": [
            [
             0,
             "#8e0152"
            ],
            [
             0.1,
             "#c51b7d"
            ],
            [
             0.2,
             "#de77ae"
            ],
            [
             0.3,
             "#f1b6da"
            ],
            [
             0.4,
             "#fde0ef"
            ],
            [
             0.5,
             "#f7f7f7"
            ],
            [
             0.6,
             "#e6f5d0"
            ],
            [
             0.7,
             "#b8e186"
            ],
            [
             0.8,
             "#7fbc41"
            ],
            [
             0.9,
             "#4d9221"
            ],
            [
             1,
             "#276419"
            ]
           ],
           "sequential": [
            [
             0,
             "#0d0887"
            ],
            [
             0.1111111111111111,
             "#46039f"
            ],
            [
             0.2222222222222222,
             "#7201a8"
            ],
            [
             0.3333333333333333,
             "#9c179e"
            ],
            [
             0.4444444444444444,
             "#bd3786"
            ],
            [
             0.5555555555555556,
             "#d8576b"
            ],
            [
             0.6666666666666666,
             "#ed7953"
            ],
            [
             0.7777777777777778,
             "#fb9f3a"
            ],
            [
             0.8888888888888888,
             "#fdca26"
            ],
            [
             1,
             "#f0f921"
            ]
           ],
           "sequentialminus": [
            [
             0,
             "#0d0887"
            ],
            [
             0.1111111111111111,
             "#46039f"
            ],
            [
             0.2222222222222222,
             "#7201a8"
            ],
            [
             0.3333333333333333,
             "#9c179e"
            ],
            [
             0.4444444444444444,
             "#bd3786"
            ],
            [
             0.5555555555555556,
             "#d8576b"
            ],
            [
             0.6666666666666666,
             "#ed7953"
            ],
            [
             0.7777777777777778,
             "#fb9f3a"
            ],
            [
             0.8888888888888888,
             "#fdca26"
            ],
            [
             1,
             "#f0f921"
            ]
           ]
          },
          "colorway": [
           "#636efa",
           "#EF553B",
           "#00cc96",
           "#ab63fa",
           "#FFA15A",
           "#19d3f3",
           "#FF6692",
           "#B6E880",
           "#FF97FF",
           "#FECB52"
          ],
          "font": {
           "color": "#2a3f5f"
          },
          "geo": {
           "bgcolor": "white",
           "lakecolor": "white",
           "landcolor": "#E5ECF6",
           "showlakes": true,
           "showland": true,
           "subunitcolor": "white"
          },
          "hoverlabel": {
           "align": "left"
          },
          "hovermode": "closest",
          "mapbox": {
           "style": "light"
          },
          "paper_bgcolor": "white",
          "plot_bgcolor": "#E5ECF6",
          "polar": {
           "angularaxis": {
            "gridcolor": "white",
            "linecolor": "white",
            "ticks": ""
           },
           "bgcolor": "#E5ECF6",
           "radialaxis": {
            "gridcolor": "white",
            "linecolor": "white",
            "ticks": ""
           }
          },
          "scene": {
           "xaxis": {
            "backgroundcolor": "#E5ECF6",
            "gridcolor": "white",
            "gridwidth": 2,
            "linecolor": "white",
            "showbackground": true,
            "ticks": "",
            "zerolinecolor": "white"
           },
           "yaxis": {
            "backgroundcolor": "#E5ECF6",
            "gridcolor": "white",
            "gridwidth": 2,
            "linecolor": "white",
            "showbackground": true,
            "ticks": "",
            "zerolinecolor": "white"
           },
           "zaxis": {
            "backgroundcolor": "#E5ECF6",
            "gridcolor": "white",
            "gridwidth": 2,
            "linecolor": "white",
            "showbackground": true,
            "ticks": "",
            "zerolinecolor": "white"
           }
          },
          "shapedefaults": {
           "line": {
            "color": "#2a3f5f"
           }
          },
          "ternary": {
           "aaxis": {
            "gridcolor": "white",
            "linecolor": "white",
            "ticks": ""
           },
           "baxis": {
            "gridcolor": "white",
            "linecolor": "white",
            "ticks": ""
           },
           "bgcolor": "#E5ECF6",
           "caxis": {
            "gridcolor": "white",
            "linecolor": "white",
            "ticks": ""
           }
          },
          "title": {
           "x": 0.05
          },
          "xaxis": {
           "automargin": true,
           "gridcolor": "white",
           "linecolor": "white",
           "ticks": "",
           "title": {
            "standoff": 15
           },
           "zerolinecolor": "white",
           "zerolinewidth": 2
          },
          "yaxis": {
           "automargin": true,
           "gridcolor": "white",
           "linecolor": "white",
           "ticks": "",
           "title": {
            "standoff": 15
           },
           "zerolinecolor": "white",
           "zerolinewidth": 2
          }
         }
        },
        "title": {
         "text": "Inbound CIF by Air and Vessel for Manufacturing 1 in US From India"
        },
        "width": 1400,
        "xaxis": {
         "title": {
          "text": "Year-Month"
         }
        },
        "yaxis": {
         "side": "left",
         "title": {
          "text": "Dollar value (in Billions)"
         }
        },
        "yaxis2": {
         "overlaying": "y",
         "side": "right",
         "title": {
          "text": "MoM Growth"
         }
        }
       }
      }
     },
     "metadata": {},
     "output_type": "display_data"
    },
    {
     "data": {
      "application/vnd.plotly.v1+json": {
       "config": {
        "plotlyServerURL": "https://plot.ly"
       },
       "data": [
        {
         "hoverinfo": "text",
         "insidetextanchor": "end",
         "name": "by Air",
         "text": [
          "Air:0.02B",
          "Air:0.02B",
          "Air:0.02B",
          "Air:0.01B",
          "Air:0.02B",
          "Air:0.02B",
          "Air:0.02B",
          "Air:0.01B",
          "Air:0.02B",
          "Air:0.02B",
          "Air:0.01B",
          "Air:0.02B",
          "Air:0.02B",
          "Air:0.01B",
          "Air:0.02B",
          "Air:0.02B",
          "Air:0.02B",
          "Air:0.02B",
          "Air:0.02B",
          "Air:0.02B",
          "Air:0.02B",
          "Air:0.01B",
          "Air:0.01B",
          "Air:0.02B",
          "Air:0.02B",
          "Air:0.01B",
          "Air:0.02B",
          "Air:0.02B",
          "Air:0.02B",
          "Air:0.02B",
          "Air:0.02B",
          "Air:0.02B",
          "Air:0.01B",
          "Air:0.02B",
          "Air:0.01B"
         ],
         "textfont": {
          "size": 30
         },
         "textposition": "inside",
         "type": "bar",
         "x": [
          "2020-01",
          "2020-02",
          "2020-03",
          "2020-04",
          "2020-05",
          "2020-06",
          "2020-07",
          "2020-08",
          "2020-09",
          "2020-10",
          "2020-11",
          "2020-12",
          "2021-01",
          "2021-02",
          "2021-03",
          "2021-04",
          "2021-05",
          "2021-06",
          "2021-07",
          "2021-08",
          "2021-09",
          "2021-10",
          "2021-11",
          "2021-12",
          "2022-01",
          "2022-02",
          "2022-03",
          "2022-04",
          "2022-05",
          "2022-06",
          "2022-07",
          "2022-08",
          "2022-09",
          "2022-10",
          "2022-11"
         ],
         "y": [
          0.015391292,
          0.015404597,
          0.016639176,
          0.010994721,
          0.019712067,
          0.015200104,
          0.023576028,
          0.014876976,
          0.018997705,
          0.016653006,
          0.014331787,
          0.01869478,
          0.016883889,
          0.013078739,
          0.019305077,
          0.017733948,
          0.019740729,
          0.016352997,
          0.019764253,
          0.017072083,
          0.017735342,
          0.012369336,
          0.012812551,
          0.015865159,
          0.018680563,
          0.013253385,
          0.016971076,
          0.01676938,
          0.015992489,
          0.016990566,
          0.022386639,
          0.018057454,
          0.013420655,
          0.015204691,
          0.009266714
         ],
         "yaxis": "y"
        },
        {
         "hoverinfo": "text",
         "name": "by Vessel",
         "text": [
          "Vessel:0.3B",
          "Vessel:0.23B",
          "Vessel:0.21B",
          "Vessel:0.23B",
          "Vessel:0.1B",
          "Vessel:0.14B",
          "Vessel:0.25B",
          "Vessel:0.33B",
          "Vessel:0.28B",
          "Vessel:0.33B",
          "Vessel:0.26B",
          "Vessel:0.27B",
          "Vessel:0.3B",
          "Vessel:0.23B",
          "Vessel:0.24B",
          "Vessel:0.21B",
          "Vessel:0.34B",
          "Vessel:0.27B",
          "Vessel:0.31B",
          "Vessel:0.4B",
          "Vessel:0.35B",
          "Vessel:0.4B",
          "Vessel:0.33B",
          "Vessel:0.35B",
          "Vessel:0.34B",
          "Vessel:0.27B",
          "Vessel:0.32B",
          "Vessel:0.29B",
          "Vessel:0.32B",
          "Vessel:0.36B",
          "Vessel:0.29B",
          "Vessel:0.33B",
          "Vessel:0.33B",
          "Vessel:0.31B",
          "Vessel:0.25B"
         ],
         "textfont": {
          "color": "white",
          "family": "sans serif",
          "size": 30
         },
         "textposition": "inside",
         "type": "bar",
         "x": [
          "2020-01",
          "2020-02",
          "2020-03",
          "2020-04",
          "2020-05",
          "2020-06",
          "2020-07",
          "2020-08",
          "2020-09",
          "2020-10",
          "2020-11",
          "2020-12",
          "2021-01",
          "2021-02",
          "2021-03",
          "2021-04",
          "2021-05",
          "2021-06",
          "2021-07",
          "2021-08",
          "2021-09",
          "2021-10",
          "2021-11",
          "2021-12",
          "2022-01",
          "2022-02",
          "2022-03",
          "2022-04",
          "2022-05",
          "2022-06",
          "2022-07",
          "2022-08",
          "2022-09",
          "2022-10",
          "2022-11"
         ],
         "y": [
          0.299164553,
          0.226667567,
          0.214385987,
          0.230462177,
          0.103002427,
          0.140139633,
          0.254580109,
          0.3288321,
          0.277748338,
          0.327320377,
          0.257529618,
          0.272948488,
          0.296225527,
          0.225834162,
          0.238163769,
          0.209764655,
          0.336198141,
          0.267983497,
          0.308349939,
          0.39585087,
          0.349110368,
          0.395656332,
          0.329569958,
          0.345361976,
          0.335318583,
          0.267285954,
          0.317262783,
          0.294834891,
          0.319346296,
          0.357444315,
          0.294657383,
          0.325214461,
          0.326141403,
          0.309642432,
          0.251035674
         ],
         "yaxis": "y"
        },
        {
         "hoverinfo": "text",
         "hovertemplate": "%{y:.2f}%%{_xother}",
         "name": "MoM Growth",
         "text": "{y2:.2f}%",
         "textfont": {
          "size": 30
         },
         "type": "scatter",
         "x": [
          "2020-01",
          "2020-02",
          "2020-03",
          "2020-04",
          "2020-05",
          "2020-06",
          "2020-07",
          "2020-08",
          "2020-09",
          "2020-10",
          "2020-11",
          "2020-12",
          "2021-01",
          "2021-02",
          "2021-03",
          "2021-04",
          "2021-05",
          "2021-06",
          "2021-07",
          "2021-08",
          "2021-09",
          "2021-10",
          "2021-11",
          "2021-12",
          "2022-01",
          "2022-02",
          "2022-03",
          "2022-04",
          "2022-05",
          "2022-06",
          "2022-07",
          "2022-08",
          "2022-09",
          "2022-10",
          "2022-11"
         ],
         "xperiodalignment": "middle",
         "y": [
          null,
          -23.04318363564346,
          -4.563515613468061,
          4.5154107303887026,
          -49.1774743167619,
          26.586299577619577,
          79.06309252989143,
          23.566957647243992,
          -13.66359991029158,
          15.915069843071162,
          -20.964406423272585,
          7.276451396254657,
          7.360412653173265,
          -23.6966731782988,
          7.766824195065136,
          -11.640337643024978,
          56.45760690671142,
          -20.116481237354044,
          15.396440106629438,
          25.84733091947453,
          -11.158799157381793,
          11.22541626560114,
          -16.087997434514346,
          5.503968662137471,
          -2.0009540534655534,
          -20.75140797091075,
          19.139747099781967,
          -6.770585142901398,
          7.616876984333754,
          11.658686006153452,
          -15.327327103374222,
          8.272634454530102,
          -1.08073420454452,
          -4.333503892239932,
          -19.869264780282514
         ],
         "yaxis": "y2"
        }
       ],
       "layout": {
        "autosize": false,
        "barmode": "group",
        "height": 500,
        "hovermode": "x unified",
        "legend": {
         "orientation": "h",
         "x": 1,
         "xanchor": "right",
         "y": 1.02,
         "yanchor": "bottom"
        },
        "margin": {
         "b": 100,
         "l": 50,
         "pad": 4,
         "r": 50,
         "t": 50
        },
        "template": {
         "data": {
          "bar": [
           {
            "error_x": {
             "color": "#2a3f5f"
            },
            "error_y": {
             "color": "#2a3f5f"
            },
            "marker": {
             "line": {
              "color": "#E5ECF6",
              "width": 0.5
             },
             "pattern": {
              "fillmode": "overlay",
              "size": 10,
              "solidity": 0.2
             }
            },
            "type": "bar"
           }
          ],
          "barpolar": [
           {
            "marker": {
             "line": {
              "color": "#E5ECF6",
              "width": 0.5
             },
             "pattern": {
              "fillmode": "overlay",
              "size": 10,
              "solidity": 0.2
             }
            },
            "type": "barpolar"
           }
          ],
          "carpet": [
           {
            "aaxis": {
             "endlinecolor": "#2a3f5f",
             "gridcolor": "white",
             "linecolor": "white",
             "minorgridcolor": "white",
             "startlinecolor": "#2a3f5f"
            },
            "baxis": {
             "endlinecolor": "#2a3f5f",
             "gridcolor": "white",
             "linecolor": "white",
             "minorgridcolor": "white",
             "startlinecolor": "#2a3f5f"
            },
            "type": "carpet"
           }
          ],
          "choropleth": [
           {
            "colorbar": {
             "outlinewidth": 0,
             "ticks": ""
            },
            "type": "choropleth"
           }
          ],
          "contour": [
           {
            "colorbar": {
             "outlinewidth": 0,
             "ticks": ""
            },
            "colorscale": [
             [
              0,
              "#0d0887"
             ],
             [
              0.1111111111111111,
              "#46039f"
             ],
             [
              0.2222222222222222,
              "#7201a8"
             ],
             [
              0.3333333333333333,
              "#9c179e"
             ],
             [
              0.4444444444444444,
              "#bd3786"
             ],
             [
              0.5555555555555556,
              "#d8576b"
             ],
             [
              0.6666666666666666,
              "#ed7953"
             ],
             [
              0.7777777777777778,
              "#fb9f3a"
             ],
             [
              0.8888888888888888,
              "#fdca26"
             ],
             [
              1,
              "#f0f921"
             ]
            ],
            "type": "contour"
           }
          ],
          "contourcarpet": [
           {
            "colorbar": {
             "outlinewidth": 0,
             "ticks": ""
            },
            "type": "contourcarpet"
           }
          ],
          "heatmap": [
           {
            "colorbar": {
             "outlinewidth": 0,
             "ticks": ""
            },
            "colorscale": [
             [
              0,
              "#0d0887"
             ],
             [
              0.1111111111111111,
              "#46039f"
             ],
             [
              0.2222222222222222,
              "#7201a8"
             ],
             [
              0.3333333333333333,
              "#9c179e"
             ],
             [
              0.4444444444444444,
              "#bd3786"
             ],
             [
              0.5555555555555556,
              "#d8576b"
             ],
             [
              0.6666666666666666,
              "#ed7953"
             ],
             [
              0.7777777777777778,
              "#fb9f3a"
             ],
             [
              0.8888888888888888,
              "#fdca26"
             ],
             [
              1,
              "#f0f921"
             ]
            ],
            "type": "heatmap"
           }
          ],
          "heatmapgl": [
           {
            "colorbar": {
             "outlinewidth": 0,
             "ticks": ""
            },
            "colorscale": [
             [
              0,
              "#0d0887"
             ],
             [
              0.1111111111111111,
              "#46039f"
             ],
             [
              0.2222222222222222,
              "#7201a8"
             ],
             [
              0.3333333333333333,
              "#9c179e"
             ],
             [
              0.4444444444444444,
              "#bd3786"
             ],
             [
              0.5555555555555556,
              "#d8576b"
             ],
             [
              0.6666666666666666,
              "#ed7953"
             ],
             [
              0.7777777777777778,
              "#fb9f3a"
             ],
             [
              0.8888888888888888,
              "#fdca26"
             ],
             [
              1,
              "#f0f921"
             ]
            ],
            "type": "heatmapgl"
           }
          ],
          "histogram": [
           {
            "marker": {
             "pattern": {
              "fillmode": "overlay",
              "size": 10,
              "solidity": 0.2
             }
            },
            "type": "histogram"
           }
          ],
          "histogram2d": [
           {
            "colorbar": {
             "outlinewidth": 0,
             "ticks": ""
            },
            "colorscale": [
             [
              0,
              "#0d0887"
             ],
             [
              0.1111111111111111,
              "#46039f"
             ],
             [
              0.2222222222222222,
              "#7201a8"
             ],
             [
              0.3333333333333333,
              "#9c179e"
             ],
             [
              0.4444444444444444,
              "#bd3786"
             ],
             [
              0.5555555555555556,
              "#d8576b"
             ],
             [
              0.6666666666666666,
              "#ed7953"
             ],
             [
              0.7777777777777778,
              "#fb9f3a"
             ],
             [
              0.8888888888888888,
              "#fdca26"
             ],
             [
              1,
              "#f0f921"
             ]
            ],
            "type": "histogram2d"
           }
          ],
          "histogram2dcontour": [
           {
            "colorbar": {
             "outlinewidth": 0,
             "ticks": ""
            },
            "colorscale": [
             [
              0,
              "#0d0887"
             ],
             [
              0.1111111111111111,
              "#46039f"
             ],
             [
              0.2222222222222222,
              "#7201a8"
             ],
             [
              0.3333333333333333,
              "#9c179e"
             ],
             [
              0.4444444444444444,
              "#bd3786"
             ],
             [
              0.5555555555555556,
              "#d8576b"
             ],
             [
              0.6666666666666666,
              "#ed7953"
             ],
             [
              0.7777777777777778,
              "#fb9f3a"
             ],
             [
              0.8888888888888888,
              "#fdca26"
             ],
             [
              1,
              "#f0f921"
             ]
            ],
            "type": "histogram2dcontour"
           }
          ],
          "mesh3d": [
           {
            "colorbar": {
             "outlinewidth": 0,
             "ticks": ""
            },
            "type": "mesh3d"
           }
          ],
          "parcoords": [
           {
            "line": {
             "colorbar": {
              "outlinewidth": 0,
              "ticks": ""
             }
            },
            "type": "parcoords"
           }
          ],
          "pie": [
           {
            "automargin": true,
            "type": "pie"
           }
          ],
          "scatter": [
           {
            "fillpattern": {
             "fillmode": "overlay",
             "size": 10,
             "solidity": 0.2
            },
            "type": "scatter"
           }
          ],
          "scatter3d": [
           {
            "line": {
             "colorbar": {
              "outlinewidth": 0,
              "ticks": ""
             }
            },
            "marker": {
             "colorbar": {
              "outlinewidth": 0,
              "ticks": ""
             }
            },
            "type": "scatter3d"
           }
          ],
          "scattercarpet": [
           {
            "marker": {
             "colorbar": {
              "outlinewidth": 0,
              "ticks": ""
             }
            },
            "type": "scattercarpet"
           }
          ],
          "scattergeo": [
           {
            "marker": {
             "colorbar": {
              "outlinewidth": 0,
              "ticks": ""
             }
            },
            "type": "scattergeo"
           }
          ],
          "scattergl": [
           {
            "marker": {
             "colorbar": {
              "outlinewidth": 0,
              "ticks": ""
             }
            },
            "type": "scattergl"
           }
          ],
          "scattermapbox": [
           {
            "marker": {
             "colorbar": {
              "outlinewidth": 0,
              "ticks": ""
             }
            },
            "type": "scattermapbox"
           }
          ],
          "scatterpolar": [
           {
            "marker": {
             "colorbar": {
              "outlinewidth": 0,
              "ticks": ""
             }
            },
            "type": "scatterpolar"
           }
          ],
          "scatterpolargl": [
           {
            "marker": {
             "colorbar": {
              "outlinewidth": 0,
              "ticks": ""
             }
            },
            "type": "scatterpolargl"
           }
          ],
          "scatterternary": [
           {
            "marker": {
             "colorbar": {
              "outlinewidth": 0,
              "ticks": ""
             }
            },
            "type": "scatterternary"
           }
          ],
          "surface": [
           {
            "colorbar": {
             "outlinewidth": 0,
             "ticks": ""
            },
            "colorscale": [
             [
              0,
              "#0d0887"
             ],
             [
              0.1111111111111111,
              "#46039f"
             ],
             [
              0.2222222222222222,
              "#7201a8"
             ],
             [
              0.3333333333333333,
              "#9c179e"
             ],
             [
              0.4444444444444444,
              "#bd3786"
             ],
             [
              0.5555555555555556,
              "#d8576b"
             ],
             [
              0.6666666666666666,
              "#ed7953"
             ],
             [
              0.7777777777777778,
              "#fb9f3a"
             ],
             [
              0.8888888888888888,
              "#fdca26"
             ],
             [
              1,
              "#f0f921"
             ]
            ],
            "type": "surface"
           }
          ],
          "table": [
           {
            "cells": {
             "fill": {
              "color": "#EBF0F8"
             },
             "line": {
              "color": "white"
             }
            },
            "header": {
             "fill": {
              "color": "#C8D4E3"
             },
             "line": {
              "color": "white"
             }
            },
            "type": "table"
           }
          ]
         },
         "layout": {
          "annotationdefaults": {
           "arrowcolor": "#2a3f5f",
           "arrowhead": 0,
           "arrowwidth": 1
          },
          "autotypenumbers": "strict",
          "coloraxis": {
           "colorbar": {
            "outlinewidth": 0,
            "ticks": ""
           }
          },
          "colorscale": {
           "diverging": [
            [
             0,
             "#8e0152"
            ],
            [
             0.1,
             "#c51b7d"
            ],
            [
             0.2,
             "#de77ae"
            ],
            [
             0.3,
             "#f1b6da"
            ],
            [
             0.4,
             "#fde0ef"
            ],
            [
             0.5,
             "#f7f7f7"
            ],
            [
             0.6,
             "#e6f5d0"
            ],
            [
             0.7,
             "#b8e186"
            ],
            [
             0.8,
             "#7fbc41"
            ],
            [
             0.9,
             "#4d9221"
            ],
            [
             1,
             "#276419"
            ]
           ],
           "sequential": [
            [
             0,
             "#0d0887"
            ],
            [
             0.1111111111111111,
             "#46039f"
            ],
            [
             0.2222222222222222,
             "#7201a8"
            ],
            [
             0.3333333333333333,
             "#9c179e"
            ],
            [
             0.4444444444444444,
             "#bd3786"
            ],
            [
             0.5555555555555556,
             "#d8576b"
            ],
            [
             0.6666666666666666,
             "#ed7953"
            ],
            [
             0.7777777777777778,
             "#fb9f3a"
            ],
            [
             0.8888888888888888,
             "#fdca26"
            ],
            [
             1,
             "#f0f921"
            ]
           ],
           "sequentialminus": [
            [
             0,
             "#0d0887"
            ],
            [
             0.1111111111111111,
             "#46039f"
            ],
            [
             0.2222222222222222,
             "#7201a8"
            ],
            [
             0.3333333333333333,
             "#9c179e"
            ],
            [
             0.4444444444444444,
             "#bd3786"
            ],
            [
             0.5555555555555556,
             "#d8576b"
            ],
            [
             0.6666666666666666,
             "#ed7953"
            ],
            [
             0.7777777777777778,
             "#fb9f3a"
            ],
            [
             0.8888888888888888,
             "#fdca26"
            ],
            [
             1,
             "#f0f921"
            ]
           ]
          },
          "colorway": [
           "#636efa",
           "#EF553B",
           "#00cc96",
           "#ab63fa",
           "#FFA15A",
           "#19d3f3",
           "#FF6692",
           "#B6E880",
           "#FF97FF",
           "#FECB52"
          ],
          "font": {
           "color": "#2a3f5f"
          },
          "geo": {
           "bgcolor": "white",
           "lakecolor": "white",
           "landcolor": "#E5ECF6",
           "showlakes": true,
           "showland": true,
           "subunitcolor": "white"
          },
          "hoverlabel": {
           "align": "left"
          },
          "hovermode": "closest",
          "mapbox": {
           "style": "light"
          },
          "paper_bgcolor": "white",
          "plot_bgcolor": "#E5ECF6",
          "polar": {
           "angularaxis": {
            "gridcolor": "white",
            "linecolor": "white",
            "ticks": ""
           },
           "bgcolor": "#E5ECF6",
           "radialaxis": {
            "gridcolor": "white",
            "linecolor": "white",
            "ticks": ""
           }
          },
          "scene": {
           "xaxis": {
            "backgroundcolor": "#E5ECF6",
            "gridcolor": "white",
            "gridwidth": 2,
            "linecolor": "white",
            "showbackground": true,
            "ticks": "",
            "zerolinecolor": "white"
           },
           "yaxis": {
            "backgroundcolor": "#E5ECF6",
            "gridcolor": "white",
            "gridwidth": 2,
            "linecolor": "white",
            "showbackground": true,
            "ticks": "",
            "zerolinecolor": "white"
           },
           "zaxis": {
            "backgroundcolor": "#E5ECF6",
            "gridcolor": "white",
            "gridwidth": 2,
            "linecolor": "white",
            "showbackground": true,
            "ticks": "",
            "zerolinecolor": "white"
           }
          },
          "shapedefaults": {
           "line": {
            "color": "#2a3f5f"
           }
          },
          "ternary": {
           "aaxis": {
            "gridcolor": "white",
            "linecolor": "white",
            "ticks": ""
           },
           "baxis": {
            "gridcolor": "white",
            "linecolor": "white",
            "ticks": ""
           },
           "bgcolor": "#E5ECF6",
           "caxis": {
            "gridcolor": "white",
            "linecolor": "white",
            "ticks": ""
           }
          },
          "title": {
           "x": 0.05
          },
          "xaxis": {
           "automargin": true,
           "gridcolor": "white",
           "linecolor": "white",
           "ticks": "",
           "title": {
            "standoff": 15
           },
           "zerolinecolor": "white",
           "zerolinewidth": 2
          },
          "yaxis": {
           "automargin": true,
           "gridcolor": "white",
           "linecolor": "white",
           "ticks": "",
           "title": {
            "standoff": 15
           },
           "zerolinecolor": "white",
           "zerolinewidth": 2
          }
         }
        },
        "title": {
         "text": "Inbound CIF by Air and Vessel for Agriculture, Forestry, Fishing and HuntingT in US From India"
        },
        "width": 1400,
        "xaxis": {
         "title": {
          "text": "Year-Month"
         }
        },
        "yaxis": {
         "side": "left",
         "title": {
          "text": "Dollar value (in Billions)"
         }
        },
        "yaxis2": {
         "overlaying": "y",
         "side": "right",
         "title": {
          "text": "MoM Growth"
         }
        }
       }
      }
     },
     "metadata": {},
     "output_type": "display_data"
    },
    {
     "data": {
      "application/vnd.plotly.v1+json": {
       "config": {
        "plotlyServerURL": "https://plot.ly"
       },
       "data": [
        {
         "hoverinfo": "text",
         "insidetextanchor": "end",
         "name": "by Air",
         "text": [
          "Air:0.05B",
          "Air:0.04B",
          "Air:0.03B",
          "Air:0.01B",
          "Air:0.02B",
          "Air:0.03B",
          "Air:0.05B",
          "Air:0.03B",
          "Air:0.04B",
          "Air:0.04B",
          "Air:0.04B",
          "Air:0.03B",
          "Air:0.03B",
          "Air:0.03B",
          "Air:0.04B",
          "Air:0.04B",
          "Air:0.03B",
          "Air:0.22B",
          "Air:0.04B",
          "Air:0.04B",
          "Air:0.08B",
          "Air:0.04B",
          "Air:0.04B",
          "Air:0.05B",
          "Air:0.04B",
          "Air:0.05B",
          "Air:0.05B",
          "Air:0.06B",
          "Air:0.07B",
          "Air:0.05B",
          "Air:0.05B",
          "Air:0.05B",
          "Air:0.05B",
          "Air:0.05B",
          "Air:0.06B"
         ],
         "textfont": {
          "size": 30
         },
         "textposition": "inside",
         "type": "bar",
         "x": [
          "2020-01",
          "2020-02",
          "2020-03",
          "2020-04",
          "2020-05",
          "2020-06",
          "2020-07",
          "2020-08",
          "2020-09",
          "2020-10",
          "2020-11",
          "2020-12",
          "2021-01",
          "2021-02",
          "2021-03",
          "2021-04",
          "2021-05",
          "2021-06",
          "2021-07",
          "2021-08",
          "2021-09",
          "2021-10",
          "2021-11",
          "2021-12",
          "2022-01",
          "2022-02",
          "2022-03",
          "2022-04",
          "2022-05",
          "2022-06",
          "2022-07",
          "2022-08",
          "2022-09",
          "2022-10",
          "2022-11"
         ],
         "y": [
          0.049619196,
          0.038701559,
          0.02968093,
          0.006216331,
          0.024032279,
          0.027159638,
          0.046369121,
          0.027045061,
          0.041586565,
          0.041699895,
          0.043048465,
          0.026564512,
          0.029326145,
          0.027196633,
          0.036368395,
          0.043307722,
          0.031993759,
          0.215696889,
          0.036434187,
          0.044073317,
          0.078412341,
          0.036001175,
          0.043302747,
          0.052619468,
          0.041249302,
          0.04682032,
          0.047693069,
          0.057021077,
          0.065727808,
          0.050291875,
          0.04869627,
          0.054739415,
          0.052321389,
          0.045999555,
          0.056040227
         ],
         "yaxis": "y"
        },
        {
         "hoverinfo": "text",
         "name": "by Vessel",
         "text": [
          "Vessel:0.01B",
          "Vessel:0.01B",
          "Vessel:0.0B",
          "Vessel:0.01B",
          "Vessel:0.0B",
          "Vessel:0.0B",
          "Vessel:0.0B",
          "Vessel:0.0B",
          "Vessel:0.0B",
          "Vessel:0.01B",
          "Vessel:0.01B",
          "Vessel:0.0B",
          "Vessel:0.01B",
          "Vessel:0.01B",
          "Vessel:0.01B",
          "Vessel:0.01B",
          "Vessel:0.01B",
          "Vessel:0.01B",
          "Vessel:0.0B",
          "Vessel:0.0B",
          "Vessel:0.0B",
          "Vessel:0.01B",
          "Vessel:0.01B",
          "Vessel:0.0B",
          "Vessel:0.01B",
          "Vessel:0.01B",
          "Vessel:0.01B",
          "Vessel:0.0B",
          "Vessel:0.01B",
          "Vessel:0.01B",
          "Vessel:0.01B",
          "Vessel:0.01B",
          "Vessel:0.01B",
          "Vessel:0.01B",
          "Vessel:0.02B"
         ],
         "textfont": {
          "color": "white",
          "family": "sans serif",
          "size": 30
         },
         "textposition": "inside",
         "type": "bar",
         "x": [
          "2020-01",
          "2020-02",
          "2020-03",
          "2020-04",
          "2020-05",
          "2020-06",
          "2020-07",
          "2020-08",
          "2020-09",
          "2020-10",
          "2020-11",
          "2020-12",
          "2021-01",
          "2021-02",
          "2021-03",
          "2021-04",
          "2021-05",
          "2021-06",
          "2021-07",
          "2021-08",
          "2021-09",
          "2021-10",
          "2021-11",
          "2021-12",
          "2022-01",
          "2022-02",
          "2022-03",
          "2022-04",
          "2022-05",
          "2022-06",
          "2022-07",
          "2022-08",
          "2022-09",
          "2022-10",
          "2022-11"
         ],
         "y": [
          0.006664873,
          0.005291123,
          0.003626979,
          0.00790444,
          0.002975517,
          0.00152216,
          0.004498232,
          0.003471116,
          0.004979545,
          0.007307831,
          0.0079593,
          0.001711481,
          0.007126721,
          0.005236616,
          0.005008194,
          0.013698817,
          0.007633908,
          0.005669008,
          0.002078725,
          0.002172516,
          0.002232229,
          0.007091779,
          0.006526869,
          0.004507517,
          0.005868722,
          0.005092175,
          0.005602262,
          0.004267401,
          0.007041425,
          0.007636813,
          0.007567566,
          0.009022884,
          0.009025567,
          0.008673405,
          0.017825633
         ],
         "yaxis": "y"
        },
        {
         "hoverinfo": "text",
         "hovertemplate": "%{y:.2f}%%{_xother}",
         "name": "MoM Growth",
         "text": "{y2:.2f}%",
         "textfont": {
          "size": 30
         },
         "type": "scatter",
         "x": [
          "2020-01",
          "2020-02",
          "2020-03",
          "2020-04",
          "2020-05",
          "2020-06",
          "2020-07",
          "2020-08",
          "2020-09",
          "2020-10",
          "2020-11",
          "2020-12",
          "2021-01",
          "2021-02",
          "2021-03",
          "2021-04",
          "2021-05",
          "2021-06",
          "2021-07",
          "2021-08",
          "2021-09",
          "2021-10",
          "2021-11",
          "2021-12",
          "2022-01",
          "2022-02",
          "2022-03",
          "2022-04",
          "2022-05",
          "2022-06",
          "2022-07",
          "2022-08",
          "2022-09",
          "2022-10",
          "2022-11"
         ],
         "xperiodalignment": "middle",
         "y": [
          null,
          -21.83812794345057,
          -24.28761447187966,
          -57.60535132961964,
          91.2628991717237,
          6.198217729428945,
          77.35064238301936,
          -40.00832518255864,
          52.59483519183941,
          5.24333254377487,
          4.081068768626395,
          -44.56531667286343,
          28.918075485448025,
          -11.026888804847335,
          27.574604073739263,
          37.77486346204131,
          -30.485751818751883,
          458.6145078891472,
          -82.60214761083998,
          20.07877513910139,
          74.38234921619858,
          -46.56434524977937,
          15.632861929121876,
          14.64464225451787,
          -17.520548301297534,
          10.175450057073698,
          2.663782582594032,
          14.997837240189016,
          18.732321921911655,
          -20.393982990036463,
          -2.873968076059308,
          13.32732272289432,
          -3.7880425233726256,
          -10.879098874930326,
          35.104922067508326
         ],
         "yaxis": "y2"
        }
       ],
       "layout": {
        "autosize": false,
        "barmode": "group",
        "height": 500,
        "hovermode": "x unified",
        "legend": {
         "orientation": "h",
         "x": 1,
         "xanchor": "right",
         "y": 1.02,
         "yanchor": "bottom"
        },
        "margin": {
         "b": 100,
         "l": 50,
         "pad": 4,
         "r": 50,
         "t": 50
        },
        "template": {
         "data": {
          "bar": [
           {
            "error_x": {
             "color": "#2a3f5f"
            },
            "error_y": {
             "color": "#2a3f5f"
            },
            "marker": {
             "line": {
              "color": "#E5ECF6",
              "width": 0.5
             },
             "pattern": {
              "fillmode": "overlay",
              "size": 10,
              "solidity": 0.2
             }
            },
            "type": "bar"
           }
          ],
          "barpolar": [
           {
            "marker": {
             "line": {
              "color": "#E5ECF6",
              "width": 0.5
             },
             "pattern": {
              "fillmode": "overlay",
              "size": 10,
              "solidity": 0.2
             }
            },
            "type": "barpolar"
           }
          ],
          "carpet": [
           {
            "aaxis": {
             "endlinecolor": "#2a3f5f",
             "gridcolor": "white",
             "linecolor": "white",
             "minorgridcolor": "white",
             "startlinecolor": "#2a3f5f"
            },
            "baxis": {
             "endlinecolor": "#2a3f5f",
             "gridcolor": "white",
             "linecolor": "white",
             "minorgridcolor": "white",
             "startlinecolor": "#2a3f5f"
            },
            "type": "carpet"
           }
          ],
          "choropleth": [
           {
            "colorbar": {
             "outlinewidth": 0,
             "ticks": ""
            },
            "type": "choropleth"
           }
          ],
          "contour": [
           {
            "colorbar": {
             "outlinewidth": 0,
             "ticks": ""
            },
            "colorscale": [
             [
              0,
              "#0d0887"
             ],
             [
              0.1111111111111111,
              "#46039f"
             ],
             [
              0.2222222222222222,
              "#7201a8"
             ],
             [
              0.3333333333333333,
              "#9c179e"
             ],
             [
              0.4444444444444444,
              "#bd3786"
             ],
             [
              0.5555555555555556,
              "#d8576b"
             ],
             [
              0.6666666666666666,
              "#ed7953"
             ],
             [
              0.7777777777777778,
              "#fb9f3a"
             ],
             [
              0.8888888888888888,
              "#fdca26"
             ],
             [
              1,
              "#f0f921"
             ]
            ],
            "type": "contour"
           }
          ],
          "contourcarpet": [
           {
            "colorbar": {
             "outlinewidth": 0,
             "ticks": ""
            },
            "type": "contourcarpet"
           }
          ],
          "heatmap": [
           {
            "colorbar": {
             "outlinewidth": 0,
             "ticks": ""
            },
            "colorscale": [
             [
              0,
              "#0d0887"
             ],
             [
              0.1111111111111111,
              "#46039f"
             ],
             [
              0.2222222222222222,
              "#7201a8"
             ],
             [
              0.3333333333333333,
              "#9c179e"
             ],
             [
              0.4444444444444444,
              "#bd3786"
             ],
             [
              0.5555555555555556,
              "#d8576b"
             ],
             [
              0.6666666666666666,
              "#ed7953"
             ],
             [
              0.7777777777777778,
              "#fb9f3a"
             ],
             [
              0.8888888888888888,
              "#fdca26"
             ],
             [
              1,
              "#f0f921"
             ]
            ],
            "type": "heatmap"
           }
          ],
          "heatmapgl": [
           {
            "colorbar": {
             "outlinewidth": 0,
             "ticks": ""
            },
            "colorscale": [
             [
              0,
              "#0d0887"
             ],
             [
              0.1111111111111111,
              "#46039f"
             ],
             [
              0.2222222222222222,
              "#7201a8"
             ],
             [
              0.3333333333333333,
              "#9c179e"
             ],
             [
              0.4444444444444444,
              "#bd3786"
             ],
             [
              0.5555555555555556,
              "#d8576b"
             ],
             [
              0.6666666666666666,
              "#ed7953"
             ],
             [
              0.7777777777777778,
              "#fb9f3a"
             ],
             [
              0.8888888888888888,
              "#fdca26"
             ],
             [
              1,
              "#f0f921"
             ]
            ],
            "type": "heatmapgl"
           }
          ],
          "histogram": [
           {
            "marker": {
             "pattern": {
              "fillmode": "overlay",
              "size": 10,
              "solidity": 0.2
             }
            },
            "type": "histogram"
           }
          ],
          "histogram2d": [
           {
            "colorbar": {
             "outlinewidth": 0,
             "ticks": ""
            },
            "colorscale": [
             [
              0,
              "#0d0887"
             ],
             [
              0.1111111111111111,
              "#46039f"
             ],
             [
              0.2222222222222222,
              "#7201a8"
             ],
             [
              0.3333333333333333,
              "#9c179e"
             ],
             [
              0.4444444444444444,
              "#bd3786"
             ],
             [
              0.5555555555555556,
              "#d8576b"
             ],
             [
              0.6666666666666666,
              "#ed7953"
             ],
             [
              0.7777777777777778,
              "#fb9f3a"
             ],
             [
              0.8888888888888888,
              "#fdca26"
             ],
             [
              1,
              "#f0f921"
             ]
            ],
            "type": "histogram2d"
           }
          ],
          "histogram2dcontour": [
           {
            "colorbar": {
             "outlinewidth": 0,
             "ticks": ""
            },
            "colorscale": [
             [
              0,
              "#0d0887"
             ],
             [
              0.1111111111111111,
              "#46039f"
             ],
             [
              0.2222222222222222,
              "#7201a8"
             ],
             [
              0.3333333333333333,
              "#9c179e"
             ],
             [
              0.4444444444444444,
              "#bd3786"
             ],
             [
              0.5555555555555556,
              "#d8576b"
             ],
             [
              0.6666666666666666,
              "#ed7953"
             ],
             [
              0.7777777777777778,
              "#fb9f3a"
             ],
             [
              0.8888888888888888,
              "#fdca26"
             ],
             [
              1,
              "#f0f921"
             ]
            ],
            "type": "histogram2dcontour"
           }
          ],
          "mesh3d": [
           {
            "colorbar": {
             "outlinewidth": 0,
             "ticks": ""
            },
            "type": "mesh3d"
           }
          ],
          "parcoords": [
           {
            "line": {
             "colorbar": {
              "outlinewidth": 0,
              "ticks": ""
             }
            },
            "type": "parcoords"
           }
          ],
          "pie": [
           {
            "automargin": true,
            "type": "pie"
           }
          ],
          "scatter": [
           {
            "fillpattern": {
             "fillmode": "overlay",
             "size": 10,
             "solidity": 0.2
            },
            "type": "scatter"
           }
          ],
          "scatter3d": [
           {
            "line": {
             "colorbar": {
              "outlinewidth": 0,
              "ticks": ""
             }
            },
            "marker": {
             "colorbar": {
              "outlinewidth": 0,
              "ticks": ""
             }
            },
            "type": "scatter3d"
           }
          ],
          "scattercarpet": [
           {
            "marker": {
             "colorbar": {
              "outlinewidth": 0,
              "ticks": ""
             }
            },
            "type": "scattercarpet"
           }
          ],
          "scattergeo": [
           {
            "marker": {
             "colorbar": {
              "outlinewidth": 0,
              "ticks": ""
             }
            },
            "type": "scattergeo"
           }
          ],
          "scattergl": [
           {
            "marker": {
             "colorbar": {
              "outlinewidth": 0,
              "ticks": ""
             }
            },
            "type": "scattergl"
           }
          ],
          "scattermapbox": [
           {
            "marker": {
             "colorbar": {
              "outlinewidth": 0,
              "ticks": ""
             }
            },
            "type": "scattermapbox"
           }
          ],
          "scatterpolar": [
           {
            "marker": {
             "colorbar": {
              "outlinewidth": 0,
              "ticks": ""
             }
            },
            "type": "scatterpolar"
           }
          ],
          "scatterpolargl": [
           {
            "marker": {
             "colorbar": {
              "outlinewidth": 0,
              "ticks": ""
             }
            },
            "type": "scatterpolargl"
           }
          ],
          "scatterternary": [
           {
            "marker": {
             "colorbar": {
              "outlinewidth": 0,
              "ticks": ""
             }
            },
            "type": "scatterternary"
           }
          ],
          "surface": [
           {
            "colorbar": {
             "outlinewidth": 0,
             "ticks": ""
            },
            "colorscale": [
             [
              0,
              "#0d0887"
             ],
             [
              0.1111111111111111,
              "#46039f"
             ],
             [
              0.2222222222222222,
              "#7201a8"
             ],
             [
              0.3333333333333333,
              "#9c179e"
             ],
             [
              0.4444444444444444,
              "#bd3786"
             ],
             [
              0.5555555555555556,
              "#d8576b"
             ],
             [
              0.6666666666666666,
              "#ed7953"
             ],
             [
              0.7777777777777778,
              "#fb9f3a"
             ],
             [
              0.8888888888888888,
              "#fdca26"
             ],
             [
              1,
              "#f0f921"
             ]
            ],
            "type": "surface"
           }
          ],
          "table": [
           {
            "cells": {
             "fill": {
              "color": "#EBF0F8"
             },
             "line": {
              "color": "white"
             }
            },
            "header": {
             "fill": {
              "color": "#C8D4E3"
             },
             "line": {
              "color": "white"
             }
            },
            "type": "table"
           }
          ]
         },
         "layout": {
          "annotationdefaults": {
           "arrowcolor": "#2a3f5f",
           "arrowhead": 0,
           "arrowwidth": 1
          },
          "autotypenumbers": "strict",
          "coloraxis": {
           "colorbar": {
            "outlinewidth": 0,
            "ticks": ""
           }
          },
          "colorscale": {
           "diverging": [
            [
             0,
             "#8e0152"
            ],
            [
             0.1,
             "#c51b7d"
            ],
            [
             0.2,
             "#de77ae"
            ],
            [
             0.3,
             "#f1b6da"
            ],
            [
             0.4,
             "#fde0ef"
            ],
            [
             0.5,
             "#f7f7f7"
            ],
            [
             0.6,
             "#e6f5d0"
            ],
            [
             0.7,
             "#b8e186"
            ],
            [
             0.8,
             "#7fbc41"
            ],
            [
             0.9,
             "#4d9221"
            ],
            [
             1,
             "#276419"
            ]
           ],
           "sequential": [
            [
             0,
             "#0d0887"
            ],
            [
             0.1111111111111111,
             "#46039f"
            ],
            [
             0.2222222222222222,
             "#7201a8"
            ],
            [
             0.3333333333333333,
             "#9c179e"
            ],
            [
             0.4444444444444444,
             "#bd3786"
            ],
            [
             0.5555555555555556,
             "#d8576b"
            ],
            [
             0.6666666666666666,
             "#ed7953"
            ],
            [
             0.7777777777777778,
             "#fb9f3a"
            ],
            [
             0.8888888888888888,
             "#fdca26"
            ],
            [
             1,
             "#f0f921"
            ]
           ],
           "sequentialminus": [
            [
             0,
             "#0d0887"
            ],
            [
             0.1111111111111111,
             "#46039f"
            ],
            [
             0.2222222222222222,
             "#7201a8"
            ],
            [
             0.3333333333333333,
             "#9c179e"
            ],
            [
             0.4444444444444444,
             "#bd3786"
            ],
            [
             0.5555555555555556,
             "#d8576b"
            ],
            [
             0.6666666666666666,
             "#ed7953"
            ],
            [
             0.7777777777777778,
             "#fb9f3a"
            ],
            [
             0.8888888888888888,
             "#fdca26"
            ],
            [
             1,
             "#f0f921"
            ]
           ]
          },
          "colorway": [
           "#636efa",
           "#EF553B",
           "#00cc96",
           "#ab63fa",
           "#FFA15A",
           "#19d3f3",
           "#FF6692",
           "#B6E880",
           "#FF97FF",
           "#FECB52"
          ],
          "font": {
           "color": "#2a3f5f"
          },
          "geo": {
           "bgcolor": "white",
           "lakecolor": "white",
           "landcolor": "#E5ECF6",
           "showlakes": true,
           "showland": true,
           "subunitcolor": "white"
          },
          "hoverlabel": {
           "align": "left"
          },
          "hovermode": "closest",
          "mapbox": {
           "style": "light"
          },
          "paper_bgcolor": "white",
          "plot_bgcolor": "#E5ECF6",
          "polar": {
           "angularaxis": {
            "gridcolor": "white",
            "linecolor": "white",
            "ticks": ""
           },
           "bgcolor": "#E5ECF6",
           "radialaxis": {
            "gridcolor": "white",
            "linecolor": "white",
            "ticks": ""
           }
          },
          "scene": {
           "xaxis": {
            "backgroundcolor": "#E5ECF6",
            "gridcolor": "white",
            "gridwidth": 2,
            "linecolor": "white",
            "showbackground": true,
            "ticks": "",
            "zerolinecolor": "white"
           },
           "yaxis": {
            "backgroundcolor": "#E5ECF6",
            "gridcolor": "white",
            "gridwidth": 2,
            "linecolor": "white",
            "showbackground": true,
            "ticks": "",
            "zerolinecolor": "white"
           },
           "zaxis": {
            "backgroundcolor": "#E5ECF6",
            "gridcolor": "white",
            "gridwidth": 2,
            "linecolor": "white",
            "showbackground": true,
            "ticks": "",
            "zerolinecolor": "white"
           }
          },
          "shapedefaults": {
           "line": {
            "color": "#2a3f5f"
           }
          },
          "ternary": {
           "aaxis": {
            "gridcolor": "white",
            "linecolor": "white",
            "ticks": ""
           },
           "baxis": {
            "gridcolor": "white",
            "linecolor": "white",
            "ticks": ""
           },
           "bgcolor": "#E5ECF6",
           "caxis": {
            "gridcolor": "white",
            "linecolor": "white",
            "ticks": ""
           }
          },
          "title": {
           "x": 0.05
          },
          "xaxis": {
           "automargin": true,
           "gridcolor": "white",
           "linecolor": "white",
           "ticks": "",
           "title": {
            "standoff": 15
           },
           "zerolinecolor": "white",
           "zerolinewidth": 2
          },
          "yaxis": {
           "automargin": true,
           "gridcolor": "white",
           "linecolor": "white",
           "ticks": "",
           "title": {
            "standoff": 15
           },
           "zerolinecolor": "white",
           "zerolinewidth": 2
          }
         }
        },
        "title": {
         "text": "Inbound CIF by Air and Vessel for Goods Returned (EXPORTS FOR CANADA ONLY) in US From India"
        },
        "width": 1400,
        "xaxis": {
         "title": {
          "text": "Year-Month"
         }
        },
        "yaxis": {
         "side": "left",
         "title": {
          "text": "Dollar value (in Billions)"
         }
        },
        "yaxis2": {
         "overlaying": "y",
         "side": "right",
         "title": {
          "text": "MoM Growth"
         }
        }
       }
      }
     },
     "metadata": {},
     "output_type": "display_data"
    },
    {
     "data": {
      "application/vnd.plotly.v1+json": {
       "config": {
        "plotlyServerURL": "https://plot.ly"
       },
       "data": [
        {
         "hoverinfo": "text",
         "insidetextanchor": "end",
         "name": "by Air",
         "text": [
          "Air:0.0B",
          "Air:0.0B",
          "Air:0.0B",
          "Air:0.0B",
          "Air:0.0B",
          "Air:0.0B",
          "Air:0.0B",
          "Air:0.0B",
          "Air:0.0B",
          "Air:0.0B",
          "Air:0.0B",
          "Air:0.0B",
          "Air:0.0B",
          "Air:0.0B",
          "Air:0.03B",
          "Air:0.0B",
          "Air:0.0B",
          "Air:0.0B",
          "Air:0.0B",
          "Air:0.0B",
          "Air:0.0B",
          "Air:0.0B",
          "Air:0.0B",
          "Air:0.0B",
          "Air:0.0B",
          "Air:0.0B",
          "Air:0.0B",
          "Air:0.0B",
          "Air:0.0B",
          "Air:0.0B",
          "Air:0.0B",
          "Air:0.0B",
          "Air:0.0B",
          "Air:0.0B",
          "Air:0.0B"
         ],
         "textfont": {
          "size": 30
         },
         "textposition": "inside",
         "type": "bar",
         "x": [
          "2020-01",
          "2020-02",
          "2020-03",
          "2020-04",
          "2020-05",
          "2020-06",
          "2020-07",
          "2020-08",
          "2020-09",
          "2020-10",
          "2020-11",
          "2020-12",
          "2021-01",
          "2021-02",
          "2021-03",
          "2021-04",
          "2021-05",
          "2021-06",
          "2021-07",
          "2021-08",
          "2021-09",
          "2021-10",
          "2021-11",
          "2021-12",
          "2022-01",
          "2022-02",
          "2022-03",
          "2022-04",
          "2022-05",
          "2022-06",
          "2022-07",
          "2022-08",
          "2022-09",
          "2022-10",
          "2022-11"
         ],
         "y": [
          0.000251718,
          0.000109705,
          0.000453543,
          0.000017976,
          0.000319981,
          0.000121495,
          0.000164254,
          0.000748446,
          0.000067487,
          0.00016323,
          0.000088294,
          0.000121465,
          0.000066296,
          0.000170138,
          0.033314246,
          0.000158367,
          0.000262573,
          0.000142265,
          0.000117353,
          0.001394506,
          0.000155727,
          0.001094319,
          0.000083338,
          0.000072717,
          0.000289459,
          0.000052773,
          0.000115249,
          0.000084324,
          0.000105069,
          0.000121624,
          0.000108287,
          0.000202215,
          0.000185547,
          0.000142251,
          0.000272473
         ],
         "yaxis": "y"
        },
        {
         "hoverinfo": "text",
         "name": "by Vessel",
         "text": [
          "Vessel:0.0B",
          "Vessel:0.0B",
          "Vessel:0.0B",
          "Vessel:0.0B",
          "Vessel:0.0B",
          "Vessel:0.0B",
          "Vessel:0.0B",
          "Vessel:0.0B",
          "Vessel:0.0B",
          "Vessel:0.0B",
          "Vessel:0.0B",
          "Vessel:0.0B",
          "Vessel:0.0B",
          "Vessel:0.0B",
          "Vessel:0.0B",
          "Vessel:0.0B",
          "Vessel:0.0B",
          "Vessel:0.0B",
          "Vessel:0.0B",
          "Vessel:0.0B",
          "Vessel:0.0B",
          "Vessel:0.0B",
          "Vessel:0.0B",
          "Vessel:0.0B",
          "Vessel:0.0B",
          "Vessel:0.0B",
          "Vessel:0.0B",
          "Vessel:0.0B",
          "Vessel:0.0B",
          "Vessel:0.0B",
          "Vessel:0.0B",
          "Vessel:0.0B",
          "Vessel:0.0B",
          "Vessel:0.0B",
          "Vessel:0.0B"
         ],
         "textfont": {
          "color": "white",
          "family": "sans serif",
          "size": 30
         },
         "textposition": "inside",
         "type": "bar",
         "x": [
          "2020-01",
          "2020-02",
          "2020-03",
          "2020-04",
          "2020-05",
          "2020-06",
          "2020-07",
          "2020-08",
          "2020-09",
          "2020-10",
          "2020-11",
          "2020-12",
          "2021-01",
          "2021-02",
          "2021-03",
          "2021-04",
          "2021-05",
          "2021-06",
          "2021-07",
          "2021-08",
          "2021-09",
          "2021-10",
          "2021-11",
          "2021-12",
          "2022-01",
          "2022-02",
          "2022-03",
          "2022-04",
          "2022-05",
          "2022-06",
          "2022-07",
          "2022-08",
          "2022-09",
          "2022-10",
          "2022-11"
         ],
         "y": [
          0.000658435,
          0.000201525,
          0.000130023,
          0.00025601,
          0.000314533,
          0.000306431,
          0.00070479,
          0.001093745,
          0.000773416,
          0.000819709,
          0.000996914,
          0.000683635,
          0.000335818,
          0.000636897,
          0.000616238,
          0.000491554,
          0.001174699,
          0.00085275,
          0.000816916,
          0.001069757,
          0.000969143,
          0.001507369,
          0.001108624,
          0.00087304,
          0.0005995,
          0.000499294,
          0.001205443,
          0.001001018,
          0.001141412,
          0.000995888,
          0.000873979,
          0.000651736,
          0.001307715,
          0.001244913,
          0.000705691
         ],
         "yaxis": "y"
        },
        {
         "hoverinfo": "text",
         "hovertemplate": "%{y:.2f}%%{_xother}",
         "name": "MoM Growth",
         "text": "{y2:.2f}%",
         "textfont": {
          "size": 30
         },
         "type": "scatter",
         "x": [
          "2020-01",
          "2020-02",
          "2020-03",
          "2020-04",
          "2020-05",
          "2020-06",
          "2020-07",
          "2020-08",
          "2020-09",
          "2020-10",
          "2020-11",
          "2020-12",
          "2021-01",
          "2021-02",
          "2021-03",
          "2021-04",
          "2021-05",
          "2021-06",
          "2021-07",
          "2021-08",
          "2021-09",
          "2021-10",
          "2021-11",
          "2021-12",
          "2022-01",
          "2022-02",
          "2022-03",
          "2022-04",
          "2022-05",
          "2022-06",
          "2022-07",
          "2022-08",
          "2022-09",
          "2022-10",
          "2022-11"
         ],
         "xperiodalignment": "middle",
         "y": [
          null,
          -65.80465042690624,
          87.5031327314205,
          -53.04969789192653,
          131.58628543064245,
          -32.558462067030824,
          103.08277599398026,
          111.97902522772152,
          -54.35310453693456,
          16.890889912391806,
          10.40440963274425,
          -25.81145734273983,
          -50.05415476338343,
          100.69806074894183,
          4104.338597458599,
          -98.08455134326996,
          121.14564693247334,
          -30.770584830150447,
          -6.105033592458408,
          163.76375540663344,
          -54.352680700071375,
          131.2878821552713,
          -54.18505216613214,
          -20.65544035799799,
          -6.005559567626784,
          -37.8973608456633,
          139.22676052000935,
          -17.82020334794183,
          14.846840903604575,
          -10.346647883120564,
          -12.102420376693946,
          -13.063162116982575,
          74.86506837043343,
          -7.1051161818890485,
          -29.484617536210568
         ],
         "yaxis": "y2"
        }
       ],
       "layout": {
        "autosize": false,
        "barmode": "group",
        "height": 500,
        "hovermode": "x unified",
        "legend": {
         "orientation": "h",
         "x": 1,
         "xanchor": "right",
         "y": 1.02,
         "yanchor": "bottom"
        },
        "margin": {
         "b": 100,
         "l": 50,
         "pad": 4,
         "r": 50,
         "t": 50
        },
        "template": {
         "data": {
          "bar": [
           {
            "error_x": {
             "color": "#2a3f5f"
            },
            "error_y": {
             "color": "#2a3f5f"
            },
            "marker": {
             "line": {
              "color": "#E5ECF6",
              "width": 0.5
             },
             "pattern": {
              "fillmode": "overlay",
              "size": 10,
              "solidity": 0.2
             }
            },
            "type": "bar"
           }
          ],
          "barpolar": [
           {
            "marker": {
             "line": {
              "color": "#E5ECF6",
              "width": 0.5
             },
             "pattern": {
              "fillmode": "overlay",
              "size": 10,
              "solidity": 0.2
             }
            },
            "type": "barpolar"
           }
          ],
          "carpet": [
           {
            "aaxis": {
             "endlinecolor": "#2a3f5f",
             "gridcolor": "white",
             "linecolor": "white",
             "minorgridcolor": "white",
             "startlinecolor": "#2a3f5f"
            },
            "baxis": {
             "endlinecolor": "#2a3f5f",
             "gridcolor": "white",
             "linecolor": "white",
             "minorgridcolor": "white",
             "startlinecolor": "#2a3f5f"
            },
            "type": "carpet"
           }
          ],
          "choropleth": [
           {
            "colorbar": {
             "outlinewidth": 0,
             "ticks": ""
            },
            "type": "choropleth"
           }
          ],
          "contour": [
           {
            "colorbar": {
             "outlinewidth": 0,
             "ticks": ""
            },
            "colorscale": [
             [
              0,
              "#0d0887"
             ],
             [
              0.1111111111111111,
              "#46039f"
             ],
             [
              0.2222222222222222,
              "#7201a8"
             ],
             [
              0.3333333333333333,
              "#9c179e"
             ],
             [
              0.4444444444444444,
              "#bd3786"
             ],
             [
              0.5555555555555556,
              "#d8576b"
             ],
             [
              0.6666666666666666,
              "#ed7953"
             ],
             [
              0.7777777777777778,
              "#fb9f3a"
             ],
             [
              0.8888888888888888,
              "#fdca26"
             ],
             [
              1,
              "#f0f921"
             ]
            ],
            "type": "contour"
           }
          ],
          "contourcarpet": [
           {
            "colorbar": {
             "outlinewidth": 0,
             "ticks": ""
            },
            "type": "contourcarpet"
           }
          ],
          "heatmap": [
           {
            "colorbar": {
             "outlinewidth": 0,
             "ticks": ""
            },
            "colorscale": [
             [
              0,
              "#0d0887"
             ],
             [
              0.1111111111111111,
              "#46039f"
             ],
             [
              0.2222222222222222,
              "#7201a8"
             ],
             [
              0.3333333333333333,
              "#9c179e"
             ],
             [
              0.4444444444444444,
              "#bd3786"
             ],
             [
              0.5555555555555556,
              "#d8576b"
             ],
             [
              0.6666666666666666,
              "#ed7953"
             ],
             [
              0.7777777777777778,
              "#fb9f3a"
             ],
             [
              0.8888888888888888,
              "#fdca26"
             ],
             [
              1,
              "#f0f921"
             ]
            ],
            "type": "heatmap"
           }
          ],
          "heatmapgl": [
           {
            "colorbar": {
             "outlinewidth": 0,
             "ticks": ""
            },
            "colorscale": [
             [
              0,
              "#0d0887"
             ],
             [
              0.1111111111111111,
              "#46039f"
             ],
             [
              0.2222222222222222,
              "#7201a8"
             ],
             [
              0.3333333333333333,
              "#9c179e"
             ],
             [
              0.4444444444444444,
              "#bd3786"
             ],
             [
              0.5555555555555556,
              "#d8576b"
             ],
             [
              0.6666666666666666,
              "#ed7953"
             ],
             [
              0.7777777777777778,
              "#fb9f3a"
             ],
             [
              0.8888888888888888,
              "#fdca26"
             ],
             [
              1,
              "#f0f921"
             ]
            ],
            "type": "heatmapgl"
           }
          ],
          "histogram": [
           {
            "marker": {
             "pattern": {
              "fillmode": "overlay",
              "size": 10,
              "solidity": 0.2
             }
            },
            "type": "histogram"
           }
          ],
          "histogram2d": [
           {
            "colorbar": {
             "outlinewidth": 0,
             "ticks": ""
            },
            "colorscale": [
             [
              0,
              "#0d0887"
             ],
             [
              0.1111111111111111,
              "#46039f"
             ],
             [
              0.2222222222222222,
              "#7201a8"
             ],
             [
              0.3333333333333333,
              "#9c179e"
             ],
             [
              0.4444444444444444,
              "#bd3786"
             ],
             [
              0.5555555555555556,
              "#d8576b"
             ],
             [
              0.6666666666666666,
              "#ed7953"
             ],
             [
              0.7777777777777778,
              "#fb9f3a"
             ],
             [
              0.8888888888888888,
              "#fdca26"
             ],
             [
              1,
              "#f0f921"
             ]
            ],
            "type": "histogram2d"
           }
          ],
          "histogram2dcontour": [
           {
            "colorbar": {
             "outlinewidth": 0,
             "ticks": ""
            },
            "colorscale": [
             [
              0,
              "#0d0887"
             ],
             [
              0.1111111111111111,
              "#46039f"
             ],
             [
              0.2222222222222222,
              "#7201a8"
             ],
             [
              0.3333333333333333,
              "#9c179e"
             ],
             [
              0.4444444444444444,
              "#bd3786"
             ],
             [
              0.5555555555555556,
              "#d8576b"
             ],
             [
              0.6666666666666666,
              "#ed7953"
             ],
             [
              0.7777777777777778,
              "#fb9f3a"
             ],
             [
              0.8888888888888888,
              "#fdca26"
             ],
             [
              1,
              "#f0f921"
             ]
            ],
            "type": "histogram2dcontour"
           }
          ],
          "mesh3d": [
           {
            "colorbar": {
             "outlinewidth": 0,
             "ticks": ""
            },
            "type": "mesh3d"
           }
          ],
          "parcoords": [
           {
            "line": {
             "colorbar": {
              "outlinewidth": 0,
              "ticks": ""
             }
            },
            "type": "parcoords"
           }
          ],
          "pie": [
           {
            "automargin": true,
            "type": "pie"
           }
          ],
          "scatter": [
           {
            "fillpattern": {
             "fillmode": "overlay",
             "size": 10,
             "solidity": 0.2
            },
            "type": "scatter"
           }
          ],
          "scatter3d": [
           {
            "line": {
             "colorbar": {
              "outlinewidth": 0,
              "ticks": ""
             }
            },
            "marker": {
             "colorbar": {
              "outlinewidth": 0,
              "ticks": ""
             }
            },
            "type": "scatter3d"
           }
          ],
          "scattercarpet": [
           {
            "marker": {
             "colorbar": {
              "outlinewidth": 0,
              "ticks": ""
             }
            },
            "type": "scattercarpet"
           }
          ],
          "scattergeo": [
           {
            "marker": {
             "colorbar": {
              "outlinewidth": 0,
              "ticks": ""
             }
            },
            "type": "scattergeo"
           }
          ],
          "scattergl": [
           {
            "marker": {
             "colorbar": {
              "outlinewidth": 0,
              "ticks": ""
             }
            },
            "type": "scattergl"
           }
          ],
          "scattermapbox": [
           {
            "marker": {
             "colorbar": {
              "outlinewidth": 0,
              "ticks": ""
             }
            },
            "type": "scattermapbox"
           }
          ],
          "scatterpolar": [
           {
            "marker": {
             "colorbar": {
              "outlinewidth": 0,
              "ticks": ""
             }
            },
            "type": "scatterpolar"
           }
          ],
          "scatterpolargl": [
           {
            "marker": {
             "colorbar": {
              "outlinewidth": 0,
              "ticks": ""
             }
            },
            "type": "scatterpolargl"
           }
          ],
          "scatterternary": [
           {
            "marker": {
             "colorbar": {
              "outlinewidth": 0,
              "ticks": ""
             }
            },
            "type": "scatterternary"
           }
          ],
          "surface": [
           {
            "colorbar": {
             "outlinewidth": 0,
             "ticks": ""
            },
            "colorscale": [
             [
              0,
              "#0d0887"
             ],
             [
              0.1111111111111111,
              "#46039f"
             ],
             [
              0.2222222222222222,
              "#7201a8"
             ],
             [
              0.3333333333333333,
              "#9c179e"
             ],
             [
              0.4444444444444444,
              "#bd3786"
             ],
             [
              0.5555555555555556,
              "#d8576b"
             ],
             [
              0.6666666666666666,
              "#ed7953"
             ],
             [
              0.7777777777777778,
              "#fb9f3a"
             ],
             [
              0.8888888888888888,
              "#fdca26"
             ],
             [
              1,
              "#f0f921"
             ]
            ],
            "type": "surface"
           }
          ],
          "table": [
           {
            "cells": {
             "fill": {
              "color": "#EBF0F8"
             },
             "line": {
              "color": "white"
             }
            },
            "header": {
             "fill": {
              "color": "#C8D4E3"
             },
             "line": {
              "color": "white"
             }
            },
            "type": "table"
           }
          ]
         },
         "layout": {
          "annotationdefaults": {
           "arrowcolor": "#2a3f5f",
           "arrowhead": 0,
           "arrowwidth": 1
          },
          "autotypenumbers": "strict",
          "coloraxis": {
           "colorbar": {
            "outlinewidth": 0,
            "ticks": ""
           }
          },
          "colorscale": {
           "diverging": [
            [
             0,
             "#8e0152"
            ],
            [
             0.1,
             "#c51b7d"
            ],
            [
             0.2,
             "#de77ae"
            ],
            [
             0.3,
             "#f1b6da"
            ],
            [
             0.4,
             "#fde0ef"
            ],
            [
             0.5,
             "#f7f7f7"
            ],
            [
             0.6,
             "#e6f5d0"
            ],
            [
             0.7,
             "#b8e186"
            ],
            [
             0.8,
             "#7fbc41"
            ],
            [
             0.9,
             "#4d9221"
            ],
            [
             1,
             "#276419"
            ]
           ],
           "sequential": [
            [
             0,
             "#0d0887"
            ],
            [
             0.1111111111111111,
             "#46039f"
            ],
            [
             0.2222222222222222,
             "#7201a8"
            ],
            [
             0.3333333333333333,
             "#9c179e"
            ],
            [
             0.4444444444444444,
             "#bd3786"
            ],
            [
             0.5555555555555556,
             "#d8576b"
            ],
            [
             0.6666666666666666,
             "#ed7953"
            ],
            [
             0.7777777777777778,
             "#fb9f3a"
            ],
            [
             0.8888888888888888,
             "#fdca26"
            ],
            [
             1,
             "#f0f921"
            ]
           ],
           "sequentialminus": [
            [
             0,
             "#0d0887"
            ],
            [
             0.1111111111111111,
             "#46039f"
            ],
            [
             0.2222222222222222,
             "#7201a8"
            ],
            [
             0.3333333333333333,
             "#9c179e"
            ],
            [
             0.4444444444444444,
             "#bd3786"
            ],
            [
             0.5555555555555556,
             "#d8576b"
            ],
            [
             0.6666666666666666,
             "#ed7953"
            ],
            [
             0.7777777777777778,
             "#fb9f3a"
            ],
            [
             0.8888888888888888,
             "#fdca26"
            ],
            [
             1,
             "#f0f921"
            ]
           ]
          },
          "colorway": [
           "#636efa",
           "#EF553B",
           "#00cc96",
           "#ab63fa",
           "#FFA15A",
           "#19d3f3",
           "#FF6692",
           "#B6E880",
           "#FF97FF",
           "#FECB52"
          ],
          "font": {
           "color": "#2a3f5f"
          },
          "geo": {
           "bgcolor": "white",
           "lakecolor": "white",
           "landcolor": "#E5ECF6",
           "showlakes": true,
           "showland": true,
           "subunitcolor": "white"
          },
          "hoverlabel": {
           "align": "left"
          },
          "hovermode": "closest",
          "mapbox": {
           "style": "light"
          },
          "paper_bgcolor": "white",
          "plot_bgcolor": "#E5ECF6",
          "polar": {
           "angularaxis": {
            "gridcolor": "white",
            "linecolor": "white",
            "ticks": ""
           },
           "bgcolor": "#E5ECF6",
           "radialaxis": {
            "gridcolor": "white",
            "linecolor": "white",
            "ticks": ""
           }
          },
          "scene": {
           "xaxis": {
            "backgroundcolor": "#E5ECF6",
            "gridcolor": "white",
            "gridwidth": 2,
            "linecolor": "white",
            "showbackground": true,
            "ticks": "",
            "zerolinecolor": "white"
           },
           "yaxis": {
            "backgroundcolor": "#E5ECF6",
            "gridcolor": "white",
            "gridwidth": 2,
            "linecolor": "white",
            "showbackground": true,
            "ticks": "",
            "zerolinecolor": "white"
           },
           "zaxis": {
            "backgroundcolor": "#E5ECF6",
            "gridcolor": "white",
            "gridwidth": 2,
            "linecolor": "white",
            "showbackground": true,
            "ticks": "",
            "zerolinecolor": "white"
           }
          },
          "shapedefaults": {
           "line": {
            "color": "#2a3f5f"
           }
          },
          "ternary": {
           "aaxis": {
            "gridcolor": "white",
            "linecolor": "white",
            "ticks": ""
           },
           "baxis": {
            "gridcolor": "white",
            "linecolor": "white",
            "ticks": ""
           },
           "bgcolor": "#E5ECF6",
           "caxis": {
            "gridcolor": "white",
            "linecolor": "white",
            "ticks": ""
           }
          },
          "title": {
           "x": 0.05
          },
          "xaxis": {
           "automargin": true,
           "gridcolor": "white",
           "linecolor": "white",
           "ticks": "",
           "title": {
            "standoff": 15
           },
           "zerolinecolor": "white",
           "zerolinewidth": 2
          },
          "yaxis": {
           "automargin": true,
           "gridcolor": "white",
           "linecolor": "white",
           "ticks": "",
           "title": {
            "standoff": 15
           },
           "zerolinecolor": "white",
           "zerolinewidth": 2
          }
         }
        },
        "title": {
         "text": "Inbound CIF by Air and Vessel for Other Speical Classification Provisions in US From India"
        },
        "width": 1400,
        "xaxis": {
         "title": {
          "text": "Year-Month"
         }
        },
        "yaxis": {
         "side": "left",
         "title": {
          "text": "Dollar value (in Billions)"
         }
        },
        "yaxis2": {
         "overlaying": "y",
         "side": "right",
         "title": {
          "text": "MoM Growth"
         }
        }
       }
      }
     },
     "metadata": {},
     "output_type": "display_data"
    },
    {
     "data": {
      "application/vnd.plotly.v1+json": {
       "config": {
        "plotlyServerURL": "https://plot.ly"
       },
       "data": [
        {
         "hoverinfo": "text",
         "insidetextanchor": "end",
         "name": "by Air",
         "text": [
          "Air:0.0B",
          "Air:0.03B",
          "Air:0.01B",
          "Air:0.0B",
          "Air:0.0B",
          "Air:0.0B",
          "Air:0.0B",
          "Air:0.0B",
          "Air:0.0B",
          "Air:0.0B",
          "Air:0.0B",
          "Air:0.01B",
          "Air:0.0B",
          "Air:0.0B",
          "Air:0.0B",
          "Air:0.0B",
          "Air:0.0B",
          "Air:0.0B",
          "Air:0.0B",
          "Air:0.0B",
          "Air:0.0B",
          "Air:0.0B",
          "Air:0.0B",
          "Air:0.01B",
          "Air:0.0B",
          "Air:0.01B",
          "Air:0.01B",
          "Air:0.0B",
          "Air:0.0B",
          "Air:0.0B",
          "Air:0.0B",
          "Air:0.0B",
          "Air:0.01B",
          "Air:0.01B",
          "Air:0.0B"
         ],
         "textfont": {
          "size": 30
         },
         "textposition": "inside",
         "type": "bar",
         "x": [
          "2020-01",
          "2020-02",
          "2020-03",
          "2020-04",
          "2020-05",
          "2020-06",
          "2020-07",
          "2020-08",
          "2020-09",
          "2020-10",
          "2020-11",
          "2020-12",
          "2021-01",
          "2021-02",
          "2021-03",
          "2021-04",
          "2021-05",
          "2021-06",
          "2021-07",
          "2021-08",
          "2021-09",
          "2021-10",
          "2021-11",
          "2021-12",
          "2022-01",
          "2022-02",
          "2022-03",
          "2022-04",
          "2022-05",
          "2022-06",
          "2022-07",
          "2022-08",
          "2022-09",
          "2022-10",
          "2022-11"
         ],
         "y": [
          0.003514556,
          0.032561062,
          0.013386395,
          0.000135439,
          0.000246532,
          0.001085289,
          0.001293541,
          0.004523819,
          0.002749604,
          0.002340587,
          0.001273291,
          0.008876797,
          0.002425425,
          0.003656125,
          0.004471187,
          0.001125287,
          0.00201193,
          0.004223454,
          0.003042761,
          0.002413959,
          0.003981961,
          0.001211549,
          0.001653409,
          0.008776849,
          0.004489914,
          0.006209481,
          0.008147166,
          0.00451521,
          0.00301954,
          0.004107341,
          0.00179053,
          0.001798775,
          0.00705196,
          0.006377458,
          0.002816454
         ],
         "yaxis": "y"
        },
        {
         "hoverinfo": "text",
         "name": "by Vessel",
         "text": [
          "Vessel:0.0B",
          "Vessel:0.0B",
          "Vessel:0.0B",
          "Vessel:0.0B",
          "Vessel:0.0B",
          "Vessel:0.0B",
          "Vessel:0.0B",
          "Vessel:0.0B",
          "Vessel:0.0B",
          "Vessel:0.0B",
          "Vessel:0.0B",
          "Vessel:0.0B",
          "Vessel:0.0B",
          "Vessel:0.0B",
          "Vessel:0.0B",
          "Vessel:0.0B",
          "Vessel:0.0B",
          "Vessel:0.0B",
          "Vessel:0.0B",
          "Vessel:0.0B",
          "Vessel:0.0B",
          "Vessel:0.0B",
          "Vessel:0.0B",
          "Vessel:0.0B",
          "Vessel:0.0B",
          "Vessel:0.0B",
          "Vessel:0.0B",
          "Vessel:0.0B",
          "Vessel:0.0B",
          "Vessel:0.0B",
          "Vessel:0.0B",
          "Vessel:0.0B",
          "Vessel:0.0B",
          "Vessel:0.0B",
          "Vessel:0.0B"
         ],
         "textfont": {
          "color": "white",
          "family": "sans serif",
          "size": 30
         },
         "textposition": "inside",
         "type": "bar",
         "x": [
          "2020-01",
          "2020-02",
          "2020-03",
          "2020-04",
          "2020-05",
          "2020-06",
          "2020-07",
          "2020-08",
          "2020-09",
          "2020-10",
          "2020-11",
          "2020-12",
          "2021-01",
          "2021-02",
          "2021-03",
          "2021-04",
          "2021-05",
          "2021-06",
          "2021-07",
          "2021-08",
          "2021-09",
          "2021-10",
          "2021-11",
          "2021-12",
          "2022-01",
          "2022-02",
          "2022-03",
          "2022-04",
          "2022-05",
          "2022-06",
          "2022-07",
          "2022-08",
          "2022-09",
          "2022-10",
          "2022-11"
         ],
         "y": [
          0.000381821,
          0.000450646,
          0.000153084,
          0.000178074,
          0.000204714,
          0.000021322,
          0.00010255,
          0.000320008,
          0.000125476,
          0.000363692,
          0.0002728,
          0.000360504,
          0.000367603,
          0.000310974,
          0.000293329,
          0.000128133,
          0.000232854,
          0.000188834,
          0.000252732,
          0.000282598,
          0.000574046,
          0.000295545,
          0.000329901,
          0.00065338,
          0.0009496,
          0.000226064,
          0.000972418,
          0.000568604,
          0.000381901,
          0.000194285,
          0.000133601,
          0.000284594,
          0.000233982,
          0.000533716,
          0.000145956
         ],
         "yaxis": "y"
        },
        {
         "hoverinfo": "text",
         "hovertemplate": "%{y:.2f}%%{_xother}",
         "name": "MoM Growth",
         "text": "{y2:.2f}%",
         "textfont": {
          "size": 30
         },
         "type": "scatter",
         "x": [
          "2020-01",
          "2020-02",
          "2020-03",
          "2020-04",
          "2020-05",
          "2020-06",
          "2020-07",
          "2020-08",
          "2020-09",
          "2020-10",
          "2020-11",
          "2020-12",
          "2021-01",
          "2021-02",
          "2021-03",
          "2021-04",
          "2021-05",
          "2021-06",
          "2021-07",
          "2021-08",
          "2021-09",
          "2021-10",
          "2021-11",
          "2021-12",
          "2022-01",
          "2022-02",
          "2022-03",
          "2022-04",
          "2022-05",
          "2022-06",
          "2022-07",
          "2022-08",
          "2022-09",
          "2022-10",
          "2022-11"
         ],
         "xperiodalignment": "middle",
         "y": [
          null,
          747.2411165551998,
          -58.9858270889831,
          -97.6844529985238,
          43.932149544038055,
          145.23452839471153,
          26.159147161920494,
          246.95639467627828,
          -40.64445323914335,
          -5.940739040304965,
          -42.82797743871841,
          497.4616629939635,
          -69.76359220079544,
          42.035776225659035,
          20.100758766040382,
          -73.69260592261627,
          79.09272231175504,
          96.55735251142204,
          -25.31101777581155,
          -18.174397578753776,
          68.95645076295438,
          -66.92072685577524,
          31.598294466038613,
          375.47932496684837,
          -42.318325461661644,
          18.31102925739321,
          41.706475519944306,
          -44.253882633242924,
          -33.09273313303752,
          26.46481300131327,
          -55.26968174360114,
          8.275839846663246,
          249.71922880680282,
          -5.14371374353515,
          -57.13593667298783
         ],
         "yaxis": "y2"
        }
       ],
       "layout": {
        "autosize": false,
        "barmode": "group",
        "height": 500,
        "hovermode": "x unified",
        "legend": {
         "orientation": "h",
         "x": 1,
         "xanchor": "right",
         "y": 1.02,
         "yanchor": "bottom"
        },
        "margin": {
         "b": 100,
         "l": 50,
         "pad": 4,
         "r": 50,
         "t": 50
        },
        "template": {
         "data": {
          "bar": [
           {
            "error_x": {
             "color": "#2a3f5f"
            },
            "error_y": {
             "color": "#2a3f5f"
            },
            "marker": {
             "line": {
              "color": "#E5ECF6",
              "width": 0.5
             },
             "pattern": {
              "fillmode": "overlay",
              "size": 10,
              "solidity": 0.2
             }
            },
            "type": "bar"
           }
          ],
          "barpolar": [
           {
            "marker": {
             "line": {
              "color": "#E5ECF6",
              "width": 0.5
             },
             "pattern": {
              "fillmode": "overlay",
              "size": 10,
              "solidity": 0.2
             }
            },
            "type": "barpolar"
           }
          ],
          "carpet": [
           {
            "aaxis": {
             "endlinecolor": "#2a3f5f",
             "gridcolor": "white",
             "linecolor": "white",
             "minorgridcolor": "white",
             "startlinecolor": "#2a3f5f"
            },
            "baxis": {
             "endlinecolor": "#2a3f5f",
             "gridcolor": "white",
             "linecolor": "white",
             "minorgridcolor": "white",
             "startlinecolor": "#2a3f5f"
            },
            "type": "carpet"
           }
          ],
          "choropleth": [
           {
            "colorbar": {
             "outlinewidth": 0,
             "ticks": ""
            },
            "type": "choropleth"
           }
          ],
          "contour": [
           {
            "colorbar": {
             "outlinewidth": 0,
             "ticks": ""
            },
            "colorscale": [
             [
              0,
              "#0d0887"
             ],
             [
              0.1111111111111111,
              "#46039f"
             ],
             [
              0.2222222222222222,
              "#7201a8"
             ],
             [
              0.3333333333333333,
              "#9c179e"
             ],
             [
              0.4444444444444444,
              "#bd3786"
             ],
             [
              0.5555555555555556,
              "#d8576b"
             ],
             [
              0.6666666666666666,
              "#ed7953"
             ],
             [
              0.7777777777777778,
              "#fb9f3a"
             ],
             [
              0.8888888888888888,
              "#fdca26"
             ],
             [
              1,
              "#f0f921"
             ]
            ],
            "type": "contour"
           }
          ],
          "contourcarpet": [
           {
            "colorbar": {
             "outlinewidth": 0,
             "ticks": ""
            },
            "type": "contourcarpet"
           }
          ],
          "heatmap": [
           {
            "colorbar": {
             "outlinewidth": 0,
             "ticks": ""
            },
            "colorscale": [
             [
              0,
              "#0d0887"
             ],
             [
              0.1111111111111111,
              "#46039f"
             ],
             [
              0.2222222222222222,
              "#7201a8"
             ],
             [
              0.3333333333333333,
              "#9c179e"
             ],
             [
              0.4444444444444444,
              "#bd3786"
             ],
             [
              0.5555555555555556,
              "#d8576b"
             ],
             [
              0.6666666666666666,
              "#ed7953"
             ],
             [
              0.7777777777777778,
              "#fb9f3a"
             ],
             [
              0.8888888888888888,
              "#fdca26"
             ],
             [
              1,
              "#f0f921"
             ]
            ],
            "type": "heatmap"
           }
          ],
          "heatmapgl": [
           {
            "colorbar": {
             "outlinewidth": 0,
             "ticks": ""
            },
            "colorscale": [
             [
              0,
              "#0d0887"
             ],
             [
              0.1111111111111111,
              "#46039f"
             ],
             [
              0.2222222222222222,
              "#7201a8"
             ],
             [
              0.3333333333333333,
              "#9c179e"
             ],
             [
              0.4444444444444444,
              "#bd3786"
             ],
             [
              0.5555555555555556,
              "#d8576b"
             ],
             [
              0.6666666666666666,
              "#ed7953"
             ],
             [
              0.7777777777777778,
              "#fb9f3a"
             ],
             [
              0.8888888888888888,
              "#fdca26"
             ],
             [
              1,
              "#f0f921"
             ]
            ],
            "type": "heatmapgl"
           }
          ],
          "histogram": [
           {
            "marker": {
             "pattern": {
              "fillmode": "overlay",
              "size": 10,
              "solidity": 0.2
             }
            },
            "type": "histogram"
           }
          ],
          "histogram2d": [
           {
            "colorbar": {
             "outlinewidth": 0,
             "ticks": ""
            },
            "colorscale": [
             [
              0,
              "#0d0887"
             ],
             [
              0.1111111111111111,
              "#46039f"
             ],
             [
              0.2222222222222222,
              "#7201a8"
             ],
             [
              0.3333333333333333,
              "#9c179e"
             ],
             [
              0.4444444444444444,
              "#bd3786"
             ],
             [
              0.5555555555555556,
              "#d8576b"
             ],
             [
              0.6666666666666666,
              "#ed7953"
             ],
             [
              0.7777777777777778,
              "#fb9f3a"
             ],
             [
              0.8888888888888888,
              "#fdca26"
             ],
             [
              1,
              "#f0f921"
             ]
            ],
            "type": "histogram2d"
           }
          ],
          "histogram2dcontour": [
           {
            "colorbar": {
             "outlinewidth": 0,
             "ticks": ""
            },
            "colorscale": [
             [
              0,
              "#0d0887"
             ],
             [
              0.1111111111111111,
              "#46039f"
             ],
             [
              0.2222222222222222,
              "#7201a8"
             ],
             [
              0.3333333333333333,
              "#9c179e"
             ],
             [
              0.4444444444444444,
              "#bd3786"
             ],
             [
              0.5555555555555556,
              "#d8576b"
             ],
             [
              0.6666666666666666,
              "#ed7953"
             ],
             [
              0.7777777777777778,
              "#fb9f3a"
             ],
             [
              0.8888888888888888,
              "#fdca26"
             ],
             [
              1,
              "#f0f921"
             ]
            ],
            "type": "histogram2dcontour"
           }
          ],
          "mesh3d": [
           {
            "colorbar": {
             "outlinewidth": 0,
             "ticks": ""
            },
            "type": "mesh3d"
           }
          ],
          "parcoords": [
           {
            "line": {
             "colorbar": {
              "outlinewidth": 0,
              "ticks": ""
             }
            },
            "type": "parcoords"
           }
          ],
          "pie": [
           {
            "automargin": true,
            "type": "pie"
           }
          ],
          "scatter": [
           {
            "fillpattern": {
             "fillmode": "overlay",
             "size": 10,
             "solidity": 0.2
            },
            "type": "scatter"
           }
          ],
          "scatter3d": [
           {
            "line": {
             "colorbar": {
              "outlinewidth": 0,
              "ticks": ""
             }
            },
            "marker": {
             "colorbar": {
              "outlinewidth": 0,
              "ticks": ""
             }
            },
            "type": "scatter3d"
           }
          ],
          "scattercarpet": [
           {
            "marker": {
             "colorbar": {
              "outlinewidth": 0,
              "ticks": ""
             }
            },
            "type": "scattercarpet"
           }
          ],
          "scattergeo": [
           {
            "marker": {
             "colorbar": {
              "outlinewidth": 0,
              "ticks": ""
             }
            },
            "type": "scattergeo"
           }
          ],
          "scattergl": [
           {
            "marker": {
             "colorbar": {
              "outlinewidth": 0,
              "ticks": ""
             }
            },
            "type": "scattergl"
           }
          ],
          "scattermapbox": [
           {
            "marker": {
             "colorbar": {
              "outlinewidth": 0,
              "ticks": ""
             }
            },
            "type": "scattermapbox"
           }
          ],
          "scatterpolar": [
           {
            "marker": {
             "colorbar": {
              "outlinewidth": 0,
              "ticks": ""
             }
            },
            "type": "scatterpolar"
           }
          ],
          "scatterpolargl": [
           {
            "marker": {
             "colorbar": {
              "outlinewidth": 0,
              "ticks": ""
             }
            },
            "type": "scatterpolargl"
           }
          ],
          "scatterternary": [
           {
            "marker": {
             "colorbar": {
              "outlinewidth": 0,
              "ticks": ""
             }
            },
            "type": "scatterternary"
           }
          ],
          "surface": [
           {
            "colorbar": {
             "outlinewidth": 0,
             "ticks": ""
            },
            "colorscale": [
             [
              0,
              "#0d0887"
             ],
             [
              0.1111111111111111,
              "#46039f"
             ],
             [
              0.2222222222222222,
              "#7201a8"
             ],
             [
              0.3333333333333333,
              "#9c179e"
             ],
             [
              0.4444444444444444,
              "#bd3786"
             ],
             [
              0.5555555555555556,
              "#d8576b"
             ],
             [
              0.6666666666666666,
              "#ed7953"
             ],
             [
              0.7777777777777778,
              "#fb9f3a"
             ],
             [
              0.8888888888888888,
              "#fdca26"
             ],
             [
              1,
              "#f0f921"
             ]
            ],
            "type": "surface"
           }
          ],
          "table": [
           {
            "cells": {
             "fill": {
              "color": "#EBF0F8"
             },
             "line": {
              "color": "white"
             }
            },
            "header": {
             "fill": {
              "color": "#C8D4E3"
             },
             "line": {
              "color": "white"
             }
            },
            "type": "table"
           }
          ]
         },
         "layout": {
          "annotationdefaults": {
           "arrowcolor": "#2a3f5f",
           "arrowhead": 0,
           "arrowwidth": 1
          },
          "autotypenumbers": "strict",
          "coloraxis": {
           "colorbar": {
            "outlinewidth": 0,
            "ticks": ""
           }
          },
          "colorscale": {
           "diverging": [
            [
             0,
             "#8e0152"
            ],
            [
             0.1,
             "#c51b7d"
            ],
            [
             0.2,
             "#de77ae"
            ],
            [
             0.3,
             "#f1b6da"
            ],
            [
             0.4,
             "#fde0ef"
            ],
            [
             0.5,
             "#f7f7f7"
            ],
            [
             0.6,
             "#e6f5d0"
            ],
            [
             0.7,
             "#b8e186"
            ],
            [
             0.8,
             "#7fbc41"
            ],
            [
             0.9,
             "#4d9221"
            ],
            [
             1,
             "#276419"
            ]
           ],
           "sequential": [
            [
             0,
             "#0d0887"
            ],
            [
             0.1111111111111111,
             "#46039f"
            ],
            [
             0.2222222222222222,
             "#7201a8"
            ],
            [
             0.3333333333333333,
             "#9c179e"
            ],
            [
             0.4444444444444444,
             "#bd3786"
            ],
            [
             0.5555555555555556,
             "#d8576b"
            ],
            [
             0.6666666666666666,
             "#ed7953"
            ],
            [
             0.7777777777777778,
             "#fb9f3a"
            ],
            [
             0.8888888888888888,
             "#fdca26"
            ],
            [
             1,
             "#f0f921"
            ]
           ],
           "sequentialminus": [
            [
             0,
             "#0d0887"
            ],
            [
             0.1111111111111111,
             "#46039f"
            ],
            [
             0.2222222222222222,
             "#7201a8"
            ],
            [
             0.3333333333333333,
             "#9c179e"
            ],
            [
             0.4444444444444444,
             "#bd3786"
            ],
            [
             0.5555555555555556,
             "#d8576b"
            ],
            [
             0.6666666666666666,
             "#ed7953"
            ],
            [
             0.7777777777777778,
             "#fb9f3a"
            ],
            [
             0.8888888888888888,
             "#fdca26"
            ],
            [
             1,
             "#f0f921"
            ]
           ]
          },
          "colorway": [
           "#636efa",
           "#EF553B",
           "#00cc96",
           "#ab63fa",
           "#FFA15A",
           "#19d3f3",
           "#FF6692",
           "#B6E880",
           "#FF97FF",
           "#FECB52"
          ],
          "font": {
           "color": "#2a3f5f"
          },
          "geo": {
           "bgcolor": "white",
           "lakecolor": "white",
           "landcolor": "#E5ECF6",
           "showlakes": true,
           "showland": true,
           "subunitcolor": "white"
          },
          "hoverlabel": {
           "align": "left"
          },
          "hovermode": "closest",
          "mapbox": {
           "style": "light"
          },
          "paper_bgcolor": "white",
          "plot_bgcolor": "#E5ECF6",
          "polar": {
           "angularaxis": {
            "gridcolor": "white",
            "linecolor": "white",
            "ticks": ""
           },
           "bgcolor": "#E5ECF6",
           "radialaxis": {
            "gridcolor": "white",
            "linecolor": "white",
            "ticks": ""
           }
          },
          "scene": {
           "xaxis": {
            "backgroundcolor": "#E5ECF6",
            "gridcolor": "white",
            "gridwidth": 2,
            "linecolor": "white",
            "showbackground": true,
            "ticks": "",
            "zerolinecolor": "white"
           },
           "yaxis": {
            "backgroundcolor": "#E5ECF6",
            "gridcolor": "white",
            "gridwidth": 2,
            "linecolor": "white",
            "showbackground": true,
            "ticks": "",
            "zerolinecolor": "white"
           },
           "zaxis": {
            "backgroundcolor": "#E5ECF6",
            "gridcolor": "white",
            "gridwidth": 2,
            "linecolor": "white",
            "showbackground": true,
            "ticks": "",
            "zerolinecolor": "white"
           }
          },
          "shapedefaults": {
           "line": {
            "color": "#2a3f5f"
           }
          },
          "ternary": {
           "aaxis": {
            "gridcolor": "white",
            "linecolor": "white",
            "ticks": ""
           },
           "baxis": {
            "gridcolor": "white",
            "linecolor": "white",
            "ticks": ""
           },
           "bgcolor": "#E5ECF6",
           "caxis": {
            "gridcolor": "white",
            "linecolor": "white",
            "ticks": ""
           }
          },
          "title": {
           "x": 0.05
          },
          "xaxis": {
           "automargin": true,
           "gridcolor": "white",
           "linecolor": "white",
           "ticks": "",
           "title": {
            "standoff": 15
           },
           "zerolinecolor": "white",
           "zerolinewidth": 2
          },
          "yaxis": {
           "automargin": true,
           "gridcolor": "white",
           "linecolor": "white",
           "ticks": "",
           "title": {
            "standoff": 15
           },
           "zerolinecolor": "white",
           "zerolinewidth": 2
          }
         }
        },
        "title": {
         "text": "Inbound CIF by Air and Vessel for Used or Second-Hand Merchandise in US From India"
        },
        "width": 1400,
        "xaxis": {
         "title": {
          "text": "Year-Month"
         }
        },
        "yaxis": {
         "side": "left",
         "title": {
          "text": "Dollar value (in Billions)"
         }
        },
        "yaxis2": {
         "overlaying": "y",
         "side": "right",
         "title": {
          "text": "MoM Growth"
         }
        }
       }
      }
     },
     "metadata": {},
     "output_type": "display_data"
    },
    {
     "data": {
      "application/vnd.plotly.v1+json": {
       "config": {
        "plotlyServerURL": "https://plot.ly"
       },
       "data": [
        {
         "hoverinfo": "text",
         "insidetextanchor": "end",
         "name": "by Air",
         "text": [
          "Air:0.0B",
          "Air:0.0B",
          "Air:0.0B",
          "Air:0.0B",
          "Air:0.0B",
          "Air:0.0B",
          "Air:0.0B",
          "Air:0.0B",
          "Air:0.0B",
          "Air:0.0B",
          "Air:0.0B",
          "Air:0.0B",
          "Air:0.0B",
          "Air:0.0B",
          "Air:0.0B",
          "Air:0.0B",
          "Air:0.0B",
          "Air:0.0B",
          "Air:0.0B",
          "Air:0.0B",
          "Air:0.0B",
          "Air:0.0B",
          "Air:0.0B",
          "Air:0.0B",
          "Air:0.0B",
          "Air:0.0B",
          "Air:0.0B",
          "Air:0.0B",
          "Air:0.0B",
          "Air:0.0B",
          "Air:0.0B",
          "Air:0.0B",
          "Air:0.0B",
          "Air:0.0B",
          "Air:0.0B"
         ],
         "textfont": {
          "size": 30
         },
         "textposition": "inside",
         "type": "bar",
         "x": [
          "2020-01",
          "2020-02",
          "2020-03",
          "2020-04",
          "2020-05",
          "2020-06",
          "2020-07",
          "2020-08",
          "2020-09",
          "2020-10",
          "2020-11",
          "2020-12",
          "2021-01",
          "2021-02",
          "2021-03",
          "2021-04",
          "2021-05",
          "2021-06",
          "2021-07",
          "2021-08",
          "2021-09",
          "2021-10",
          "2021-11",
          "2021-12",
          "2022-01",
          "2022-02",
          "2022-03",
          "2022-04",
          "2022-05",
          "2022-06",
          "2022-07",
          "2022-08",
          "2022-09",
          "2022-10",
          "2022-11"
         ],
         "y": [
          0.0000557,
          0.000033126,
          0.000034956,
          0.00000361,
          0.000030351,
          0.000016552,
          0.000050259,
          0.000005699,
          0.000024769,
          0.000032838,
          0.000008,
          0.000022771,
          0.000035635,
          0.000009517,
          0.000007188,
          0.000035898,
          0.0000116,
          0.000003233,
          0.000010577,
          0.000047272,
          0.000020723,
          0.000024365,
          0.000029106,
          0.00001,
          0.000016792,
          0.000036026,
          0.000021147,
          0.000050061,
          0.000010633,
          0.000028393,
          0.000063934,
          0.000014068,
          0.000068611,
          0.000019115,
          0.000004
         ],
         "yaxis": "y"
        },
        {
         "hoverinfo": "text",
         "name": "by Vessel",
         "text": [
          "Vessel:0.01B",
          "Vessel:0.0B",
          "Vessel:0.01B",
          "Vessel:0.01B",
          "Vessel:0.0B",
          "Vessel:0.01B",
          "Vessel:0.0B",
          "Vessel:0.0B",
          "Vessel:0.01B",
          "Vessel:0.01B",
          "Vessel:0.0B",
          "Vessel:0.0B",
          "Vessel:0.0B",
          "Vessel:0.0B",
          "Vessel:0.0B",
          "Vessel:0.0B",
          "Vessel:0.0B",
          "Vessel:0.0B",
          "Vessel:0.01B",
          "Vessel:0.01B",
          "Vessel:0.0B",
          "Vessel:0.01B",
          "Vessel:0.01B",
          "Vessel:0.01B",
          "Vessel:0.01B",
          "Vessel:0.0B",
          "Vessel:0.01B",
          "Vessel:0.01B",
          "Vessel:0.01B",
          "Vessel:0.01B",
          "Vessel:0.01B",
          "Vessel:0.01B",
          "Vessel:0.01B",
          "Vessel:0.01B",
          "Vessel:0.0B"
         ],
         "textfont": {
          "color": "white",
          "family": "sans serif",
          "size": 30
         },
         "textposition": "inside",
         "type": "bar",
         "x": [
          "2020-01",
          "2020-02",
          "2020-03",
          "2020-04",
          "2020-05",
          "2020-06",
          "2020-07",
          "2020-08",
          "2020-09",
          "2020-10",
          "2020-11",
          "2020-12",
          "2021-01",
          "2021-02",
          "2021-03",
          "2021-04",
          "2021-05",
          "2021-06",
          "2021-07",
          "2021-08",
          "2021-09",
          "2021-10",
          "2021-11",
          "2021-12",
          "2022-01",
          "2022-02",
          "2022-03",
          "2022-04",
          "2022-05",
          "2022-06",
          "2022-07",
          "2022-08",
          "2022-09",
          "2022-10",
          "2022-11"
         ],
         "y": [
          0.006639986,
          0.001914804,
          0.012857792,
          0.006594265,
          0.001849456,
          0.005577088,
          0.001697438,
          0.001587574,
          0.006648142,
          0.005816145,
          0.002089939,
          0.001473807,
          0.003354261,
          0.00143453,
          0.001670965,
          0.003659231,
          0.003404728,
          0.002453836,
          0.007080331,
          0.007219061,
          0.004033962,
          0.006577861,
          0.007365951,
          0.008554444,
          0.010812123,
          0.002955391,
          0.010499183,
          0.006963088,
          0.007854534,
          0.006659392,
          0.011215762,
          0.00760094,
          0.011654547,
          0.007228346,
          0.003945259
         ],
         "yaxis": "y"
        },
        {
         "hoverinfo": "text",
         "hovertemplate": "%{y:.2f}%%{_xother}",
         "name": "MoM Growth",
         "text": "{y2:.2f}%",
         "textfont": {
          "size": 30
         },
         "type": "scatter",
         "x": [
          "2020-01",
          "2020-02",
          "2020-03",
          "2020-04",
          "2020-05",
          "2020-06",
          "2020-07",
          "2020-08",
          "2020-09",
          "2020-10",
          "2020-11",
          "2020-12",
          "2021-01",
          "2021-02",
          "2021-03",
          "2021-04",
          "2021-05",
          "2021-06",
          "2021-07",
          "2021-08",
          "2021-09",
          "2021-10",
          "2021-11",
          "2021-12",
          "2022-01",
          "2022-02",
          "2022-03",
          "2022-04",
          "2022-05",
          "2022-06",
          "2022-07",
          "2022-08",
          "2022-09",
          "2022-10",
          "2022-11"
         ],
         "xperiodalignment": "middle",
         "y": [
          null,
          -70.90768593389834,
          561.8691636763127,
          -48.82491304413923,
          -71.50890248754334,
          197.56459040741947,
          -68.75564033437975,
          -8.83585655865977,
          318.8178046072456,
          -12.347354850079672,
          -64.13155928133148,
          -28.6643701270628,
          126.50981104893964,
          -57.40143650424674,
          16.211799200441533,
          120.19023295253768,
          -7.545095178003258,
          -28.078656381939904,
          188.5921396590816,
          2.47394268829888,
          -44.199020331162906,
          62.82956629183278,
          12.008540755799624,
          15.813089743594944,
          26.440373712525876,
          -72.37565351653421,
          251.68383411607275,
          -33.337176685522216,
          12.148864939273363,
          -14.969574072616643,
          68.66116359900924,
          -32.489244390983586,
          53.94807201778382,
          -38.17825367533219,
          -45.508378727391566
         ],
         "yaxis": "y2"
        }
       ],
       "layout": {
        "autosize": false,
        "barmode": "group",
        "height": 500,
        "hovermode": "x unified",
        "legend": {
         "orientation": "h",
         "x": 1,
         "xanchor": "right",
         "y": 1.02,
         "yanchor": "bottom"
        },
        "margin": {
         "b": 100,
         "l": 50,
         "pad": 4,
         "r": 50,
         "t": 50
        },
        "template": {
         "data": {
          "bar": [
           {
            "error_x": {
             "color": "#2a3f5f"
            },
            "error_y": {
             "color": "#2a3f5f"
            },
            "marker": {
             "line": {
              "color": "#E5ECF6",
              "width": 0.5
             },
             "pattern": {
              "fillmode": "overlay",
              "size": 10,
              "solidity": 0.2
             }
            },
            "type": "bar"
           }
          ],
          "barpolar": [
           {
            "marker": {
             "line": {
              "color": "#E5ECF6",
              "width": 0.5
             },
             "pattern": {
              "fillmode": "overlay",
              "size": 10,
              "solidity": 0.2
             }
            },
            "type": "barpolar"
           }
          ],
          "carpet": [
           {
            "aaxis": {
             "endlinecolor": "#2a3f5f",
             "gridcolor": "white",
             "linecolor": "white",
             "minorgridcolor": "white",
             "startlinecolor": "#2a3f5f"
            },
            "baxis": {
             "endlinecolor": "#2a3f5f",
             "gridcolor": "white",
             "linecolor": "white",
             "minorgridcolor": "white",
             "startlinecolor": "#2a3f5f"
            },
            "type": "carpet"
           }
          ],
          "choropleth": [
           {
            "colorbar": {
             "outlinewidth": 0,
             "ticks": ""
            },
            "type": "choropleth"
           }
          ],
          "contour": [
           {
            "colorbar": {
             "outlinewidth": 0,
             "ticks": ""
            },
            "colorscale": [
             [
              0,
              "#0d0887"
             ],
             [
              0.1111111111111111,
              "#46039f"
             ],
             [
              0.2222222222222222,
              "#7201a8"
             ],
             [
              0.3333333333333333,
              "#9c179e"
             ],
             [
              0.4444444444444444,
              "#bd3786"
             ],
             [
              0.5555555555555556,
              "#d8576b"
             ],
             [
              0.6666666666666666,
              "#ed7953"
             ],
             [
              0.7777777777777778,
              "#fb9f3a"
             ],
             [
              0.8888888888888888,
              "#fdca26"
             ],
             [
              1,
              "#f0f921"
             ]
            ],
            "type": "contour"
           }
          ],
          "contourcarpet": [
           {
            "colorbar": {
             "outlinewidth": 0,
             "ticks": ""
            },
            "type": "contourcarpet"
           }
          ],
          "heatmap": [
           {
            "colorbar": {
             "outlinewidth": 0,
             "ticks": ""
            },
            "colorscale": [
             [
              0,
              "#0d0887"
             ],
             [
              0.1111111111111111,
              "#46039f"
             ],
             [
              0.2222222222222222,
              "#7201a8"
             ],
             [
              0.3333333333333333,
              "#9c179e"
             ],
             [
              0.4444444444444444,
              "#bd3786"
             ],
             [
              0.5555555555555556,
              "#d8576b"
             ],
             [
              0.6666666666666666,
              "#ed7953"
             ],
             [
              0.7777777777777778,
              "#fb9f3a"
             ],
             [
              0.8888888888888888,
              "#fdca26"
             ],
             [
              1,
              "#f0f921"
             ]
            ],
            "type": "heatmap"
           }
          ],
          "heatmapgl": [
           {
            "colorbar": {
             "outlinewidth": 0,
             "ticks": ""
            },
            "colorscale": [
             [
              0,
              "#0d0887"
             ],
             [
              0.1111111111111111,
              "#46039f"
             ],
             [
              0.2222222222222222,
              "#7201a8"
             ],
             [
              0.3333333333333333,
              "#9c179e"
             ],
             [
              0.4444444444444444,
              "#bd3786"
             ],
             [
              0.5555555555555556,
              "#d8576b"
             ],
             [
              0.6666666666666666,
              "#ed7953"
             ],
             [
              0.7777777777777778,
              "#fb9f3a"
             ],
             [
              0.8888888888888888,
              "#fdca26"
             ],
             [
              1,
              "#f0f921"
             ]
            ],
            "type": "heatmapgl"
           }
          ],
          "histogram": [
           {
            "marker": {
             "pattern": {
              "fillmode": "overlay",
              "size": 10,
              "solidity": 0.2
             }
            },
            "type": "histogram"
           }
          ],
          "histogram2d": [
           {
            "colorbar": {
             "outlinewidth": 0,
             "ticks": ""
            },
            "colorscale": [
             [
              0,
              "#0d0887"
             ],
             [
              0.1111111111111111,
              "#46039f"
             ],
             [
              0.2222222222222222,
              "#7201a8"
             ],
             [
              0.3333333333333333,
              "#9c179e"
             ],
             [
              0.4444444444444444,
              "#bd3786"
             ],
             [
              0.5555555555555556,
              "#d8576b"
             ],
             [
              0.6666666666666666,
              "#ed7953"
             ],
             [
              0.7777777777777778,
              "#fb9f3a"
             ],
             [
              0.8888888888888888,
              "#fdca26"
             ],
             [
              1,
              "#f0f921"
             ]
            ],
            "type": "histogram2d"
           }
          ],
          "histogram2dcontour": [
           {
            "colorbar": {
             "outlinewidth": 0,
             "ticks": ""
            },
            "colorscale": [
             [
              0,
              "#0d0887"
             ],
             [
              0.1111111111111111,
              "#46039f"
             ],
             [
              0.2222222222222222,
              "#7201a8"
             ],
             [
              0.3333333333333333,
              "#9c179e"
             ],
             [
              0.4444444444444444,
              "#bd3786"
             ],
             [
              0.5555555555555556,
              "#d8576b"
             ],
             [
              0.6666666666666666,
              "#ed7953"
             ],
             [
              0.7777777777777778,
              "#fb9f3a"
             ],
             [
              0.8888888888888888,
              "#fdca26"
             ],
             [
              1,
              "#f0f921"
             ]
            ],
            "type": "histogram2dcontour"
           }
          ],
          "mesh3d": [
           {
            "colorbar": {
             "outlinewidth": 0,
             "ticks": ""
            },
            "type": "mesh3d"
           }
          ],
          "parcoords": [
           {
            "line": {
             "colorbar": {
              "outlinewidth": 0,
              "ticks": ""
             }
            },
            "type": "parcoords"
           }
          ],
          "pie": [
           {
            "automargin": true,
            "type": "pie"
           }
          ],
          "scatter": [
           {
            "fillpattern": {
             "fillmode": "overlay",
             "size": 10,
             "solidity": 0.2
            },
            "type": "scatter"
           }
          ],
          "scatter3d": [
           {
            "line": {
             "colorbar": {
              "outlinewidth": 0,
              "ticks": ""
             }
            },
            "marker": {
             "colorbar": {
              "outlinewidth": 0,
              "ticks": ""
             }
            },
            "type": "scatter3d"
           }
          ],
          "scattercarpet": [
           {
            "marker": {
             "colorbar": {
              "outlinewidth": 0,
              "ticks": ""
             }
            },
            "type": "scattercarpet"
           }
          ],
          "scattergeo": [
           {
            "marker": {
             "colorbar": {
              "outlinewidth": 0,
              "ticks": ""
             }
            },
            "type": "scattergeo"
           }
          ],
          "scattergl": [
           {
            "marker": {
             "colorbar": {
              "outlinewidth": 0,
              "ticks": ""
             }
            },
            "type": "scattergl"
           }
          ],
          "scattermapbox": [
           {
            "marker": {
             "colorbar": {
              "outlinewidth": 0,
              "ticks": ""
             }
            },
            "type": "scattermapbox"
           }
          ],
          "scatterpolar": [
           {
            "marker": {
             "colorbar": {
              "outlinewidth": 0,
              "ticks": ""
             }
            },
            "type": "scatterpolar"
           }
          ],
          "scatterpolargl": [
           {
            "marker": {
             "colorbar": {
              "outlinewidth": 0,
              "ticks": ""
             }
            },
            "type": "scatterpolargl"
           }
          ],
          "scatterternary": [
           {
            "marker": {
             "colorbar": {
              "outlinewidth": 0,
              "ticks": ""
             }
            },
            "type": "scatterternary"
           }
          ],
          "surface": [
           {
            "colorbar": {
             "outlinewidth": 0,
             "ticks": ""
            },
            "colorscale": [
             [
              0,
              "#0d0887"
             ],
             [
              0.1111111111111111,
              "#46039f"
             ],
             [
              0.2222222222222222,
              "#7201a8"
             ],
             [
              0.3333333333333333,
              "#9c179e"
             ],
             [
              0.4444444444444444,
              "#bd3786"
             ],
             [
              0.5555555555555556,
              "#d8576b"
             ],
             [
              0.6666666666666666,
              "#ed7953"
             ],
             [
              0.7777777777777778,
              "#fb9f3a"
             ],
             [
              0.8888888888888888,
              "#fdca26"
             ],
             [
              1,
              "#f0f921"
             ]
            ],
            "type": "surface"
           }
          ],
          "table": [
           {
            "cells": {
             "fill": {
              "color": "#EBF0F8"
             },
             "line": {
              "color": "white"
             }
            },
            "header": {
             "fill": {
              "color": "#C8D4E3"
             },
             "line": {
              "color": "white"
             }
            },
            "type": "table"
           }
          ]
         },
         "layout": {
          "annotationdefaults": {
           "arrowcolor": "#2a3f5f",
           "arrowhead": 0,
           "arrowwidth": 1
          },
          "autotypenumbers": "strict",
          "coloraxis": {
           "colorbar": {
            "outlinewidth": 0,
            "ticks": ""
           }
          },
          "colorscale": {
           "diverging": [
            [
             0,
             "#8e0152"
            ],
            [
             0.1,
             "#c51b7d"
            ],
            [
             0.2,
             "#de77ae"
            ],
            [
             0.3,
             "#f1b6da"
            ],
            [
             0.4,
             "#fde0ef"
            ],
            [
             0.5,
             "#f7f7f7"
            ],
            [
             0.6,
             "#e6f5d0"
            ],
            [
             0.7,
             "#b8e186"
            ],
            [
             0.8,
             "#7fbc41"
            ],
            [
             0.9,
             "#4d9221"
            ],
            [
             1,
             "#276419"
            ]
           ],
           "sequential": [
            [
             0,
             "#0d0887"
            ],
            [
             0.1111111111111111,
             "#46039f"
            ],
            [
             0.2222222222222222,
             "#7201a8"
            ],
            [
             0.3333333333333333,
             "#9c179e"
            ],
            [
             0.4444444444444444,
             "#bd3786"
            ],
            [
             0.5555555555555556,
             "#d8576b"
            ],
            [
             0.6666666666666666,
             "#ed7953"
            ],
            [
             0.7777777777777778,
             "#fb9f3a"
            ],
            [
             0.8888888888888888,
             "#fdca26"
            ],
            [
             1,
             "#f0f921"
            ]
           ],
           "sequentialminus": [
            [
             0,
             "#0d0887"
            ],
            [
             0.1111111111111111,
             "#46039f"
            ],
            [
             0.2222222222222222,
             "#7201a8"
            ],
            [
             0.3333333333333333,
             "#9c179e"
            ],
            [
             0.4444444444444444,
             "#bd3786"
            ],
            [
             0.5555555555555556,
             "#d8576b"
            ],
            [
             0.6666666666666666,
             "#ed7953"
            ],
            [
             0.7777777777777778,
             "#fb9f3a"
            ],
            [
             0.8888888888888888,
             "#fdca26"
            ],
            [
             1,
             "#f0f921"
            ]
           ]
          },
          "colorway": [
           "#636efa",
           "#EF553B",
           "#00cc96",
           "#ab63fa",
           "#FFA15A",
           "#19d3f3",
           "#FF6692",
           "#B6E880",
           "#FF97FF",
           "#FECB52"
          ],
          "font": {
           "color": "#2a3f5f"
          },
          "geo": {
           "bgcolor": "white",
           "lakecolor": "white",
           "landcolor": "#E5ECF6",
           "showlakes": true,
           "showland": true,
           "subunitcolor": "white"
          },
          "hoverlabel": {
           "align": "left"
          },
          "hovermode": "closest",
          "mapbox": {
           "style": "light"
          },
          "paper_bgcolor": "white",
          "plot_bgcolor": "#E5ECF6",
          "polar": {
           "angularaxis": {
            "gridcolor": "white",
            "linecolor": "white",
            "ticks": ""
           },
           "bgcolor": "#E5ECF6",
           "radialaxis": {
            "gridcolor": "white",
            "linecolor": "white",
            "ticks": ""
           }
          },
          "scene": {
           "xaxis": {
            "backgroundcolor": "#E5ECF6",
            "gridcolor": "white",
            "gridwidth": 2,
            "linecolor": "white",
            "showbackground": true,
            "ticks": "",
            "zerolinecolor": "white"
           },
           "yaxis": {
            "backgroundcolor": "#E5ECF6",
            "gridcolor": "white",
            "gridwidth": 2,
            "linecolor": "white",
            "showbackground": true,
            "ticks": "",
            "zerolinecolor": "white"
           },
           "zaxis": {
            "backgroundcolor": "#E5ECF6",
            "gridcolor": "white",
            "gridwidth": 2,
            "linecolor": "white",
            "showbackground": true,
            "ticks": "",
            "zerolinecolor": "white"
           }
          },
          "shapedefaults": {
           "line": {
            "color": "#2a3f5f"
           }
          },
          "ternary": {
           "aaxis": {
            "gridcolor": "white",
            "linecolor": "white",
            "ticks": ""
           },
           "baxis": {
            "gridcolor": "white",
            "linecolor": "white",
            "ticks": ""
           },
           "bgcolor": "#E5ECF6",
           "caxis": {
            "gridcolor": "white",
            "linecolor": "white",
            "ticks": ""
           }
          },
          "title": {
           "x": 0.05
          },
          "xaxis": {
           "automargin": true,
           "gridcolor": "white",
           "linecolor": "white",
           "ticks": "",
           "title": {
            "standoff": 15
           },
           "zerolinecolor": "white",
           "zerolinewidth": 2
          },
          "yaxis": {
           "automargin": true,
           "gridcolor": "white",
           "linecolor": "white",
           "ticks": "",
           "title": {
            "standoff": 15
           },
           "zerolinecolor": "white",
           "zerolinewidth": 2
          }
         }
        },
        "title": {
         "text": "Inbound CIF by Air and Vessel for Mining, Quarrying, and Oil and Gas ExtractionT in US From India"
        },
        "width": 1400,
        "xaxis": {
         "title": {
          "text": "Year-Month"
         }
        },
        "yaxis": {
         "side": "left",
         "title": {
          "text": "Dollar value (in Billions)"
         }
        },
        "yaxis2": {
         "overlaying": "y",
         "side": "right",
         "title": {
          "text": "MoM Growth"
         }
        }
       }
      }
     },
     "metadata": {},
     "output_type": "display_data"
    },
    {
     "data": {
      "application/vnd.plotly.v1+json": {
       "config": {
        "plotlyServerURL": "https://plot.ly"
       },
       "data": [
        {
         "hoverinfo": "text",
         "insidetextanchor": "end",
         "name": "by Air",
         "text": [
          "Air:0.0B",
          "Air:0.0B",
          "Air:0.0B",
          "Air:0.0B",
          "Air:0.0B",
          "Air:0.0B",
          "Air:0.0B",
          "Air:0.0B",
          "Air:0.0B",
          "Air:0.0B",
          "Air:0.0B",
          "Air:0.0B",
          "Air:0.0B",
          "Air:0.0B",
          "Air:0.0B",
          "Air:0.0B",
          "Air:0.0B",
          "Air:0.0B",
          "Air:0.0B",
          "Air:0.0B",
          "Air:0.0B",
          "Air:0.0B",
          "Air:0.0B",
          "Air:0.0B",
          "Air:0.0B",
          "Air:0.0B",
          "Air:0.0B",
          "Air:0.0B",
          "Air:0.0B",
          "Air:0.0B",
          "Air:0.0B",
          "Air:0.0B",
          "Air:0.0B",
          "Air:0.0B",
          "Air:0.0B"
         ],
         "textfont": {
          "size": 30
         },
         "textposition": "inside",
         "type": "bar",
         "x": [
          "2020-01",
          "2020-02",
          "2020-03",
          "2020-04",
          "2020-05",
          "2020-06",
          "2020-07",
          "2020-08",
          "2020-09",
          "2020-10",
          "2020-11",
          "2020-12",
          "2021-01",
          "2021-02",
          "2021-03",
          "2021-04",
          "2021-05",
          "2021-06",
          "2021-07",
          "2021-08",
          "2021-09",
          "2021-10",
          "2021-11",
          "2021-12",
          "2022-01",
          "2022-02",
          "2022-03",
          "2022-04",
          "2022-05",
          "2022-06",
          "2022-07",
          "2022-08",
          "2022-09",
          "2022-10",
          "2022-11"
         ],
         "y": [
          0.000119974,
          0.000024552,
          0.000047492,
          0,
          0.000003079,
          0.000113024,
          0.000001459,
          0.000004155,
          0.000132661,
          0.000007303,
          0.000008851,
          0.00017577,
          0,
          9.6e-7,
          0.000230952,
          0.000002101,
          5.44e-7,
          0.00030305,
          0.000021,
          0.00022282,
          0.000016747,
          0,
          0.000016953,
          0.000153152,
          0,
          0.000017753,
          0,
          0.000061775,
          0.000006221,
          0.000015448,
          0.00000868,
          0.000741697,
          0.000001499,
          0.000048527,
          0.000003445
         ],
         "yaxis": "y"
        },
        {
         "hoverinfo": "text",
         "name": "by Vessel",
         "text": [
          "Vessel:0.0B",
          "Vessel:0.0B",
          "Vessel:0.0B",
          "Vessel:0.0B",
          "Vessel:0.0B",
          "Vessel:0.0B",
          "Vessel:0.0B",
          "Vessel:0.0B",
          "Vessel:0.0B",
          "Vessel:0.0B",
          "Vessel:0.0B",
          "Vessel:0.0B",
          "Vessel:0.0B",
          "Vessel:0.0B",
          "Vessel:0.0B",
          "Vessel:0.0B",
          "Vessel:0.0B",
          "Vessel:0.0B",
          "Vessel:0.01B",
          "Vessel:0.0B",
          "Vessel:0.0B",
          "Vessel:0.0B",
          "Vessel:0.0B",
          "Vessel:0.0B",
          "Vessel:0.0B",
          "Vessel:0.0B",
          "Vessel:0.0B",
          "Vessel:0.0B",
          "Vessel:0.0B",
          "Vessel:0.0B",
          "Vessel:0.0B",
          "Vessel:0.0B",
          "Vessel:0.0B",
          "Vessel:0.0B",
          "Vessel:0.0B"
         ],
         "textfont": {
          "color": "white",
          "family": "sans serif",
          "size": 30
         },
         "textposition": "inside",
         "type": "bar",
         "x": [
          "2020-01",
          "2020-02",
          "2020-03",
          "2020-04",
          "2020-05",
          "2020-06",
          "2020-07",
          "2020-08",
          "2020-09",
          "2020-10",
          "2020-11",
          "2020-12",
          "2021-01",
          "2021-02",
          "2021-03",
          "2021-04",
          "2021-05",
          "2021-06",
          "2021-07",
          "2021-08",
          "2021-09",
          "2021-10",
          "2021-11",
          "2021-12",
          "2022-01",
          "2022-02",
          "2022-03",
          "2022-04",
          "2022-05",
          "2022-06",
          "2022-07",
          "2022-08",
          "2022-09",
          "2022-10",
          "2022-11"
         ],
         "y": [
          0.001115107,
          0.001336187,
          0.002781134,
          0.000972973,
          0.000838006,
          0.000569722,
          0.000459531,
          0.000630646,
          0.001570422,
          0.000548739,
          0.001421053,
          0.001687452,
          0.000857368,
          0.001253155,
          0.003478492,
          0.002328784,
          0.001089636,
          0.002192323,
          0.011046768,
          0.00195554,
          0.001883777,
          0.002940677,
          0.00174404,
          0.003166875,
          0.004355953,
          0.002656384,
          0.003785785,
          0.004079422,
          0.003664506,
          0.004429073,
          0.002383326,
          0.002413103,
          0.004208543,
          0.002045675,
          0.002611824
         ],
         "yaxis": "y"
        },
        {
         "hoverinfo": "text",
         "hovertemplate": "%{y:.2f}%%{_xother}",
         "name": "MoM Growth",
         "text": "{y2:.2f}%",
         "textfont": {
          "size": 30
         },
         "type": "scatter",
         "x": [
          "2020-01",
          "2020-02",
          "2020-03",
          "2020-04",
          "2020-05",
          "2020-06",
          "2020-07",
          "2020-08",
          "2020-09",
          "2020-10",
          "2020-11",
          "2020-12",
          "2021-01",
          "2021-02",
          "2021-03",
          "2021-04",
          "2021-05",
          "2021-06",
          "2021-07",
          "2021-08",
          "2021-09",
          "2021-10",
          "2021-11",
          "2021-12",
          "2022-01",
          "2022-02",
          "2022-03",
          "2022-04",
          "2022-05",
          "2022-06",
          "2022-07",
          "2022-08",
          "2022-09",
          "2022-10",
          "2022-11"
         ],
         "xperiodalignment": "middle",
         "y": [
          null,
          10.174069554952258,
          107.87425068290099,
          -65.60262827252525,
          -13.55515517902347,
          -18.82556459810839,
          -32.48001452956151,
          37.70385474739149,
          168.28612431297367,
          -67.35085723948862,
          157.1575528467274,
          30.303992435855843,
          -53.984656686106106,
          46.27499510128672,
          195.78180629368117,
          -37.16349404385132,
          -53.22892377787836,
          128.8955034948357,
          343.53160830064286,
          -80.31798281279478,
          -12.7543656695863,
          54.72980083387529,
          -40.1160685107545,
          88.531527382562,
          31.20233660750349,
          -38.609599323041365,
          41.570345872331906,
          9.388066147443652,
          -11.360724930497145,
          21.0801293585712,
          -46.18079203585719,
          31.889301281016856,
          33.448776467604915,
          -50.25698080921759,
          24.881410675760975
         ],
         "yaxis": "y2"
        }
       ],
       "layout": {
        "autosize": false,
        "barmode": "group",
        "height": 500,
        "hovermode": "x unified",
        "legend": {
         "orientation": "h",
         "x": 1,
         "xanchor": "right",
         "y": 1.02,
         "yanchor": "bottom"
        },
        "margin": {
         "b": 100,
         "l": 50,
         "pad": 4,
         "r": 50,
         "t": 50
        },
        "template": {
         "data": {
          "bar": [
           {
            "error_x": {
             "color": "#2a3f5f"
            },
            "error_y": {
             "color": "#2a3f5f"
            },
            "marker": {
             "line": {
              "color": "#E5ECF6",
              "width": 0.5
             },
             "pattern": {
              "fillmode": "overlay",
              "size": 10,
              "solidity": 0.2
             }
            },
            "type": "bar"
           }
          ],
          "barpolar": [
           {
            "marker": {
             "line": {
              "color": "#E5ECF6",
              "width": 0.5
             },
             "pattern": {
              "fillmode": "overlay",
              "size": 10,
              "solidity": 0.2
             }
            },
            "type": "barpolar"
           }
          ],
          "carpet": [
           {
            "aaxis": {
             "endlinecolor": "#2a3f5f",
             "gridcolor": "white",
             "linecolor": "white",
             "minorgridcolor": "white",
             "startlinecolor": "#2a3f5f"
            },
            "baxis": {
             "endlinecolor": "#2a3f5f",
             "gridcolor": "white",
             "linecolor": "white",
             "minorgridcolor": "white",
             "startlinecolor": "#2a3f5f"
            },
            "type": "carpet"
           }
          ],
          "choropleth": [
           {
            "colorbar": {
             "outlinewidth": 0,
             "ticks": ""
            },
            "type": "choropleth"
           }
          ],
          "contour": [
           {
            "colorbar": {
             "outlinewidth": 0,
             "ticks": ""
            },
            "colorscale": [
             [
              0,
              "#0d0887"
             ],
             [
              0.1111111111111111,
              "#46039f"
             ],
             [
              0.2222222222222222,
              "#7201a8"
             ],
             [
              0.3333333333333333,
              "#9c179e"
             ],
             [
              0.4444444444444444,
              "#bd3786"
             ],
             [
              0.5555555555555556,
              "#d8576b"
             ],
             [
              0.6666666666666666,
              "#ed7953"
             ],
             [
              0.7777777777777778,
              "#fb9f3a"
             ],
             [
              0.8888888888888888,
              "#fdca26"
             ],
             [
              1,
              "#f0f921"
             ]
            ],
            "type": "contour"
           }
          ],
          "contourcarpet": [
           {
            "colorbar": {
             "outlinewidth": 0,
             "ticks": ""
            },
            "type": "contourcarpet"
           }
          ],
          "heatmap": [
           {
            "colorbar": {
             "outlinewidth": 0,
             "ticks": ""
            },
            "colorscale": [
             [
              0,
              "#0d0887"
             ],
             [
              0.1111111111111111,
              "#46039f"
             ],
             [
              0.2222222222222222,
              "#7201a8"
             ],
             [
              0.3333333333333333,
              "#9c179e"
             ],
             [
              0.4444444444444444,
              "#bd3786"
             ],
             [
              0.5555555555555556,
              "#d8576b"
             ],
             [
              0.6666666666666666,
              "#ed7953"
             ],
             [
              0.7777777777777778,
              "#fb9f3a"
             ],
             [
              0.8888888888888888,
              "#fdca26"
             ],
             [
              1,
              "#f0f921"
             ]
            ],
            "type": "heatmap"
           }
          ],
          "heatmapgl": [
           {
            "colorbar": {
             "outlinewidth": 0,
             "ticks": ""
            },
            "colorscale": [
             [
              0,
              "#0d0887"
             ],
             [
              0.1111111111111111,
              "#46039f"
             ],
             [
              0.2222222222222222,
              "#7201a8"
             ],
             [
              0.3333333333333333,
              "#9c179e"
             ],
             [
              0.4444444444444444,
              "#bd3786"
             ],
             [
              0.5555555555555556,
              "#d8576b"
             ],
             [
              0.6666666666666666,
              "#ed7953"
             ],
             [
              0.7777777777777778,
              "#fb9f3a"
             ],
             [
              0.8888888888888888,
              "#fdca26"
             ],
             [
              1,
              "#f0f921"
             ]
            ],
            "type": "heatmapgl"
           }
          ],
          "histogram": [
           {
            "marker": {
             "pattern": {
              "fillmode": "overlay",
              "size": 10,
              "solidity": 0.2
             }
            },
            "type": "histogram"
           }
          ],
          "histogram2d": [
           {
            "colorbar": {
             "outlinewidth": 0,
             "ticks": ""
            },
            "colorscale": [
             [
              0,
              "#0d0887"
             ],
             [
              0.1111111111111111,
              "#46039f"
             ],
             [
              0.2222222222222222,
              "#7201a8"
             ],
             [
              0.3333333333333333,
              "#9c179e"
             ],
             [
              0.4444444444444444,
              "#bd3786"
             ],
             [
              0.5555555555555556,
              "#d8576b"
             ],
             [
              0.6666666666666666,
              "#ed7953"
             ],
             [
              0.7777777777777778,
              "#fb9f3a"
             ],
             [
              0.8888888888888888,
              "#fdca26"
             ],
             [
              1,
              "#f0f921"
             ]
            ],
            "type": "histogram2d"
           }
          ],
          "histogram2dcontour": [
           {
            "colorbar": {
             "outlinewidth": 0,
             "ticks": ""
            },
            "colorscale": [
             [
              0,
              "#0d0887"
             ],
             [
              0.1111111111111111,
              "#46039f"
             ],
             [
              0.2222222222222222,
              "#7201a8"
             ],
             [
              0.3333333333333333,
              "#9c179e"
             ],
             [
              0.4444444444444444,
              "#bd3786"
             ],
             [
              0.5555555555555556,
              "#d8576b"
             ],
             [
              0.6666666666666666,
              "#ed7953"
             ],
             [
              0.7777777777777778,
              "#fb9f3a"
             ],
             [
              0.8888888888888888,
              "#fdca26"
             ],
             [
              1,
              "#f0f921"
             ]
            ],
            "type": "histogram2dcontour"
           }
          ],
          "mesh3d": [
           {
            "colorbar": {
             "outlinewidth": 0,
             "ticks": ""
            },
            "type": "mesh3d"
           }
          ],
          "parcoords": [
           {
            "line": {
             "colorbar": {
              "outlinewidth": 0,
              "ticks": ""
             }
            },
            "type": "parcoords"
           }
          ],
          "pie": [
           {
            "automargin": true,
            "type": "pie"
           }
          ],
          "scatter": [
           {
            "fillpattern": {
             "fillmode": "overlay",
             "size": 10,
             "solidity": 0.2
            },
            "type": "scatter"
           }
          ],
          "scatter3d": [
           {
            "line": {
             "colorbar": {
              "outlinewidth": 0,
              "ticks": ""
             }
            },
            "marker": {
             "colorbar": {
              "outlinewidth": 0,
              "ticks": ""
             }
            },
            "type": "scatter3d"
           }
          ],
          "scattercarpet": [
           {
            "marker": {
             "colorbar": {
              "outlinewidth": 0,
              "ticks": ""
             }
            },
            "type": "scattercarpet"
           }
          ],
          "scattergeo": [
           {
            "marker": {
             "colorbar": {
              "outlinewidth": 0,
              "ticks": ""
             }
            },
            "type": "scattergeo"
           }
          ],
          "scattergl": [
           {
            "marker": {
             "colorbar": {
              "outlinewidth": 0,
              "ticks": ""
             }
            },
            "type": "scattergl"
           }
          ],
          "scattermapbox": [
           {
            "marker": {
             "colorbar": {
              "outlinewidth": 0,
              "ticks": ""
             }
            },
            "type": "scattermapbox"
           }
          ],
          "scatterpolar": [
           {
            "marker": {
             "colorbar": {
              "outlinewidth": 0,
              "ticks": ""
             }
            },
            "type": "scatterpolar"
           }
          ],
          "scatterpolargl": [
           {
            "marker": {
             "colorbar": {
              "outlinewidth": 0,
              "ticks": ""
             }
            },
            "type": "scatterpolargl"
           }
          ],
          "scatterternary": [
           {
            "marker": {
             "colorbar": {
              "outlinewidth": 0,
              "ticks": ""
             }
            },
            "type": "scatterternary"
           }
          ],
          "surface": [
           {
            "colorbar": {
             "outlinewidth": 0,
             "ticks": ""
            },
            "colorscale": [
             [
              0,
              "#0d0887"
             ],
             [
              0.1111111111111111,
              "#46039f"
             ],
             [
              0.2222222222222222,
              "#7201a8"
             ],
             [
              0.3333333333333333,
              "#9c179e"
             ],
             [
              0.4444444444444444,
              "#bd3786"
             ],
             [
              0.5555555555555556,
              "#d8576b"
             ],
             [
              0.6666666666666666,
              "#ed7953"
             ],
             [
              0.7777777777777778,
              "#fb9f3a"
             ],
             [
              0.8888888888888888,
              "#fdca26"
             ],
             [
              1,
              "#f0f921"
             ]
            ],
            "type": "surface"
           }
          ],
          "table": [
           {
            "cells": {
             "fill": {
              "color": "#EBF0F8"
             },
             "line": {
              "color": "white"
             }
            },
            "header": {
             "fill": {
              "color": "#C8D4E3"
             },
             "line": {
              "color": "white"
             }
            },
            "type": "table"
           }
          ]
         },
         "layout": {
          "annotationdefaults": {
           "arrowcolor": "#2a3f5f",
           "arrowhead": 0,
           "arrowwidth": 1
          },
          "autotypenumbers": "strict",
          "coloraxis": {
           "colorbar": {
            "outlinewidth": 0,
            "ticks": ""
           }
          },
          "colorscale": {
           "diverging": [
            [
             0,
             "#8e0152"
            ],
            [
             0.1,
             "#c51b7d"
            ],
            [
             0.2,
             "#de77ae"
            ],
            [
             0.3,
             "#f1b6da"
            ],
            [
             0.4,
             "#fde0ef"
            ],
            [
             0.5,
             "#f7f7f7"
            ],
            [
             0.6,
             "#e6f5d0"
            ],
            [
             0.7,
             "#b8e186"
            ],
            [
             0.8,
             "#7fbc41"
            ],
            [
             0.9,
             "#4d9221"
            ],
            [
             1,
             "#276419"
            ]
           ],
           "sequential": [
            [
             0,
             "#0d0887"
            ],
            [
             0.1111111111111111,
             "#46039f"
            ],
            [
             0.2222222222222222,
             "#7201a8"
            ],
            [
             0.3333333333333333,
             "#9c179e"
            ],
            [
             0.4444444444444444,
             "#bd3786"
            ],
            [
             0.5555555555555556,
             "#d8576b"
            ],
            [
             0.6666666666666666,
             "#ed7953"
            ],
            [
             0.7777777777777778,
             "#fb9f3a"
            ],
            [
             0.8888888888888888,
             "#fdca26"
            ],
            [
             1,
             "#f0f921"
            ]
           ],
           "sequentialminus": [
            [
             0,
             "#0d0887"
            ],
            [
             0.1111111111111111,
             "#46039f"
            ],
            [
             0.2222222222222222,
             "#7201a8"
            ],
            [
             0.3333333333333333,
             "#9c179e"
            ],
            [
             0.4444444444444444,
             "#bd3786"
            ],
            [
             0.5555555555555556,
             "#d8576b"
            ],
            [
             0.6666666666666666,
             "#ed7953"
            ],
            [
             0.7777777777777778,
             "#fb9f3a"
            ],
            [
             0.8888888888888888,
             "#fdca26"
            ],
            [
             1,
             "#f0f921"
            ]
           ]
          },
          "colorway": [
           "#636efa",
           "#EF553B",
           "#00cc96",
           "#ab63fa",
           "#FFA15A",
           "#19d3f3",
           "#FF6692",
           "#B6E880",
           "#FF97FF",
           "#FECB52"
          ],
          "font": {
           "color": "#2a3f5f"
          },
          "geo": {
           "bgcolor": "white",
           "lakecolor": "white",
           "landcolor": "#E5ECF6",
           "showlakes": true,
           "showland": true,
           "subunitcolor": "white"
          },
          "hoverlabel": {
           "align": "left"
          },
          "hovermode": "closest",
          "mapbox": {
           "style": "light"
          },
          "paper_bgcolor": "white",
          "plot_bgcolor": "#E5ECF6",
          "polar": {
           "angularaxis": {
            "gridcolor": "white",
            "linecolor": "white",
            "ticks": ""
           },
           "bgcolor": "#E5ECF6",
           "radialaxis": {
            "gridcolor": "white",
            "linecolor": "white",
            "ticks": ""
           }
          },
          "scene": {
           "xaxis": {
            "backgroundcolor": "#E5ECF6",
            "gridcolor": "white",
            "gridwidth": 2,
            "linecolor": "white",
            "showbackground": true,
            "ticks": "",
            "zerolinecolor": "white"
           },
           "yaxis": {
            "backgroundcolor": "#E5ECF6",
            "gridcolor": "white",
            "gridwidth": 2,
            "linecolor": "white",
            "showbackground": true,
            "ticks": "",
            "zerolinecolor": "white"
           },
           "zaxis": {
            "backgroundcolor": "#E5ECF6",
            "gridcolor": "white",
            "gridwidth": 2,
            "linecolor": "white",
            "showbackground": true,
            "ticks": "",
            "zerolinecolor": "white"
           }
          },
          "shapedefaults": {
           "line": {
            "color": "#2a3f5f"
           }
          },
          "ternary": {
           "aaxis": {
            "gridcolor": "white",
            "linecolor": "white",
            "ticks": ""
           },
           "baxis": {
            "gridcolor": "white",
            "linecolor": "white",
            "ticks": ""
           },
           "bgcolor": "#E5ECF6",
           "caxis": {
            "gridcolor": "white",
            "linecolor": "white",
            "ticks": ""
           }
          },
          "title": {
           "x": 0.05
          },
          "xaxis": {
           "automargin": true,
           "gridcolor": "white",
           "linecolor": "white",
           "ticks": "",
           "title": {
            "standoff": 15
           },
           "zerolinecolor": "white",
           "zerolinewidth": 2
          },
          "yaxis": {
           "automargin": true,
           "gridcolor": "white",
           "linecolor": "white",
           "ticks": "",
           "title": {
            "standoff": 15
           },
           "zerolinecolor": "white",
           "zerolinewidth": 2
          }
         }
        },
        "title": {
         "text": "Inbound CIF by Air and Vessel for Waste and Scrap in US From India"
        },
        "width": 1400,
        "xaxis": {
         "title": {
          "text": "Year-Month"
         }
        },
        "yaxis": {
         "side": "left",
         "title": {
          "text": "Dollar value (in Billions)"
         }
        },
        "yaxis2": {
         "overlaying": "y",
         "side": "right",
         "title": {
          "text": "MoM Growth"
         }
        }
       }
      }
     },
     "metadata": {},
     "output_type": "display_data"
    },
    {
     "name": "stdout",
     "output_type": "stream",
     "text": [
      "time: 421 ms (started: 2023-01-22 21:33:16 -05:00)\n"
     ]
    }
   ],
   "source": [
    "for na2Code in tempdf['NA2'].unique():MoMChangePlotbyNA2(tempdf,na2Code)"
   ]
  },
  {
   "cell_type": "code",
   "execution_count": 43,
   "metadata": {},
   "outputs": [
    {
     "data": {
      "application/vnd.plotly.v1+json": {
       "config": {
        "plotlyServerURL": "https://plot.ly"
       },
       "data": [
        {
         "insidetextanchor": "start",
         "name": "Total General Imports Value",
         "text": [
          "Manufacturing 3: 37.39B",
          "Manufacturing 2: 22.8B",
          "Manufacturing 1: 14.67B",
          "Agriculture, Forestry, Fishing and HuntingT: 3.59B",
          "Goods Returned (EXPORTS FOR CANADA ONLY): 0.69B",
          "Other Speical Classification Provisions: 0.38B",
          "Mining, Quarrying, and Oil and Gas ExtractionT: 0.09B",
          "Used or Second-Hand Merchandise: 0.06B",
          "Waste and Scrap: 0.04B"
         ],
         "textfont": {
          "size": 16
         },
         "textposition": "inside",
         "type": "bar",
         "x": [
          "33",
          "32",
          "31",
          "11",
          "98",
          "99",
          "21",
          "93",
          "91"
         ],
         "y": [
          37.389090907,
          22.79747014,
          14.666014107,
          3.592916374,
          0.691715275,
          0.384234432,
          0.090137835,
          0.059954918,
          0.0377802
         ]
        },
        {
         "name": "Total Charges",
         "text": [
          "1.96B",
          "1.5B",
          "1.18B",
          "0.3B",
          "0.01B",
          "0.0B",
          "0.03B",
          "0.0B",
          "0.0B"
         ],
         "textfont": {
          "color": "white",
          "family": "sans serif",
          "size": 16
         },
         "textposition": "inside",
         "type": "bar",
         "x": [
          "33",
          "32",
          "31",
          "11",
          "98",
          "99",
          "21",
          "93",
          "91"
         ],
         "y": [
          1.962264252,
          1.504059681,
          1.183028919,
          0.301962982,
          0.007475362,
          0.001627452,
          0.032196352,
          0.000814434,
          0.002801034
         ]
        }
       ],
       "layout": {
        "autosize": false,
        "barmode": "stack",
        "height": 800,
        "legend": {
         "orientation": "h",
         "x": 1,
         "xanchor": "right",
         "y": 1.02,
         "yanchor": "bottom"
        },
        "margin": {
         "b": 100,
         "l": 50,
         "pad": 4,
         "r": 50,
         "t": 50
        },
        "template": {
         "data": {
          "bar": [
           {
            "error_x": {
             "color": "#2a3f5f"
            },
            "error_y": {
             "color": "#2a3f5f"
            },
            "marker": {
             "line": {
              "color": "#E5ECF6",
              "width": 0.5
             },
             "pattern": {
              "fillmode": "overlay",
              "size": 10,
              "solidity": 0.2
             }
            },
            "type": "bar"
           }
          ],
          "barpolar": [
           {
            "marker": {
             "line": {
              "color": "#E5ECF6",
              "width": 0.5
             },
             "pattern": {
              "fillmode": "overlay",
              "size": 10,
              "solidity": 0.2
             }
            },
            "type": "barpolar"
           }
          ],
          "carpet": [
           {
            "aaxis": {
             "endlinecolor": "#2a3f5f",
             "gridcolor": "white",
             "linecolor": "white",
             "minorgridcolor": "white",
             "startlinecolor": "#2a3f5f"
            },
            "baxis": {
             "endlinecolor": "#2a3f5f",
             "gridcolor": "white",
             "linecolor": "white",
             "minorgridcolor": "white",
             "startlinecolor": "#2a3f5f"
            },
            "type": "carpet"
           }
          ],
          "choropleth": [
           {
            "colorbar": {
             "outlinewidth": 0,
             "ticks": ""
            },
            "type": "choropleth"
           }
          ],
          "contour": [
           {
            "colorbar": {
             "outlinewidth": 0,
             "ticks": ""
            },
            "colorscale": [
             [
              0,
              "#0d0887"
             ],
             [
              0.1111111111111111,
              "#46039f"
             ],
             [
              0.2222222222222222,
              "#7201a8"
             ],
             [
              0.3333333333333333,
              "#9c179e"
             ],
             [
              0.4444444444444444,
              "#bd3786"
             ],
             [
              0.5555555555555556,
              "#d8576b"
             ],
             [
              0.6666666666666666,
              "#ed7953"
             ],
             [
              0.7777777777777778,
              "#fb9f3a"
             ],
             [
              0.8888888888888888,
              "#fdca26"
             ],
             [
              1,
              "#f0f921"
             ]
            ],
            "type": "contour"
           }
          ],
          "contourcarpet": [
           {
            "colorbar": {
             "outlinewidth": 0,
             "ticks": ""
            },
            "type": "contourcarpet"
           }
          ],
          "heatmap": [
           {
            "colorbar": {
             "outlinewidth": 0,
             "ticks": ""
            },
            "colorscale": [
             [
              0,
              "#0d0887"
             ],
             [
              0.1111111111111111,
              "#46039f"
             ],
             [
              0.2222222222222222,
              "#7201a8"
             ],
             [
              0.3333333333333333,
              "#9c179e"
             ],
             [
              0.4444444444444444,
              "#bd3786"
             ],
             [
              0.5555555555555556,
              "#d8576b"
             ],
             [
              0.6666666666666666,
              "#ed7953"
             ],
             [
              0.7777777777777778,
              "#fb9f3a"
             ],
             [
              0.8888888888888888,
              "#fdca26"
             ],
             [
              1,
              "#f0f921"
             ]
            ],
            "type": "heatmap"
           }
          ],
          "heatmapgl": [
           {
            "colorbar": {
             "outlinewidth": 0,
             "ticks": ""
            },
            "colorscale": [
             [
              0,
              "#0d0887"
             ],
             [
              0.1111111111111111,
              "#46039f"
             ],
             [
              0.2222222222222222,
              "#7201a8"
             ],
             [
              0.3333333333333333,
              "#9c179e"
             ],
             [
              0.4444444444444444,
              "#bd3786"
             ],
             [
              0.5555555555555556,
              "#d8576b"
             ],
             [
              0.6666666666666666,
              "#ed7953"
             ],
             [
              0.7777777777777778,
              "#fb9f3a"
             ],
             [
              0.8888888888888888,
              "#fdca26"
             ],
             [
              1,
              "#f0f921"
             ]
            ],
            "type": "heatmapgl"
           }
          ],
          "histogram": [
           {
            "marker": {
             "pattern": {
              "fillmode": "overlay",
              "size": 10,
              "solidity": 0.2
             }
            },
            "type": "histogram"
           }
          ],
          "histogram2d": [
           {
            "colorbar": {
             "outlinewidth": 0,
             "ticks": ""
            },
            "colorscale": [
             [
              0,
              "#0d0887"
             ],
             [
              0.1111111111111111,
              "#46039f"
             ],
             [
              0.2222222222222222,
              "#7201a8"
             ],
             [
              0.3333333333333333,
              "#9c179e"
             ],
             [
              0.4444444444444444,
              "#bd3786"
             ],
             [
              0.5555555555555556,
              "#d8576b"
             ],
             [
              0.6666666666666666,
              "#ed7953"
             ],
             [
              0.7777777777777778,
              "#fb9f3a"
             ],
             [
              0.8888888888888888,
              "#fdca26"
             ],
             [
              1,
              "#f0f921"
             ]
            ],
            "type": "histogram2d"
           }
          ],
          "histogram2dcontour": [
           {
            "colorbar": {
             "outlinewidth": 0,
             "ticks": ""
            },
            "colorscale": [
             [
              0,
              "#0d0887"
             ],
             [
              0.1111111111111111,
              "#46039f"
             ],
             [
              0.2222222222222222,
              "#7201a8"
             ],
             [
              0.3333333333333333,
              "#9c179e"
             ],
             [
              0.4444444444444444,
              "#bd3786"
             ],
             [
              0.5555555555555556,
              "#d8576b"
             ],
             [
              0.6666666666666666,
              "#ed7953"
             ],
             [
              0.7777777777777778,
              "#fb9f3a"
             ],
             [
              0.8888888888888888,
              "#fdca26"
             ],
             [
              1,
              "#f0f921"
             ]
            ],
            "type": "histogram2dcontour"
           }
          ],
          "mesh3d": [
           {
            "colorbar": {
             "outlinewidth": 0,
             "ticks": ""
            },
            "type": "mesh3d"
           }
          ],
          "parcoords": [
           {
            "line": {
             "colorbar": {
              "outlinewidth": 0,
              "ticks": ""
             }
            },
            "type": "parcoords"
           }
          ],
          "pie": [
           {
            "automargin": true,
            "type": "pie"
           }
          ],
          "scatter": [
           {
            "fillpattern": {
             "fillmode": "overlay",
             "size": 10,
             "solidity": 0.2
            },
            "type": "scatter"
           }
          ],
          "scatter3d": [
           {
            "line": {
             "colorbar": {
              "outlinewidth": 0,
              "ticks": ""
             }
            },
            "marker": {
             "colorbar": {
              "outlinewidth": 0,
              "ticks": ""
             }
            },
            "type": "scatter3d"
           }
          ],
          "scattercarpet": [
           {
            "marker": {
             "colorbar": {
              "outlinewidth": 0,
              "ticks": ""
             }
            },
            "type": "scattercarpet"
           }
          ],
          "scattergeo": [
           {
            "marker": {
             "colorbar": {
              "outlinewidth": 0,
              "ticks": ""
             }
            },
            "type": "scattergeo"
           }
          ],
          "scattergl": [
           {
            "marker": {
             "colorbar": {
              "outlinewidth": 0,
              "ticks": ""
             }
            },
            "type": "scattergl"
           }
          ],
          "scattermapbox": [
           {
            "marker": {
             "colorbar": {
              "outlinewidth": 0,
              "ticks": ""
             }
            },
            "type": "scattermapbox"
           }
          ],
          "scatterpolar": [
           {
            "marker": {
             "colorbar": {
              "outlinewidth": 0,
              "ticks": ""
             }
            },
            "type": "scatterpolar"
           }
          ],
          "scatterpolargl": [
           {
            "marker": {
             "colorbar": {
              "outlinewidth": 0,
              "ticks": ""
             }
            },
            "type": "scatterpolargl"
           }
          ],
          "scatterternary": [
           {
            "marker": {
             "colorbar": {
              "outlinewidth": 0,
              "ticks": ""
             }
            },
            "type": "scatterternary"
           }
          ],
          "surface": [
           {
            "colorbar": {
             "outlinewidth": 0,
             "ticks": ""
            },
            "colorscale": [
             [
              0,
              "#0d0887"
             ],
             [
              0.1111111111111111,
              "#46039f"
             ],
             [
              0.2222222222222222,
              "#7201a8"
             ],
             [
              0.3333333333333333,
              "#9c179e"
             ],
             [
              0.4444444444444444,
              "#bd3786"
             ],
             [
              0.5555555555555556,
              "#d8576b"
             ],
             [
              0.6666666666666666,
              "#ed7953"
             ],
             [
              0.7777777777777778,
              "#fb9f3a"
             ],
             [
              0.8888888888888888,
              "#fdca26"
             ],
             [
              1,
              "#f0f921"
             ]
            ],
            "type": "surface"
           }
          ],
          "table": [
           {
            "cells": {
             "fill": {
              "color": "#EBF0F8"
             },
             "line": {
              "color": "white"
             }
            },
            "header": {
             "fill": {
              "color": "#C8D4E3"
             },
             "line": {
              "color": "white"
             }
            },
            "type": "table"
           }
          ]
         },
         "layout": {
          "annotationdefaults": {
           "arrowcolor": "#2a3f5f",
           "arrowhead": 0,
           "arrowwidth": 1
          },
          "autotypenumbers": "strict",
          "coloraxis": {
           "colorbar": {
            "outlinewidth": 0,
            "ticks": ""
           }
          },
          "colorscale": {
           "diverging": [
            [
             0,
             "#8e0152"
            ],
            [
             0.1,
             "#c51b7d"
            ],
            [
             0.2,
             "#de77ae"
            ],
            [
             0.3,
             "#f1b6da"
            ],
            [
             0.4,
             "#fde0ef"
            ],
            [
             0.5,
             "#f7f7f7"
            ],
            [
             0.6,
             "#e6f5d0"
            ],
            [
             0.7,
             "#b8e186"
            ],
            [
             0.8,
             "#7fbc41"
            ],
            [
             0.9,
             "#4d9221"
            ],
            [
             1,
             "#276419"
            ]
           ],
           "sequential": [
            [
             0,
             "#0d0887"
            ],
            [
             0.1111111111111111,
             "#46039f"
            ],
            [
             0.2222222222222222,
             "#7201a8"
            ],
            [
             0.3333333333333333,
             "#9c179e"
            ],
            [
             0.4444444444444444,
             "#bd3786"
            ],
            [
             0.5555555555555556,
             "#d8576b"
            ],
            [
             0.6666666666666666,
             "#ed7953"
            ],
            [
             0.7777777777777778,
             "#fb9f3a"
            ],
            [
             0.8888888888888888,
             "#fdca26"
            ],
            [
             1,
             "#f0f921"
            ]
           ],
           "sequentialminus": [
            [
             0,
             "#0d0887"
            ],
            [
             0.1111111111111111,
             "#46039f"
            ],
            [
             0.2222222222222222,
             "#7201a8"
            ],
            [
             0.3333333333333333,
             "#9c179e"
            ],
            [
             0.4444444444444444,
             "#bd3786"
            ],
            [
             0.5555555555555556,
             "#d8576b"
            ],
            [
             0.6666666666666666,
             "#ed7953"
            ],
            [
             0.7777777777777778,
             "#fb9f3a"
            ],
            [
             0.8888888888888888,
             "#fdca26"
            ],
            [
             1,
             "#f0f921"
            ]
           ]
          },
          "colorway": [
           "#636efa",
           "#EF553B",
           "#00cc96",
           "#ab63fa",
           "#FFA15A",
           "#19d3f3",
           "#FF6692",
           "#B6E880",
           "#FF97FF",
           "#FECB52"
          ],
          "font": {
           "color": "#2a3f5f"
          },
          "geo": {
           "bgcolor": "white",
           "lakecolor": "white",
           "landcolor": "#E5ECF6",
           "showlakes": true,
           "showland": true,
           "subunitcolor": "white"
          },
          "hoverlabel": {
           "align": "left"
          },
          "hovermode": "closest",
          "mapbox": {
           "style": "light"
          },
          "paper_bgcolor": "white",
          "plot_bgcolor": "#E5ECF6",
          "polar": {
           "angularaxis": {
            "gridcolor": "white",
            "linecolor": "white",
            "ticks": ""
           },
           "bgcolor": "#E5ECF6",
           "radialaxis": {
            "gridcolor": "white",
            "linecolor": "white",
            "ticks": ""
           }
          },
          "scene": {
           "xaxis": {
            "backgroundcolor": "#E5ECF6",
            "gridcolor": "white",
            "gridwidth": 2,
            "linecolor": "white",
            "showbackground": true,
            "ticks": "",
            "zerolinecolor": "white"
           },
           "yaxis": {
            "backgroundcolor": "#E5ECF6",
            "gridcolor": "white",
            "gridwidth": 2,
            "linecolor": "white",
            "showbackground": true,
            "ticks": "",
            "zerolinecolor": "white"
           },
           "zaxis": {
            "backgroundcolor": "#E5ECF6",
            "gridcolor": "white",
            "gridwidth": 2,
            "linecolor": "white",
            "showbackground": true,
            "ticks": "",
            "zerolinecolor": "white"
           }
          },
          "shapedefaults": {
           "line": {
            "color": "#2a3f5f"
           }
          },
          "ternary": {
           "aaxis": {
            "gridcolor": "white",
            "linecolor": "white",
            "ticks": ""
           },
           "baxis": {
            "gridcolor": "white",
            "linecolor": "white",
            "ticks": ""
           },
           "bgcolor": "#E5ECF6",
           "caxis": {
            "gridcolor": "white",
            "linecolor": "white",
            "ticks": ""
           }
          },
          "title": {
           "x": 0.05
          },
          "xaxis": {
           "automargin": true,
           "gridcolor": "white",
           "linecolor": "white",
           "ticks": "",
           "title": {
            "standoff": 15
           },
           "zerolinecolor": "white",
           "zerolinewidth": 2
          },
          "yaxis": {
           "automargin": true,
           "gridcolor": "white",
           "linecolor": "white",
           "ticks": "",
           "title": {
            "standoff": 15
           },
           "zerolinecolor": "white",
           "zerolinewidth": 2
          }
         }
        },
        "title": {
         "text": "Top Imports and Charges by NAICS2 in Dollar Value"
        },
        "width": 1400,
        "xaxis": {
         "title": {
          "text": "NAICS2 Descriptions"
         }
        },
        "yaxis": {
         "title": {
          "text": "Dollar value (in Billions)"
         }
        }
       }
      }
     },
     "metadata": {},
     "output_type": "display_data"
    },
    {
     "name": "stdout",
     "output_type": "stream",
     "text": [
      "time: 28.4 ms (started: 2023-01-22 20:41:52 -05:00)\n"
     ]
    }
   ],
   "source": [
    "import plotly.graph_objects as go\n",
    "import plotly.express as px\n",
    "import plotly.io as pio\n",
    "# pio.renderers.default = \"browser\"\n",
    "\n",
    "fig = go.Figure(data=[\n",
    "    go.Bar(name='Total General Imports Value', \n",
    "           x = NA2Summary['NA2'], \n",
    "           y = NA2Summary['GEN_VAL_MO']/1e9,\n",
    "        #    hover=NA2Summary['NA2 Description'],\n",
    "           text = NA2Summary['NA2 Description'] +\": \" + (NA2Summary['GEN_VAL_MO']/1e9).round(2).astype(str) + 'B',\n",
    "           textposition=\"inside\",\n",
    "           insidetextanchor=\"start\"),\n",
    "\n",
    "    go.Bar(name='Total Charges',\n",
    "           x=NA2Summary['NA2'], \n",
    "           y=NA2Summary['GEN_CHA_MO']/1e9,\n",
    "           text=(NA2Summary['GEN_CHA_MO']/1e9).round(2).astype(str) + 'B',\n",
    "           textposition=\"inside\",\n",
    "        #    texttemplate='%text',\n",
    "           textfont=dict(\n",
    "        family=\"sans serif\",\n",
    "        size=24,\n",
    "        color=\"white\"\n",
    "    )),\n",
    "])\n",
    "# fig.add_trace(\n",
    "#     go.Scatter(\n",
    "#         x=[str(tup) for tup in zip(top5_case2[\"OP_CARRIER\"],top5_case2[\"ORIGIN\"],top5_case2[\"DESTINATION\"])],\n",
    "#         y=top5_case2[\"profit\"],\n",
    "#         mode=\"markers+text\",\n",
    "#         name=\"Gross Profit\",\n",
    "#         text=top5_case2[\"profit\"],\n",
    "#         textposition=\"bottom center\",\n",
    "#         texttemplate='%{text:.4s}',\n",
    "#         textfont=dict(family=\"sans serif\",\n",
    "#                       size=20,\n",
    "#                       color=\"black\"),\n",
    "#         marker=dict(color='LightSkyBlue',\n",
    "#                     size=10,\n",
    "#                     line=dict(\n",
    "#                         color='MediumPurple',\n",
    "#                         width=1)\n",
    "#                     )\n",
    "#     ))\n",
    "# Change the bar mode\n",
    "fig.update_traces(textfont_size=16)\n",
    "fig.update_layout(autosize=False,legend=dict(orientation=\"h\",yanchor=\"bottom\",y=1.02,xanchor=\"right\",x=1),\n",
    "    width=1400,\n",
    "    height=800,\n",
    "    margin=dict(l=50, r=50, b=100, t=50, pad=4),\n",
    "    barmode='stack',\n",
    "    title=\"Top Imports and Charges by NAICS2 in Dollar Value\",\n",
    "    xaxis_title=\"NAICS2 Descriptions\",\n",
    "    yaxis_title=\"Dollar value (in Billions)\")\n",
    "fig.show()"
   ]
  },
  {
   "cell_type": "code",
   "execution_count": null,
   "metadata": {},
   "outputs": [
    {
     "name": "stdout",
     "output_type": "stream",
     "text": [
      "time: 203 ms (started: 2023-01-21 23:23:32 -05:00)\n"
     ]
    }
   ],
   "source": [
    "na2dtDf = cleaningResponses(pd.concat(na2listDf))\n",
    "na2Summary = na2dtDf.groupby(['NAICS','NAICS_SDESC'])[valFields].sum()\n",
    "na2Summary.to_clipboard()"
   ]
  },
  {
   "cell_type": "code",
   "execution_count": null,
   "metadata": {},
   "outputs": [
    {
     "data": {
      "text/plain": [
       "Index(['NAICS', 'NAICS_LDESC', 'NAICS_SDESC', 'CTY_CODE', 'CTY_NAME',\n",
       "       'DISTRICT', 'DIST_NAME', 'DUT_VAL_MO', 'CON_VAL_MO', 'CAL_DUT_MO',\n",
       "       'GEN_CHA_MO', 'GEN_VAL_MO', 'GEN_CIF_MO', 'CC_MO', 'CNT_CHA_MO',\n",
       "       'CNT_VAL_MO', 'CNT_WGT_MO', 'AIR_CHA_MO', 'AIR_VAL_MO', 'AIR_WGT_MO',\n",
       "       'VES_CHA_MO', 'VES_VAL_MO', 'VES_WGT_MO', 'YEAR', 'MONTH', 'COMM_LVL',\n",
       "       'SUMMARY_LVL2', 'YearMonth'],\n",
       "      dtype='object')"
      ]
     },
     "execution_count": 40,
     "metadata": {},
     "output_type": "execute_result"
    },
    {
     "name": "stdout",
     "output_type": "stream",
     "text": [
      "time: 4.39 ms (started: 2023-01-21 22:24:14 -05:00)\n"
     ]
    }
   ],
   "source": [
    "na3dtDf.columns"
   ]
  },
  {
   "cell_type": "code",
   "execution_count": null,
   "metadata": {},
   "outputs": [
    {
     "name": "stdout",
     "output_type": "stream",
     "text": [
      "time: 2.12 s (started: 2023-01-21 23:07:15 -05:00)\n"
     ]
    }
   ],
   "source": [
    "na3dtDf = pd.concat(na3listDf)\n",
    "valFields = ['GEN_VAL_MO','DUT_VAL_MO','CAL_DUT_MO','GEN_CHA_MO','CON_VAL_MO','AIR_CHA_MO','AIR_VAL_MO','CNT_CHA_MO','CNT_VAL_MO','VES_CHA_MO','VES_VAL_MO','GEN_CIF_MO']\n",
    "na3dtDf[valFields] = na3dtDf[valFields].astype(int)/1e6\n",
    "na3Summary = na3dtDf.groupby(['NAICS','NAICS_SDESC'])[valFields].sum().reset_index()\n",
    "na3Summary = na3Summary.sort_values('CON_VAL_MO',ascending=False)\n",
    "na3Summary.to_csv(\"datasets/importsConsumptionAIR_CNT.csv\",index=False)\n",
    "na3Summary['NAICS_2'] = na3Summary['NAICS'].apply(lambda x:str(x)[:2])\n",
    "na3Summary['totals'] = na3Summary[['AIR_VAL_MO','VES_VAL_MO']].sum(axis=1)\n",
    "na3Summary['diff'] = na3Summary['GEN_CIF_MO']-na3Summary[['GEN_VAL_MO','GEN_CHA_MO']].sum(axis=1)\n",
    "na3Summary.to_clipboard(index=False)"
   ]
  },
  {
   "cell_type": "code",
   "execution_count": null,
   "metadata": {},
   "outputs": [],
   "source": []
  },
  {
   "cell_type": "code",
   "execution_count": null,
   "metadata": {},
   "outputs": [
    {
     "data": {
      "application/vnd.plotly.v1+json": {
       "config": {
        "plotlyServerURL": "https://plot.ly"
       },
       "data": [
        {
         "alignmentgroup": "True",
         "hovertemplate": "variable=AIR_VAL_MO<br>NAICS_SDESC=%{x}<br>value=%{y}<extra></extra>",
         "legendgroup": "AIR_VAL_MO",
         "marker": {
          "color": "#636efa",
          "pattern": {
           "shape": ""
          }
         },
         "name": "AIR_VAL_MO",
         "offsetgroup": "AIR_VAL_MO",
         "orientation": "v",
         "showlegend": true,
         "textposition": "auto",
         "type": "bar",
         "x": [
          "MISCELLANEOUS MANUFACTURED COMMODITIES",
          "CHEMICALS",
          "APPAREL & ACCESSORIES",
          "MACHINERY, EXCEPT ELECTRICAL",
          "TEXTILE MILL PRODUCTS",
          "FABRICATED METAL PRODUCTS, NESOI",
          "PETROLEUM & COAL PRODUCTS",
          "COMPUTER & ELECTRONIC PRODUCTS",
          "PRIMARY METAL MFG",
          "TRANSPORTATION EQUIPMENT",
          "ELECTRICAL EQUIPMENT, APPLIANCES & COMPONENTS",
          "LIVESTOCK & LIVESTOCK PRODUCTS",
          "FOOD & KINDRED PRODUCTS",
          "PLASTICS & RUBBER PRODUCTS",
          "NONMETALLIC MINERAL PRODUCTS",
          "LEATHER & ALLIED PRODUCTS",
          "TEXTILES & FABRICS",
          "FURNITURE & FIXTURES",
          "FISH, FRESH/CHILLED/FROZEN & OTHER MARINE PRODUCTS",
          "GOODS RETURNED (EXPORTS FOR CANADA ONLY)",
          "PAPER",
          "AGRICULTURAL PRODUCTS",
          "OTHER SPECIAL CLASSIFICATION PROVISIONS",
          "WOOD PRODUCTS",
          "FORESTRY PRODUCTS, NESOI",
          "PRINTED MATTER AND RELATED PRODUCTS, NESOI",
          "USED OR SECOND-HAND MERCHANDISE",
          "MINERALS & ORES",
          "WASTE AND SCRAP",
          "BEVERAGES & TOBACCO PRODUCTS",
          "PRODUCTS SUPPORTING AGRICULTURE AND FORESTRY"
         ],
         "xaxis": "x",
         "y": [
          15123034791,
          4030265910,
          970430096,
          570327889,
          130864031,
          292175773,
          27322,
          2166828254,
          41341595,
          357604006,
          363528064,
          88779,
          43153361,
          40799652,
          26389175,
          141424526,
          50047904,
          25998931,
          348160,
          566600307,
          12873359,
          49314641,
          1679271,
          3532696,
          127242032,
          20924834,
          50323829,
          332780,
          905045,
          14708453,
          0
         ],
         "yaxis": "y"
        },
        {
         "alignmentgroup": "True",
         "hovertemplate": "variable=CNT_VAL_MO<br>NAICS_SDESC=%{x}<br>value=%{y}<extra></extra>",
         "legendgroup": "CNT_VAL_MO",
         "marker": {
          "color": "#EF553B",
          "pattern": {
           "shape": ""
          }
         },
         "name": "CNT_VAL_MO",
         "offsetgroup": "CNT_VAL_MO",
         "orientation": "v",
         "showlegend": true,
         "textposition": "auto",
         "type": "bar",
         "x": [
          "MISCELLANEOUS MANUFACTURED COMMODITIES",
          "CHEMICALS",
          "APPAREL & ACCESSORIES",
          "MACHINERY, EXCEPT ELECTRICAL",
          "TEXTILE MILL PRODUCTS",
          "FABRICATED METAL PRODUCTS, NESOI",
          "PETROLEUM & COAL PRODUCTS",
          "COMPUTER & ELECTRONIC PRODUCTS",
          "PRIMARY METAL MFG",
          "TRANSPORTATION EQUIPMENT",
          "ELECTRICAL EQUIPMENT, APPLIANCES & COMPONENTS",
          "LIVESTOCK & LIVESTOCK PRODUCTS",
          "FOOD & KINDRED PRODUCTS",
          "PLASTICS & RUBBER PRODUCTS",
          "NONMETALLIC MINERAL PRODUCTS",
          "LEATHER & ALLIED PRODUCTS",
          "TEXTILES & FABRICS",
          "FURNITURE & FIXTURES",
          "FISH, FRESH/CHILLED/FROZEN & OTHER MARINE PRODUCTS",
          "GOODS RETURNED (EXPORTS FOR CANADA ONLY)",
          "PAPER",
          "AGRICULTURAL PRODUCTS",
          "OTHER SPECIAL CLASSIFICATION PROVISIONS",
          "WOOD PRODUCTS",
          "FORESTRY PRODUCTS, NESOI",
          "PRINTED MATTER AND RELATED PRODUCTS, NESOI",
          "USED OR SECOND-HAND MERCHANDISE",
          "MINERALS & ORES",
          "WASTE AND SCRAP",
          "BEVERAGES & TOBACCO PRODUCTS",
          "PRODUCTS SUPPORTING AGRICULTURE AND FORESTRY"
         ],
         "xaxis": "x",
         "y": [
          737754630,
          9900220183,
          4526810073,
          3971920676,
          4325684955,
          3016226014,
          18987588,
          1181242336,
          1925159331,
          1949008348,
          1724747671,
          2140987297,
          1833584341,
          1794951964,
          1505968186,
          1132420822,
          1099541681,
          908881735,
          717642713,
          82723804,
          428513925,
          333459710,
          10049312,
          312805967,
          193740037,
          136786149,
          4025520,
          29855847,
          36481127,
          18725030,
          207479
         ],
         "yaxis": "y"
        }
       ],
       "layout": {
        "barmode": "relative",
        "height": 600,
        "legend": {
         "title": {
          "text": "variable"
         },
         "tracegroupgap": 0
        },
        "template": {
         "data": {
          "bar": [
           {
            "error_x": {
             "color": "#2a3f5f"
            },
            "error_y": {
             "color": "#2a3f5f"
            },
            "marker": {
             "line": {
              "color": "#E5ECF6",
              "width": 0.5
             },
             "pattern": {
              "fillmode": "overlay",
              "size": 10,
              "solidity": 0.2
             }
            },
            "type": "bar"
           }
          ],
          "barpolar": [
           {
            "marker": {
             "line": {
              "color": "#E5ECF6",
              "width": 0.5
             },
             "pattern": {
              "fillmode": "overlay",
              "size": 10,
              "solidity": 0.2
             }
            },
            "type": "barpolar"
           }
          ],
          "carpet": [
           {
            "aaxis": {
             "endlinecolor": "#2a3f5f",
             "gridcolor": "white",
             "linecolor": "white",
             "minorgridcolor": "white",
             "startlinecolor": "#2a3f5f"
            },
            "baxis": {
             "endlinecolor": "#2a3f5f",
             "gridcolor": "white",
             "linecolor": "white",
             "minorgridcolor": "white",
             "startlinecolor": "#2a3f5f"
            },
            "type": "carpet"
           }
          ],
          "choropleth": [
           {
            "colorbar": {
             "outlinewidth": 0,
             "ticks": ""
            },
            "type": "choropleth"
           }
          ],
          "contour": [
           {
            "colorbar": {
             "outlinewidth": 0,
             "ticks": ""
            },
            "colorscale": [
             [
              0,
              "#0d0887"
             ],
             [
              0.1111111111111111,
              "#46039f"
             ],
             [
              0.2222222222222222,
              "#7201a8"
             ],
             [
              0.3333333333333333,
              "#9c179e"
             ],
             [
              0.4444444444444444,
              "#bd3786"
             ],
             [
              0.5555555555555556,
              "#d8576b"
             ],
             [
              0.6666666666666666,
              "#ed7953"
             ],
             [
              0.7777777777777778,
              "#fb9f3a"
             ],
             [
              0.8888888888888888,
              "#fdca26"
             ],
             [
              1,
              "#f0f921"
             ]
            ],
            "type": "contour"
           }
          ],
          "contourcarpet": [
           {
            "colorbar": {
             "outlinewidth": 0,
             "ticks": ""
            },
            "type": "contourcarpet"
           }
          ],
          "heatmap": [
           {
            "colorbar": {
             "outlinewidth": 0,
             "ticks": ""
            },
            "colorscale": [
             [
              0,
              "#0d0887"
             ],
             [
              0.1111111111111111,
              "#46039f"
             ],
             [
              0.2222222222222222,
              "#7201a8"
             ],
             [
              0.3333333333333333,
              "#9c179e"
             ],
             [
              0.4444444444444444,
              "#bd3786"
             ],
             [
              0.5555555555555556,
              "#d8576b"
             ],
             [
              0.6666666666666666,
              "#ed7953"
             ],
             [
              0.7777777777777778,
              "#fb9f3a"
             ],
             [
              0.8888888888888888,
              "#fdca26"
             ],
             [
              1,
              "#f0f921"
             ]
            ],
            "type": "heatmap"
           }
          ],
          "heatmapgl": [
           {
            "colorbar": {
             "outlinewidth": 0,
             "ticks": ""
            },
            "colorscale": [
             [
              0,
              "#0d0887"
             ],
             [
              0.1111111111111111,
              "#46039f"
             ],
             [
              0.2222222222222222,
              "#7201a8"
             ],
             [
              0.3333333333333333,
              "#9c179e"
             ],
             [
              0.4444444444444444,
              "#bd3786"
             ],
             [
              0.5555555555555556,
              "#d8576b"
             ],
             [
              0.6666666666666666,
              "#ed7953"
             ],
             [
              0.7777777777777778,
              "#fb9f3a"
             ],
             [
              0.8888888888888888,
              "#fdca26"
             ],
             [
              1,
              "#f0f921"
             ]
            ],
            "type": "heatmapgl"
           }
          ],
          "histogram": [
           {
            "marker": {
             "pattern": {
              "fillmode": "overlay",
              "size": 10,
              "solidity": 0.2
             }
            },
            "type": "histogram"
           }
          ],
          "histogram2d": [
           {
            "colorbar": {
             "outlinewidth": 0,
             "ticks": ""
            },
            "colorscale": [
             [
              0,
              "#0d0887"
             ],
             [
              0.1111111111111111,
              "#46039f"
             ],
             [
              0.2222222222222222,
              "#7201a8"
             ],
             [
              0.3333333333333333,
              "#9c179e"
             ],
             [
              0.4444444444444444,
              "#bd3786"
             ],
             [
              0.5555555555555556,
              "#d8576b"
             ],
             [
              0.6666666666666666,
              "#ed7953"
             ],
             [
              0.7777777777777778,
              "#fb9f3a"
             ],
             [
              0.8888888888888888,
              "#fdca26"
             ],
             [
              1,
              "#f0f921"
             ]
            ],
            "type": "histogram2d"
           }
          ],
          "histogram2dcontour": [
           {
            "colorbar": {
             "outlinewidth": 0,
             "ticks": ""
            },
            "colorscale": [
             [
              0,
              "#0d0887"
             ],
             [
              0.1111111111111111,
              "#46039f"
             ],
             [
              0.2222222222222222,
              "#7201a8"
             ],
             [
              0.3333333333333333,
              "#9c179e"
             ],
             [
              0.4444444444444444,
              "#bd3786"
             ],
             [
              0.5555555555555556,
              "#d8576b"
             ],
             [
              0.6666666666666666,
              "#ed7953"
             ],
             [
              0.7777777777777778,
              "#fb9f3a"
             ],
             [
              0.8888888888888888,
              "#fdca26"
             ],
             [
              1,
              "#f0f921"
             ]
            ],
            "type": "histogram2dcontour"
           }
          ],
          "mesh3d": [
           {
            "colorbar": {
             "outlinewidth": 0,
             "ticks": ""
            },
            "type": "mesh3d"
           }
          ],
          "parcoords": [
           {
            "line": {
             "colorbar": {
              "outlinewidth": 0,
              "ticks": ""
             }
            },
            "type": "parcoords"
           }
          ],
          "pie": [
           {
            "automargin": true,
            "type": "pie"
           }
          ],
          "scatter": [
           {
            "fillpattern": {
             "fillmode": "overlay",
             "size": 10,
             "solidity": 0.2
            },
            "type": "scatter"
           }
          ],
          "scatter3d": [
           {
            "line": {
             "colorbar": {
              "outlinewidth": 0,
              "ticks": ""
             }
            },
            "marker": {
             "colorbar": {
              "outlinewidth": 0,
              "ticks": ""
             }
            },
            "type": "scatter3d"
           }
          ],
          "scattercarpet": [
           {
            "marker": {
             "colorbar": {
              "outlinewidth": 0,
              "ticks": ""
             }
            },
            "type": "scattercarpet"
           }
          ],
          "scattergeo": [
           {
            "marker": {
             "colorbar": {
              "outlinewidth": 0,
              "ticks": ""
             }
            },
            "type": "scattergeo"
           }
          ],
          "scattergl": [
           {
            "marker": {
             "colorbar": {
              "outlinewidth": 0,
              "ticks": ""
             }
            },
            "type": "scattergl"
           }
          ],
          "scattermapbox": [
           {
            "marker": {
             "colorbar": {
              "outlinewidth": 0,
              "ticks": ""
             }
            },
            "type": "scattermapbox"
           }
          ],
          "scatterpolar": [
           {
            "marker": {
             "colorbar": {
              "outlinewidth": 0,
              "ticks": ""
             }
            },
            "type": "scatterpolar"
           }
          ],
          "scatterpolargl": [
           {
            "marker": {
             "colorbar": {
              "outlinewidth": 0,
              "ticks": ""
             }
            },
            "type": "scatterpolargl"
           }
          ],
          "scatterternary": [
           {
            "marker": {
             "colorbar": {
              "outlinewidth": 0,
              "ticks": ""
             }
            },
            "type": "scatterternary"
           }
          ],
          "surface": [
           {
            "colorbar": {
             "outlinewidth": 0,
             "ticks": ""
            },
            "colorscale": [
             [
              0,
              "#0d0887"
             ],
             [
              0.1111111111111111,
              "#46039f"
             ],
             [
              0.2222222222222222,
              "#7201a8"
             ],
             [
              0.3333333333333333,
              "#9c179e"
             ],
             [
              0.4444444444444444,
              "#bd3786"
             ],
             [
              0.5555555555555556,
              "#d8576b"
             ],
             [
              0.6666666666666666,
              "#ed7953"
             ],
             [
              0.7777777777777778,
              "#fb9f3a"
             ],
             [
              0.8888888888888888,
              "#fdca26"
             ],
             [
              1,
              "#f0f921"
             ]
            ],
            "type": "surface"
           }
          ],
          "table": [
           {
            "cells": {
             "fill": {
              "color": "#EBF0F8"
             },
             "line": {
              "color": "white"
             }
            },
            "header": {
             "fill": {
              "color": "#C8D4E3"
             },
             "line": {
              "color": "white"
             }
            },
            "type": "table"
           }
          ]
         },
         "layout": {
          "annotationdefaults": {
           "arrowcolor": "#2a3f5f",
           "arrowhead": 0,
           "arrowwidth": 1
          },
          "autotypenumbers": "strict",
          "coloraxis": {
           "colorbar": {
            "outlinewidth": 0,
            "ticks": ""
           }
          },
          "colorscale": {
           "diverging": [
            [
             0,
             "#8e0152"
            ],
            [
             0.1,
             "#c51b7d"
            ],
            [
             0.2,
             "#de77ae"
            ],
            [
             0.3,
             "#f1b6da"
            ],
            [
             0.4,
             "#fde0ef"
            ],
            [
             0.5,
             "#f7f7f7"
            ],
            [
             0.6,
             "#e6f5d0"
            ],
            [
             0.7,
             "#b8e186"
            ],
            [
             0.8,
             "#7fbc41"
            ],
            [
             0.9,
             "#4d9221"
            ],
            [
             1,
             "#276419"
            ]
           ],
           "sequential": [
            [
             0,
             "#0d0887"
            ],
            [
             0.1111111111111111,
             "#46039f"
            ],
            [
             0.2222222222222222,
             "#7201a8"
            ],
            [
             0.3333333333333333,
             "#9c179e"
            ],
            [
             0.4444444444444444,
             "#bd3786"
            ],
            [
             0.5555555555555556,
             "#d8576b"
            ],
            [
             0.6666666666666666,
             "#ed7953"
            ],
            [
             0.7777777777777778,
             "#fb9f3a"
            ],
            [
             0.8888888888888888,
             "#fdca26"
            ],
            [
             1,
             "#f0f921"
            ]
           ],
           "sequentialminus": [
            [
             0,
             "#0d0887"
            ],
            [
             0.1111111111111111,
             "#46039f"
            ],
            [
             0.2222222222222222,
             "#7201a8"
            ],
            [
             0.3333333333333333,
             "#9c179e"
            ],
            [
             0.4444444444444444,
             "#bd3786"
            ],
            [
             0.5555555555555556,
             "#d8576b"
            ],
            [
             0.6666666666666666,
             "#ed7953"
            ],
            [
             0.7777777777777778,
             "#fb9f3a"
            ],
            [
             0.8888888888888888,
             "#fdca26"
            ],
            [
             1,
             "#f0f921"
            ]
           ]
          },
          "colorway": [
           "#636efa",
           "#EF553B",
           "#00cc96",
           "#ab63fa",
           "#FFA15A",
           "#19d3f3",
           "#FF6692",
           "#B6E880",
           "#FF97FF",
           "#FECB52"
          ],
          "font": {
           "color": "#2a3f5f"
          },
          "geo": {
           "bgcolor": "white",
           "lakecolor": "white",
           "landcolor": "#E5ECF6",
           "showlakes": true,
           "showland": true,
           "subunitcolor": "white"
          },
          "hoverlabel": {
           "align": "left"
          },
          "hovermode": "closest",
          "mapbox": {
           "style": "light"
          },
          "paper_bgcolor": "white",
          "plot_bgcolor": "#E5ECF6",
          "polar": {
           "angularaxis": {
            "gridcolor": "white",
            "linecolor": "white",
            "ticks": ""
           },
           "bgcolor": "#E5ECF6",
           "radialaxis": {
            "gridcolor": "white",
            "linecolor": "white",
            "ticks": ""
           }
          },
          "scene": {
           "xaxis": {
            "backgroundcolor": "#E5ECF6",
            "gridcolor": "white",
            "gridwidth": 2,
            "linecolor": "white",
            "showbackground": true,
            "ticks": "",
            "zerolinecolor": "white"
           },
           "yaxis": {
            "backgroundcolor": "#E5ECF6",
            "gridcolor": "white",
            "gridwidth": 2,
            "linecolor": "white",
            "showbackground": true,
            "ticks": "",
            "zerolinecolor": "white"
           },
           "zaxis": {
            "backgroundcolor": "#E5ECF6",
            "gridcolor": "white",
            "gridwidth": 2,
            "linecolor": "white",
            "showbackground": true,
            "ticks": "",
            "zerolinecolor": "white"
           }
          },
          "shapedefaults": {
           "line": {
            "color": "#2a3f5f"
           }
          },
          "ternary": {
           "aaxis": {
            "gridcolor": "white",
            "linecolor": "white",
            "ticks": ""
           },
           "baxis": {
            "gridcolor": "white",
            "linecolor": "white",
            "ticks": ""
           },
           "bgcolor": "#E5ECF6",
           "caxis": {
            "gridcolor": "white",
            "linecolor": "white",
            "ticks": ""
           }
          },
          "title": {
           "x": 0.05
          },
          "xaxis": {
           "automargin": true,
           "gridcolor": "white",
           "linecolor": "white",
           "ticks": "",
           "title": {
            "standoff": 15
           },
           "zerolinecolor": "white",
           "zerolinewidth": 2
          },
          "yaxis": {
           "automargin": true,
           "gridcolor": "white",
           "linecolor": "white",
           "ticks": "",
           "title": {
            "standoff": 15
           },
           "zerolinecolor": "white",
           "zerolinewidth": 2
          }
         }
        },
        "title": {
         "text": "Wide-Form Input"
        },
        "width": 1750,
        "xaxis": {
         "anchor": "y",
         "domain": [
          0,
          1
         ],
         "title": {
          "text": "NAICS_SDESC"
         }
        },
        "yaxis": {
         "anchor": "x",
         "domain": [
          0,
          1
         ],
         "title": {
          "text": "value"
         }
        }
       }
      }
     },
     "metadata": {},
     "output_type": "display_data"
    },
    {
     "name": "stdout",
     "output_type": "stream",
     "text": [
      "time: 88.8 ms (started: 2023-01-21 22:01:28 -05:00)\n"
     ]
    }
   ],
   "source": [
    "import plotly.express as px\n",
    "fig = px.bar(na3Summary, x=\"NAICS_SDESC\", y=['AIR_VAL_MO','CNT_VAL_MO'], \n",
    "                        title=\"Wide-Form Input\",\n",
    "                        width=1750,height=600)\n",
    "fig.show()"
   ]
  },
  {
   "cell_type": "code",
   "execution_count": null,
   "metadata": {},
   "outputs": [],
   "source": []
  }
 ],
 "metadata": {
  "kernelspec": {
   "display_name": ".dashenv",
   "language": "python",
   "name": "python3"
  },
  "language_info": {
   "codemirror_mode": {
    "name": "ipython",
    "version": 3
   },
   "file_extension": ".py",
   "mimetype": "text/x-python",
   "name": "python",
   "nbconvert_exporter": "python",
   "pygments_lexer": "ipython3",
   "version": "3.11.1"
  },
  "orig_nbformat": 4,
  "vscode": {
   "interpreter": {
    "hash": "e25057c6014c70833d5c6fa785354358ed0334dfa55da4dba0c885d6c054fdb7"
   }
  }
 },
 "nbformat": 4,
 "nbformat_minor": 2
}
