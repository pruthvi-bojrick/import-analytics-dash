{
 "cells": [
  {
   "cell_type": "code",
   "execution_count": 35,
   "metadata": {},
   "outputs": [],
   "source": [
    "import pandas as pd\n",
    "import requests\n",
    "from datetime import datetime\n",
    "from tqdm import tqdm\n",
    "import os\n",
    "import logging"
   ]
  },
  {
   "attachments": {},
   "cell_type": "markdown",
   "metadata": {},
   "source": [
    "### Function to get Data from Trade API\n",
    "\n",
    "Update the parameters as needed based on pdf in API Reference Docs Folder"
   ]
  },
  {
   "cell_type": "code",
   "execution_count": 32,
   "metadata": {},
   "outputs": [],
   "source": [
    "## get data from 2018 to 2022-11 by HS Code, Country and District\n",
    "\n",
    "\n",
    "def getCountryDistrictValsHS(code,year,month,dirPath,comm_lvl,summ_lvl2):\n",
    "    # os.chdir(\".apiResponses\")\n",
    "    logging.basicConfig(filename=os.path.join(dirPath,f'{comm_lvl}_{summ_lvl2}_{code}_download.log'), encoding='utf-8', level=logging.DEBUG)\n",
    "    if code == 'hs':\n",
    "        base = f\"https://api.census.gov/data/timeseries/intltrade/imports/{code}\"\n",
    "        params = {\"get\":r','.join([\"I_COMMODITY\",\"I_COMMODITY_SDESC\",\"I_COMMODITY_LDESC\",\n",
    "                                \"CTY_CODE\",\"DISTRICT\",'DIST_NAME',\"RP\",\"DUT_VAL_MO\",\n",
    "                                \"CON_VAL_MO\",\"CON_QY1_MO\",\"CAL_DUT_MO\",\n",
    "                                \"GEN_CHA_MO\",\"GEN_VAL_MO\",\"GEN_CIF_MO\",\"GEN_QY1_MO\",'UNIT_QY1','CC_MO',\n",
    "                                \"CNT_CHA_MO\",\"CNT_VAL_MO\",\"CNT_WGT_MO\",\n",
    "                                \"AIR_CHA_MO\",\"AIR_VAL_MO\",\"AIR_WGT_MO\",\n",
    "                                \"VES_CHA_MO\",\"VES_VAL_MO\",\"VES_WGT_MO\"]),\n",
    "                \"CTY_NAME\":['INDIA','CHINA','INDONESIA','VIETNAM','MEXICO','CANADA','BRAZIL','TAIWAN'],\n",
    "                \"YEAR\":year,\n",
    "                \"MONTH\":month,\n",
    "                \"COMM_LVL\":comm_lvl,\n",
    "                \"SUMMARY_LVL2\":summ_lvl2}\n",
    "\n",
    "# I_COMMODITY_LDESCCTY_CODE\n",
    "\n",
    "    if code == 'naics':\n",
    "        base = f\"https://api.census.gov/data/timeseries/intltrade/imports/{code}\"\n",
    "        params = {\"get\":r','.join([\"NAICS\", \"NAICS_LDESC\", \"NAICS_SDESC\", \n",
    "                                \"CTY_CODE\",'CTY_NAME',\"DISTRICT\",'DIST_NAME',\"DUT_VAL_MO\",\n",
    "                                \"CON_VAL_MO\",\"CAL_DUT_MO\",\n",
    "                               \"GEN_CHA_MO\",\"GEN_VAL_MO\",\"GEN_CIF_MO\",'CC_MO',\n",
    "                                \"CNT_CHA_MO\",\"CNT_VAL_MO\",\"CNT_WGT_MO\",\n",
    "                                \"AIR_CHA_MO\",\"AIR_VAL_MO\",\"AIR_WGT_MO\",\n",
    "                                \"VES_CHA_MO\",\"VES_VAL_MO\",\"VES_WGT_MO\"]),\n",
    "                # \"CTY_NAME\":['INDIA','CHINA','INDONESIA','VIETNAM','MEXICO','CANADA','BRAZIL'],\n",
    "                \"YEAR\":year,\n",
    "                \"MONTH\":month,\n",
    "                \"COMM_LVL\":comm_lvl,\n",
    "                \"SUMMARY_LVL2\":summ_lvl2}\n",
    "                    \n",
    "    temp = requests.get(base,params=params)\n",
    "    # print(temp.url)\n",
    "    \n",
    "    df = pd.DataFrame(temp.json())\n",
    "    new_header = df.iloc[0] #grab the first row for the header\n",
    "    df = df[1:] #take the data less the header row\n",
    "    df.columns = new_header #set the header row as the df header\n",
    "\n",
    "    logTime = str(datetime.now().strftime(r\"%Y_%m_%d-%I_%M_%S_%p\"))\n",
    "    fileName = f\"{dirPath}/{code}/{params['COMM_LVL']}_{params['SUMMARY_LVL2']}_{year}_{month}.gzip\"\n",
    "    \n",
    "    df.to_csv(fileName, compression='gzip')\n",
    "    logging.info(f\"{logTime}_{df.shape} rows,columns saved.! {df.memory_usage().sum()/1e6}\")\n",
    "\n",
    "    return df"
   ]
  },
  {
   "cell_type": "code",
   "execution_count": 33,
   "metadata": {},
   "outputs": [],
   "source": [
    "years = [str(year) for year in range(2014,2023)]\n",
    "months = [str(month).zfill(2) for month in range(1,13)]\n",
    "yearMonthFilter = [tuple([year,month])for year in years for month in months][:-1]"
   ]
  },
  {
   "cell_type": "code",
   "execution_count": 34,
   "metadata": {},
   "outputs": [
    {
     "name": "stderr",
     "output_type": "stream",
     "text": [
      "100%|██████████| 107/107 [29:22<00:00, 16.47s/it]\n"
     ]
    }
   ],
   "source": [
    "for year,month in tqdm(yearMonthFilter):\n",
    "    getCountryDistrictValsHS(code='naics',\n",
    "                            year=year,\n",
    "                            month=month,\n",
    "                            dirPath='.apiResponses',\n",
    "                            comm_lvl='NA3',\n",
    "                            summ_lvl2='NACYDT')"
   ]
  },
  {
   "cell_type": "code",
   "execution_count": null,
   "metadata": {},
   "outputs": [],
   "source": []
  }
 ],
 "metadata": {
  "kernelspec": {
   "display_name": ".dashenv",
   "language": "python",
   "name": "python3"
  },
  "language_info": {
   "codemirror_mode": {
    "name": "ipython",
    "version": 3
   },
   "file_extension": ".py",
   "mimetype": "text/x-python",
   "name": "python",
   "nbconvert_exporter": "python",
   "pygments_lexer": "ipython3",
   "version": "3.11.1"
  },
  "orig_nbformat": 4,
  "vscode": {
   "interpreter": {
    "hash": "e25057c6014c70833d5c6fa785354358ed0334dfa55da4dba0c885d6c054fdb7"
   }
  }
 },
 "nbformat": 4,
 "nbformat_minor": 2
}
